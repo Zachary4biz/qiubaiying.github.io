{
 "cells": [
  {
   "cell_type": "markdown",
   "metadata": {},
   "source": [
    "# Preset"
   ]
  },
  {
   "cell_type": "code",
   "execution_count": null,
   "metadata": {},
   "outputs": [],
   "source": []
  },
  {
   "cell_type": "code",
   "execution_count": 26,
   "metadata": {
    "ExecuteTime": {
     "end_time": "2019-03-18T02:48:46.445311Z",
     "start_time": "2019-03-18T02:48:45.743108Z"
    }
   },
   "outputs": [],
   "source": [
    "# 配置一些线上写代码的环境\n",
    "from IPython.core.interactiveshell import InteractiveShell\n",
    "InteractiveShell.ast_node_interactivity = \"all\"\n",
    "%matplotlib inline "
   ]
  },
  {
   "cell_type": "markdown",
   "metadata": {},
   "source": [
    "# Custom-code"
   ]
  },
  {
   "cell_type": "code",
   "execution_count": 27,
   "metadata": {
    "ExecuteTime": {
     "end_time": "2019-03-18T02:48:48.240535Z",
     "start_time": "2019-03-18T02:48:48.212448Z"
    }
   },
   "outputs": [],
   "source": [
    "# 导入使用的第三方库,  seleniumSelenium是一个用于测试网站的自动化测试工具，\n",
    "# 模拟浏览器爬取信息，可以操作浏览器以及浏览器页面元素（模拟浏览器中网页的跳转，输入，点击，下拉 ），爬虫中主要用来解决JavaScript渲染问题\n",
    "from selenium import webdriver\n",
    "from selenium.webdriver.common.desired_capabilities import DesiredCapabilities\n",
    "from selenium.webdriver.support.ui import WebDriverWait\n",
    "import time\n",
    "import datetime"
   ]
  },
  {
   "cell_type": "markdown",
   "metadata": {},
   "source": [
    "# 完整生产用流程"
   ]
  },
  {
   "cell_type": "markdown",
   "metadata": {},
   "source": [
    "## 配置参数"
   ]
  },
  {
   "cell_type": "code",
   "execution_count": 28,
   "metadata": {
    "ExecuteTime": {
     "end_time": "2019-03-18T02:53:04.572323Z",
     "start_time": "2019-03-18T02:53:04.534314Z"
    }
   },
   "outputs": [],
   "source": [
    "# 需手动更新的参数\n",
    "targetWords = [\"Twitter\",\"Facebook\",\"字节跳动\",\"今日头条\",\"抖音\",\"TikTok\",\"西瓜视频\",\"腾讯\",\"天天快报\",\"腾讯新闻\",\"百度\",\"新浪\",\"新浪新闻\",\"新浪微博\",\"搜狐\",\"搜狐新闻\",\"凤凰网\",\"凤凰新闻\",\"一点资讯\",\"趣头条\",\"短视频\",\"火山视频\",\"快手\",\"美拍\",\"秒拍\",\"微视\",\"知乎\",\"简书\",\"即刻\",\"轻芒\"]# deprecatedWords = [\"微信小程序\"]\n",
    "beginDate = \"2019-03-11 06:00\"\n",
    "endDate = \"2019-03-17 23:59\"\n",
    "currentMinTime = \"2019-03-18 10:00\" # 初始化，手动指定当前页面上最早的时间\n",
    "\n",
    "# xpath类参数【一般情况无需更新】\n",
    "time_xpath =\"\"\"//*[contains(concat( \" \", @class, \" \" ), concat( \" \", \"publish-datetime\", \" \" ))]//span\"\"\"\n",
    "title_xpath=\"\"\"//*[contains(concat( \" \", @class, \" \" ), concat( \" \", \"title\", \" \" ))]\"\"\"\n",
    "content_xpath=\"\"\"//*[contains(concat( \" \", @class, \" \" ), concat( \" \", \"fast_news_content\", \" \" ))]//span\"\"\"\n"
   ]
  },
  {
   "cell_type": "markdown",
   "metadata": {},
   "source": [
    "## 发起网络请求获得所有备选数据"
   ]
  },
  {
   "cell_type": "code",
   "execution_count": 29,
   "metadata": {
    "ExecuteTime": {
     "end_time": "2019-03-18T02:53:29.998011Z",
     "start_time": "2019-03-18T02:53:13.130626Z"
    },
    "code_folding": []
   },
   "outputs": [
    {
     "data": {
      "text/plain": [
       "True"
      ]
     },
     "execution_count": 29,
     "metadata": {},
     "output_type": "execute_result"
    }
   ],
   "source": [
    "# 发起请求\n",
    "driver = webdriver.PhantomJS() # 使用PhantomJS “无头浏览器”\n",
    "driver.implicitly_wait(15) # 暂时设定统一等待15s\n",
    "driver.get(\"https://36kr.com/newsflashes\")\n",
    "driver.save_screenshot('01.png')"
   ]
  },
  {
   "cell_type": "markdown",
   "metadata": {},
   "source": [
    "## 持续加载页面新数据\n",
    "- 直到产生满足时间条件的数据（endDate）"
   ]
  },
  {
   "cell_type": "code",
   "execution_count": 30,
   "metadata": {
    "ExecuteTime": {
     "end_time": "2019-03-18T02:57:51.873470Z",
     "start_time": "2019-03-18T02:53:39.800505Z"
    },
    "code_folding": []
   },
   "outputs": [
    {
     "name": "stdout",
     "output_type": "stream",
     "text": [
      "当前刷新第 01 次\n",
      "    当前页面上最早的时间是 2019-03-18 08:22\n",
      "当前刷新第 02 次\n",
      "    当前页面上最早的时间是 2019-03-17 18:14\n",
      "当前刷新第 03 次\n",
      "    当前页面上最早的时间是 2019-03-17 11:45\n",
      "当前刷新第 04 次\n",
      "    当前页面上最早的时间是 2019-03-16 18:26\n",
      "当前刷新第 05 次\n",
      "    当前页面上最早的时间是 2019-03-16 11:11\n",
      "当前刷新第 06 次\n",
      "    当前页面上最早的时间是 2019-03-15 21:44\n",
      "当前刷新第 07 次\n",
      "    当前页面上最早的时间是 2019-03-15 19:02\n",
      "当前刷新第 08 次\n",
      "    当前页面上最早的时间是 2019-03-15 16:03\n",
      "当前刷新第 09 次\n",
      "    当前页面上最早的时间是 2019-03-15 13:04\n",
      "当前刷新第 10 次\n",
      "    当前页面上最早的时间是 2019-03-15 10:17\n",
      "当前刷新第 11 次\n",
      "    当前页面上最早的时间是 2019-03-15 08:26\n",
      "当前刷新第 12 次\n",
      "    当前页面上最早的时间是 2019-03-15 07:28\n",
      "当前刷新第 13 次\n",
      "    当前页面上最早的时间是 2019-03-14 19:29\n",
      "当前刷新第 14 次\n",
      "    当前页面上最早的时间是 2019-03-14 16:11\n",
      "当前刷新第 15 次\n",
      "    当前页面上最早的时间是 2019-03-14 13:27\n",
      "当前刷新第 16 次\n",
      "    当前页面上最早的时间是 2019-03-14 10:55\n",
      "当前刷新第 17 次\n",
      "    当前页面上最早的时间是 2019-03-14 08:54\n",
      "当前刷新第 18 次\n",
      "    当前页面上最早的时间是 2019-03-14 07:22\n",
      "当前刷新第 19 次\n",
      "    当前页面上最早的时间是 2019-03-13 20:23\n",
      "当前刷新第 20 次\n",
      "    当前页面上最早的时间是 2019-03-13 17:48\n",
      "当前刷新第 21 次\n",
      "    当前页面上最早的时间是 2019-03-13 14:54\n",
      "当前刷新第 22 次\n",
      "    当前页面上最早的时间是 2019-03-13 12:01\n",
      "当前刷新第 23 次\n",
      "    当前页面上最早的时间是 2019-03-13 10:37\n",
      "当前刷新第 24 次\n",
      "    当前页面上最早的时间是 2019-03-13 07:50\n",
      "当前刷新第 25 次\n",
      "    当前页面上最早的时间是 2019-03-13 07:00\n",
      "当前刷新第 26 次\n",
      "    当前页面上最早的时间是 2019-03-12 18:24\n",
      "当前刷新第 27 次\n",
      "    当前页面上最早的时间是 2019-03-12 15:52\n",
      "当前刷新第 28 次\n",
      "    当前页面上最早的时间是 2019-03-12 11:21\n",
      "当前刷新第 29 次\n",
      "    当前页面上最早的时间是 2019-03-12 09:46\n",
      "当前刷新第 30 次\n",
      "    当前页面上最早的时间是 2019-03-12 07:31\n",
      "当前刷新第 31 次\n",
      "    当前页面上最早的时间是 2019-03-11 19:55\n",
      "当前刷新第 32 次\n",
      "    当前页面上最早的时间是 2019-03-11 17:51\n",
      "当前刷新第 33 次\n",
      "    当前页面上最早的时间是 2019-03-11 15:08\n",
      "当前刷新第 34 次\n",
      "    当前页面上最早的时间是 2019-03-11 12:17\n",
      "当前刷新第 35 次\n",
      "    当前页面上最早的时间是 2019-03-11 10:10\n",
      "当前刷新第 36 次\n",
      "    当前页面上最早的时间是 2019-03-11 07:19\n",
      "当前刷新第 37 次\n",
      "    当前页面上最早的时间是 2019-03-09 17:27\n"
     ]
    }
   ],
   "source": [
    "# 循环更新页面直至页面上的信息满足 endDate\n",
    "counter = 0\n",
    "while currentMinTime>=beginDate:\n",
    "    time.sleep(0.5)\n",
    "    counter = counter + 1\n",
    "    print(\"当前刷新第 {cnt:0>2d} 次\".format(cnt=counter))\n",
    "    # 刷新\n",
    "    driver.find_element_by_class_name(\"loading_more\").click()\n",
    "    # 获取刷新后页面上所有的时间\n",
    "    time_list = []\n",
    "    for i in driver.find_elements_by_xpath(time_xpath):\n",
    "        t = i.get_attribute(\"title\") # 2018-12-06 23:22\n",
    "        time_list.append(t)\n",
    "    currentMinTime = min(time_list) # 更新当前页面上最早的时间\n",
    "    print(\"    当前页面上最早的时间是 {t}\".format(t=currentMinTime))"
   ]
  },
  {
   "cell_type": "markdown",
   "metadata": {},
   "source": [
    "## xpath抓取页面数据"
   ]
  },
  {
   "cell_type": "code",
   "execution_count": 31,
   "metadata": {
    "ExecuteTime": {
     "end_time": "2019-03-18T03:07:38.820535Z",
     "start_time": "2019-03-18T03:06:48.599801Z"
    }
   },
   "outputs": [
    {
     "name": "stdout",
     "output_type": "stream",
     "text": [
      "allTimeList is done\n",
      "allTitleList is done\n",
      "allContentList is done\n"
     ]
    }
   ],
   "source": [
    "# 源码中时间是用的 xx小时前，而title是完整时间\n",
    "allTimeList = [i.get_attribute(\"title\") for i in driver.find_elements_by_xpath(time_xpath)]\n",
    "print(\"allTimeList is done\")\n",
    "allTitleList = [i.get_attribute(\"textContent\") for i in driver.find_elements_by_xpath(title_xpath)]\n",
    "print(\"allTitleList is done\")\n",
    "allContentList = []\n",
    "allContentList_temp = [i.get_attribute(\"textContent\") for i in driver.find_elements_by_xpath(content_xpath)]\n",
    "# xpath局限性问题，每篇文章都会抓取多一个空串儿，过滤掉\n",
    "for i in allContentList_temp:\n",
    "    if i != \"\":\n",
    "        allContentList.append(i)\n",
    "print(\"allContentList is done\")"
   ]
  },
  {
   "cell_type": "markdown",
   "metadata": {},
   "source": [
    "## 根据关键词和时间进行筛选"
   ]
  },
  {
   "cell_type": "code",
   "execution_count": 32,
   "metadata": {
    "ExecuteTime": {
     "end_time": "2019-03-18T03:22:14.181757Z",
     "start_time": "2019-03-18T03:22:14.139502Z"
    },
    "scrolled": false
   },
   "outputs": [
    {
     "name": "stdout",
     "output_type": "stream",
     "text": [
      "总计抓取了 760 条数据\n",
      ">>> 1. 过滤关键词后剩余 54 条数据\n",
      ">>> 2. 按时间周期筛选后余 52 条数据 (2019-03-11 06:00~2019-03-17 23:59)\n",
      "示例三条数据如下：\n"
     ]
    },
    {
     "data": {
      "text/plain": [
       "[('2019-03-17 10:14',\n",
       "  'Facebook指控比基尼照片应用开发商泄露其机密文件',\n",
       "  'Facebook指控比基尼照片应用开发商Six4Three泄露其机密文件。这些文件称，Facebook利用用户数据来协助盈利。加州一名法官认为，有证据表明，这些Facebook记录被披露涉及“犯罪或欺诈”。在这起案件中，Facebook的举措是想要证明，Six4Three试图通过选择性地披露内部信息，曲解Facebook的商业行为。（新浪科技）'),\n",
       " ('2019-03-17 09:28',\n",
       "  '工信部：要求腾讯、百度、华为等国内主要应用商店全面下架“社保掌上通”App',\n",
       "  '36氪讯，工信部官网显示，立即启动应用商店联动处置机制，要求腾讯、百度、华为、小米、OPPO、vivo、360等国内主要应用商店全面下架“社保掌上通”App，对“社保掌上通”手机App的责任主体杭州递金网络科技有限公司进行核查处理，并全力组织对同类App进行排查检测，对类似问题一并要求整改。'),\n",
       " ('2019-03-17 09:28',\n",
       "  '工信部：要求腾讯、百度、华为等国内主要应用商店全面下架“社保掌上通”App',\n",
       "  '36氪讯，工信部官网显示，立即启动应用商店联动处置机制，要求腾讯、百度、华为、小米、OPPO、vivo、360等国内主要应用商店全面下架“社保掌上通”App，对“社保掌上通”手机App的责任主体杭州递金网络科技有限公司进行核查处理，并全力组织对同类App进行排查检测，对类似问题一并要求整改。')]"
      ]
     },
     "execution_count": 32,
     "metadata": {},
     "output_type": "execute_result"
    }
   ],
   "source": [
    "# 合并\n",
    "allZipped = list(zip(allTimeList,allTitleList,allContentList))\n",
    "\n",
    "# 筛选\n",
    "print(\"总计抓取了 %s 条数据\" % len(allZipped))\n",
    "\n",
    "result_containsTarget = []\n",
    "# 过滤关键词\n",
    "for (time,title,content) in allZipped:\n",
    "    for i in targetWords:\n",
    "        if i in title:\n",
    "            result_containsTarget.append((time,title,content))\n",
    "print(\">>> 1. 过滤关键词后剩余 %s 条数据\" % len(result_containsTarget))\n",
    "# 过滤时间 \n",
    "result_containsTarget = [(time,title,content) for (time,title,content) in result_containsTarget if time<endDate and time>beginDate]\n",
    "print(\">>> 2. 按时间周期筛选后余 %s 条数据 (%s~%s)\" % (len(result_containsTarget), beginDate, endDate))\n",
    "print(\"示例三条数据如下：\")\n",
    "result_containsTarget[:3]"
   ]
  },
  {
   "cell_type": "markdown",
   "metadata": {},
   "source": [
    "## 拼接、格式化并写入文件保存"
   ]
  },
  {
   "cell_type": "code",
   "execution_count": 33,
   "metadata": {
    "ExecuteTime": {
     "end_time": "2019-03-18T03:38:51.028874Z",
     "start_time": "2019-03-18T03:38:50.967903Z"
    }
   },
   "outputs": [
    {
     "name": "stdout",
     "output_type": "stream",
     "text": [
      "拼接及过滤已完成，展示前五个\n"
     ]
    },
    {
     "data": {
      "text/plain": [
       "['[时间] 2019-03-17 10:14  \\n[标题] Facebook指控比基尼照片应用开发商泄露其机密文件  \\n[内容] Facebook指控比基尼照片应用开发商Six4Three泄露其机密文件。这些文件称，Facebook利用用户数据来协助盈利。加州一名法官认为，有证据表明，这些Facebook记录被披露涉及“犯罪或欺诈”。在这起案件中，Facebook的举措是想要证明，Six4Three试图通过选择性地披露内部信息，曲解Facebook的商业行为。（新浪科技）',\n",
       " '[时间] 2019-03-17 09:28  \\n[标题] 工信部：要求腾讯、百度、华为等国内主要应用商店全面下架“社保掌上通”App  \\n[内容] 36氪讯，工信部官网显示，立即启动应用商店联动处置机制，要求腾讯、百度、华为、小米、OPPO、vivo、360等国内主要应用商店全面下架“社保掌上通”App，对“社保掌上通”手机App的责任主体杭州递金网络科技有限公司进行核查处理，并全力组织对同类App进行排查检测，对类似问题一并要求整改。',\n",
       " '[时间] 2019-03-17 09:28  \\n[标题] 工信部：要求腾讯、百度、华为等国内主要应用商店全面下架“社保掌上通”App  \\n[内容] 36氪讯，工信部官网显示，立即启动应用商店联动处置机制，要求腾讯、百度、华为、小米、OPPO、vivo、360等国内主要应用商店全面下架“社保掌上通”App，对“社保掌上通”手机App的责任主体杭州递金网络科技有限公司进行核查处理，并全力组织对同类App进行排查检测，对类似问题一并要求整改。',\n",
       " '[时间] 2019-03-17 08:59  \\n[标题] Facebook游戏界面改版：新增游戏标签，上架游戏App  \\n[内容] 据外媒报道，Facebook要在主页上加一个游戏标签，用作新的游戏中心。新加入的游戏标签意味着Facebook对现有的游戏内容作出了结构性调整。现在Facebook是把包括Instant Games、游戏群组、视频和直播等所有游戏相关内容放在主要导航栏上同一个标签里，而新加入的标签则扩建了去年推出的fb.gg（Facebook游戏中心）。（新浪科技）',\n",
       " '[时间] 2019-03-16 17:16  \\n[标题] 百度发布NLP预训练模型ERNIE，多项中文任务超越谷歌BERT  \\n[内容] 36氪讯，今年3月，百度提出知识增强的语义表示模型ERNIE，并发布了基于PaddlePaddle的开源代码与模型。百度方面表示，ERNIE模型在中文NLP任务上表现非凡，百度在多个公开的中文数据集上进行了效果验证，在语言推断、语义相似度、命名实体识别、情感分析、问答匹配等自然语言处理各类任务上，超越了谷歌的语义表示模型BERT的效果。']"
      ]
     },
     "execution_count": 33,
     "metadata": {},
     "output_type": "execute_result"
    },
    {
     "name": "stdout",
     "output_type": "stream",
     "text": [
      "写入完成\n"
     ]
    }
   ],
   "source": [
    "# 拼接及格式化\n",
    "result = [(\"[时间] \"+time+\"  \\n[标题] \"+title+\"  \\n[内容] \"+content) for (time,title,content) in result_containsTarget]\n",
    "print(\"拼接及过滤已完成，展示前五个\")\n",
    "result[:5]\n",
    "\n",
    "# 写入文件 \"w: write\" \"a: append\"\n",
    "f = open(\"resultFile.txt\",\"w+\")\n",
    "for i in result_containsTarget:\n",
    "    f.writelines(i)\n",
    "    f.writelines(\"\\n\\n\\n\")\n",
    "f.close()\n",
    "print(\"写入完成\")"
   ]
  },
  {
   "cell_type": "markdown",
   "metadata": {},
   "source": [
    "# 示例"
   ]
  },
  {
   "cell_type": "code",
   "execution_count": 116,
   "metadata": {
    "ExecuteTime": {
     "end_time": "2019-03-11T03:36:02.628098Z",
     "start_time": "2019-03-11T03:35:53.895222Z"
    },
    "scrolled": true
   },
   "outputs": [
    {
     "data": {
      "text/plain": [
       "True"
      ]
     },
     "execution_count": 116,
     "metadata": {},
     "output_type": "execute_result"
    }
   ],
   "source": [
    "driver = webdriver.PhantomJS() # 使用PhantomJS “无头浏览器”\n",
    "driver.implicitly_wait(15) # 暂时设定统一等待15s\n",
    "driver.get(\"https://36kr.com/newsflashes\")\n",
    "driver.save_screenshot('01.png')"
   ]
  },
  {
   "cell_type": "markdown",
   "metadata": {},
   "source": [
    "## 抓取示例\n",
    "### 时间"
   ]
  },
  {
   "cell_type": "code",
   "execution_count": 117,
   "metadata": {
    "ExecuteTime": {
     "end_time": "2019-03-11T03:36:03.090005Z",
     "start_time": "2019-03-11T03:36:02.637023Z"
    },
    "code_folding": [],
    "scrolled": true
   },
   "outputs": [
    {
     "data": {
      "text/plain": [
       "'2019-03-11 11:35'"
      ]
     },
     "execution_count": 117,
     "metadata": {},
     "output_type": "execute_result"
    },
    {
     "data": {
      "text/plain": [
       "'2019-03-11 11:30'"
      ]
     },
     "execution_count": 117,
     "metadata": {},
     "output_type": "execute_result"
    },
    {
     "data": {
      "text/plain": [
       "'2019-03-11 11:29'"
      ]
     },
     "execution_count": 117,
     "metadata": {},
     "output_type": "execute_result"
    },
    {
     "data": {
      "text/plain": [
       "'2019-03-11 11:15'"
      ]
     },
     "execution_count": 117,
     "metadata": {},
     "output_type": "execute_result"
    },
    {
     "data": {
      "text/plain": [
       "'2019-03-11 11:08'"
      ]
     },
     "execution_count": 117,
     "metadata": {},
     "output_type": "execute_result"
    },
    {
     "data": {
      "text/plain": [
       "'2019-03-11 10:59'"
      ]
     },
     "execution_count": 117,
     "metadata": {},
     "output_type": "execute_result"
    },
    {
     "data": {
      "text/plain": [
       "'2019-03-11 10:55'"
      ]
     },
     "execution_count": 117,
     "metadata": {},
     "output_type": "execute_result"
    },
    {
     "data": {
      "text/plain": [
       "'2019-03-11 10:54'"
      ]
     },
     "execution_count": 117,
     "metadata": {},
     "output_type": "execute_result"
    },
    {
     "data": {
      "text/plain": [
       "'2019-03-11 10:53'"
      ]
     },
     "execution_count": 117,
     "metadata": {},
     "output_type": "execute_result"
    },
    {
     "data": {
      "text/plain": [
       "'2019-03-11 10:38'"
      ]
     },
     "execution_count": 117,
     "metadata": {},
     "output_type": "execute_result"
    },
    {
     "data": {
      "text/plain": [
       "'2019-03-11 10:34'"
      ]
     },
     "execution_count": 117,
     "metadata": {},
     "output_type": "execute_result"
    },
    {
     "data": {
      "text/plain": [
       "'2019-03-11 10:31'"
      ]
     },
     "execution_count": 117,
     "metadata": {},
     "output_type": "execute_result"
    },
    {
     "data": {
      "text/plain": [
       "'2019-03-11 10:23'"
      ]
     },
     "execution_count": 117,
     "metadata": {},
     "output_type": "execute_result"
    },
    {
     "data": {
      "text/plain": [
       "'2019-03-11 10:17'"
      ]
     },
     "execution_count": 117,
     "metadata": {},
     "output_type": "execute_result"
    },
    {
     "data": {
      "text/plain": [
       "'2019-03-11 10:13'"
      ]
     },
     "execution_count": 117,
     "metadata": {},
     "output_type": "execute_result"
    },
    {
     "data": {
      "text/plain": [
       "'2019-03-11 10:10'"
      ]
     },
     "execution_count": 117,
     "metadata": {},
     "output_type": "execute_result"
    },
    {
     "data": {
      "text/plain": [
       "'2019-03-11 09:55'"
      ]
     },
     "execution_count": 117,
     "metadata": {},
     "output_type": "execute_result"
    },
    {
     "data": {
      "text/plain": [
       "'2019-03-11 09:48'"
      ]
     },
     "execution_count": 117,
     "metadata": {},
     "output_type": "execute_result"
    },
    {
     "data": {
      "text/plain": [
       "'2019-03-11 09:43'"
      ]
     },
     "execution_count": 117,
     "metadata": {},
     "output_type": "execute_result"
    },
    {
     "data": {
      "text/plain": [
       "'2019-03-11 09:38'"
      ]
     },
     "execution_count": 117,
     "metadata": {},
     "output_type": "execute_result"
    },
    {
     "name": "stdout",
     "output_type": "stream",
     "text": [
      "总计有20条时间信息\n"
     ]
    }
   ],
   "source": [
    "\n",
    "#XPath 是一门在 XML 文档中查找信息的语言。XPath 可用来在 XML 文档中对元素和属性进行遍历。\n",
    "time_xpath =\"\"\"//*[contains(concat( \" \", @class, \" \" ), concat( \" \", \"publish-datetime\", \" \" ))]//span\"\"\"\n",
    "# ?driver.find_elements_by_xpath\n",
    "time_list = []\n",
    "# 一个计数器\n",
    "cnt1=0\n",
    "for i in driver.find_elements_by_xpath(time_xpath):\n",
    "    # 针对 “时间标签”，既可以通过“textContent\"属性来获取也可以通过 .text 来获取\n",
    "    # 因为源码中没有设置成”隐藏状态“； （\"textContent\"是隐藏了也可以取到的）\n",
    "    # 但是，为什么这里取到的都是”刚刚“两个字，是因为页面做了反爬机制\n",
    "    # 通过观察源码(driver.page_soure)，找到”title“属性\n",
    "    t = i.get_attribute(\"title\")\n",
    "    time_list.append(t)\n",
    "    # 因为源码中设定了该标签的内容是“隐藏”的，(is_displayed: false)\n",
    "    t\n",
    "    cnt1=cnt1+1\n",
    "print(\"总计有{cnt:0>2d}条时间信息\".format(cnt=cnt1))"
   ]
  },
  {
   "cell_type": "markdown",
   "metadata": {},
   "source": [
    "### 指定时间查找范围\n",
    "- 此处逻辑如下\n",
    "    - 1.从网页上持续点击“加载更多”按钮\n",
    "    - 2.当网页上最早的信息时间早于beginDate时停止加载\n",
    "    - 3.截取时间在 beginDate ~ endDate 之间的信息"
   ]
  },
  {
   "cell_type": "code",
   "execution_count": 11,
   "metadata": {
    "ExecuteTime": {
     "end_time": "2019-03-04T04:48:51.279334Z",
     "start_time": "2019-03-04T04:48:51.264316Z"
    }
   },
   "outputs": [
    {
     "data": {
      "text/plain": [
       "'2019-03-04 12:48'"
      ]
     },
     "execution_count": 11,
     "metadata": {},
     "output_type": "execute_result"
    }
   ],
   "source": [
    "# 一个能获取当前时间的函数\n",
    "def getTime():\n",
    "    localTime = datetime.datetime.now()# 获得本机当前时间(西五区)\n",
    "    BeijingTime = localTime + datetime.timedelta(hours=13) # 加上13个小时为北京时间\n",
    "    return BeijingTime.strftime('%Y-%m-%d %H:%M') # 格式化\n",
    "getTime()"
   ]
  },
  {
   "cell_type": "code",
   "execution_count": 118,
   "metadata": {
    "ExecuteTime": {
     "end_time": "2019-03-11T03:39:13.464232Z",
     "start_time": "2019-03-11T03:36:19.858509Z"
    },
    "scrolled": true
   },
   "outputs": [
    {
     "name": "stdout",
     "output_type": "stream",
     "text": [
      "当前刷新第 01 次\n",
      "    当前页面上最早的时间是 2019-03-11 09:38\n",
      "当前刷新第 02 次\n",
      "    当前页面上最早的时间是 2019-03-10 12:31\n",
      "当前刷新第 03 次\n",
      "    当前页面上最早的时间是 2019-03-09 17:13\n",
      "当前刷新第 04 次\n",
      "    当前页面上最早的时间是 2019-03-08 20:22\n",
      "当前刷新第 05 次\n",
      "    当前页面上最早的时间是 2019-03-08 18:00\n",
      "当前刷新第 06 次\n",
      "    当前页面上最早的时间是 2019-03-08 15:28\n",
      "当前刷新第 07 次\n",
      "    当前页面上最早的时间是 2019-03-08 11:57\n",
      "当前刷新第 08 次\n",
      "    当前页面上最早的时间是 2019-03-08 08:59\n",
      "当前刷新第 09 次\n",
      "    当前页面上最早的时间是 2019-03-08 07:15\n",
      "当前刷新第 10 次\n",
      "    当前页面上最早的时间是 2019-03-07 19:15\n",
      "当前刷新第 11 次\n",
      "    当前页面上最早的时间是 2019-03-07 16:13\n",
      "当前刷新第 12 次\n",
      "    当前页面上最早的时间是 2019-03-07 14:20\n",
      "当前刷新第 13 次\n",
      "    当前页面上最早的时间是 2019-03-07 10:51\n",
      "当前刷新第 14 次\n",
      "    当前页面上最早的时间是 2019-03-07 08:13\n",
      "当前刷新第 15 次\n",
      "    当前页面上最早的时间是 2019-03-07 07:31\n",
      "当前刷新第 16 次\n",
      "    当前页面上最早的时间是 2019-03-06 19:40\n",
      "当前刷新第 17 次\n",
      "    当前页面上最早的时间是 2019-03-06 17:06\n",
      "当前刷新第 18 次\n",
      "    当前页面上最早的时间是 2019-03-06 15:00\n",
      "当前刷新第 19 次\n",
      "    当前页面上最早的时间是 2019-03-06 10:42\n",
      "当前刷新第 20 次\n",
      "    当前页面上最早的时间是 2019-03-06 08:21\n",
      "当前刷新第 21 次\n",
      "    当前页面上最早的时间是 2019-03-06 07:25\n",
      "当前刷新第 22 次\n",
      "    当前页面上最早的时间是 2019-03-05 19:43\n",
      "当前刷新第 23 次\n",
      "    当前页面上最早的时间是 2019-03-05 17:15\n",
      "当前刷新第 24 次\n",
      "    当前页面上最早的时间是 2019-03-05 14:03\n",
      "当前刷新第 25 次\n",
      "    当前页面上最早的时间是 2019-03-05 11:37\n",
      "当前刷新第 26 次\n",
      "    当前页面上最早的时间是 2019-03-05 09:38\n",
      "当前刷新第 27 次\n",
      "    当前页面上最早的时间是 2019-03-05 07:50\n",
      "当前刷新第 28 次\n",
      "    当前页面上最早的时间是 2019-03-04 19:36\n",
      "当前刷新第 29 次\n",
      "    当前页面上最早的时间是 2019-03-04 17:09\n",
      "当前刷新第 30 次\n",
      "    当前页面上最早的时间是 2019-03-04 13:29\n",
      "当前刷新第 31 次\n",
      "    当前页面上最早的时间是 2019-03-04 11:06\n",
      "当前刷新第 32 次\n",
      "    当前页面上最早的时间是 2019-03-04 09:26\n",
      "当前刷新第 33 次\n",
      "    当前页面上最早的时间是 2019-03-04 07:24\n",
      "当前刷新第 34 次\n",
      "    当前页面上最早的时间是 2019-03-03 15:10\n"
     ]
    }
   ],
   "source": [
    "beginDate = \"2019-03-04 06:00\"\n",
    "endDate = \"2019-03-10 23:59\"\n",
    "currentMinTime = \"2019-03-11 11:00\" # 初始化，手动指定当前页面上最早的时间\n",
    "# currentMinTime = getTime() #使用getTime()函数获取当前时间作为“最早时间”也可以\n",
    "\n",
    "counter = 0\n",
    "while currentMinTime>=beginDate:\n",
    "    time.sleep(0.5)\n",
    "    counter = counter + 1\n",
    "    print(\"当前刷新第 {cnt:0>2d} 次\".format(cnt=counter))\n",
    "    # 刷新\n",
    "    driver.find_element_by_class_name(\"loading_more\").click()\n",
    "    # 获取刷新后页面上所有的时间\n",
    "    time_list = []\n",
    "    for i in driver.find_elements_by_xpath(time_xpath):\n",
    "        t = i.get_attribute(\"title\") # 2018-12-06 23:22\n",
    "        time_list.append(t)\n",
    "    currentMinTime = min(time_list) # 更新当前页面上最早的时间\n",
    "    print(\"    当前页面上最早的时间是 {t}\".format(t=currentMinTime))"
   ]
  },
  {
   "cell_type": "markdown",
   "metadata": {},
   "source": [
    "### 标题"
   ]
  },
  {
   "cell_type": "code",
   "execution_count": 119,
   "metadata": {
    "ExecuteTime": {
     "end_time": "2019-03-11T03:41:22.476265Z",
     "start_time": "2019-03-11T03:41:22.093756Z"
    }
   },
   "outputs": [
    {
     "name": "stdout",
     "output_type": "stream",
     "text": [
      "总计有700 条标题信息\n",
      "前5条标题示例\n"
     ]
    },
    {
     "data": {
      "text/plain": [
       "'携程致歉：二次支付无票是系统Bug，绝无大数据杀熟'"
      ]
     },
     "execution_count": 119,
     "metadata": {},
     "output_type": "execute_result"
    },
    {
     "data": {
      "text/plain": [
       "'俞敏洪：新东方在线下月将在港股上市'"
      ]
     },
     "execution_count": 119,
     "metadata": {},
     "output_type": "execute_result"
    },
    {
     "data": {
      "text/plain": [
       "'马云旗下公司成立10亿注册资本新公司'"
      ]
     },
     "execution_count": 119,
     "metadata": {},
     "output_type": "execute_result"
    },
    {
     "data": {
      "text/plain": [
       "'\\u200b市场监管总局局长张茅：依法加大食品安全违法成本'"
      ]
     },
     "execution_count": 119,
     "metadata": {},
     "output_type": "execute_result"
    },
    {
     "data": {
      "text/plain": [
       "'阿里巴巴谈投资物流行业：将物流成本从目前的GDP占比16%降低到5%'"
      ]
     },
     "execution_count": 119,
     "metadata": {},
     "output_type": "execute_result"
    }
   ],
   "source": [
    "title_xpath=\"\"\"//*[contains(concat( \" \", @class, \" \" ), concat( \" \", \"title\", \" \" ))]\"\"\"\n",
    "crawl_title = driver.find_elements_by_xpath(title_xpath)\n",
    "print(\"总计有%s 条标题信息\" % len(crawl_title))\n",
    "print(\"前5条标题示例\")\n",
    "for i in crawl_title[:5]:\n",
    "    i.get_attribute(\"textContent\")"
   ]
  },
  {
   "cell_type": "markdown",
   "metadata": {},
   "source": [
    "### 内容\n",
    "- 注意“内容”部分比较特殊，由于xpath局限性，每条内容会多抓到一个空字符串\n",
    "    - 如：本来是10条内容，会抓取到10条正常内容和10个空字符串\n"
   ]
  },
  {
   "cell_type": "code",
   "execution_count": 121,
   "metadata": {
    "ExecuteTime": {
     "end_time": "2019-03-11T03:42:10.471031Z",
     "start_time": "2019-03-11T03:41:50.396991Z"
    }
   },
   "outputs": [
    {
     "name": "stdout",
     "output_type": "stream",
     "text": [
      "总计有700 条内容信息\n",
      "前5条内容示例\n"
     ]
    },
    {
     "data": {
      "text/plain": [
       "'针对网友在携程上重搜机票贵了近1500元一事，携程方面发表道歉声明称，二次支付显示无票是App Bug所致，绝无大数据杀熟。（新浪科技）'"
      ]
     },
     "execution_count": 121,
     "metadata": {},
     "output_type": "execute_result"
    },
    {
     "data": {
      "text/plain": [
       "'已于去年11月通过港交所聆讯的新东方在线，在经历了3个多月的等待后，传出新动态。3月7日上午，新东方教育科技集团董事长俞敏洪表示，新东方所投资的在线教育公司新东方在线将于下月在港股上市。（财新）'"
      ]
     },
     "execution_count": 121,
     "metadata": {},
     "output_type": "execute_result"
    },
    {
     "data": {
      "text/plain": [
       "'36氪讯，启信宝数据显示，3月8日，由马云持股40%的上海云锋新创投资管理有限公司新增对外投资，成立深圳云锋产业发展有限公司，注册资本达10亿人民币，法定代表人为黄鑫，经营范围为“城市建设技术开发与应用，公共服务设施建设与运营服务；数据挖掘、数据分析与数据服务 ；创意设计服务”等，新成立公司由上海云锋新创投资管理有限公司持股85%，泓迪投资有限公司持股15%。'"
      ]
     },
     "execution_count": 121,
     "metadata": {},
     "output_type": "execute_result"
    },
    {
     "data": {
      "text/plain": [
       "'市场监管总局局长张茅表示，对食品安全问题要建立最严的标准，解决目前标准缺失、标准落后的问题。要依法加大违法成本，坚持最严肃的问责，严格落实中央落实的规定，压实地方政府的责任。市场监管总局要加强对食品安全的督导和检查。 （证券时报）'"
      ]
     },
     "execution_count": 121,
     "metadata": {},
     "output_type": "execute_result"
    },
    {
     "data": {
      "text/plain": [
       "'36氪讯，菜鸟网络发布《阿里巴巴谈投资物流行业的初心》一文，文章表示，阿里巴巴希望通过各方的共同努力，将物流成本从目前的GDP占比16%降低到5%。'"
      ]
     },
     "execution_count": 121,
     "metadata": {},
     "output_type": "execute_result"
    }
   ],
   "source": [
    "content_xpath=\"\"\"//*[contains(concat( \" \", @class, \" \" ), concat( \" \", \"fast_news_content\", \" \" ))]//span\"\"\"\n",
    "# xpath局限性问题，每篇文章都会抓取多一个空串儿\n",
    "crawl_content = driver.find_elements_by_xpath(content_xpath)\n",
    "crawl_content = [i for i in crawl_content if i.get_attribute(\"textContent\")!=\"\"]\n",
    "print(\"总计有%s 条内容信息\" % len(crawl_content))\n",
    "print(\"前5条内容示例\")\n",
    "\n",
    "for i in crawl_content[:5]:\n",
    "    i.get_attribute(\"textContent\")"
   ]
  },
  {
   "cell_type": "markdown",
   "metadata": {},
   "source": [
    "## 抓取并合并 时间、标题、内容"
   ]
  },
  {
   "cell_type": "markdown",
   "metadata": {},
   "source": [
    "### 抓取"
   ]
  },
  {
   "cell_type": "code",
   "execution_count": 108,
   "metadata": {
    "ExecuteTime": {
     "end_time": "2019-03-11T03:34:01.653160Z",
     "start_time": "2019-03-11T03:34:00.665743Z"
    }
   },
   "outputs": [
    {
     "name": "stdout",
     "output_type": "stream",
     "text": [
      "allTimeList is done\n",
      "allTitleList is done\n",
      "allContentList is done\n"
     ]
    }
   ],
   "source": [
    "time_xpath =\"\"\"//*[contains(concat( \" \", @class, \" \" ), concat( \" \", \"publish-datetime\", \" \" ))]//span\"\"\"\n",
    "title_xpath=\"\"\"//*[contains(concat( \" \", @class, \" \" ), concat( \" \", \"title\", \" \" ))]\"\"\"\n",
    "content_xpath=\"\"\"//*[contains(concat( \" \", @class, \" \" ), concat( \" \", \"fast_news_content\", \" \" ))]//span\"\"\"\n",
    "\n",
    "\n",
    "# 源码中时间是用的 xx小时前，而title是完整时间\n",
    "allTimeList = [i.get_attribute(\"title\") for i in driver.find_elements_by_xpath(time_xpath)]\n",
    "print(\"allTimeList is done\")\n",
    "allTitleList = [i.get_attribute(\"textContent\") for i in driver.find_elements_by_xpath(title_xpath)]\n",
    "print(\"allTitleList is done\")\n",
    "allContentList = []\n",
    "allContentList_temp = [i.get_attribute(\"textContent\") for i in driver.find_elements_by_xpath(content_xpath)]\n",
    "# xpath局限性问题，每篇文章都会抓取多一个空串儿，过滤掉\n",
    "for i in allContentList_temp:\n",
    "    if i != \"\":\n",
    "        allContentList.append(i)\n",
    "print(\"allContentList is done\")"
   ]
  },
  {
   "cell_type": "code",
   "execution_count": 104,
   "metadata": {
    "ExecuteTime": {
     "end_time": "2019-03-11T03:29:41.210584Z",
     "start_time": "2019-03-11T03:29:41.185604Z"
    },
    "scrolled": false
   },
   "outputs": [
    {
     "name": "stdout",
     "output_type": "stream",
     "text": [
      "每一个都展示下前五个\n"
     ]
    },
    {
     "data": {
      "text/plain": [
       "['2019-03-11 11:15',\n",
       " '2019-03-11 11:08',\n",
       " '2019-03-11 10:59',\n",
       " '2019-03-11 10:55',\n",
       " '2019-03-11 10:54']"
      ]
     },
     "execution_count": 104,
     "metadata": {},
     "output_type": "execute_result"
    },
    {
     "data": {
      "text/plain": [
       "['\\u200b市场监管总局局长张茅：依法加大食品安全违法成本',\n",
       " '阿里巴巴谈投资物流行业：将物流成本从目前的GDP占比16%降低到5%',\n",
       " '美团旗下公司新增企业信用信息咨询业务',\n",
       " '国家药监局：要对疫苗实施最严格的监管',\n",
       " '特斯拉：国内暂无关店计划，明年将在多地增开直营店']"
      ]
     },
     "execution_count": 104,
     "metadata": {},
     "output_type": "execute_result"
    },
    {
     "data": {
      "text/plain": [
       "['市场监管总局局长张茅表示，对食品安全问题要建立最严的标准，解决目前标准缺失、标准落后的问题。要依法加大违法成本，坚持最严肃的问责，严格落实中央落实的规定，压实地方政府的责任。市场监管总局要加强对食品安全的督导和检查。 （证券时报）',\n",
       " '36氪讯，菜鸟网络发布《阿里巴巴谈投资物流行业的初心》一文，文章表示，阿里巴巴希望通过各方的共同努力，将物流成本从目前的GDP占比16%降低到5%。',\n",
       " '36氪讯，企查查数据显示：2019年3月1日，美团金融旗下重庆两心科技有限公司发生工商变更，变更后名称为重庆两心信用管理有限公司，注册资本由100万元变更为1亿人民币，经营范围由互联网技术类业务变更为企业信用信息采集、咨询等业务。',\n",
       " '国家药品监督管理局局长焦红表示，要对疫苗实施最严格的监管，对违法违规行为严厉查处，对失职行为严肃问责。（证券时报）',\n",
       " '特斯拉透露，特斯拉中国目前没有关闭线下直营店计划。一位特斯拉侨福芳草地体验中心销售称，特斯拉目前主要在美国考虑逐步关店，因为北美线上运营已相对成熟。在中国不仅没有关店计划，还正在计划增加直营店数量，明年或将在哈尔滨、大连等地增开直营店。（中证网）']"
      ]
     },
     "execution_count": 104,
     "metadata": {},
     "output_type": "execute_result"
    }
   ],
   "source": [
    "print(\"每一个都展示下前五个\")\n",
    "allTimeList[0:5]\n",
    "allTitleList[0:5]\n",
    "allContentList[0:5]"
   ]
  },
  {
   "cell_type": "code",
   "execution_count": 59,
   "metadata": {
    "ExecuteTime": {
     "end_time": "2019-01-10T15:45:54.819986Z",
     "start_time": "2019-01-10T15:45:54.763016Z"
    }
   },
   "outputs": [
    {
     "data": {
      "text/plain": [
       "[(1, 10), (2, 20), (3, 30)]"
      ]
     },
     "execution_count": 59,
     "metadata": {},
     "output_type": "execute_result"
    },
    {
     "data": {
      "text/plain": [
       "[(1, 10, 'a'), (2, 20, 'b'), (3, 30, 'c')]"
      ]
     },
     "execution_count": 59,
     "metadata": {},
     "output_type": "execute_result"
    },
    {
     "name": "stdout",
     "output_type": "stream",
     "text": [
      "for:\n",
      "i is: 1\n",
      "i is: 2\n",
      "i is: 3\n"
     ]
    },
    {
     "data": {
      "text/plain": [
       "'姓氏'"
      ]
     },
     "execution_count": 59,
     "metadata": {},
     "output_type": "execute_result"
    },
    {
     "data": {
      "text/plain": [
       "'名字'"
      ]
     },
     "execution_count": 59,
     "metadata": {},
     "output_type": "execute_result"
    },
    {
     "data": {
      "text/plain": [
       "'名字'"
      ]
     },
     "execution_count": 59,
     "metadata": {},
     "output_type": "execute_result"
    }
   ],
   "source": [
    "m = [1,2,3]\n",
    "n = [10,20,30]\n",
    "p = [\"a\",\"b\",\"c\"]\n",
    "list(zip(m,n))\n",
    "list(zip(m,n,p))\n",
    "print(\"for:\")\n",
    "# 元组 类型\n",
    "for (i,j,k) in zip(m,n,p):\n",
    "    print(\"i is:\",i)\n",
    "    \n",
    "(pan,shu,shang)=(\"姓氏\",\"名字\",\"名字\")\n",
    "pan\n",
    "shu\n",
    "shang"
   ]
  },
  {
   "cell_type": "markdown",
   "metadata": {},
   "source": [
    "### 合并标题、正文、时间"
   ]
  },
  {
   "cell_type": "code",
   "execution_count": 122,
   "metadata": {
    "ExecuteTime": {
     "end_time": "2019-03-11T03:42:24.890324Z",
     "start_time": "2019-03-11T03:42:24.878572Z"
    }
   },
   "outputs": [
    {
     "data": {
      "text/plain": [
       "[('2019-03-11 11:15',\n",
       "  '\\u200b市场监管总局局长张茅：依法加大食品安全违法成本',\n",
       "  '市场监管总局局长张茅表示，对食品安全问题要建立最严的标准，解决目前标准缺失、标准落后的问题。要依法加大违法成本，坚持最严肃的问责，严格落实中央落实的规定，压实地方政府的责任。市场监管总局要加强对食品安全的督导和检查。 （证券时报）'),\n",
       " ('2019-03-11 11:08',\n",
       "  '阿里巴巴谈投资物流行业：将物流成本从目前的GDP占比16%降低到5%',\n",
       "  '36氪讯，菜鸟网络发布《阿里巴巴谈投资物流行业的初心》一文，文章表示，阿里巴巴希望通过各方的共同努力，将物流成本从目前的GDP占比16%降低到5%。'),\n",
       " ('2019-03-11 10:59',\n",
       "  '美团旗下公司新增企业信用信息咨询业务',\n",
       "  '36氪讯，企查查数据显示：2019年3月1日，美团金融旗下重庆两心科技有限公司发生工商变更，变更后名称为重庆两心信用管理有限公司，注册资本由100万元变更为1亿人民币，经营范围由互联网技术类业务变更为企业信用信息采集、咨询等业务。')]"
      ]
     },
     "execution_count": 122,
     "metadata": {},
     "output_type": "execute_result"
    }
   ],
   "source": [
    "allZipped = list(zip(allTimeList,allTitleList,allContentList))\n",
    "allZipped[:3]"
   ]
  },
  {
   "cell_type": "markdown",
   "metadata": {},
   "source": [
    "### 筛选条件\n",
    "- 关键词筛选\n",
    "- 指定时间筛选"
   ]
  },
  {
   "cell_type": "code",
   "execution_count": 126,
   "metadata": {
    "ExecuteTime": {
     "end_time": "2019-03-11T03:43:29.322485Z",
     "start_time": "2019-03-11T03:43:29.286141Z"
    }
   },
   "outputs": [
    {
     "name": "stdout",
     "output_type": "stream",
     "text": [
      "总计抓取了 20 条数据\n",
      ">>> 1. 过滤关键词后剩余 0 条数据\n",
      ">>> 2. 按时间周期筛选后余 0 条数据 (2019-03-04 06:00~2019-03-10 23:59)\n",
      "示例三条数据如下：\n"
     ]
    },
    {
     "data": {
      "text/plain": [
       "[]"
      ]
     },
     "execution_count": 126,
     "metadata": {},
     "output_type": "execute_result"
    }
   ],
   "source": [
    "print(\"总计抓取了 %s 条数据\" % len(allZipped))\n",
    "\n",
    "targetWords = [\"Twitter\",\"Facebook\",\"字节跳动\",\"今日头条\",\"抖音\",\"TikTok\",\"西瓜视频\",\"腾讯\",\"天天快报\",\"腾讯新闻\",\"百度\",\"新浪\",\"新浪新闻\",\"新浪微博\",\"搜狐\",\"搜狐新闻\",\"凤凰网\",\"凤凰新闻\",\"一点资讯\",\"趣头条\",\"短视频\",\"火山视频\",\"快手\",\"美拍\",\"秒拍\",\"微视\",\"知乎\",\"简书\",\"即刻\",\"轻芒\"]# deprecatedWords = [\"微信小程序\"]\n",
    "result_containsTarget = []\n",
    "# 过滤关键词\n",
    "for (time,title,content) in allZipped:\n",
    "    for i in targetWords:\n",
    "        if i in title:\n",
    "            result_containsTarget.append((time,title,content))\n",
    "print(\">>> 1. 过滤关键词后剩余 %s 条数据\" % len(result_containsTarget))\n",
    "# 过滤时间 \n",
    "result_containsTarget = [(time,title,content) for (time,title,content) in result_containsTarget if time<endDate and time>beginDate]\n",
    "print(\">>> 2. 按时间周期筛选后余 %s 条数据 (%s~%s)\" % (len(result_containsTarget), beginDate, endDate))\n",
    "print(\"示例三条数据如下：\")\n",
    "result_containsTarget[:3]"
   ]
  },
  {
   "cell_type": "markdown",
   "metadata": {},
   "source": [
    "### 拼接并格式化"
   ]
  },
  {
   "cell_type": "code",
   "execution_count": 125,
   "metadata": {
    "ExecuteTime": {
     "end_time": "2019-03-11T03:42:59.675019Z",
     "start_time": "2019-03-11T03:42:59.660895Z"
    }
   },
   "outputs": [
    {
     "name": "stdout",
     "output_type": "stream",
     "text": [
      "拼接及过滤已完成，展示前五个\n"
     ]
    },
    {
     "data": {
      "text/plain": [
       "[]"
      ]
     },
     "execution_count": 125,
     "metadata": {},
     "output_type": "execute_result"
    }
   ],
   "source": [
    "result = [(\"[时间] \"+time+\"  \\n[标题] \"+title+\"  \\n[内容] \"+content) for (time,title,content) in result_containsTarget]\n",
    "print(\"拼接及过滤已完成，展示前五个\")\n",
    "result[:5]"
   ]
  },
  {
   "cell_type": "markdown",
   "metadata": {},
   "source": [
    "## 写入文件"
   ]
  },
  {
   "cell_type": "code",
   "execution_count": 84,
   "metadata": {
    "ExecuteTime": {
     "end_time": "2019-03-04T08:08:43.920498Z",
     "start_time": "2019-03-04T08:08:43.874009Z"
    }
   },
   "outputs": [
    {
     "data": {
      "text/plain": [
       "'w: write'"
      ]
     },
     "execution_count": 84,
     "metadata": {},
     "output_type": "execute_result"
    },
    {
     "data": {
      "text/plain": [
       "'a: append'"
      ]
     },
     "execution_count": 84,
     "metadata": {},
     "output_type": "execute_result"
    },
    {
     "data": {
      "text/plain": [
       "'r: read'"
      ]
     },
     "execution_count": 84,
     "metadata": {},
     "output_type": "execute_result"
    },
    {
     "name": "stdout",
     "output_type": "stream",
     "text": [
      "写入完成\n"
     ]
    }
   ],
   "source": [
    "\"w: write\"\n",
    "\"a: append\"\n",
    "\"r: read\"\n",
    "f = open(\"resultFile.txt\",\"w+\")\n",
    "for i in result_containsTarget:\n",
    "    f.writelines(i)\n",
    "    f.writelines(\"\\n\\n\\n\")\n",
    "f.close()\n",
    "print(\"写入完成\")"
   ]
  },
  {
   "cell_type": "markdown",
   "metadata": {},
   "source": [
    "# 其他"
   ]
  },
  {
   "cell_type": "code",
   "execution_count": 25,
   "metadata": {
    "ExecuteTime": {
     "end_time": "2018-12-12T09:13:20.057425Z",
     "start_time": "2018-12-12T09:13:20.020025Z"
    }
   },
   "outputs": [
    {
     "data": {
      "text/plain": [
       "'abc is alphabet'"
      ]
     },
     "execution_count": 25,
     "metadata": {},
     "output_type": "execute_result"
    },
    {
     "data": {
      "text/plain": [
       "'our class has 33 students'"
      ]
     },
     "execution_count": 25,
     "metadata": {},
     "output_type": "execute_result"
    },
    {
     "data": {
      "text/plain": [
       "'our class has 033 students'"
      ]
     },
     "execution_count": 25,
     "metadata": {},
     "output_type": "execute_result"
    },
    {
     "data": {
      "text/plain": [
       "'our class has 0033 students'"
      ]
     },
     "execution_count": 25,
     "metadata": {},
     "output_type": "execute_result"
    },
    {
     "data": {
      "text/plain": [
       "'our class has 33.0 students'"
      ]
     },
     "execution_count": 25,
     "metadata": {},
     "output_type": "execute_result"
    },
    {
     "data": {
      "text/plain": [
       "'our class has 03.0 students'"
      ]
     },
     "execution_count": 25,
     "metadata": {},
     "output_type": "execute_result"
    },
    {
     "data": {
      "text/plain": [
       "'our class has 3333 students'"
      ]
     },
     "execution_count": 25,
     "metadata": {},
     "output_type": "execute_result"
    },
    {
     "data": {
      "text/plain": [
       "'our class has 0033 students'"
      ]
     },
     "execution_count": 25,
     "metadata": {},
     "output_type": "execute_result"
    }
   ],
   "source": [
    "\"abc is {sth}\".format(sth=\"alphabet\")  #anynumber有个格式\n",
    "\"our class has {anyNumber} students\".format(anyNumber=33)\n",
    "\"our class has {anyNumber:0>3d} students\".format(anyNumber=33)\n",
    "\"our class has {anyNumber:0>4d} students\".format(anyNumber=33)\n",
    "\n",
    "# 注意这里是 33.0\n",
    "\"our class has {anyNumber:0>4} students\".format(anyNumber=33.0)\n",
    "\"our class has {anyNumber:0>4} students\".format(anyNumber=3.0)\n",
    "\"our class has {anyNumber:0>4} students\".format(anyNumber=3333)\n",
    "\"our class has {anyNumber:0>4} students\".format(anyNumber=33)"
   ]
  },
  {
   "cell_type": "code",
   "execution_count": 53,
   "metadata": {
    "ExecuteTime": {
     "end_time": "2019-03-04T05:56:42.167232Z",
     "start_time": "2019-03-04T05:56:42.151124Z"
    }
   },
   "outputs": [
    {
     "name": "stdout",
     "output_type": "stream",
     "text": [
      "\"字节跳动\",\"今日头条\",\"抖音\",\"Tic Tok\",\"西瓜视频\",\"腾讯\",\"天天快报\",\"腾讯新闻\",\"百度\",\"新浪\",\"新浪新闻\",\"新浪微博\",\"搜狐\",\"搜狐新闻\",\"凤凰网\",\"凤凰新闻\",\"一点资讯\",\"趣头条\",\"短视频\",\"火山视频\",\"快手\",\"美拍\",\"秒拍\",\"微视\",\"知乎\",\"简书\",\"即刻\",\"轻芒\"\n"
     ]
    }
   ],
   "source": [
    "def formatFunc(input):\n",
    "    temp = sum([i.split(\"、\") for i in input.strip(\"\\n\").split(\"\\n\")], [])\n",
    "    result = \",\".join([\"\\\"\"+i+\"\\\"\" for i in temp])\n",
    "    return result\n",
    "\n",
    "input=\"\"\"\n",
    "字节跳动、今日头条、抖音、Tic Tok、西瓜视频\n",
    "腾讯、天天快报、腾讯新闻\n",
    "百度\n",
    "新浪、新浪新闻、新浪微博、搜狐、搜狐新闻、凤凰网、凤凰新闻、一点资讯、趣头条\n",
    "短视频\n",
    "火山视频、快手、美拍、秒拍、微视\n",
    "知乎、简书、即刻、轻芒\n",
    "\"\"\"\n",
    "\n",
    "print(formatFunc(input))\n"
   ]
  },
  {
   "cell_type": "code",
   "execution_count": null,
   "metadata": {},
   "outputs": [],
   "source": []
  }
 ],
 "metadata": {
  "celltoolbar": "Initialization Cell",
  "kernelspec": {
   "display_name": "Python 3",
   "language": "python",
   "name": "python3"
  },
  "language_info": {
   "codemirror_mode": {
    "name": "ipython",
    "version": 3
   },
   "file_extension": ".py",
   "mimetype": "text/x-python",
   "name": "python",
   "nbconvert_exporter": "python",
   "pygments_lexer": "ipython3",
   "version": "3.6.7"
  },
  "toc": {
   "base_numbering": 1,
   "nav_menu": {},
   "number_sections": true,
   "sideBar": true,
   "skip_h1_title": false,
   "title_cell": "Table of Contents",
   "title_sidebar": "Contents",
   "toc_cell": false,
   "toc_position": {
    "height": "calc(100% - 180px)",
    "left": "10px",
    "top": "150px",
    "width": "269.594px"
   },
   "toc_section_display": true,
   "toc_window_display": true
  }
 },
 "nbformat": 4,
 "nbformat_minor": 2
}
