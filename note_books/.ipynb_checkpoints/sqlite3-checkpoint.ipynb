{
 "cells": [
  {
   "cell_type": "code",
   "execution_count": 1,
   "metadata": {
    "ExecuteTime": {
     "end_time": "2019-04-08T09:20:41.556220Z",
     "start_time": "2019-04-08T09:20:40.924819Z"
    },
    "init_cell": true
   },
   "outputs": [],
   "source": [
    "from IPython.core.interactiveshell import InteractiveShell\n",
    "InteractiveShell.ast_node_interactivity = \"all\"\n",
    "%matplotlib inline\n",
    "from tqdm import tqdm_notebook\n",
    "import concurrent.futures\n",
    "from multiprocessing import Pool"
   ]
  },
  {
   "cell_type": "code",
   "execution_count": 2,
   "metadata": {
    "ExecuteTime": {
     "end_time": "2019-04-08T09:20:41.566758Z",
     "start_time": "2019-04-08T09:20:41.560156Z"
    },
    "init_cell": true
   },
   "outputs": [],
   "source": [
    "import sqlite3"
   ]
  },
  {
   "cell_type": "markdown",
   "metadata": {},
   "source": [
    "# 创建连接及游标\n",
    "- 若不存在会自动创建"
   ]
  },
  {
   "cell_type": "code",
   "execution_count": 3,
   "metadata": {
    "ExecuteTime": {
     "end_time": "2019-04-08T09:20:41.596910Z",
     "start_time": "2019-04-08T09:20:41.570599Z"
    },
    "init_cell": true
   },
   "outputs": [],
   "source": [
    "conn = sqlite3.connect('test.db')\n",
    "c = conn.cursor()"
   ]
  },
  {
   "cell_type": "markdown",
   "metadata": {},
   "source": [
    "# 以表为单位的操作"
   ]
  },
  {
   "cell_type": "markdown",
   "metadata": {},
   "source": [
    "## 获取所有表"
   ]
  },
  {
   "cell_type": "code",
   "execution_count": 29,
   "metadata": {
    "ExecuteTime": {
     "end_time": "2019-04-08T09:31:03.758683Z",
     "start_time": "2019-04-08T09:31:03.737625Z"
    }
   },
   "outputs": [
    {
     "data": {
      "text/plain": [
       "<sqlite3.Cursor at 0x7f477aa33ce0>"
      ]
     },
     "execution_count": 29,
     "metadata": {},
     "output_type": "execute_result"
    },
    {
     "data": {
      "text/plain": [
       "[('COMPANY_NEW',)]"
      ]
     },
     "execution_count": 29,
     "metadata": {},
     "output_type": "execute_result"
    }
   ],
   "source": [
    "c.execute(\"SELECT name FROM sqlite_master WHERE type='table'\")\n",
    "Tables = c.fetchall() # Tables 为元组列表\n",
    "Tables\n",
    "conn.commit()"
   ]
  },
  {
   "cell_type": "markdown",
   "metadata": {},
   "source": [
    "## 获取表信息（字段信息）"
   ]
  },
  {
   "cell_type": "code",
   "execution_count": 34,
   "metadata": {
    "ExecuteTime": {
     "end_time": "2019-04-08T09:35:43.992020Z",
     "start_time": "2019-04-08T09:35:43.949199Z"
    }
   },
   "outputs": [
    {
     "data": {
      "text/plain": [
       "<sqlite3.Cursor at 0x7f477aa33ce0>"
      ]
     },
     "execution_count": 34,
     "metadata": {},
     "output_type": "execute_result"
    },
    {
     "name": "stdout",
     "output_type": "stream",
     "text": [
      ">>> 所有列名如下：\n",
      "['ID', 'NAME', 'AGE', 'ADDRESS', 'SALARY']\n"
     ]
    },
    {
     "data": {
      "text/plain": [
       "<sqlite3.Cursor at 0x7f477aa33ce0>"
      ]
     },
     "execution_count": 34,
     "metadata": {},
     "output_type": "execute_result"
    },
    {
     "name": "stdout",
     "output_type": "stream",
     "text": [
      ">>> 完整表字段信息如下：\n",
      "(0, 'ID', '', 1, None, 1)\n",
      "(1, 'NAME', 'TEXT', 1, None, 0)\n",
      "(2, 'AGE', 'INT', 1, None, 0)\n",
      "(3, 'ADDRESS', 'CHAR(50)', 0, None, 0)\n",
      "(4, 'SALARY', 'REAL', 0, None, 0)\n"
     ]
    }
   ],
   "source": [
    "# 获取表的列名\n",
    "c.execute(\"SELECT * FROM {}\".format(\"COMPANY\"))\n",
    "col_name_list = [tuple[0] for tuple in c.description]\n",
    "print(\">>> 所有列名如下：\")\n",
    "print(col_name_list)\n",
    "\n",
    "# 获取表结构的所有信息\n",
    "c.execute(\"PRAGMA table_info({})\".format(\"COMPANY\"))\n",
    "print(\">>> 完整表字段信息如下：\")\n",
    "for i in c.fetchall(): print(i)"
   ]
  },
  {
   "cell_type": "markdown",
   "metadata": {},
   "source": [
    "## 创建表格"
   ]
  },
  {
   "cell_type": "code",
   "execution_count": 32,
   "metadata": {
    "ExecuteTime": {
     "end_time": "2019-04-08T09:35:29.697702Z",
     "start_time": "2019-04-08T09:35:29.650240Z"
    }
   },
   "outputs": [
    {
     "data": {
      "text/plain": [
       "<sqlite3.Cursor at 0x7f477aa33ce0>"
      ]
     },
     "execution_count": 32,
     "metadata": {},
     "output_type": "execute_result"
    }
   ],
   "source": [
    "sql = \"\"\"\n",
    "CREATE TABLE COMPANY(\n",
    "    ID PRIMARY KEY NOT NULL,\n",
    "    NAME TEXT NOT NULL,\n",
    "    AGE INT NOT NULL,\n",
    "    ADDRESS CHAR(50),\n",
    "    SALARY REAL\n",
    ");\n",
    "\"\"\"\n",
    "c.execute(sql)\n",
    "conn.commit()"
   ]
  },
  {
   "cell_type": "markdown",
   "metadata": {},
   "source": [
    "## 删除表"
   ]
  },
  {
   "cell_type": "code",
   "execution_count": 19,
   "metadata": {
    "ExecuteTime": {
     "end_time": "2019-04-08T09:26:07.754768Z",
     "start_time": "2019-04-08T09:26:07.730159Z"
    }
   },
   "outputs": [
    {
     "data": {
      "text/plain": [
       "<sqlite3.Cursor at 0x7f477aa33ce0>"
      ]
     },
     "execution_count": 19,
     "metadata": {},
     "output_type": "execute_result"
    }
   ],
   "source": [
    "c.execute('DROP TABLE COMPANY')\n",
    "conn.commit()"
   ]
  },
  {
   "cell_type": "markdown",
   "metadata": {},
   "source": [
    "## 修改表名\n",
    "- ALTER TABLE 旧表名 **RENAME TO** 新表名\n",
    "- ALTER TABLE 表名 **ADD COLUMN** 列名 数据类型 "
   ]
  },
  {
   "cell_type": "code",
   "execution_count": 31,
   "metadata": {
    "ExecuteTime": {
     "end_time": "2019-04-08T09:33:10.714289Z",
     "start_time": "2019-04-08T09:33:10.672202Z"
    }
   },
   "outputs": [
    {
     "ename": "OperationalError",
     "evalue": "no such table: COMPANY",
     "output_type": "error",
     "traceback": [
      "\u001b[0;31m---------------------------------------------------------------------------\u001b[0m",
      "\u001b[0;31mOperationalError\u001b[0m                          Traceback (most recent call last)",
      "\u001b[0;32m<ipython-input-31-6e44858fb31b>\u001b[0m in \u001b[0;36m<module>\u001b[0;34m\u001b[0m\n\u001b[0;32m----> 1\u001b[0;31m \u001b[0mc\u001b[0m\u001b[0;34m.\u001b[0m\u001b[0mexecute\u001b[0m\u001b[0;34m(\u001b[0m\u001b[0;34m\"ALTER TABLE COMPANY RENAME TO COMPANY_NEW\"\u001b[0m\u001b[0;34m)\u001b[0m\u001b[0;34m\u001b[0m\u001b[0;34m\u001b[0m\u001b[0m\n\u001b[0m",
      "\u001b[0;31mOperationalError\u001b[0m: no such table: COMPANY"
     ]
    }
   ],
   "source": [
    "c.execute(\"ALTER TABLE COMPANY RENAME TO COMPANY_NEW\")"
   ]
  },
  {
   "cell_type": "markdown",
   "metadata": {},
   "source": [
    "# 表内数据的操作"
   ]
  },
  {
   "cell_type": "markdown",
   "metadata": {},
   "source": [
    "## 增"
   ]
  },
  {
   "cell_type": "code",
   "execution_count": 25,
   "metadata": {
    "ExecuteTime": {
     "end_time": "2019-04-08T09:27:58.496498Z",
     "start_time": "2019-04-08T09:27:58.456275Z"
    }
   },
   "outputs": [
    {
     "data": {
      "text/plain": [
       "<sqlite3.Cursor at 0x7f477aa33ce0>"
      ]
     },
     "execution_count": 25,
     "metadata": {},
     "output_type": "execute_result"
    },
    {
     "data": {
      "text/plain": [
       "<sqlite3.Cursor at 0x7f477aa33ce0>"
      ]
     },
     "execution_count": 25,
     "metadata": {},
     "output_type": "execute_result"
    }
   ],
   "source": [
    "sql = \"insert into COMPANY values ('Alpha','jason',36,'New York 3-11', 22.2)\"\n",
    "c.execute(sql)\n",
    "sql = \"insert into COMPANY values ('Beta','tom',42,'Boston 2-11', 11.0)\"\n",
    "c.execute(sql)\n",
    "conn.commit()"
   ]
  },
  {
   "cell_type": "markdown",
   "metadata": {},
   "source": [
    "## 删"
   ]
  },
  {
   "cell_type": "code",
   "execution_count": null,
   "metadata": {},
   "outputs": [],
   "source": [
    "# 使用参数化查询，来防止SQL注入\n",
    "title = \"abc\"\n",
    "sql = \"delete BOOK where title=?\"\n",
    "c.execute(sql,title)\n",
    "\n",
    "#insecure\n",
    "# sql = \"delete BOOK where title={}\".format('linux')\n",
    "# c.execute(sql)"
   ]
  },
  {
   "cell_type": "markdown",
   "metadata": {},
   "source": [
    "## 改"
   ]
  },
  {
   "cell_type": "code",
   "execution_count": null,
   "metadata": {},
   "outputs": [],
   "source": [
    "sql = \"update BOOK set title='flask' where rowid=1\"\n",
    "c.execute(sql)\n",
    "conn.commit()"
   ]
  },
  {
   "cell_type": "markdown",
   "metadata": {},
   "source": [
    "## 查"
   ]
  },
  {
   "cell_type": "code",
   "execution_count": 15,
   "metadata": {
    "ExecuteTime": {
     "end_time": "2019-04-08T09:08:41.990196Z",
     "start_time": "2019-04-08T09:08:41.971370Z"
    }
   },
   "outputs": [
    {
     "name": "stdout",
     "output_type": "stream",
     "text": [
      "('Alpha', 'jason', 36, 'New York 3-11', 22.2)\n",
      "('Beta', 'tom', 42, 'Boston 2-11', 11.0)\n"
     ]
    },
    {
     "data": {
      "text/plain": [
       "<sqlite3.Cursor at 0x7fa61c70a340>"
      ]
     },
     "execution_count": 15,
     "metadata": {},
     "output_type": "execute_result"
    },
    {
     "name": "stdout",
     "output_type": "stream",
     "text": [
      "('Alpha', 'jason', 36, 'New York 3-11', 22.2)\n",
      "('Beta', 'tom', 42, 'Boston 2-11', 11.0)\n"
     ]
    }
   ],
   "source": [
    "sql = \"select * from COMPANY\"\n",
    "#执行SQL之后，得到corsor对象。可以使用for循环遍历出结果。\n",
    "companys = c.execute(sql)\n",
    "for row in companys:\n",
    "    print(row)\n",
    "\n",
    "\n",
    "sql = \"select * from COMPANY\"\n",
    "c.execute(sql)\n",
    "lst = c.fetchall()\n",
    "for row in lst:\n",
    "    print(row)"
   ]
  },
  {
   "cell_type": "code",
   "execution_count": 23,
   "metadata": {
    "ExecuteTime": {
     "end_time": "2019-04-08T09:09:17.754789Z",
     "start_time": "2019-04-08T09:09:17.736016Z"
    }
   },
   "outputs": [
    {
     "data": {
      "text/plain": [
       "<sqlite3.Cursor at 0x7fa61c70a340>"
      ]
     },
     "execution_count": 23,
     "metadata": {},
     "output_type": "execute_result"
    },
    {
     "data": {
      "text/plain": [
       "('Alpha', 'jason', 36, 'New York 3-11', 22.2)"
      ]
     },
     "execution_count": 23,
     "metadata": {},
     "output_type": "execute_result"
    }
   ],
   "source": [
    "companys\n",
    "lst[0]"
   ]
  },
  {
   "cell_type": "markdown",
   "metadata": {},
   "source": [
    "# 关闭"
   ]
  },
  {
   "cell_type": "code",
   "execution_count": 10,
   "metadata": {
    "ExecuteTime": {
     "end_time": "2019-04-08T08:52:21.925148Z",
     "start_time": "2019-04-08T08:52:21.910983Z"
    }
   },
   "outputs": [],
   "source": [
    "c.close()\n",
    "conn.close()"
   ]
  },
  {
   "cell_type": "markdown",
   "metadata": {},
   "source": [
    "# 查询、插入示例"
   ]
  },
  {
   "cell_type": "code",
   "execution_count": 38,
   "metadata": {
    "ExecuteTime": {
     "end_time": "2019-04-08T10:45:16.589754Z",
     "start_time": "2019-04-08T10:45:16.557405Z"
    },
    "code_folding": [
     5,
     14,
     45
    ]
   },
   "outputs": [
    {
     "name": "stdout",
     "output_type": "stream",
     "text": [
      "当前所有表：['GOOGLE_RES_old', 'GOOGLE_RES']\n",
      "【原表存在】直接使用\n",
      ">>> 完整表字段信息如下：\n",
      "(0, 'query', 'TEXT', 0, None, 1)\n",
      "(1, 'redirectW', 'TEXT', 0, None, 0)\n",
      "(2, 'result', 'TEXT', 0, None, 0)\n"
     ]
    }
   ],
   "source": [
    "from enum import Enum, unique\n",
    "import sqlite3\n",
    "import time\n",
    "import json\n",
    "@unique\n",
    "class DBNames(Enum):\n",
    "    DBName = \"AggSearchServer.db\"\n",
    "    Google_TableName = \"GOOGLE_RES\"\n",
    "    Wiki_TableName = \"WIKI_RES\"\n",
    "    Google_TableStruct = \"\"\"\n",
    "            query TEXT PRIMARY Key,\n",
    "            redirectW TEXT,\n",
    "            result TEXT\"\"\"\n",
    "\n",
    "def initTable(tableName, tableStructure, clearHistory=False):\n",
    "    conn = sqlite3.connect(DBNames.DBName.value)\n",
    "    c = conn.cursor()\n",
    "\n",
    "    c.execute(\"SELECT name FROM sqlite_master WHERE type='table'\")\n",
    "    Tables = [i[0] for i in c.fetchall()]\n",
    "    print(f\"当前所有表：{Tables}\")\n",
    "    \n",
    "    # check \n",
    "    if DBNames.Google_TableName.value in Tables:\n",
    "        if clearHistory:\n",
    "            c.execute(f\"ALTER TABLE {tableName} RENAME TO {tableName}_old\")\n",
    "            print(f\"【原表存在】 更名：{tableName} --> {tableName}_old\")\n",
    "        else:\n",
    "            print(f\"【原表存在】直接使用\")\n",
    "    else:\n",
    "        print(f\"【原表不存在】 创建\")\n",
    "        command = f\"\"\"CREATE TABLE {tableName}({tableStructure})\"\"\"\n",
    "        c.execute(command)\n",
    "    \n",
    "    # log\n",
    "    c.execute(f\"PRAGMA table_info({tableName})\")\n",
    "    print(\">>> 完整表字段信息如下：\")\n",
    "    for i in c.fetchall(): print(i)\n",
    "    \n",
    "    # close\n",
    "    c.close()\n",
    "    conn.commit()\n",
    "    conn.close()\n",
    "    return None\n",
    "\n",
    "def dropTable(tableName):\n",
    "    print(f\"【WARN】 将删除table {tableName}\")\n",
    "    time.sleep(30)\n",
    "    conn = sqlite3.connect(DBNames.DBName.value)\n",
    "    c = conn.cursor()\n",
    "    c.execute(f\"DROP TABLE {tableName}\")\n",
    "    c.close()\n",
    "    conn.commit()\n",
    "    conn.close()\n",
    "    # dropTable(DBNames.Google_TableName.value)\n",
    "    return None\n",
    "\n",
    "\n",
    "initTable(DBNames.Google_TableName.value, DBNames.Google_TableStruct.value)\n",
    "# initTable(DBNames.Wiki_TableName.value, DBNames.Wiki_TableStruct.value)\n"
   ]
  },
  {
   "cell_type": "code",
   "execution_count": 46,
   "metadata": {
    "ExecuteTime": {
     "end_time": "2019-04-08T10:59:35.515376Z",
     "start_time": "2019-04-08T10:59:35.488706Z"
    },
    "code_folding": [
     1,
     14
    ]
   },
   "outputs": [],
   "source": [
    "conn = sqlite3.connect(DBNames.DBName.value)\n",
    "def search_db(query,tableName):\n",
    "    c = conn.cursor()\n",
    "    c.execute(f\"SELECT * FROM {tableName} where query=?\",(query,))\n",
    "    res = c.fetchall()\n",
    "    resultJSON = None # 默认（未查到）值为None\n",
    "    if(len(res)>0):\n",
    "        (query,redirectW,result) = res[0]\n",
    "        result_dictArr = json.loads(result)\n",
    "        c.close()\n",
    "        conn.commit()\n",
    "        resultJSON = json.dumps({\"query\":query,\"redirect\":redirectW,\"q_result\":result_dictArr})\n",
    "    return resultJSON\n",
    "\n",
    "def insert_db(resultJSON,tableName):\n",
    "    c = conn.cursor()\n",
    "    \n",
    "    jsonDict = json.loads(resultJSON)\n",
    "    query = jsonDict['query']\n",
    "    redirectW = jsonDict['redirect']\n",
    "    result = json.dumps(jsonDict['q_result'])\n",
    "    c.execute(f\"insert into {tableName} values (?,?,?)\",(query,redirectW,result))# query redirect result\n",
    "    c.close()\n",
    "    conn.commit()\n",
    "    return None\n"
   ]
  },
  {
   "cell_type": "code",
   "execution_count": 47,
   "metadata": {
    "ExecuteTime": {
     "end_time": "2019-04-08T10:59:36.377237Z",
     "start_time": "2019-04-08T10:59:36.367183Z"
    }
   },
   "outputs": [
    {
     "name": "stdout",
     "output_type": "stream",
     "text": [
      "None\n"
     ]
    }
   ],
   "source": [
    "resultJSON = \"\"\"{\"query\": \"uuwbegoa\", \"redirect\": \"w goa\", \"q_result\": [{\"title\": \"Luxury Boutique Hotel in Bardez - Goa | W Goa - Marriott.com\", \"link\": \"https://www.marriott.com/hotels/travel/goiwh-w-goa/\", \"summary\": \" Rating: 4.1 - \\u200e34 votesVagator Beach, Bardez - Goa 403509 India. ... W Goa - The Best Luxury Beach Resort in Goa. ... W Goa captures the rustic and dramatic landscape of Goa as well as its cosmopolitan, multi-cultural vibe, injecting Vagator with the exuberant spirit uniquely known to W Hotels.\\u200eRooms \\u00b7\\u00a0\\u200eHotel Details \\u00b7\\u00a0\\u200ePhotos \\u00b7\\u00a0\\u200eVagator Beach, Bardez - Goa ...\", \"query\": \"uuwbegoa\"}, {\"title\": \"Hotel Rooms & Amenities | W Goa - Marriott Hotels\", \"link\": \"https://www.marriott.com/hotels/hotel-rooms/goiwh-w-goa/\", \"summary\": \"Browse hotel room details for W Goa. You'll be delighted with our Bardez - Goa hotel room options.\", \"query\": \"uuwbegoa\"}, {\"title\": \"Resort W Goa, Vagator, India - Booking.com\", \"link\": \"https://www.booking.com/hotel/in/w-retreat-spa-goa.html\", \"summary\": \" Rating: 8.6/10 - \\u200e599 reviews - \\u200ePrice range: Prices for upcoming dates start at $152 per night (We Price Match)Offering a spa center and sauna and 24-hour concierge service, W Goa is set in Vagator.\", \"query\": \"uuwbegoa\"}, {\"title\": \"W GOA (Vagator) - Updated 2019 Prices, Hotel Reviews & Photos ...\", \"link\": \"https://www.tripadvisor.in/Hotel_Review-g1204883-d10679217-Reviews-W_Goa-Vagator_North_Goa_District_Goa.html\", \"summary\": \" Rating: 4.5 - \\u200e791 reviews - \\u200ePrice range: \\u20b9\\u20b9 (Based on Average Nightly Rates for a Standard Room from our Partners)W Goa, Vagator: See 770 traveller reviews, 1183 user photos and best deals for W Goa, ranked #3 of 26 Vagator hotels, rated 4.5 of 5 at TripAdvisor.\", \"query\": \"uuwbegoa\"}, {\"title\": \"Resort W Goa Goa - ( \\u03361\\u03363\\u03365\\u03364\\u03369\\u0336 ) Hotel HD Photos & Reviews\", \"link\": \"https://www.makemytrip.com/hotels/resort_w_goa-details-goa.html\", \"summary\": \" Rating: 4.6 - \\u200e40 reviews - \\u200ePrice range: Resort W Goa Prices for upcoming dates start \\u20b9 13,549/Night - Prices of Resort W Goa will vary based on your dates of travel, Book Now! (Based on Average Rates for a Standard Room)Best Price Guarantee \\u27a4 Book Resort W Goa, Goa online deal and discounts with lowest price on Hotel Booking. Check all guest reviews & photos of Resort W\\u00a0...\", \"query\": \"uuwbegoa\"}, {\"title\": \"Bohemian Whimsy Meets Modern Luxury At The Newly Opened W Goa\", \"link\": \"https://www.forbes.com/sites/debbieyong/2017/03/27/a-first-look-at-the-w-goa-w-hotels-highly-anticipated-india-debut/\", \"summary\": \"Mar 27, 2017 - W Goa marks W Hotels' India debut and its 50th hotel worldwide.\", \"query\": \"uuwbegoa\"}, {\"title\": \"W Goa Hotel Review, India | Travel - The Telegraph\", \"link\": \"https://www.telegraph.co.uk/travel/destinations/asia/india/goa/hotels/w-goa-hotel/\", \"summary\": \" Rating: 8/10 - \\u200eReview by Lee Cobaj - \\u200ePrice range: Rooms from   \\u00a3 162 per nightRead the W Goa, India hotel review on Telegraph Travel. See great photos, full ratings, facilities, expert advice and book the best hotel deals.\", \"query\": \"uuwbegoa\"}, {\"title\": \"W Goa (Vagator) \\u2013 2019 Hotel Prices | Expedia.co.in\", \"link\": \"https://www.expedia.co.in/Goa-Hotels-W-Goa.h15439133.Hotel-Information\", \"summary\": \" Rating: 4.5 - \\u200e44 reviewsResults 1 - 10 of 44 - W Goa - read reviews, look at the photos and get great deals. Book the W Goa with Expedia now and save!\", \"query\": \"uuwbegoa\"}, {\"title\": \"W GOA - Home | Facebook\", \"link\": \"https://www.facebook.com/wgoa1/\", \"summary\": \"W GOA, Goa, India. 53K likes. The Next best thing to happen to India!\", \"query\": \"uuwbegoa\"}, {\"title\": \"Hotel W Goa, Velha Goa - trivago.in\", \"link\": \"https://www.trivago.in/velha-goa-446949/hotel/w-goa-5850036\", \"summary\": \"Compare hotel prices and find the cheapest price for the W Goa Hotel in Velha Goa. View 0 photos and read 0 reviews. Hotel? trivago!\", \"query\": \"uuwbegoa\"}]}\"\"\"\n",
    "resultJSON2 = \"\"\"{\"query\": \"##%^$%##\", \"redirect\": \"##%^$%##\", \"q_result\": []}\"\"\"\n",
    "\n",
    "print(search_db(\"#%^$%##\",DBNames.Google_TableName.value))\n",
    "# insert_db(resultJSON,DBNames.Google_TableName.value)\n",
    "\n"
   ]
  },
  {
   "cell_type": "markdown",
   "metadata": {},
   "source": [
    "# 【工具类】DBController"
   ]
  },
  {
   "cell_type": "markdown",
   "metadata": {},
   "source": [
    "## 初始化用到的配置信息"
   ]
  },
  {
   "cell_type": "code",
   "execution_count": 48,
   "metadata": {
    "ExecuteTime": {
     "end_time": "2019-04-08T11:15:25.834588Z",
     "start_time": "2019-04-08T11:15:25.816577Z"
    }
   },
   "outputs": [],
   "source": [
    "from enum import Enum, unique\n",
    "import sqlite3\n",
    "import time\n",
    "import json\n",
    "@unique\n",
    "class DBNames(Enum):\n",
    "    DBName = \"AggSearchServer.db\"\n",
    "    Google_TableName = \"GOOGLE_RES\"\n",
    "    Wiki_TableName = \"WIKI_RES\"\n",
    "    Google_TableStruct = \"\"\"\n",
    "            query TEXT PRIMARY Key,\n",
    "            redirectW TEXT,\n",
    "            result TEXT\"\"\""
   ]
  },
  {
   "cell_type": "markdown",
   "metadata": {},
   "source": [
    "## 类定义"
   ]
  },
  {
   "cell_type": "code",
   "execution_count": 49,
   "metadata": {
    "ExecuteTime": {
     "end_time": "2019-04-08T11:15:34.317502Z",
     "start_time": "2019-04-08T11:15:34.266671Z"
    },
    "code_folding": [
     2
    ]
   },
   "outputs": [],
   "source": [
    "import sqlite3\n",
    "import time\n",
    "class DBController():\n",
    "    \n",
    "    def __init__(self):\n",
    "        self.conn = None\n",
    "    \n",
    "    def connect(self,db):\n",
    "        self.conn = sqlite3.connect(db)\n",
    "    \n",
    "    def close(self,):\n",
    "        self.conn.close()\n",
    "    \n",
    "    def checkAndInitTable(self,tableName, tableStructure, clearHistory=False):\n",
    "        c = self.conn.cursor()\n",
    "\n",
    "        c.execute(\"SELECT name FROM sqlite_master WHERE type='table'\")\n",
    "        Tables = [i[0] for i in c.fetchall()]\n",
    "        print(f\"当前所有表：{Tables}\")\n",
    "\n",
    "        # check \n",
    "        if DBNames.Google_TableName.value in Tables:\n",
    "            if clearHistory:\n",
    "                c.execute(f\"ALTER TABLE {tableName} RENAME TO {tableName}_old\")\n",
    "                print(f\"【原表存在】 更名：{tableName} --> {tableName}_old\")\n",
    "            else:\n",
    "                print(f\"【原表存在】直接使用\")\n",
    "        else:\n",
    "            print(f\"【原表不存在】 创建\")\n",
    "            command = f\"\"\"CREATE TABLE {tableName}({tableStructure})\"\"\"\n",
    "            c.execute(command)\n",
    "\n",
    "        # log\n",
    "        c.execute(f\"PRAGMA table_info({tableName})\")\n",
    "        print(\">>> 完整表字段信息如下：\")\n",
    "        for i in c.fetchall(): print(i)\n",
    "\n",
    "        # close\n",
    "        c.close()\n",
    "        self.conn.commit()\n",
    "        return None\n",
    "\n",
    "    def dropTable(self,tableName):\n",
    "        print(f\"【WARN】 将删除table {tableName}\")\n",
    "        time.sleep(30)\n",
    "        c = self.conn.cursor()\n",
    "        c.execute(f\"DROP TABLE {tableName}\")\n",
    "        c.close()\n",
    "        self.conn.commit()\n",
    "        # dropTable(DBNames.Google_TableName.value)\n",
    "        return None\n",
    "    \n",
    "    def search_db(self,query,tableName):\n",
    "        c = self.conn.cursor()\n",
    "        c.execute(f\"SELECT * FROM {tableName} where query=?\",(query,))\n",
    "        res = c.fetchall()\n",
    "        resultJSON = None # 默认（未查到）值为None\n",
    "        if(len(res)>0):\n",
    "            (query,redirectW,result) = res[0]\n",
    "            result_dictArr = json.loads(result)\n",
    "            c.close()\n",
    "            self.conn.commit()\n",
    "            resultJSON = json.dumps({\"query\":query,\"redirect\":redirectW,\"q_result\":result_dictArr})\n",
    "        return resultJSON\n",
    "\n",
    "    def insert_db(self,resultJSON,tableName):\n",
    "        c = self.conn.cursor()\n",
    "        jsonDict = json.loads(resultJSON)\n",
    "        query = jsonDict['query']\n",
    "        redirectW = jsonDict['redirect']\n",
    "        result = json.dumps(jsonDict['q_result'])\n",
    "        c.execute(f\"insert into {tableName} values (?,?,?)\",(query,redirectW,result))# query redirect result\n",
    "        c.close()\n",
    "        self.conn.commit()\n",
    "        return None\n"
   ]
  },
  {
   "cell_type": "markdown",
   "metadata": {},
   "source": [
    "## 使用"
   ]
  },
  {
   "cell_type": "code",
   "execution_count": 50,
   "metadata": {
    "ExecuteTime": {
     "end_time": "2019-04-08T11:16:17.754902Z",
     "start_time": "2019-04-08T11:16:17.737250Z"
    }
   },
   "outputs": [
    {
     "name": "stdout",
     "output_type": "stream",
     "text": [
      "当前所有表：['GOOGLE_RES_old', 'GOOGLE_RES']\n",
      "【原表存在】直接使用\n",
      ">>> 完整表字段信息如下：\n",
      "(0, 'query', 'TEXT', 0, None, 1)\n",
      "(1, 'redirectW', 'TEXT', 0, None, 0)\n",
      "(2, 'result', 'TEXT', 0, None, 0)\n"
     ]
    }
   ],
   "source": [
    "dbc = DBController()\n",
    "dbc.connect(DBNames.DBName.value)\n",
    "# 检查表是否存在\n",
    "dbc.checkAndInitTable(DBNames.Google_TableName.value, DBNames.Google_TableStruct.value,clearHistory=False)"
   ]
  },
  {
   "cell_type": "code",
   "execution_count": null,
   "metadata": {},
   "outputs": [],
   "source": [
    "# 插入数据\n",
    "dbc.insert_db"
   ]
  },
  {
   "cell_type": "code",
   "execution_count": 54,
   "metadata": {
    "ExecuteTime": {
     "end_time": "2019-04-08T11:17:29.242306Z",
     "start_time": "2019-04-08T11:17:29.227016Z"
    }
   },
   "outputs": [
    {
     "name": "stdout",
     "output_type": "stream",
     "text": [
      "{\"query\": \"uuwbegoa\", \"redirect\": \"w goa\", \"q_result\": [{\"title\": \"Luxury Boutique Hotel in Bardez - Goa | W Goa - Marriott.com\", \"link\": \"https://www.marriott.com/hotels/travel/goiwh-w-goa/\", \"summary\": \" Rating: 4.1 - \\u200e34 votesVagator Beach, Bardez - Goa 403509 India. ... W Goa - The Best Luxury Beach Resort in Goa. ... W Goa captures the rustic and dramatic landscape of Goa as well as its cosmopolitan, multi-cultural vibe, injecting Vagator with the exuberant spirit uniquely known to W Hotels.\\u200eRooms \\u00b7\\u00a0\\u200eHotel Details \\u00b7\\u00a0\\u200ePhotos \\u00b7\\u00a0\\u200eVagator Beach, Bardez - Goa ...\", \"query\": \"uuwbegoa\"}, {\"title\": \"Hotel Rooms & Amenities | W Goa - Marriott Hotels\", \"link\": \"https://www.marriott.com/hotels/hotel-rooms/goiwh-w-goa/\", \"summary\": \"Browse hotel room details for W Goa. You'll be delighted with our Bardez - Goa hotel room options.\", \"query\": \"uuwbegoa\"}, {\"title\": \"Resort W Goa, Vagator, India - Booking.com\", \"link\": \"https://www.booking.com/hotel/in/w-retreat-spa-goa.html\", \"summary\": \" Rating: 8.6/10 - \\u200e599 reviews - \\u200ePrice range: Prices for upcoming dates start at $152 per night (We Price Match)Offering a spa center and sauna and 24-hour concierge service, W Goa is set in Vagator.\", \"query\": \"uuwbegoa\"}, {\"title\": \"W GOA (Vagator) - Updated 2019 Prices, Hotel Reviews & Photos ...\", \"link\": \"https://www.tripadvisor.in/Hotel_Review-g1204883-d10679217-Reviews-W_Goa-Vagator_North_Goa_District_Goa.html\", \"summary\": \" Rating: 4.5 - \\u200e791 reviews - \\u200ePrice range: \\u20b9\\u20b9 (Based on Average Nightly Rates for a Standard Room from our Partners)W Goa, Vagator: See 770 traveller reviews, 1183 user photos and best deals for W Goa, ranked #3 of 26 Vagator hotels, rated 4.5 of 5 at TripAdvisor.\", \"query\": \"uuwbegoa\"}, {\"title\": \"Resort W Goa Goa - ( \\u03361\\u03363\\u03365\\u03364\\u03369\\u0336 ) Hotel HD Photos & Reviews\", \"link\": \"https://www.makemytrip.com/hotels/resort_w_goa-details-goa.html\", \"summary\": \" Rating: 4.6 - \\u200e40 reviews - \\u200ePrice range: Resort W Goa Prices for upcoming dates start \\u20b9 13,549/Night - Prices of Resort W Goa will vary based on your dates of travel, Book Now! (Based on Average Rates for a Standard Room)Best Price Guarantee \\u27a4 Book Resort W Goa, Goa online deal and discounts with lowest price on Hotel Booking. Check all guest reviews & photos of Resort W\\u00a0...\", \"query\": \"uuwbegoa\"}, {\"title\": \"Bohemian Whimsy Meets Modern Luxury At The Newly Opened W Goa\", \"link\": \"https://www.forbes.com/sites/debbieyong/2017/03/27/a-first-look-at-the-w-goa-w-hotels-highly-anticipated-india-debut/\", \"summary\": \"Mar 27, 2017 - W Goa marks W Hotels' India debut and its 50th hotel worldwide.\", \"query\": \"uuwbegoa\"}, {\"title\": \"W Goa Hotel Review, India | Travel - The Telegraph\", \"link\": \"https://www.telegraph.co.uk/travel/destinations/asia/india/goa/hotels/w-goa-hotel/\", \"summary\": \" Rating: 8/10 - \\u200eReview by Lee Cobaj - \\u200ePrice range: Rooms from   \\u00a3 162 per nightRead the W Goa, India hotel review on Telegraph Travel. See great photos, full ratings, facilities, expert advice and book the best hotel deals.\", \"query\": \"uuwbegoa\"}, {\"title\": \"W Goa (Vagator) \\u2013 2019 Hotel Prices | Expedia.co.in\", \"link\": \"https://www.expedia.co.in/Goa-Hotels-W-Goa.h15439133.Hotel-Information\", \"summary\": \" Rating: 4.5 - \\u200e44 reviewsResults 1 - 10 of 44 - W Goa - read reviews, look at the photos and get great deals. Book the W Goa with Expedia now and save!\", \"query\": \"uuwbegoa\"}, {\"title\": \"W GOA - Home | Facebook\", \"link\": \"https://www.facebook.com/wgoa1/\", \"summary\": \"W GOA, Goa, India. 53K likes. The Next best thing to happen to India!\", \"query\": \"uuwbegoa\"}, {\"title\": \"Hotel W Goa, Velha Goa - trivago.in\", \"link\": \"https://www.trivago.in/velha-goa-446949/hotel/w-goa-5850036\", \"summary\": \"Compare hotel prices and find the cheapest price for the W Goa Hotel in Velha Goa. View 0 photos and read 0 reviews. Hotel? trivago!\", \"query\": \"uuwbegoa\"}]}\n"
     ]
    }
   ],
   "source": [
    "# 查询数据\n",
    "print(dbc.search_db(\"uuwbegoa\",DBNames.Google_TableName.value))"
   ]
  },
  {
   "cell_type": "code",
   "execution_count": null,
   "metadata": {},
   "outputs": [],
   "source": []
  }
 ],
 "metadata": {
  "celltoolbar": "Initialization Cell",
  "kernelspec": {
   "display_name": "Python 3",
   "language": "python",
   "name": "python3"
  },
  "language_info": {
   "codemirror_mode": {
    "name": "ipython",
    "version": 3
   },
   "file_extension": ".py",
   "mimetype": "text/x-python",
   "name": "python",
   "nbconvert_exporter": "python",
   "pygments_lexer": "ipython3",
   "version": "3.6.7"
  },
  "toc": {
   "base_numbering": 1,
   "nav_menu": {},
   "number_sections": true,
   "sideBar": true,
   "skip_h1_title": false,
   "title_cell": "Table of Contents",
   "title_sidebar": "Contents",
   "toc_cell": false,
   "toc_position": {},
   "toc_section_display": true,
   "toc_window_display": true
  }
 },
 "nbformat": 4,
 "nbformat_minor": 2
}
