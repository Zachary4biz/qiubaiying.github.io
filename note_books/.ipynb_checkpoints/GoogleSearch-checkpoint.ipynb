{
 "cells": [
  {
   "cell_type": "code",
   "execution_count": 3,
   "metadata": {
    "ExecuteTime": {
     "end_time": "2019-03-28T10:38:31.011784Z",
     "start_time": "2019-03-28T10:38:30.980675Z"
    },
    "init_cell": true
   },
   "outputs": [],
   "source": [
    "from IPython.core.interactiveshell import InteractiveShell\n",
    "InteractiveShell.ast_node_interactivity = \"all\"\n",
    "%matplotlib inline\n",
    "from tqdm import tqdm_notebook\n",
    "import concurrent.futures\n",
    "from multiprocessing import Pool"
   ]
  },
  {
   "cell_type": "code",
   "execution_count": 4,
   "metadata": {
    "ExecuteTime": {
     "end_time": "2019-03-28T10:38:31.027573Z",
     "start_time": "2019-03-28T10:38:31.017331Z"
    },
    "init_cell": true
   },
   "outputs": [],
   "source": [
    "from selenium import webdriver\n",
    "from selenium.webdriver.common.desired_capabilities import DesiredCapabilities\n",
    "from selenium.webdriver.support.ui import WebDriverWait\n",
    "import random"
   ]
  },
  {
   "cell_type": "markdown",
   "metadata": {},
   "source": [
    "# 初始化代理ip池"
   ]
  },
  {
   "cell_type": "markdown",
   "metadata": {},
   "source": [
    "## 获取国外ip"
   ]
  },
  {
   "cell_type": "code",
   "execution_count": null,
   "metadata": {
    "ExecuteTime": {
     "end_time": "2019-03-28T04:46:54.179105Z",
     "start_time": "2019-03-28T04:46:53.139615Z"
    }
   },
   "outputs": [],
   "source": [
    "import requests\n",
    "from bs4 import BeautifulSoup\n",
    "res = requests.get(\"https://free-proxy-list.net/\")\n",
    "soup = BeautifulSoup(res.text)\n",
    "ip_address = [i.text for i in soup.select(\"#proxylisttable td:nth-child(1)\")]\n",
    "ip_port = [i.text for i in soup.select(\"#proxylisttable td:nth-child(2)\")]\n",
    "ip_pool = list(zip(ip_address,ip_port))\n",
    "len(ip_pool)\n",
    "ip_pool[:3]\n",
    "ip_pool[-3:]"
   ]
  },
  {
   "cell_type": "markdown",
   "metadata": {},
   "source": [
    "## 筛选可用ip"
   ]
  },
  {
   "cell_type": "code",
   "execution_count": null,
   "metadata": {
    "ExecuteTime": {
     "end_time": "2019-03-28T07:02:47.327079Z",
     "start_time": "2019-03-28T07:02:34.465951Z"
    }
   },
   "outputs": [],
   "source": [
    "import telnetlib\n",
    "ip_pool_=ip_pool[:20] # 总计有300多个ip\n",
    "def isUseful(ip,port,timeout=5):\n",
    "    try:\n",
    "        telnetlib.Telnet(ip, port=port, timeout=timeout)\n",
    "    except:\n",
    "        return False\n",
    "    else:\n",
    "        return True\n",
    "\n",
    "def mapFunc(i):\n",
    "    return list(i)+[isUseful(i[0],i[1],10)]\n",
    "with Pool(4) as p:\n",
    "      ip_pool_withStatus = list(tqdm_notebook(p.imap(mapFunc, ip_pool_), total=len(ip_pool_)))\n",
    "\n",
    "ip_pool_available = [i for i in ip_pool_withStatus if i[-1]] \n",
    "print(\"可用ip有 %s 个\" % len(ip_pool_available))\n",
    "ip_pool_available[:2]\n",
    "ip_pool_available[-2:]"
   ]
  },
  {
   "cell_type": "markdown",
   "metadata": {},
   "source": [
    "## 随机ip初始化webdriver"
   ]
  },
  {
   "cell_type": "code",
   "execution_count": null,
   "metadata": {
    "ExecuteTime": {
     "end_time": "2019-03-28T07:03:26.876794Z",
     "start_time": "2019-03-28T07:03:19.318732Z"
    },
    "scrolled": true
   },
   "outputs": [],
   "source": [
    "def initDriver(service_args=[],timeout=5):\n",
    "    driver = webdriver.PhantomJS(service_args=service_args)\n",
    "    driver.set_page_load_timeout(timeout)\n",
    "    driver.set_script_timeout(timeout)\n",
    "    return driver\n",
    "\n",
    "    \n",
    "proxy = \":\".join(random.choice(ip_pool_available)[:2])\n",
    "print(\"使用代理: %s\" % proxy)\n",
    "service_args = ['--proxy=%s'% proxy,'--load-images=false']\n",
    "driver = initDriver(service_args,6)\n",
    "driver.get('http://httpbin.org/ip')\n",
    "print(\"检查代理是否生效,当前ip为: %s\" % driver.find_element_by_tag_name(\"body\").text)"
   ]
  },
  {
   "cell_type": "markdown",
   "metadata": {},
   "source": [
    "# 暂不考虑代理ip，先进行后续流程"
   ]
  },
  {
   "cell_type": "code",
   "execution_count": 37,
   "metadata": {
    "ExecuteTime": {
     "end_time": "2019-03-28T12:03:27.208701Z",
     "start_time": "2019-03-28T12:03:24.717293Z"
    }
   },
   "outputs": [
    {
     "data": {
      "text/plain": [
       "True"
      ]
     },
     "execution_count": 37,
     "metadata": {},
     "output_type": "execute_result"
    },
    {
     "data": {
      "text/plain": [
       "209330"
      ]
     },
     "execution_count": 37,
     "metadata": {},
     "output_type": "execute_result"
    }
   ],
   "source": [
    "service_args = ['--load-images=false']\n",
    "dcap = dict(DesiredCapabilities.PHANTOMJS)\n",
    "dcap[\"phantomjs.page.settings.userAgent\"] = (\"Mozilla/5.0 (Macintosh; Intel Mac OS X 10_12_6) AppleWebKit/537.36 (KHTML, like Gecko) Chrome/72.0.3626.121 Safari/537.36\")\n",
    "driver = webdriver.PhantomJS(service_args=service_args,desired_capabilities=dcap)\n",
    "driver.implicitly_wait(15)\n",
    "driver.get(\"https://www.google.com\")\n",
    "\n",
    "driver.save_screenshot('googleInitial.png')\n",
    "with open(\"googleInitial.html\",\"w+\") as f: f.write(driver.page_source)"
   ]
  },
  {
   "cell_type": "code",
   "execution_count": 48,
   "metadata": {
    "ExecuteTime": {
     "end_time": "2019-03-28T12:18:49.230727Z",
     "start_time": "2019-03-28T12:18:45.539984Z"
    },
    "scrolled": true
   },
   "outputs": [
    {
     "data": {
      "text/plain": [
       "True"
      ]
     },
     "execution_count": 48,
     "metadata": {},
     "output_type": "execute_result"
    },
    {
     "data": {
      "text/plain": [
       "'<input class=\"gLFyf gsfi\" maxlength=\"2048\" name=\"q\" type=\"text\" jsaction=\"paste:puy29d\" aria-autocomplete=\"both\" aria-haspopup=\"false\" autocapitalize=\"off\" autocomplete=\"off\" autocorrect=\"off\" role=\"combobox\" spellcheck=\"false\" title=\"Search\" value=\"\" aria-label=\"Search\">'"
      ]
     },
     "execution_count": 48,
     "metadata": {},
     "output_type": "execute_result"
    },
    {
     "data": {
      "text/plain": [
       "True"
      ]
     },
     "execution_count": 48,
     "metadata": {},
     "output_type": "execute_result"
    },
    {
     "data": {
      "text/plain": [
       "True"
      ]
     },
     "execution_count": 48,
     "metadata": {},
     "output_type": "execute_result"
    },
    {
     "data": {
      "text/plain": [
       "True"
      ]
     },
     "execution_count": 48,
     "metadata": {},
     "output_type": "execute_result"
    }
   ],
   "source": [
    "driver.get(\"https://www.google.com\")\n",
    "inputElement = driver.find_element_by_id(\"main\").find_element_by_xpath(\"\"\"//*[@id=\"tsf\"]/div[2]/div[1]/div[1]/div/div[1]/input\"\"\")\n",
    "inputElement.screenshot(\"fil.png\")\n",
    "inputElement.get_attribute(\"outerHTML\")\n",
    "inputElement.click()\n",
    "inputElement.send_keys(\"China\")\n",
    "inputElement.screenshot(\"fil2.png\")\n",
    "driver.save_screenshot(\"send_keys.png\")\n",
    "driver.find_element_by_xpath(\"\"\"//*[@id=\"tsf\"]/div[2]/div/div[3]/center/input[1]\"\"\").click()\n",
    "driver.save_screenshot(\"search.png\")"
   ]
  },
  {
   "cell_type": "code",
   "execution_count": 54,
   "metadata": {
    "ExecuteTime": {
     "end_time": "2019-03-28T12:25:57.145931Z",
     "start_time": "2019-03-28T12:25:57.010550Z"
    }
   },
   "outputs": [
    {
     "data": {
      "text/plain": [
       "532156"
      ]
     },
     "execution_count": 54,
     "metadata": {},
     "output_type": "execute_result"
    }
   ],
   "source": [
    "with open(\"googleSearchedResult.html\",\"w+\") as f:\n",
    "    f.write(driver.page_source)"
   ]
  },
  {
   "cell_type": "markdown",
   "metadata": {},
   "source": [
    "## DOM树递进查找\n",
    "\n",
    "### 查找到class为g的div\n",
    "- id为rso的最外层div\n",
    "    - class为g的直接子节点\n",
    "    - 没有为g的直接子节点，则找为srg的直接子节点\n",
    "        - class为g的直接子节点"
   ]
  },
  {
   "cell_type": "code",
   "execution_count": 79,
   "metadata": {
    "ExecuteTime": {
     "end_time": "2019-03-28T13:22:27.688488Z",
     "start_time": "2019-03-28T13:21:12.301852Z"
    },
    "scrolled": false
   },
   "outputs": [
    {
     "name": "stdout",
     "output_type": "stream",
     "text": [
      "> rso下的div有 5 个\n",
      ">> 包含g标签的div有 3 个\n",
      ">>> 包含g标签的div中准确的有 8 个\n"
     ]
    }
   ],
   "source": [
    "divs=driver.find_elements_by_xpath(\"\"\"//*[@id=\"rso\"]/div\"\"\")\n",
    "print(\"> rso下的div有 %s 个\" % len(divs))\n",
    "divs_target = [part for part in parts if len(part.find_elements_by_class_name(\"g\"))>0]\n",
    "print(\">> 包含g标签的div有 %s 个\" % len(divs_target))\n",
    "\n",
    "# 第一层子节点查找\"g\"，没有则进入\"srg\"查找”g\"，查找结果直接返回\n",
    "def find_g(element):\n",
    "    result = element.find_elements_by_xpath(\"./div[@class='g']\")\n",
    "    if(len(result)==0):\n",
    "        srg = element.find_elements_by_xpath(\"./div[@class='srg']\")\n",
    "        if(len(srg)>0):\n",
    "            result = srg[0].find_elements_by_xpath(\"./div[@class='g']\")\n",
    "    return result\n",
    "\n",
    "divs_g = []\n",
    "for i in divs_target:\n",
    "    findRes=find_g(i)\n",
    "    if(len(findRes)>0):\n",
    "        divs_g.extend(findRes)\n",
    "print(\">>> 包含g标签的div中准确的有 %s 个\" % len(divs_g))\n",
    "\n"
   ]
  },
  {
   "cell_type": "markdown",
   "metadata": {},
   "source": [
    "### 在class为g的div中继续查找标题、链接、简介"
   ]
  },
  {
   "cell_type": "code",
   "execution_count": 90,
   "metadata": {
    "ExecuteTime": {
     "end_time": "2019-03-28T13:26:37.503039Z",
     "start_time": "2019-03-28T13:26:36.653950Z"
    }
   },
   "outputs": [
    {
     "name": "stdout",
     "output_type": "stream",
     "text": [
      ">>>> 搜索结果第一个展示：\n",
      "China - Wikipedia\n",
      "https://en.wikipedia.org/wiki/China\n",
      "China, officially the People's Republic of China (PRC), is a country in East Asia and the world's most populous country, with a population of around 1.404 billion.\n",
      "Official languages: Standard Chinese Government: Unitary Marxist-Leninist one-party ...\n",
      "Largest city: Shanghai Calling code: +86\n",
      "Government of China · Communist Party of China · Republic of China (1912–1949)\n",
      ">>>> 搜索结果最后一个展示：\n",
      "China | South China Morning Post\n",
      "https://www.scmp.com/news/china\n",
      "The latest breaking news from China. ... The lack of a Chinese-language version of what the US side is asking for. US-China trade deal 'complicated by verbal ...\n"
     ]
    }
   ],
   "source": [
    "def find_result(element):\n",
    "    a_el = element.find_element_by_xpath(\".//div[@class='r']\").find_element_by_tag_name(\"a\")\n",
    "    title = a_el.find_element_by_xpath(\".//h3[@class='LC20lb']\").text\n",
    "    link = a_el.get_attribute(\"href\")\n",
    "    summary = element.find_element_by_xpath(\".//div[@class='s']\").text\n",
    "    return [title,link,summary]\n",
    "result = [find_result(i) for i in divs_g]\n",
    "print(\">>>> 搜索结果第一个展示：\\n\"+\"\\n\".join(result[0]))\n",
    "print(\">>>> 搜索结果最后一个展示：\\n\"+\"\\n\".join(result[-1]))"
   ]
  },
  {
   "cell_type": "code",
   "execution_count": null,
   "metadata": {},
   "outputs": [],
   "source": [
    "driver.close()"
   ]
  }
 ],
 "metadata": {
  "celltoolbar": "Initialization Cell",
  "kernelspec": {
   "display_name": "Python 3",
   "language": "python",
   "name": "python3"
  },
  "language_info": {
   "codemirror_mode": {
    "name": "ipython",
    "version": 3
   },
   "file_extension": ".py",
   "mimetype": "text/x-python",
   "name": "python",
   "nbconvert_exporter": "python",
   "pygments_lexer": "ipython3",
   "version": "3.6.7"
  },
  "toc": {
   "base_numbering": 1,
   "nav_menu": {},
   "number_sections": true,
   "sideBar": true,
   "skip_h1_title": false,
   "title_cell": "Table of Contents",
   "title_sidebar": "Contents",
   "toc_cell": false,
   "toc_position": {
    "height": "calc(100% - 180px)",
    "left": "10px",
    "top": "150px",
    "width": "175px"
   },
   "toc_section_display": true,
   "toc_window_display": true
  }
 },
 "nbformat": 4,
 "nbformat_minor": 2
}
