{
 "cells": [
  {
   "cell_type": "code",
   "execution_count": 106,
   "metadata": {
    "ExecuteTime": {
     "end_time": "2019-03-29T01:58:11.651469Z",
     "start_time": "2019-03-29T01:58:11.361352Z"
    },
    "init_cell": true
   },
   "outputs": [],
   "source": [
    "from IPython.core.interactiveshell import InteractiveShell\n",
    "InteractiveShell.ast_node_interactivity = \"all\"\n",
    "%matplotlib inline\n",
    "from tqdm import tqdm_notebook\n",
    "import concurrent.futures\n",
    "from multiprocessing import Pool"
   ]
  },
  {
   "cell_type": "code",
   "execution_count": 266,
   "metadata": {
    "ExecuteTime": {
     "end_time": "2019-03-29T07:12:39.351731Z",
     "start_time": "2019-03-29T07:12:39.337675Z"
    },
    "init_cell": true
   },
   "outputs": [],
   "source": [
    "from selenium import webdriver\n",
    "from selenium.webdriver.common.desired_capabilities import DesiredCapabilities\n",
    "from selenium.webdriver.support.ui import WebDriverWait\n",
    "import random\n",
    "import json\n",
    "import itertools"
   ]
  },
  {
   "cell_type": "code",
   "execution_count": 129,
   "metadata": {
    "ExecuteTime": {
     "end_time": "2019-03-29T02:24:15.204745Z",
     "start_time": "2019-03-29T02:24:15.188815Z"
    }
   },
   "outputs": [
    {
     "data": {
      "text/plain": [
       "'linux'"
      ]
     },
     "execution_count": 129,
     "metadata": {},
     "output_type": "execute_result"
    },
    {
     "data": {
      "text/plain": [
       "'3.6.7 (default, Dec 11 2018, 07:12:38) \\n[GCC 4.8.5 20150623 (Red Hat 4.8.5-36)]'"
      ]
     },
     "execution_count": 129,
     "metadata": {},
     "output_type": "execute_result"
    }
   ],
   "source": [
    "import sys\n",
    "sys.platform\n",
    "sys.version"
   ]
  },
  {
   "cell_type": "markdown",
   "metadata": {},
   "source": [
    "# 初始化代理ip池"
   ]
  },
  {
   "cell_type": "markdown",
   "metadata": {},
   "source": [
    "## 获取国外ip"
   ]
  },
  {
   "cell_type": "code",
   "execution_count": 271,
   "metadata": {
    "ExecuteTime": {
     "end_time": "2019-03-29T07:14:35.101545Z",
     "start_time": "2019-03-29T07:14:34.348752Z"
    }
   },
   "outputs": [
    {
     "data": {
      "text/plain": [
       "300"
      ]
     },
     "execution_count": 271,
     "metadata": {},
     "output_type": "execute_result"
    },
    {
     "data": {
      "text/plain": [
       "[('128.199.222.84', '8080'),\n",
       " ('128.199.161.65', '443'),\n",
       " ('138.197.155.142', '80')]"
      ]
     },
     "execution_count": 271,
     "metadata": {},
     "output_type": "execute_result"
    },
    {
     "data": {
      "text/plain": [
       "[('31.170.51.40', '80'), ('5.202.101.207', '80'), ('185.108.141.74', '8080')]"
      ]
     },
     "execution_count": 271,
     "metadata": {},
     "output_type": "execute_result"
    }
   ],
   "source": [
    "import requests\n",
    "from bs4 import BeautifulSoup\n",
    "res = requests.get(\"https://free-proxy-list.net/\")\n",
    "soup = BeautifulSoup(res.text)\n",
    "ip_address = [i.text for i in soup.select(\"#proxylisttable td:nth-child(1)\")]\n",
    "ip_port = [i.text for i in soup.select(\"#proxylisttable td:nth-child(2)\")]\n",
    "ip_pool = list(zip(ip_address,ip_port))\n",
    "len(ip_pool)\n",
    "ip_pool[:3]\n",
    "ip_pool[-3:]\n"
   ]
  },
  {
   "cell_type": "markdown",
   "metadata": {},
   "source": [
    "### 筛选多个可用ip"
   ]
  },
  {
   "cell_type": "code",
   "execution_count": 254,
   "metadata": {
    "ExecuteTime": {
     "end_time": "2019-03-29T06:53:34.258377Z",
     "start_time": "2019-03-29T06:53:33.362818Z"
    },
    "scrolled": true
   },
   "outputs": [
    {
     "data": {
      "application/vnd.jupyter.widget-view+json": {
       "model_id": "573afa3b401340268b7c697195007a2d",
       "version_major": 2,
       "version_minor": 0
      },
      "text/plain": [
       "HBox(children=(IntProgress(value=0, max=20), HTML(value='')))"
      ]
     },
     "metadata": {},
     "output_type": "display_data"
    },
    {
     "name": "stdout",
     "output_type": "stream",
     "text": [
      "\n",
      "可用ip有 20 个\n"
     ]
    },
    {
     "data": {
      "text/plain": [
       "[['128.199.222.84', '8080', True], ['128.199.161.65', '443', True]]"
      ]
     },
     "execution_count": 254,
     "metadata": {},
     "output_type": "execute_result"
    },
    {
     "data": {
      "text/plain": [
       "[['157.230.57.57', '8080', True], ['45.55.46.222', '8080', True]]"
      ]
     },
     "execution_count": 254,
     "metadata": {},
     "output_type": "execute_result"
    }
   ],
   "source": [
    "import telnetlib\n",
    "ip_pool_=ip_pool[:20] # 总计有300多个ip\n",
    "def isUseful(ip,port,timeout=2):\n",
    "    try:\n",
    "        telnetlib.Telnet(ip, port=port, timeout=timeout)\n",
    "    except:\n",
    "        return False\n",
    "    else:\n",
    "        return True\n",
    "\n",
    "def mapFunc(i):\n",
    "    return list(i)+[isUseful(i[0],i[1],2)]\n",
    "with Pool(4) as p:\n",
    "      ip_pool_withStatus = list(tqdm_notebook(p.imap(mapFunc, ip_pool_), total=len(ip_pool_)))\n",
    "\n",
    "ip_pool_available = [i for i in ip_pool_withStatus if i[-1]] \n",
    "print(\"可用ip有 %s 个\" % len(ip_pool_available))\n",
    "ip_pool_available[:2]\n",
    "ip_pool_available[-2:]"
   ]
  },
  {
   "cell_type": "markdown",
   "metadata": {},
   "source": [
    "### 筛选一个可用代理\n",
    "- 如何适配多线程？"
   ]
  },
  {
   "cell_type": "code",
   "execution_count": 272,
   "metadata": {
    "ExecuteTime": {
     "end_time": "2019-03-29T07:14:52.683160Z",
     "start_time": "2019-03-29T07:14:52.484422Z"
    }
   },
   "outputs": [
    {
     "data": {
      "text/plain": [
       "'128.199.222.84:8080'"
      ]
     },
     "execution_count": 272,
     "metadata": {},
     "output_type": "execute_result"
    }
   ],
   "source": [
    "ip_iter = iter(ip_pool)\n",
    "def isUseful(ip,port,timeout=2):\n",
    "    try:\n",
    "        telnetlib.Telnet(ip, port=port, timeout=timeout)\n",
    "    except:\n",
    "        return False\n",
    "    else:\n",
    "        return True\n",
    "def getAvailableProxy():\n",
    "    t = next(ip_iter)\n",
    "    try:\n",
    "        while(not isUseful(t[0],t[1])):\n",
    "            t = next(a)\n",
    "    except StopIteration as e:\n",
    "        t = []\n",
    "#     print(\"可用的为: \",\":\".join(t))\n",
    "    return \":\".join(t)\n",
    "\n",
    "ip = getAvailableProxy()\n",
    "ip"
   ]
  },
  {
   "cell_type": "markdown",
   "metadata": {},
   "source": [
    "## 随机ip初始化webdriver"
   ]
  },
  {
   "cell_type": "code",
   "execution_count": 111,
   "metadata": {
    "ExecuteTime": {
     "end_time": "2019-03-29T01:59:18.369757Z",
     "start_time": "2019-03-29T01:59:16.424528Z"
    },
    "scrolled": true
   },
   "outputs": [
    {
     "name": "stdout",
     "output_type": "stream",
     "text": [
      "使用代理: 47.74.8.220:3128\n",
      "检查代理是否生效,当前ip为: {\n",
      "  \"origin\": \"47.74.8.220, 47.74.8.220\"\n",
      "}\n"
     ]
    }
   ],
   "source": [
    "def initDriver(service_args=[],timeout=5):\n",
    "    driver = webdriver.PhantomJS(service_args=service_args)\n",
    "    driver.set_page_load_timeout(timeout)\n",
    "    driver.set_script_timeout(timeout)\n",
    "    return driver\n",
    "\n",
    "    \n",
    "proxy = \":\".join(random.choice(ip_pool_available)[:2])\n",
    "print(\"使用代理: %s\" % proxy)\n",
    "service_args = ['--proxy=%s'% proxy,'--load-images=false']\n",
    "driver = initDriver(service_args,6)\n",
    "try:\n",
    "    driver.get('http://httpbin.org/ip')\n",
    "except Exception as e:\n",
    "    print(e.message)\n",
    "    \n",
    "print(\"检查代理是否生效,当前ip为: %s\" % driver.find_element_by_tag_name(\"body\").text)"
   ]
  },
  {
   "cell_type": "markdown",
   "metadata": {},
   "source": [
    "# 方案一、直接拼接搜索页的URL\n",
    "- 注意需从首页获取 Key\n",
    "\n",
    "## 从首页获取Key"
   ]
  },
  {
   "cell_type": "code",
   "execution_count": 259,
   "metadata": {
    "ExecuteTime": {
     "end_time": "2019-03-29T06:54:46.379072Z",
     "start_time": "2019-03-29T06:54:46.281627Z"
    },
    "init_cell": true
   },
   "outputs": [
    {
     "name": "stdout",
     "output_type": "stream",
     "text": [
      ">>> key:\n",
      " NsGdXKbJE-qP0wKix5ngBA\n"
     ]
    }
   ],
   "source": [
    "import requests\n",
    "import re\n",
    "import time\n",
    "from lxml import etree\n",
    "resp = requests.get(\"http://www.google.com\")\n",
    "html = resp.text\n",
    "key = re.search(r\"kEI:\\'(.*?)\\'\", html).group(1)\n",
    "print(\">>> key:\\n\",key)"
   ]
  },
  {
   "cell_type": "markdown",
   "metadata": {},
   "source": [
    "## 拼接query请求搜索页\n",
    "- 请求url并保存html文件（debug用）"
   ]
  },
  {
   "cell_type": "code",
   "execution_count": 270,
   "metadata": {
    "ExecuteTime": {
     "end_time": "2019-03-29T07:13:47.880885Z",
     "start_time": "2019-03-29T07:13:43.669421Z"
    },
    "init_cell": true
   },
   "outputs": [
    {
     "name": "stdout",
     "output_type": "stream",
     "text": [
      ">>> request on url: \n",
      "https://www.google.com/search?source=hp&ei=NsGdXKbJE-qP0wKix5ngBA&q=India\n",
      ">>> use proxy as follow: \n",
      " {'http': '128.199.222.84:8080', 'https': ''}\n",
      ">>> 本机ip:\n",
      " {'origin': '144.34.217.10, 144.34.217.10'}\n",
      ">>> 代理ip:\n",
      " {'origin': 'unknown, 128.199.222.84, 128.199.222.84'}\n",
      ">>> result len: 470680\n"
     ]
    },
    {
     "data": {
      "text/plain": [
       "465135"
      ]
     },
     "execution_count": 270,
     "metadata": {},
     "output_type": "execute_result"
    }
   ],
   "source": [
    "query = \"India\"\n",
    "url = f\"https://www.google.com/search?source=hp&ei={key}&q={query}\"\n",
    "print(\">>> request on url: \\n\"+url)\n",
    "proxies = {\"http\":getAvailableProxy(),\n",
    "           \"https\":getAvailableProxy()}\n",
    "print(\">>> use proxy as follow: \\n\",proxies)\n",
    "print(\">>> 本机ip:\\n\",json.loads(requests.get(\"http://httpbin.org/ip\").text.strip()))\n",
    "print(\">>> 代理ip:\\n\",json.loads(requests.get(\"http://httpbin.org/ip\",proxies=proxies).text.strip()))\n",
    "\n",
    "header = {\"Referer\": \"https://www.google.com/\",\n",
    "          'User-Agent':'Mozilla/5.0 (Macintosh; Intel Mac OS X 10_12_6) AppleWebKit/537.36 (KHTML, like Gecko) Chrome/72.0.3626.121 Safari/537.36'}\n",
    "resp1 = requests.get(url,headers=header,proxies=proxies)\n",
    "html = etree.HTML(resp1.text)\n",
    "print(\">>> result len:\",len(etree.tostring(html).decode()))\n",
    "with open(\"googleSearchResult_request.html\",\"w+\") as f: f.write(resp1.text)"
   ]
  },
  {
   "cell_type": "markdown",
   "metadata": {},
   "source": [
    "## 查找class为g的div"
   ]
  },
  {
   "cell_type": "code",
   "execution_count": 224,
   "metadata": {
    "ExecuteTime": {
     "end_time": "2019-03-29T04:51:13.666267Z",
     "start_time": "2019-03-29T04:51:13.639565Z"
    },
    "init_cell": true,
    "scrolled": false
   },
   "outputs": [
    {
     "name": "stdout",
     "output_type": "stream",
     "text": [
      "目标div有 9 个\n"
     ]
    }
   ],
   "source": [
    "div_rso = html.xpath(\"//div[@id='rso']\")\n",
    "div_bkWMgd = div_rso[0].xpath(\"./div[@class='bkWMgd']\")\n",
    "\n",
    "def find_g(element):\n",
    "    div_g = element.xpath(\"./div[@class='g']\")\n",
    "    if(len(div_g)==0):\n",
    "        div_srg = element.xpath(\"./div[@class='srg']\")\n",
    "        if(len(div_srg)>0):\n",
    "            div_g = div_srg[0].xpath(\"./div[@class='g']\")\n",
    "    return div_g\n",
    "\n",
    "div_g = []\n",
    "for el in div_bkWMgd:\n",
    "    tmp = find_g(el)\n",
    "    if(len(tmp)>0):\n",
    "        div_g.extend(tmp)\n",
    "print(f\"目标div (class为g) 有 {len(div_g)} 个\")"
   ]
  },
  {
   "cell_type": "markdown",
   "metadata": {},
   "source": [
    "## 继续解析class为g的div"
   ]
  },
  {
   "cell_type": "code",
   "execution_count": 225,
   "metadata": {
    "ExecuteTime": {
     "end_time": "2019-03-29T04:51:18.313881Z",
     "start_time": "2019-03-29T04:51:18.289773Z"
    },
    "init_cell": true
   },
   "outputs": [
    {
     "name": "stdout",
     "output_type": "stream",
     "text": [
      ">>>> 搜索结果第一个展示：\n",
      "India - Wikipedia\n",
      "https://en.wikipedia.org/wiki/India\n",
      "India (ISO: Bhārat), also known as the Republic of India (ISO: Bhārat Gaṇarājya), is a country in South Asia. It is the seventh largest country by area and with ...Calling code‎: ‎+91Demonym(s)‎: ‎IndianLargest city‎: ‎Mumbai‎; 18°58′30″N 72°49′4...Currency‎: ‎Indian rupee‎ (‎₹‎) (‎INR‎)‎History · ‎Geography · ‎Biodiversity · ‎Politics and government\n",
      ">>>> 搜索结果最后一个展示：\n",
      "India - Wikitravel\n",
      "https://wikitravel.org/en/India\n",
      "India is the largest country in the South Asia Region, located primarily in the center of South Asia, and shares International borders with Pakistan to the ...Country code‎: ‎+91Capital‎: ‎New DelhiLanguage‎: ‎Hindi, English and 21 other official ...Area‎: ‎total: 3,287,263km²; water: 314,070km²; l...\n"
     ]
    }
   ],
   "source": [
    "def find_result(element):\n",
    "    a_el = element.xpath(\".//div[@class='r']\")[0].xpath(\"a\")[0]\n",
    "    title = a_el.xpath(\".//h3[@class='LC20lb']\")[0].text\n",
    "    link = a_el.attrib[\"href\"]\n",
    "    summary = element.xpath(\".//div[@class='s']\")[0].xpath(\"string(.)\")\n",
    "    return [title,link,summary]\n",
    "result = [find_result(i) for i in div_g]\n",
    "\n",
    "print(\">>>> 搜索结果第一个展示：\\n\"+\"\\n\".join(result[0]))\n",
    "print(\">>>> 搜索结果最后一个展示：\\n\"+\"\\n\".join(result[-1]))"
   ]
  },
  {
   "cell_type": "markdown",
   "metadata": {},
   "source": [
    "## 完整流程"
   ]
  },
  {
   "cell_type": "code",
   "execution_count": 287,
   "metadata": {
    "ExecuteTime": {
     "end_time": "2019-03-29T08:08:13.797697Z",
     "start_time": "2019-03-29T08:08:10.255201Z"
    },
    "code_folding": [
     4,
     19,
     27,
     35,
     42
    ],
    "scrolled": false
   },
   "outputs": [
    {
     "data": {
      "application/vnd.jupyter.widget-view+json": {
       "model_id": "eccaa635db844731aea70b6f86d512a5",
       "version_major": 2,
       "version_minor": 0
      },
      "text/plain": [
       "HBox(children=(IntProgress(value=0, max=1), HTML(value='')))"
      ]
     },
     "metadata": {},
     "output_type": "display_data"
    },
    {
     "name": "stdout",
     "output_type": "stream",
     "text": [
      "current query at BJP\n",
      ">>> request on url: \n",
      "https://www.google.com/search?source=hp&ei=atKdXO3kHMma0gL786qIBg&q=BJP\n",
      ">>> use proxy as follow: \n",
      " {'http': '', 'https': '122.154.151.27:52187'}\n",
      ">>> 本机ip:\n",
      " {'origin': '144.34.217.10, 144.34.217.10'}\n",
      ">>> 代理ip:\n",
      " {'origin': '144.34.217.10, 144.34.217.10'}\n",
      ">>> result len: 436516\n",
      "目标div (class为g) 有 8 个\n",
      "\n"
     ]
    }
   ],
   "source": [
    "import requests\n",
    "import re\n",
    "import time\n",
    "from lxml import etree\n",
    "def getKey():\n",
    "    resp = requests.get(\"http://www.google.com\")\n",
    "    html = resp.text\n",
    "    key = re.search(r\"kEI:\\'(.*?)\\'\", html).group(1)\n",
    "    return key\n",
    "\n",
    "def search(query,key,verbose=False):\n",
    "    url = f\"https://www.google.com/search?source=hp&ei={key}&q={query}\"\n",
    "    print(\">>> request on url: \\n\"+url)\n",
    "    proxies = {\"http\":getAvailableProxy(),\n",
    "               \"https\":getAvailableProxy()}\n",
    "    print(\">>> use proxy as follow: \\n\",proxies)\n",
    "    print(\">>> 本机ip:\\n\",json.loads(requests.get(\"http://httpbin.org/ip\").text.strip()))\n",
    "    print(\">>> 代理ip:\\n\",json.loads(requests.get(\"http://httpbin.org/ip\",proxies=proxies).text.strip()))\n",
    "\n",
    "    header = {\"Referer\": \"https://www.google.com/\",\n",
    "              'User-Agent':'Mozilla/5.0 (Macintosh; Intel Mac OS X 10_12_6) AppleWebKit/537.36 (KHTML, like Gecko) Chrome/72.0.3626.121 Safari/537.36'}\n",
    "#     resp1 = requests.get(url,headers=header,proxies=proxies)\n",
    "    resp1 = requests.get(url,headers=header)\n",
    "    print(\">>> result len:\",len(resp1.text))\n",
    "    if(verbose):\n",
    "        with open(\"googleSearchResult_request.html\",\"w+\") as f: f.write(resp1.text)\n",
    "    return resp1.text\n",
    "\n",
    "def find_g(element):\n",
    "    div_g = element.xpath(\"./div[@class='g']\")\n",
    "    if(len(div_g)==0):\n",
    "        div_srg = element.xpath(\"./div[@class='srg']\")\n",
    "        if(len(div_srg)>0):\n",
    "            div_g = div_srg[0].xpath(\"./div[@class='g']\")\n",
    "    return div_g\n",
    "\n",
    "def find_result(element):\n",
    "    a_el = element.xpath(\".//div[@class='r']\")[0].xpath(\"a\")[0]\n",
    "    title = a_el.xpath(\".//h3[@class='LC20lb']\")[0].text\n",
    "    link = a_el.attrib[\"href\"]\n",
    "    summary = element.xpath(\".//div[@class='s']\")[0].xpath(\"string(.)\")\n",
    "    return [title,link,summary]\n",
    "\n",
    "def parse(html_inp):\n",
    "    html = etree.HTML(html_inp)\n",
    "    # 查找所有class为g的div\n",
    "    div_rso = html.xpath(\"//div[@id='rso']\")\n",
    "    div_bkWMgd = div_rso[0].xpath(\"./div[@class='bkWMgd']\")\n",
    "    div_g = []\n",
    "    for el in div_bkWMgd:\n",
    "        tmp = find_g(el)\n",
    "        if(len(tmp)>0):\n",
    "            div_g.extend(tmp)\n",
    "    print(f\"目标div (class为g) 有 {len(div_g)} 个\")\n",
    "    # 解析class为g的div\n",
    "    result = [find_result(i) for i in div_g]\n",
    "    return result\n",
    "\n",
    "def getResult(query,key=getKey(),verbose=False):\n",
    "    html_res = search(query,key,verbose)\n",
    "    return parse(html_res)\n",
    "\n",
    "\n",
    "with open(\"searchResult.txt\",\"w+\") as f:\n",
    "    for query in tqdm_notebook([\"BJP\"]):\n",
    "        print(f\"current query at {query}\")\n",
    "        result = getResult(query,getKey(),True)\n",
    "        result"
   ]
  },
  {
   "cell_type": "code",
   "execution_count": 288,
   "metadata": {
    "ExecuteTime": {
     "end_time": "2019-03-29T09:45:53.036336Z",
     "start_time": "2019-03-29T09:45:53.008922Z"
    }
   },
   "outputs": [
    {
     "data": {
      "text/plain": [
       "[['Bharatiya Janata Party - India',\n",
       "  'http://bjp.org/',\n",
       "  'Official BJP Candidate List for General Election 2019. Bharatiya Janata Party declare their Candidate list for upcoming elections.'],\n",
       " ['Bharatiya Janata Party - Wikipedia',\n",
       "  'https://en.wikipedia.org/wiki/Bharatiya_Janata_Party',\n",
       "  \"The Bharatiya Janata Party is one of the two major political parties in India, along with the Indian National Congress. As of 2018, it is the country's largest political\\xa0...Rajya Sabha leader\\u200e: \\u200eArun Jaitley\\u200e; (\\u200eFinance Mi...Seats in Rajya Sabha\\u200e: \\u200e73 / 245 (currently 244 ...Lok Sabha leader\\u200e: \\u200eNarendra Modi\\u200e; (\\u200ePrime Mini...Seats in Lok Sabha\\u200e: \\u200e271 / 545 (currently 520 ...\\u200eHistory ·\\xa0\\u200eGeneral election results ·\\xa0\\u200eIdeology and political ...\"],\n",
       " ['Bharatiya Janata Party (BJP) - Home | Facebook',\n",
       "  'https://www.facebook.com/BJP4India/',\n",
       "  \"Bharatiya Janata Party (BJP), New Delhi, India. 15M likes. Bharatiya Janata Party, founded in 1980, is World's largest political party. It currently...\"],\n",
       " ['Karnataka: Why, despite Congress-JD(S) alliance, BJP unlikely to lose ...',\n",
       "  'https://indianexpress.com/article/explained/karnataka-why-despite-congress-jds-alliance-bjp-unlikely-to-lose-much-ground-in-lok-sabha-polls-5647615/',\n",
       "  '4 hours ago - A decade before the Modi factor entered electoral calculations, the BJP was already a force to reckon with in polls for the 28 Lok Sabha seats in\\xa0...'],\n",
       " ['BJP | Lok Sabha Election 2019 - Bharatiya Janata Party News, Latest ...',\n",
       "  'https://economictimes.indiatimes.com/topic/BJP',\n",
       "  'BJP | Bharatiya Janata Party - Latest BJP News and Updates on The Economic Times. Get complete news on BJP candidates, Lok Sabha Election 2019 & more.'],\n",
       " ['Bharatiya Janata Party News – the latest from Al Jazeera',\n",
       "  'https://www.aljazeera.com/topics/organisations/bharatiya-janata-party-141021133433876.html',\n",
       "  \"Get today's live news on Bharatiya Janata Party: current events, photos, infographics and Al Jazeera's exclusive stories from eyewitnesses.\"],\n",
       " ['Filmmakers to issue appeal against voting for the BJP - The Hindu',\n",
       "  'https://www.thehindu.com/elections/lok-sabha-2019/filmmakers-to-issue-appeal-against-voting-for-the-bjp/article26667286.ece',\n",
       "  '15 hours ago - According to them, the BJP and its allies have also failed miserably in keeping their election promises. “They are now using mob lynching and\\xa0...'],\n",
       " ['Will Break Fingers Pointed At Us, UP BJP Leader Ram Shankar ...',\n",
       "  'https://www.ndtv.com/india-news/will-break-fingers-pointed-at-us-up-bjp-leader-ram-shankar-katheria-threat-2014577',\n",
       "  \"2 hours ago - Ram Shankar Katheria, Uttar Pradesh's BJP candidate from Etawah, has threatened the opposition saying that fingers pointed at their party will\\xa0...\"]]"
      ]
     },
     "execution_count": 288,
     "metadata": {},
     "output_type": "execute_result"
    }
   ],
   "source": [
    "result"
   ]
  },
  {
   "cell_type": "markdown",
   "metadata": {},
   "source": [
    "# 方案二、从首页模拟搜索行为\n",
    "## 初始化Driver"
   ]
  },
  {
   "cell_type": "code",
   "execution_count": 231,
   "metadata": {
    "ExecuteTime": {
     "end_time": "2019-03-29T06:06:56.483216Z",
     "start_time": "2019-03-29T06:06:54.324713Z"
    }
   },
   "outputs": [
    {
     "data": {
      "text/plain": [
       "True"
      ]
     },
     "execution_count": 231,
     "metadata": {},
     "output_type": "execute_result"
    },
    {
     "data": {
      "text/plain": [
       "215233"
      ]
     },
     "execution_count": 231,
     "metadata": {},
     "output_type": "execute_result"
    }
   ],
   "source": [
    "service_args = ['--load-images=false']\n",
    "dcap = dict(DesiredCapabilities.PHANTOMJS)\n",
    "dcap[\"phantomjs.page.settings.userAgent\"] = (\"Mozilla/5.0 (Macintosh; Intel Mac OS X 10_12_6) AppleWebKit/537.36 (KHTML, like Gecko) Chrome/72.0.3626.121 Safari/537.36\")\n",
    "driver = webdriver.PhantomJS(service_args=service_args,desired_capabilities=dcap)\n",
    "driver.implicitly_wait(15)\n",
    "driver.get(\"https://www.google.com\")\n",
    "\n",
    "driver.save_screenshot('googleInitial.png')\n",
    "with open(\"googleInitial.html\",\"w+\") as f: f.write(driver.page_source)"
   ]
  },
  {
   "cell_type": "markdown",
   "metadata": {},
   "source": [
    "## 进入Google首页进行搜索"
   ]
  },
  {
   "cell_type": "code",
   "execution_count": 188,
   "metadata": {
    "ExecuteTime": {
     "end_time": "2019-03-29T04:07:18.413470Z",
     "start_time": "2019-03-29T04:07:05.929565Z"
    },
    "scrolled": true
   },
   "outputs": [
    {
     "data": {
      "text/plain": [
       "True"
      ]
     },
     "execution_count": 188,
     "metadata": {},
     "output_type": "execute_result"
    },
    {
     "data": {
      "text/plain": [
       "True"
      ]
     },
     "execution_count": 188,
     "metadata": {},
     "output_type": "execute_result"
    },
    {
     "data": {
      "text/plain": [
       "542744"
      ]
     },
     "execution_count": 188,
     "metadata": {},
     "output_type": "execute_result"
    }
   ],
   "source": [
    "query = \"India\"\n",
    "driver.get(\"https://www.google.com\")\n",
    "inputElement = driver.find_element_by_id(\"main\").find_element_by_xpath(\"\"\"//*[@id=\"tsf\"]/div[2]/div[1]/div[1]/div/div[1]/input\"\"\")\n",
    "inputElement.click()\n",
    "inputElement.send_keys(query)\n",
    "driver.save_screenshot(\"send_keys.png\")\n",
    "# 触发搜索\n",
    "driver.find_element_by_xpath(\"\"\"//*[@id=\"tsf\"]/div[2]/div/div[3]/center/input[1]\"\"\").click()\n",
    "\n",
    "driver.save_screenshot(\"search.png\")\n",
    "with open(\"googleSearchedResult_selenium.html\",\"w+\") as f:\n",
    "    f.write(driver.page_source)"
   ]
  },
  {
   "cell_type": "markdown",
   "metadata": {},
   "source": [
    "## 搜索结果页DOM树递进查找\n",
    "\n",
    "### 查找到class为g的div\n",
    "- id为rso的最外层div\n",
    "    - class为g的直接子节点\n",
    "    - 没有为g的直接子节点，则找为srg的直接子节点\n",
    "        - class为g的直接子节点"
   ]
  },
  {
   "cell_type": "code",
   "execution_count": 189,
   "metadata": {
    "ExecuteTime": {
     "end_time": "2019-03-29T04:08:36.106915Z",
     "start_time": "2019-03-29T04:07:20.518914Z"
    },
    "scrolled": false
   },
   "outputs": [
    {
     "name": "stdout",
     "output_type": "stream",
     "text": [
      "> rso下的div有 6 个\n",
      ">> 包含g标签的div有 4 个\n",
      ">>> 包含g标签的div中准确的有 8 个\n"
     ]
    }
   ],
   "source": [
    "divs_rso=driver.find_elements_by_xpath(\"\"\"//*[@id=\"rso\"]/div\"\"\")\n",
    "print(\"> rso下的div有 %s 个\" % len(divs_rso))\n",
    "divs_target = [part for part in divs_rso if len(part.find_elements_by_class_name(\"g\"))>0]\n",
    "print(\">> 包含g标签的div有 %s 个\" % len(divs_target))\n",
    "\n",
    "# 第一层子节点查找\"g\"，没有则进入\"srg\"查找”g\"，查找结果直接返回\n",
    "def find_g(element):\n",
    "    result = element.find_elements_by_xpath(\"./div[@class='g']\")\n",
    "    if(len(result)==0):\n",
    "        srg = element.find_elements_by_xpath(\"./div[@class='srg']\")\n",
    "        if(len(srg)>0):\n",
    "            result = srg[0].find_elements_by_xpath(\"./div[@class='g']\")\n",
    "    return result\n",
    "\n",
    "divs_g = []\n",
    "for i in divs_target:\n",
    "    findRes=find_g(i)\n",
    "    if(len(findRes)>0):\n",
    "        divs_g.extend(findRes)\n",
    "print(\">>> 包含g标签的div中准确的有 %s 个\" % len(divs_g))\n",
    "\n"
   ]
  },
  {
   "cell_type": "markdown",
   "metadata": {},
   "source": [
    "### 在class为g的div中继续查找标题、链接、简介"
   ]
  },
  {
   "cell_type": "code",
   "execution_count": 190,
   "metadata": {
    "ExecuteTime": {
     "end_time": "2019-03-29T04:08:49.527526Z",
     "start_time": "2019-03-29T04:08:47.420131Z"
    }
   },
   "outputs": [
    {
     "name": "stdout",
     "output_type": "stream",
     "text": [
      ">>>> 搜索结果第一个展示：\n",
      "India - Wikipedia\n",
      "https://en.wikipedia.org/wiki/India\n",
      "India (ISO: Bhārat), also known as the Republic of India (ISO: Bhārat Gaṇarājya), is a country in South Asia. It is the seventh largest country by area and with ...\n",
      "Calling code: +91 Demonym(s): Indian\n",
      "Largest city: Mumbai; 18°58′30″N 72°49′4... Currency: Indian rupee (₹) (INR)\n",
      "History · Geography · Biodiversity · Politics and government\n",
      ">>>> 搜索结果最后一个展示：\n",
      "India - Wikitravel\n",
      "https://wikitravel.org/en/India\n",
      "India is the largest country in the South Asia Region, located primarily in the center of South Asia, and shares International borders with Pakistan to the ...\n",
      "Country code: +91 Capital: New Delhi\n",
      "Language: Hindi, English and 21 other official ... Area: total: 3,287,263km²; water: 314,070km²; l...\n"
     ]
    }
   ],
   "source": [
    "def find_result(element):\n",
    "    a_el = element.find_element_by_xpath(\".//div[@class='r']\").find_element_by_tag_name(\"a\")\n",
    "    title = a_el.find_element_by_xpath(\".//h3[@class='LC20lb']\").text\n",
    "    link = a_el.get_attribute(\"href\")\n",
    "    summary = element.find_element_by_xpath(\".//div[@class='s']\").text\n",
    "    return [title,link,summary]\n",
    "result = [find_result(i) for i in divs_g]\n",
    "print(\">>>> 搜索结果第一个展示：\\n\"+\"\\n\".join(result[0]))\n",
    "print(\">>>> 搜索结果最后一个展示：\\n\"+\"\\n\".join(result[-1]))"
   ]
  },
  {
   "cell_type": "code",
   "execution_count": 191,
   "metadata": {
    "ExecuteTime": {
     "end_time": "2019-03-29T04:08:51.725403Z",
     "start_time": "2019-03-29T04:08:51.612015Z"
    }
   },
   "outputs": [],
   "source": [
    "driver.close()"
   ]
  },
  {
   "cell_type": "code",
   "execution_count": null,
   "metadata": {},
   "outputs": [],
   "source": []
  },
  {
   "cell_type": "code",
   "execution_count": null,
   "metadata": {},
   "outputs": [],
   "source": []
  }
 ],
 "metadata": {
  "celltoolbar": "Initialization Cell",
  "kernelspec": {
   "display_name": "Python 3",
   "language": "python",
   "name": "python3"
  },
  "language_info": {
   "codemirror_mode": {
    "name": "ipython",
    "version": 3
   },
   "file_extension": ".py",
   "mimetype": "text/x-python",
   "name": "python",
   "nbconvert_exporter": "python",
   "pygments_lexer": "ipython3",
   "version": "3.6.7"
  },
  "toc": {
   "base_numbering": 1,
   "nav_menu": {},
   "number_sections": true,
   "sideBar": true,
   "skip_h1_title": false,
   "title_cell": "Table of Contents",
   "title_sidebar": "Contents",
   "toc_cell": false,
   "toc_position": {
    "height": "calc(100% - 180px)",
    "left": "10px",
    "top": "150px",
    "width": "263px"
   },
   "toc_section_display": true,
   "toc_window_display": true
  }
 },
 "nbformat": 4,
 "nbformat_minor": 2
}
