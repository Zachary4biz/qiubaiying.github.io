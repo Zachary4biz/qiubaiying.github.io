{
 "cells": [
  {
   "cell_type": "code",
   "execution_count": null,
   "metadata": {},
   "outputs": [],
   "source": [
    "from IPython.core.interactiveshell import InteractiveShell\n",
    "InteractiveShell.ast_node_interactivity = \"all\"\n",
    "%matplotlib inline\n",
    "from tqdm import tqdm_notebook\n",
    "import concurrent.futures"
   ]
  },
  {
   "cell_type": "code",
   "execution_count": null,
   "metadata": {},
   "outputs": [],
   "source": []
  },
  {
   "cell_type": "code",
   "execution_count": null,
   "metadata": {},
   "outputs": [],
   "source": [
    "from flask import Flask,request,render_template\n",
    "app = Flask(__name__,static_folder=\"/home/zhoutong\",static_url_path=\"\")\n",
    "@app.route(\"/\")\n",
    "def index():\n",
    "    return \"index html page.\"\n",
    "# POST | 如果是表单形式的\n",
    "@app.route(\"/test\", methods=['POST'])\n",
    "def test():\n",
    "    if request.method==\"POST\":\n",
    "        request.form.get(\"abc\",\"default\") \n",
    "    return \"index html page.\"\n",
    "# POST | 如果是json\n",
    "@app.route(\"/test_json\", methods=['POST'])\n",
    "def test_json():\n",
    "    if request.method==\"POST\":\n",
    "        print(request.headers)\n",
    "        data = request.get_data()\n",
    "        json_result = json.loads(data)\n",
    "        print(json_result)\n",
    "    return \"index html page.\"\n",
    "app.run(host=\"0.0.0.0\",port=\"12015\")\n",
    "# 直接访问 http://192.168.0.253:5000/NLTK_coreNLP_result.html\n"
   ]
  }
 ],
 "metadata": {
  "kernelspec": {
   "display_name": "Python 3",
   "language": "python",
   "name": "python3"
  },
  "language_info": {
   "codemirror_mode": {
    "name": "ipython",
    "version": 3
   },
   "file_extension": ".py",
   "mimetype": "text/x-python",
   "name": "python",
   "nbconvert_exporter": "python",
   "pygments_lexer": "ipython3",
   "version": "3.6.7"
  },
  "toc": {
   "base_numbering": 1,
   "nav_menu": {},
   "number_sections": true,
   "sideBar": true,
   "skip_h1_title": false,
   "title_cell": "Table of Contents",
   "title_sidebar": "Contents",
   "toc_cell": false,
   "toc_position": {},
   "toc_section_display": true,
   "toc_window_display": false
  }
 },
 "nbformat": 4,
 "nbformat_minor": 2
}
