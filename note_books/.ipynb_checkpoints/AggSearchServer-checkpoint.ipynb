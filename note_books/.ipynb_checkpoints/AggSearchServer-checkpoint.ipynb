{
 "cells": [
  {
   "cell_type": "markdown",
   "metadata": {},
   "source": [
    "# Setup"
   ]
  },
  {
   "cell_type": "code",
   "execution_count": 1,
   "metadata": {
    "ExecuteTime": {
     "end_time": "2019-04-04T10:41:08.330758Z",
     "start_time": "2019-04-04T10:41:07.515582Z"
    }
   },
   "outputs": [],
   "source": [
    "from IPython.core.interactiveshell import InteractiveShell\n",
    "InteractiveShell.ast_node_interactivity = \"all\"\n",
    "%matplotlib inline\n",
    "from tqdm import tqdm_notebook\n",
    "import concurrent.futures\n",
    "from multiprocessing import Pool"
   ]
  },
  {
   "cell_type": "markdown",
   "metadata": {},
   "source": [
    "# GoogleSearch工具类"
   ]
  },
  {
   "cell_type": "code",
   "execution_count": 2,
   "metadata": {
    "ExecuteTime": {
     "end_time": "2019-04-04T10:41:08.627265Z",
     "start_time": "2019-04-04T10:41:08.336667Z"
    },
    "code_folding": []
   },
   "outputs": [],
   "source": [
    "import requests\n",
    "import re\n",
    "import time\n",
    "from lxml import etree\n",
    "import random\n",
    "import json\n",
    "\n",
    "class GoogleSearch():\n",
    "    def __init__(self):\n",
    "        self.gl_query = \"\"\n",
    "        self.gl_proxies = {}\n",
    "        self.key = \"\"\n",
    "        self.header = {\"Referer\":\"https://www.google.com/\",\n",
    "                       'User-Agent':'Mozilla/5.0 (Macintosh; Intel Mac OS X 10_12_6) AppleWebKit/537.36 (KHTML, like Gecko) Chrome/72.0.3626.121 Safari/537.36'}\n",
    "        self.verbosePath = \"googleSearchResult_request.html\"\n",
    "      \n",
    "    def updateProxies(self,proxies):\n",
    "        self.gl_proxies = proxies\n",
    "\n",
    "    def checkCurrentIP(self):\n",
    "        print(\"\\n\\n\"+\">>> use proxy as follow: \\n\",self.gl_proxies)\n",
    "        localIP = json.loads(requests.get(\"http://httpbin.org/ip\",timeout=4).text.strip())\n",
    "        print(\">>> 本机ip:\\n\",localIP)\n",
    "        try:\n",
    "            proxyIP = json.loads(requests.get(\"http://httpbin.org/ip\",proxies=self.gl_proxies,timeout=4).text.strip())\n",
    "            print(\">>> 代理ip:\\n\",proxyIP)\n",
    "        except Exception as e:\n",
    "            print(\">>> 代理ip:\\n\",f\"代理网络异常，Exception: {repr(e)}\")\n",
    "    \n",
    "    # 如果已经获取过key，随机概率使用新key（避免行为过于规律被封）\n",
    "    def getKey(self):\n",
    "        if(self.key==\"\" or random.random()>=0.3):\n",
    "            resp = requests.get(\"http://www.google.com\")\n",
    "            html = resp.text\n",
    "            self.key = re.search(r\"kEI:\\'(.*?)\\'\", html).group(1)\n",
    "        return self.key\n",
    "    \n",
    "    @staticmethod\n",
    "    def getKey():\n",
    "        resp = requests.get(\"http://www.google.com\")\n",
    "        html = resp.text\n",
    "        key = re.search(r\"kEI:\\'(.*?)\\'\", html).group(1)\n",
    "        return key\n",
    "    \n",
    "    def request(self,query,key,verbose=False):\n",
    "        url = f\"https://www.google.com/search?source=hp&ei={key}&q={query}\"\n",
    "        resp1 = requests.get(url,headers=self.header,proxies=self.gl_proxies,timeout=4)\n",
    "        if(verbose):\n",
    "            with open(self.verbosePath,\"w+\") as f: f.writelines(resp1.text)\n",
    "        return resp1.text\n",
    "    \n",
    "    @staticmethod\n",
    "    def _find_g(element):\n",
    "        div_g = element.xpath(\"./div[@class='g']\")\n",
    "        if(len(div_g)==0):\n",
    "            div_srg = element.xpath(\"./div[@class='srg']\")\n",
    "            if(len(div_srg)>0):\n",
    "                div_g = div_srg[0].xpath(\"./div[@class='g']\")\n",
    "        return div_g\n",
    "    \n",
    "    @staticmethod\n",
    "    def _find_result(element):\n",
    "        a_el = element.xpath(\".//div[@class='r']\")[0].xpath(\"a\")[0]\n",
    "        title = a_el.xpath(\".//h3[@class='LC20lb']\")[0].text\n",
    "        link = a_el.attrib[\"href\"]\n",
    "        summary = element.xpath(\".//div[@class='s']\")[0].xpath(\"string(.)\")\n",
    "        return [title,link,summary]\n",
    "\n",
    "    @staticmethod\n",
    "    def _parse(html_inp):\n",
    "        html = etree.HTML(html_inp)\n",
    "        # 查找所有class为g的div\n",
    "        div_rso = html.xpath(\"//div[@id='rso']\")\n",
    "        div_bkWMgd = div_rso[0].xpath(\"./div[@class='bkWMgd']\")\n",
    "        div_g = []\n",
    "        for el in div_bkWMgd:\n",
    "            tmp = GoogleSearch._find_g(el)\n",
    "            if(len(tmp)>0):\n",
    "                div_g.extend(tmp)\n",
    "        # 解析class为g的div\n",
    "        result = []\n",
    "        for i in div_g:\n",
    "            try:\n",
    "                result.append(GoogleSearch._find_result(i))\n",
    "            except Exception as e:\n",
    "                print(repr(e))\n",
    "        return result\n",
    "\n",
    "    def search(self,query,verbose=False):\n",
    "        key = self.getKey()\n",
    "        html_res = self.request(query,key,verbose)\n",
    "        parse_res = GoogleSearch._parse(html_res)\n",
    "        return parse_res\n",
    "\n",
    "    def getResult_json(self,query,verbose=False):\n",
    "        result = self.search(query,verbose)\n",
    "        result_dictArr = [dict(zip([\"title\",\"link\",\"summary\",\"query\"],i+[query])) for i in result]\n",
    "        resultJSON = json.dumps({query:result_dictArr})\n",
    "        return resultJSON\n"
   ]
  },
  {
   "cell_type": "markdown",
   "metadata": {},
   "source": [
    "# WikiSearch 工具类"
   ]
  },
  {
   "cell_type": "code",
   "execution_count": 3,
   "metadata": {
    "ExecuteTime": {
     "end_time": "2019-04-04T10:41:08.690011Z",
     "start_time": "2019-04-04T10:41:08.635949Z"
    }
   },
   "outputs": [],
   "source": [
    "import wikipediaapi\n",
    "class WikiSearch():\n",
    "    def __init__(self):\n",
    "        self.wiki_wiki = wikipediaapi.Wikipedia('en')\n",
    "        \n",
    "    def search(self,targetWord= \"BJP\"):\n",
    "        page_py = self.wiki_wiki.page(targetWord)\n",
    "        if page_py.exists():\n",
    "            title = page_py.title\n",
    "            url = page_py.canonicalurl\n",
    "            cat = [i.title.split(\"Category:\")[1] for i in page_py.categories.values()]\n",
    "            status=\"success\"\n",
    "        else:\n",
    "            title = \"\"\n",
    "            url = \"\"\n",
    "            cat = []\n",
    "            status=\"fail\"\n",
    "            print(\"page not exists\")\n",
    "        return (title,url,cat,status)\n",
    "    def getResult_json(self,query,verbose=False):\n",
    "        (title,url,categories,status) = self.search(query)\n",
    "        return json.dumps({\"title\":title,\"url\":url,\"categories\":categories,\"status\":status})\n",
    "        "
   ]
  },
  {
   "cell_type": "markdown",
   "metadata": {},
   "source": [
    "# Flask服务器"
   ]
  },
  {
   "cell_type": "code",
   "execution_count": 4,
   "metadata": {
    "ExecuteTime": {
     "end_time": "2019-04-04T10:41:18.917428Z",
     "start_time": "2019-04-04T10:41:09.638696Z"
    },
    "scrolled": false
   },
   "outputs": [
    {
     "name": "stdout",
     "output_type": "stream",
     "text": [
      " * Serving Flask app \"__main__\" (lazy loading)\n",
      " * Environment: production\n",
      "   WARNING: Do not use the development server in a production environment.\n",
      "   Use a production WSGI server instead.\n",
      " * Debug mode: off\n"
     ]
    },
    {
     "name": "stderr",
     "output_type": "stream",
     "text": [
      " * Running on http://0.0.0.0:12015/ (Press CTRL+C to quit)\n",
      "127.0.0.1 - - [04/Apr/2019 06:41:15] \"GET /wsearch?query=BJP HTTP/1.1\" 200 -\n"
     ]
    },
    {
     "name": "stdout",
     "output_type": "stream",
     "text": [
      "[query:] BJP\n",
      "[result_len:] 1279\n",
      "[result_head100:] {\"title\": \"Bharatiya Janata Party\", \"url\": \"https://en.wikipedia.org/wiki/Bharatiya_Janata_Party\", \"\n"
     ]
    }
   ],
   "source": [
    "from flask import Flask,request,render_template\n",
    "import json\n",
    "\n",
    "g_searcher=GoogleSearch()\n",
    "w_searcher = WikiSearch()\n",
    "\n",
    "app = Flask(__name__,static_folder=\"/home/zhoutong\",static_url_path=\"\")\n",
    "@app.route(\"/\")\n",
    "def index():\n",
    "    return \"index html page.\"\n",
    "# POST | 如果是表单形式的\n",
    "@app.route(\"/test\", methods=['POST'])\n",
    "def test():\n",
    "    if request.method==\"POST\":\n",
    "        request.form.get(\"abc\",\"default\") \n",
    "    return str(request.form.get(\"abc\",\"default\") )\n",
    "\n",
    "# POST | 如果是json\n",
    "@app.route(\"/test_json\", methods=['POST'])\n",
    "def test_json():\n",
    "    if request.method==\"POST\":\n",
    "        print(request.headers)\n",
    "        data = request.get_data()\n",
    "        json_result = json.loads(data)\n",
    "        print(json_result)\n",
    "    return str(json_result)\n",
    "\n",
    "# GET | 解析参数 localhost:8080?params1=abc&params2=xyz\n",
    "@app.route(\"/test_get\",methods=['GET'])\n",
    "def test_get():\n",
    "    if request.method==\"GET\":\n",
    "        print(request.headers)\n",
    "        print(list(request.args.items()))\n",
    "    return str(list(request.args.items()))\n",
    "\n",
    "@app.route(\"/gsearch\",methods=['GET'])\n",
    "def g_search():\n",
    "    q = request.args.get(\"query\")\n",
    "    if(q != None and len(q)>0):\n",
    "        result = g_searcher.getResult_json(q,True)\n",
    "        print(f\"[query:] {q}\\n[result_len:] {len(result)}\\n[result_head100:] {result[:100]}\")\n",
    "        return result\n",
    "    else:\n",
    "        print(\"input param 'query' is empty.\")\n",
    "        return \"input param 'query' is empty.\",400\n",
    "\n",
    "@app.route(\"/wsearch\",methods=['GET'])    \n",
    "def w_search():\n",
    "    q = request.args.get(\"query\")\n",
    "    if(q != None and len(q)>0):\n",
    "        result = w_searcher.getResult_json(q)\n",
    "        print(f\"[query:] {q}\\n[result_len:] {len(result)}\\n[result_head100:] {result[:100]}\")\n",
    "        return result\n",
    "    else:\n",
    "        print(\"input param 'query' is empty.\")\n",
    "        return \"input param 'query' is empty.\",400\n",
    "    \n",
    "app.run(host=\"0.0.0.0\",port=\"12015\")\n",
    "\n"
   ]
  },
  {
   "cell_type": "code",
   "execution_count": null,
   "metadata": {},
   "outputs": [],
   "source": []
  }
 ],
 "metadata": {
  "kernelspec": {
   "display_name": "Python 3",
   "language": "python",
   "name": "python3"
  },
  "language_info": {
   "codemirror_mode": {
    "name": "ipython",
    "version": 3
   },
   "file_extension": ".py",
   "mimetype": "text/x-python",
   "name": "python",
   "nbconvert_exporter": "python",
   "pygments_lexer": "ipython3",
   "version": "3.6.7"
  },
  "toc": {
   "base_numbering": 1,
   "nav_menu": {},
   "number_sections": true,
   "sideBar": true,
   "skip_h1_title": false,
   "title_cell": "Table of Contents",
   "title_sidebar": "Contents",
   "toc_cell": false,
   "toc_position": {},
   "toc_section_display": true,
   "toc_window_display": true
  }
 },
 "nbformat": 4,
 "nbformat_minor": 2
}
