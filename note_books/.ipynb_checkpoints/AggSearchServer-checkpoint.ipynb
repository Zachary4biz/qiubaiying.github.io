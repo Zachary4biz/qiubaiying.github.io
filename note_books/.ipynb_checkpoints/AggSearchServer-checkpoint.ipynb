{
 "cells": [
  {
   "cell_type": "markdown",
   "metadata": {},
   "source": [
    "# Setup"
   ]
  },
  {
   "cell_type": "code",
   "execution_count": 1,
   "metadata": {
    "ExecuteTime": {
     "end_time": "2019-04-11T13:37:10.452388Z",
     "start_time": "2019-04-11T13:37:09.804217Z"
    },
    "init_cell": true
   },
   "outputs": [],
   "source": [
    "from IPython.core.interactiveshell import InteractiveShell\n",
    "InteractiveShell.ast_node_interactivity = \"all\"\n",
    "%matplotlib inline\n",
    "from tqdm import tqdm_notebook\n",
    "import concurrent.futures\n",
    "from multiprocessing import Pool"
   ]
  },
  {
   "cell_type": "markdown",
   "metadata": {},
   "source": [
    "# GoogleSearch工具类"
   ]
  },
  {
   "cell_type": "code",
   "execution_count": 2,
   "metadata": {
    "ExecuteTime": {
     "end_time": "2019-04-11T13:37:10.644069Z",
     "start_time": "2019-04-11T13:37:10.458558Z"
    },
    "code_folding": [],
    "init_cell": true
   },
   "outputs": [],
   "source": [
    "import requests\n",
    "import re\n",
    "import time\n",
    "from lxml import etree\n",
    "import random\n",
    "import json\n",
    "\n",
    "class GoogleSearch():\n",
    "    def __init__(self):\n",
    "        self.gl_query = \"\"\n",
    "        self.gl_proxies = {}\n",
    "        self.key = \"\"\n",
    "        self.header = {\"Referer\":\"https://www.google.com/\",\n",
    "                       'User-Agent':'Mozilla/5.0 (Macintosh; Intel Mac OS X 10_12_6) AppleWebKit/537.36 (KHTML, like Gecko) Chrome/72.0.3626.121 Safari/537.36'}\n",
    "        self.verbosePath = \"googleSearchResult_request.html\"\n",
    "      \n",
    "    def updateProxies(self,proxies):\n",
    "        self.gl_proxies = proxies\n",
    "\n",
    "    def checkCurrentIP(self):\n",
    "        print(\"\\n\\n\"+\">>> use proxy as follow: \\n\",self.gl_proxies)\n",
    "        localIP = json.loads(requests.get(\"http://httpbin.org/ip\",timeout=4).text.strip())\n",
    "        print(\">>> 本机ip:\\n\",localIP)\n",
    "        try:\n",
    "            proxyIP = json.loads(requests.get(\"http://httpbin.org/ip\",proxies=self.gl_proxies,timeout=4).text.strip())\n",
    "            print(\">>> 代理ip:\\n\",proxyIP)\n",
    "        except Exception as e:\n",
    "            print(\">>> 代理ip:\\n\",f\"代理网络异常，Exception: {repr(e)}\")\n",
    "    \n",
    "    # 如果已经获取过key，随机概率使用新key（避免行为过于规律被封）\n",
    "    def getKey(self):\n",
    "        if(self.key==\"\" or random.random()>=0.3):\n",
    "            resp = requests.get(\"http://www.google.com\")\n",
    "            html = resp.text\n",
    "            self.key = re.search(r\"kEI:\\'(.*?)\\'\", html).group(1)\n",
    "        return self.key\n",
    "    \n",
    "    @staticmethod\n",
    "    def getKey():\n",
    "        resp = requests.get(\"http://www.google.com\")\n",
    "        html = resp.text\n",
    "        key = re.search(r\"kEI:\\'(.*?)\\'\", html).group(1)\n",
    "        return key\n",
    "    \n",
    "    def request(self,query,key,verbose=False):\n",
    "        url = f\"https://www.google.com/search\"\n",
    "        params = {'source':'hp','ei':key,'q':query}\n",
    "        resp1 = requests.get(url,params=params,headers=self.header,proxies=self.gl_proxies,timeout=4)\n",
    "        if(verbose):\n",
    "            with open(self.verbosePath,\"w+\") as f: f.writelines(resp1.text)\n",
    "        return resp1.text\n",
    "    \n",
    "    @staticmethod\n",
    "    def _find_g(element):\n",
    "        div_g = element.xpath(\"./div[@class='g']\")\n",
    "        if(len(div_g)==0):\n",
    "            div_srg = element.xpath(\"./div[@class='srg']\")\n",
    "            if(len(div_srg)>0):\n",
    "                div_g = div_srg[0].xpath(\"./div[@class='g']\")\n",
    "        return div_g\n",
    "    \n",
    "    @staticmethod\n",
    "    def _find_result(element):\n",
    "        a_el = element.xpath(\".//div[@class='r']\")[0].xpath(\"a\")[0]\n",
    "        title = a_el.xpath(\".//h3[@class='LC20lb']\")[0].text\n",
    "        link = a_el.attrib[\"href\"]\n",
    "        summary = element.xpath(\".//div[@class='s']\")[0].xpath(\"string(.)\")\n",
    "        return [title,link,summary]\n",
    "\n",
    "    @staticmethod\n",
    "    def _parse(html_inp):\n",
    "        html = etree.HTML(html_inp)\n",
    "        # 查找是否有重定向到新的搜索词\n",
    "        redirectW = None\n",
    "        a_fprsl = html.xpath(\"//a[@id='fprsl']\")\n",
    "        if(len(a_fprsl)>0):\n",
    "            redirectW = a_fprsl[0].xpath(\"string(.)\")\n",
    "        # 在 id=rso 的div下，找到所有的 class=bkWMgd 的div，在其中查找 class=g 的div\n",
    "        div_rso = html.xpath(\"//div[@id='rso']\")\n",
    "        div_bkWMgd = div_rso[0].xpath(\"./div[@class='bkWMgd']\")\n",
    "        div_g = []\n",
    "        for el in div_bkWMgd:\n",
    "            tmp = GoogleSearch._find_g(el)\n",
    "            if(len(tmp)>0):\n",
    "                div_g.extend(tmp)\n",
    "        # 解析class为g的div\n",
    "        result = []\n",
    "        for i in div_g:\n",
    "            try:\n",
    "                result.append(GoogleSearch._find_result(i))\n",
    "            except Exception as e:\n",
    "                print(repr(e))\n",
    "        return (redirectW,result)\n",
    "\n",
    "    def search(self,query,verbose=False):\n",
    "        key = self.getKey()\n",
    "        html_res = self.request(query,key,verbose)\n",
    "        try:\n",
    "            (redirectW,parse_res) = GoogleSearch._parse(html_res)\n",
    "            if redirectW==None:\n",
    "                redirectW = query\n",
    "        except Exception as e:\n",
    "            print(f\"[GoogleSearchError] 搜索 {query} 时出现异常：{repr(e)}\")\n",
    "            redirectW=query\n",
    "            parse_res=[]\n",
    "        return (redirectW,parse_res)\n",
    "\n",
    "    def getResult_json(self,query,verbose=False):\n",
    "        (redirectW,result) = self.search(query,verbose)\n",
    "        result_dictArr = [dict(zip([\"title\",\"link\",\"summary\"],i)) for i in result]\n",
    "        resultJSON = json.dumps({\"query\":query,\"redirect\":redirectW,\"q_result\":result_dictArr})\n",
    "        return resultJSON\n"
   ]
  },
  {
   "cell_type": "markdown",
   "metadata": {},
   "source": [
    "# WikiSearch 工具类"
   ]
  },
  {
   "cell_type": "code",
   "execution_count": 3,
   "metadata": {
    "ExecuteTime": {
     "end_time": "2019-04-11T13:37:10.691633Z",
     "start_time": "2019-04-11T13:37:10.648523Z"
    },
    "code_folding": [],
    "init_cell": true
   },
   "outputs": [],
   "source": [
    "import requests\n",
    "import json\n",
    "from lxml import etree\n",
    "\n",
    "# class WikiSearch_byCrawl()\n",
    "class WikiSearch():\n",
    "    def __init__(self,verbosePath=\"wikiSearchResult_request.html\"):\n",
    "        self.verbosePath = verbosePath\n",
    "        self.url = \"https://en.wikipedia.org/w/index.php\" \n",
    "        self.gl_proxies = {}\n",
    "        self.header = {\"Referer\":\"https://www.google.com/\",\n",
    "                       'User-Agent':'Mozilla/5.0 (Macintosh; Intel Mac OS X 10_12_6) AppleWebKit/537.36 (KHTML, like Gecko) Chrome/72.0.3626.121 Safari/537.36'}\n",
    "        pass\n",
    "    \n",
    "    def request(self,query,verbose=False):\n",
    "        params = {'search':query,\n",
    "                  'title':'Special%3ASearch',\n",
    "                  'go':'Go'}\n",
    "        resp1 = requests.get(self.url,params=params,headers=self.header,proxies=self.gl_proxies,timeout=4)\n",
    "        if(verbose):\n",
    "            with open(self.verbosePath,\"w+\") as f: f.writelines(resp1.text)\n",
    "        return resp1\n",
    "    \n",
    "    @staticmethod\n",
    "    def _findCategory(html):\n",
    "        cats = html.xpath(\"//div[@id='mw-normal-catlinks']/ul/li\")\n",
    "        allCategories = [li.xpath(\"string(.)\") for li in cats]\n",
    "        return allCategories\n",
    "    @staticmethod\n",
    "    def _findHiddenCategory(html):\n",
    "        cats = html.xpath(\"//div[@id='mw-hidden-catlinks']/ul/li\")\n",
    "        allCategories = [li.xpath(\"string(.)\") for li in cats]\n",
    "        return allCategories\n",
    "    @staticmethod\n",
    "    def _findAllLinks(html):\n",
    "        content_div = html.xpath(\"//div[@id='mw-content-text']\")[0]\n",
    "        allLink = [a for a in content_div.xpath(\".//a[@href and @title]\")]\n",
    "        allLink = [a for a in allLink if a.attrib['href'].startswith(\"/wiki/\")] # 过滤掉非wiki词条的\n",
    "        allLink = [a for a in allLink if \":\" not in a.attrib['href']] # 过滤掉非wiki词条的\n",
    "        allLinkRes = [a.xpath(\"string(.)\") for a in allLink]\n",
    "        return allLinkRes\n",
    "    # todo\n",
    "    @staticmethod\n",
    "    def _findSummary(html):\n",
    "        content_text_div = html.xpath(\"//div[@id='mw-content-text']/div[@class='mw-parser-output']\")[0]\n",
    "        allText = content_text_div.xpath(\"./p[not(@*)]\") #全部段落\n",
    "        return allText[0].xpath(\"string(.)\")\n",
    "    \n",
    "    def parse(self,response):\n",
    "        try:\n",
    "            html = etree.HTML(response.text)\n",
    "            cats = self._findCategory(html)\n",
    "            hidden_cats = self._findHiddenCategory(html)\n",
    "            links = self._findAllLinks(html)\n",
    "            summary = self._findSummary(html)\n",
    "            title = html.xpath(\"//h1[@id='firstHeading']\")[0].xpath(\"string(.)\")\n",
    "            url = response.url\n",
    "            resDict = {\"title\":title,\"summary\":summary,\"categories\":cats,\"hidden_categories\":hidden_cats,\"links\":links,\"url\":url}\n",
    "            resDict.update({\"status\":\"success\"})\n",
    "        except Exception as e:\n",
    "            resDict = {\"title\":\"\",\"summary\":\"\",\"categories\":[],\"hidden_categories\":[],\"links\":[],\"url\":\"\"}\n",
    "            resDict.update({\"status\":\"fail\"})\n",
    "        return resDict\n",
    "    \n",
    "    def search(self,query,verbose=False):\n",
    "        response = self.request(query,verbose)\n",
    "        return self.parse(response)\n",
    "    \n",
    "    def getResult_json(self,query,verbose=False):\n",
    "        resDict = self.search(query,verbose)\n",
    "        resDict.update({\"query\":query})\n",
    "        resultJSON=json.dumps(resDict)\n",
    "        return resultJSON"
   ]
  },
  {
   "cell_type": "markdown",
   "metadata": {},
   "source": [
    "wikipedaiapi不如自己手动 byCrawl 准确，已冻结"
   ]
  },
  {
   "cell_type": "code",
   "execution_count": 3,
   "metadata": {
    "ExecuteTime": {
     "end_time": "2019-04-10T03:20:13.609551Z",
     "start_time": "2019-04-10T03:20:13.576257Z"
    },
    "code_folding": [],
    "deletable": false,
    "editable": false,
    "init_cell": true,
    "run_control": {
     "frozen": true
    }
   },
   "outputs": [],
   "source": [
    "import wikipediaapi\n",
    "\n",
    "import wikipediaapi\n",
    "\n",
    "class WikiSearch():\n",
    "    def __init__(self):\n",
    "        self.wiki_wiki = wikipediaapi.Wikipedia('en')\n",
    "        \n",
    "    def search(self,targetWord= \"BJP\"):\n",
    "        page_py = self.wiki_wiki.page(targetWord)\n",
    "        if page_py.exists():\n",
    "            title = page_py.title\n",
    "            url = page_py.canonicalurl\n",
    "            cat = [i.title.split(\"Category:\")[1] for i in page_py.categories.values()]\n",
    "            summary = page_py.summary\n",
    "            links = [i.title for i in page_py.links.values() if \":\" not in i.title]\n",
    "            status=\"success\"\n",
    "        else:\n",
    "            title = \"\"\n",
    "            url = \"\"\n",
    "            cat = []\n",
    "            summary = \"\"\n",
    "            links = []\n",
    "            status=\"fail\"\n",
    "            print(\"page not exists\")\n",
    "        return (title,url,cat,summary,links,status)\n",
    "    def getResult_json(self,query,verbose=False):\n",
    "        (title,url,categories,summary,links,status) = self.search(query)\n",
    "        return json.dumps({\"query\":query,\"title\":title,\"url\":url,\"categories\":categories,\"summary\":summary,\"links\":links,\"status\":status})\n",
    "        "
   ]
  },
  {
   "cell_type": "markdown",
   "metadata": {},
   "source": [
    "# DataBase工具类"
   ]
  },
  {
   "cell_type": "code",
   "execution_count": 4,
   "metadata": {
    "ExecuteTime": {
     "end_time": "2019-04-11T13:37:10.720722Z",
     "start_time": "2019-04-11T13:37:10.703360Z"
    },
    "init_cell": true
   },
   "outputs": [],
   "source": [
    "from enum import Enum, unique\n",
    "@unique\n",
    "class DBNames(Enum):\n",
    "    DBName = \"AggSearchServer.db\"\n",
    "    Google_TableName = \"GOOGLE_RES\"\n",
    "    Wiki_TableName = \"WIKI_RES\"\n",
    "    Wiki_TableStruct = \"\"\"\n",
    "        query TEXT PRIMARY Key,\n",
    "        categories TEXT,\n",
    "        hidden_categories TEXT,\n",
    "        links TEXT,\n",
    "        status TEXT,\n",
    "        summary TEXT,\n",
    "        title TEXT,\n",
    "        url TEXT\n",
    "    \"\"\"\n",
    "    Google_TableStruct = \"\"\"\n",
    "            query TEXT PRIMARY Key,\n",
    "            redirectW TEXT,\n",
    "            result TEXT\"\"\""
   ]
  },
  {
   "cell_type": "code",
   "execution_count": 5,
   "metadata": {
    "ExecuteTime": {
     "end_time": "2019-04-11T13:37:10.805445Z",
     "start_time": "2019-04-11T13:37:10.729043Z"
    },
    "code_folding": [
     18,
     59,
     98
    ],
    "init_cell": true
   },
   "outputs": [],
   "source": [
    "import sqlite3\n",
    "import time\n",
    "class DBController():\n",
    "    \n",
    "    def __init__(self,DBName=None):\n",
    "        self.conn = None\n",
    "        if(DBName != None):\n",
    "            self.conn = sqlite3.connect(DBName)\n",
    "    \n",
    "    def connect(self,db):\n",
    "        if(self.conn != None):\n",
    "            self.conn.close()\n",
    "        self.conn = sqlite3.connect(db)\n",
    "        return None\n",
    "    \n",
    "    def close(self,):\n",
    "        self.conn.close()\n",
    "    \n",
    "    def checkAndInitTable(self,tableName, tableStructure, clearHistory=False):\n",
    "        c = self.conn.cursor()\n",
    "\n",
    "        c.execute(\"SELECT name FROM sqlite_master WHERE type='table'\")\n",
    "        Tables = [i[0] for i in c.fetchall()]\n",
    "        print(f\"当前所有表：{Tables}\")\n",
    "\n",
    "        # check \n",
    "        if tableName in Tables:\n",
    "            if clearHistory:\n",
    "                c.execute(f\"ALTER TABLE {tableName} RENAME TO {tableName}_old\")\n",
    "                print(f\"【{tableName}存在】 更名：{tableName} --> {tableName}_old\")\n",
    "            else:\n",
    "                print(f\"【{tableName}存在】直接使用\")\n",
    "        else:\n",
    "            print(f\"【{tableName}不存在】 创建\")\n",
    "            command = f\"\"\"CREATE TABLE {tableName}({tableStructure})\"\"\"\n",
    "            c.execute(command)\n",
    "\n",
    "        # log\n",
    "        c.execute(f\"PRAGMA table_info({tableName})\")\n",
    "        print(\">>> 完整表字段信息如下：\")\n",
    "        for i in c.fetchall(): print(i)\n",
    "        c.execute(f\"SELECT COUNT(*) from {tableName}\")\n",
    "        print(f\">>> 总计条数： {c.fetchone()}\")\n",
    "\n",
    "        # close\n",
    "        c.close()\n",
    "        self.conn.commit()\n",
    "        return None\n",
    "\n",
    "    def dropTable(self,tableName):\n",
    "        print(f\"【WARN】 将删除table {tableName}\")\n",
    "        time.sleep(5)\n",
    "        c = self.conn.cursor()\n",
    "        c.execute(f\"DROP TABLE {tableName}\")\n",
    "        c.close()\n",
    "        self.conn.commit()\n",
    "        # dropTable(DBNames.Google_TableName.value)\n",
    "        return None\n",
    "    \n",
    "    def search_db(self,query,tableName):\n",
    "        c = self.conn.cursor()\n",
    "        c.execute(f\"SELECT * FROM {tableName} where query=?\",(query,))\n",
    "        res = c.fetchall()\n",
    "        resultJSON = None # 默认（未查到）值为None\n",
    "        if(len(res)>0):\n",
    "            if tableName == DBNames.Google_TableName.value:\n",
    "                (query,redirectW,result) = res[0]\n",
    "                result_dictArr = json.loads(result)\n",
    "                c.close()\n",
    "                self.conn.commit()\n",
    "                resultJSON = json.dumps({\"query\":query,\"redirect\":redirectW,\"q_result\":result_dictArr})\n",
    "            elif tableName == DBNames.Wiki_TableName.value:\n",
    "                (query,categories,hidden_categories,links,status,summary,title,url) = res[0]\n",
    "                resultJSON = json.dumps({\"query\":query,\"title\":title,\"url\":url,\"categories\":json.loads(categories),\"hidden_categories\":json.loads(hidden_categories),\"summary\":summary,\"links\":json.loads(links),\"status\":status})\n",
    "        return resultJSON\n",
    "\n",
    "    def insert_db(self,resultJSON,tableName):\n",
    "        c = self.conn.cursor()\n",
    "        jsonDict = json.loads(resultJSON)\n",
    "        if tableName == DBNames.Google_TableName.value:\n",
    "            query = jsonDict['query']\n",
    "            redirectW = jsonDict['redirect']\n",
    "            result = json.dumps(jsonDict['q_result'])\n",
    "            c.execute(f\"insert into {tableName} values (?,?,?)\",(query,redirectW,result))\n",
    "        elif tableName == DBNames.Wiki_TableName.value:\n",
    "            query = jsonDict['query']\n",
    "            categories = json.dumps(jsonDict['categories'])\n",
    "            hidden_categories = json.dumps(jsonDict['hidden_categories'])\n",
    "            links = json.dumps(jsonDict['links'])\n",
    "            status = jsonDict['status']\n",
    "            summary = jsonDict['summary']\n",
    "            title = jsonDict['title']\n",
    "            url = jsonDict['url']\n",
    "            c.execute(f\"insert into {tableName} values (?,?,?,?,?,?,?,?)\",(query,categories,hidden_categories,links,status,summary,title,url))\n",
    "        c.close()\n",
    "        self.conn.commit()\n",
    "        return None\n",
    "    \n",
    "    def execute(self,cmd):\n",
    "        c = self.conn.cursor()\n",
    "        c.execute(cmd)\n",
    "        self.conn.commit()\n",
    "        return c\n",
    "    "
   ]
  },
  {
   "cell_type": "markdown",
   "metadata": {},
   "source": [
    "# Flask服务器"
   ]
  },
  {
   "cell_type": "markdown",
   "metadata": {},
   "source": [
    "## 准备DataBase"
   ]
  },
  {
   "cell_type": "code",
   "execution_count": 16,
   "metadata": {
    "ExecuteTime": {
     "end_time": "2019-04-11T13:30:40.157669Z",
     "start_time": "2019-04-11T13:30:35.137915Z"
    },
    "deletable": false,
    "editable": false,
    "run_control": {
     "frozen": true
    }
   },
   "outputs": [
    {
     "name": "stdout",
     "output_type": "stream",
     "text": [
      "【WARN】 将删除table WIKI_RES\n"
     ]
    }
   ],
   "source": [
    "# dbc = DBController()\n",
    "# dbc.connect(DBNames.DBName.value)\n",
    "# dbc.dropTable(DBNames.Wiki_TableName.value)"
   ]
  },
  {
   "cell_type": "code",
   "execution_count": 6,
   "metadata": {
    "ExecuteTime": {
     "end_time": "2019-04-11T13:37:10.830488Z",
     "start_time": "2019-04-11T13:37:10.810673Z"
    },
    "code_folding": [],
    "init_cell": true
   },
   "outputs": [
    {
     "name": "stdout",
     "output_type": "stream",
     "text": [
      "当前所有表：['GOOGLE_RES', 'WIKI_RES']\n",
      "【GOOGLE_RES存在】直接使用\n",
      ">>> 完整表字段信息如下：\n",
      "(0, 'query', 'TEXT', 0, None, 1)\n",
      "(1, 'redirectW', 'TEXT', 0, None, 0)\n",
      "(2, 'result', 'TEXT', 0, None, 0)\n",
      ">>> 总计条数： (2,)\n",
      "当前所有表：['GOOGLE_RES', 'WIKI_RES']\n",
      "【WIKI_RES存在】直接使用\n",
      ">>> 完整表字段信息如下：\n",
      "(0, 'query', 'TEXT', 0, None, 1)\n",
      "(1, 'categories', 'TEXT', 0, None, 0)\n",
      "(2, 'hidden_categories', 'TEXT', 0, None, 0)\n",
      "(3, 'links', 'TEXT', 0, None, 0)\n",
      "(4, 'status', 'TEXT', 0, None, 0)\n",
      "(5, 'summary', 'TEXT', 0, None, 0)\n",
      "(6, 'title', 'TEXT', 0, None, 0)\n",
      "(7, 'url', 'TEXT', 0, None, 0)\n",
      ">>> 总计条数： (1,)\n"
     ]
    }
   ],
   "source": [
    "dbc = DBController()\n",
    "dbc.connect(DBNames.DBName.value)\n",
    "\n",
    "# dbc.dropTable(DBNames.Wiki_TableName.value)\n",
    "# dbc.dropTable(DBNames.Google_TableName.value)\n",
    "\n",
    "dbc.checkAndInitTable(DBNames.Google_TableName.value, DBNames.Google_TableStruct.value,clearHistory=False)\n",
    "dbc.checkAndInitTable(DBNames.Wiki_TableName.value, DBNames.Wiki_TableStruct.value,clearHistory = False)\n",
    "\n",
    "dbc.close()\n"
   ]
  },
  {
   "cell_type": "markdown",
   "metadata": {},
   "source": [
    "## 开启Server"
   ]
  },
  {
   "cell_type": "code",
   "execution_count": 7,
   "metadata": {
    "ExecuteTime": {
     "end_time": "2019-04-11T13:38:44.789392Z",
     "start_time": "2019-04-11T13:37:11.891753Z"
    },
    "code_folding": [
     23,
     28
    ],
    "scrolled": false
   },
   "outputs": [
    {
     "name": "stdout",
     "output_type": "stream",
     "text": [
      " * Serving Flask app \"__main__\" (lazy loading)\n",
      " * Environment: production\n",
      "   WARNING: Do not use the development server in a production environment.\n",
      "   Use a production WSGI server instead.\n",
      " * Debug mode: off\n"
     ]
    },
    {
     "name": "stderr",
     "output_type": "stream",
     "text": [
      " * Running on http://0.0.0.0:12015/ (Press CTRL+C to quit)\n",
      "127.0.0.1 - - [11/Apr/2019 09:37:19] \"GET /wsearch?query=ADVICE HTTP/1.1\" 200 -\n"
     ]
    },
    {
     "name": "stdout",
     "output_type": "stream",
     "text": [
      "find it(ADVICE) in database\n"
     ]
    },
    {
     "name": "stderr",
     "output_type": "stream",
     "text": [
      "127.0.0.1 - - [11/Apr/2019 09:37:30] \"GET /wsearch?query=Dream HTTP/1.1\" 200 -\n"
     ]
    },
    {
     "name": "stdout",
     "output_type": "stream",
     "text": [
      "[query_wiki:] Dream\n",
      "[result_len:] 11039\n",
      "[result_head100:] {\"title\": \"Dream\", \"summary\": \"A dream is a succession of images, ideas, emotions, and sensations th\n"
     ]
    }
   ],
   "source": [
    "from flask import Flask,request,render_template\n",
    "import json\n",
    "import sqlite3\n",
    "\n",
    "\n",
    "g_searcher=GoogleSearch()\n",
    "w_searcher = WikiSearch()\n",
    "\n",
    "def search_db(query,db,tableName):\n",
    "    dbc = DBController(db)\n",
    "    res = dbc.search_db(query,tableName)\n",
    "    dbc.close()\n",
    "    return res\n",
    "\n",
    "def insert_db(resultJSON,db,tableName):\n",
    "    dbc = DBController(db)\n",
    "    dbc.insert_db(resultJSON,tableName)\n",
    "    dbc.close()\n",
    "    return None\n",
    "\n",
    "# ---------------- Flask ---------------------\n",
    "app = Flask(__name__,static_folder=\"/home/zhoutong\",static_url_path=\"\")\n",
    "@app.route(\"/\")\n",
    "def index():\n",
    "    return \"index html page.\"\n",
    "\n",
    "# GET | 解析参数 localhost:8080?params1=abc&params2=xyz\n",
    "@app.route(\"/test_get\",methods=['GET'])\n",
    "def test_get():\n",
    "    if request.method==\"GET\":\n",
    "        print(request.headers)\n",
    "        print(list(request.args.items()))\n",
    "    return str(list(request.args.items()))\n",
    "\n",
    "@app.route(\"/gsearch\",methods=['GET'])\n",
    "def g_search():\n",
    "    q = request.args.get(\"query\")\n",
    "    if(q != None and len(q)>0):\n",
    "        resultJSON = \"\"\n",
    "        # 先查数据库\n",
    "        resultJSON = search_db(q,DBNames.DBName.value,DBNames.Google_TableName.value)\n",
    "        if(resultJSON == None):\n",
    "            # 发起request\n",
    "            resultJSON = g_searcher.getResult_json(q,True)\n",
    "            if(len(json.loads(resultJSON)['q_result'])>0):\n",
    "                # 并更新数据库\n",
    "                insert_db(resultJSON,DBNames.DBName.value,DBNames.Google_TableName.value)\n",
    "                print(f\"[query_google:] {q}\\n[result_len:] {len(resultJSON)}\\n[result_head100:] {resultJSON[:100]}\")\n",
    "        else:\n",
    "            print(f\"find it({q}) in database\")\n",
    "        return resultJSON\n",
    "    else:\n",
    "        print(\"input param 'query' is empty.\")\n",
    "        return \"input param 'query' is empty.\",400\n",
    "\n",
    "@app.route(\"/wsearch\",methods=['GET'])    \n",
    "def w_search():\n",
    "    q = request.args.get(\"query\")\n",
    "    if(q != None and len(q)>0):\n",
    "        resultJSON = \"\"\n",
    "        # 先查数据库\n",
    "        resultJSON = search_db(q,DBNames.DBName.value,DBNames.Wiki_TableName.value)\n",
    "        if(resultJSON == None):\n",
    "            # 发起request\n",
    "            resultJSON = w_searcher.getResult_json(q,True)\n",
    "            if(json.loads(resultJSON)['status']=='success'):\n",
    "                # 并更新数据库\n",
    "                insert_db(resultJSON,DBNames.DBName.value,DBNames.Wiki_TableName.value)\n",
    "            print(f\"[query_wiki:] {q}\\n[result_len:] {len(resultJSON)}\\n[result_head100:] {resultJSON[:100]}\")\n",
    "        else:\n",
    "            print(f\"find it({q}) in database\")\n",
    "        return resultJSON\n",
    "    else:\n",
    "        print(\"input param 'query' is empty.\")\n",
    "        return \"input param 'query' is empty.\",400\n",
    "    \n",
    "app.run(host=\"0.0.0.0\",port=\"12015\")\n",
    "\n"
   ]
  },
  {
   "cell_type": "code",
   "execution_count": null,
   "metadata": {},
   "outputs": [],
   "source": []
  }
 ],
 "metadata": {
  "celltoolbar": "Initialization Cell",
  "kernelspec": {
   "display_name": "Python 3",
   "language": "python",
   "name": "python3"
  },
  "language_info": {
   "codemirror_mode": {
    "name": "ipython",
    "version": 3
   },
   "file_extension": ".py",
   "mimetype": "text/x-python",
   "name": "python",
   "nbconvert_exporter": "python",
   "pygments_lexer": "ipython3",
   "version": "3.6.7"
  },
  "toc": {
   "base_numbering": 1,
   "nav_menu": {},
   "number_sections": true,
   "sideBar": true,
   "skip_h1_title": false,
   "title_cell": "Table of Contents",
   "title_sidebar": "Contents",
   "toc_cell": false,
   "toc_position": {
    "height": "calc(100% - 180px)",
    "left": "10px",
    "top": "150px",
    "width": "200px"
   },
   "toc_section_display": true,
   "toc_window_display": true
  }
 },
 "nbformat": 4,
 "nbformat_minor": 2
}
