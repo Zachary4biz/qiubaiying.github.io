{
 "cells": [
  {
   "cell_type": "code",
   "execution_count": 10,
   "metadata": {
    "ExecuteTime": {
     "end_time": "2019-04-11T09:13:23.410482Z",
     "start_time": "2019-04-11T09:13:22.884174Z"
    }
   },
   "outputs": [],
   "source": [
    "from IPython.core.interactiveshell import InteractiveShell\n",
    "InteractiveShell.ast_node_interactivity = \"all\"\n",
    "%matplotlib inline\n",
    "from tqdm import tqdm_notebook\n",
    "import concurrent.futures\n",
    "from multiprocessing import Pool"
   ]
  },
  {
   "cell_type": "code",
   "execution_count": null,
   "metadata": {},
   "outputs": [],
   "source": []
  },
  {
   "cell_type": "markdown",
   "metadata": {},
   "source": [
    "# 【方案一】Wiki系列API"
   ]
  },
  {
   "cell_type": "markdown",
   "metadata": {},
   "source": [
    "## wikipedia\n",
    "- wikipedia | https://pypi.org/project/wikipedia/ "
   ]
  },
  {
   "cell_type": "code",
   "execution_count": 7,
   "metadata": {
    "ExecuteTime": {
     "end_time": "2019-04-04T06:19:04.899509Z",
     "start_time": "2019-04-04T06:19:03.154208Z"
    },
    "deletable": false,
    "editable": false,
    "run_control": {
     "frozen": true
    }
   },
   "outputs": [
    {
     "data": {
      "text/plain": [
       "'A bottle is a narrow-necked container made of an impermeable material (clay, glass, plastic, aluminium, etc.) in various shapes and sizes  to store and transport liquids (water, milk, beer, wine, ink, cooking oil, medicine, soft drinks, shampoo, and chemicals, etc.) and whose mouth at the bottling line can be sealed with an internal stopper, an external bottle cap, a closure, or a conductive \"inner seal\" using induction sealing.\\nSome of the earliest bottles appeared in China, Phoenicia, Crete, and Rome.'"
      ]
     },
     "execution_count": 7,
     "metadata": {},
     "output_type": "execute_result"
    },
    {
     "data": {
      "text/plain": [
       "'A bottle is a narrow-necked container made of an impermeable material (clay, glass, plastic, aluminium, etc.) in various shapes and sizes  to store and transport liquids (water, milk, beer, wine, ink, cooking oil, medicine, soft drinks, shampoo, and chemicals, etc.) and whose mouth at the bottling line can be sealed with an internal stopper, an external bottle cap, a closure, or a conductive \"inner seal\" using induction sealing.'"
      ]
     },
     "execution_count": 7,
     "metadata": {},
     "output_type": "execute_result"
    },
    {
     "data": {
      "text/plain": [
       "['Bottle',\n",
       " 'Bottle It In',\n",
       " 'Coca-Cola',\n",
       " 'Klein bottle',\n",
       " 'Polyethylene terephthalate',\n",
       " 'Bottle Rocket',\n",
       " 'The Bottle',\n",
       " 'Wine bottle',\n",
       " 'Bottle episode',\n",
       " 'Calabash']"
      ]
     },
     "execution_count": 7,
     "metadata": {},
     "output_type": "execute_result"
    }
   ],
   "source": [
    "import wikipedia\n",
    "wikipedia.set_lang(\"en\")\n",
    "wikipedia.summary(\"Bottle\")\n",
    "wikipedia.summary(\"Bottle\",sentences=1)\n",
    "wikipedia.search(\"Bottle\") # 检索Barack"
   ]
  },
  {
   "cell_type": "code",
   "execution_count": 42,
   "metadata": {
    "ExecuteTime": {
     "end_time": "2019-04-04T06:45:25.678226Z",
     "start_time": "2019-04-04T06:45:24.266571Z"
    },
    "scrolled": false
   },
   "outputs": [
    {
     "data": {
      "text/plain": [
       "'China'"
      ]
     },
     "execution_count": 42,
     "metadata": {},
     "output_type": "execute_result"
    },
    {
     "data": {
      "text/plain": [
       "'https://en.wikipedia.org/wiki/China'"
      ]
     },
     "execution_count": 42,
     "metadata": {},
     "output_type": "execute_result"
    },
    {
     "data": {
      "text/plain": [
       "98415"
      ]
     },
     "execution_count": 42,
     "metadata": {},
     "output_type": "execute_result"
    },
    {
     "data": {
      "text/plain": [
       "1963"
      ]
     },
     "execution_count": 42,
     "metadata": {},
     "output_type": "execute_result"
    },
    {
     "data": {
      "text/plain": [
       "'+86'"
      ]
     },
     "execution_count": 42,
     "metadata": {},
     "output_type": "execute_result"
    }
   ],
   "source": [
    "try:\n",
    "    ny = wikipedia.page(\"China\") # 直接获取页面\n",
    "    ny.title\n",
    "    ny.url\n",
    "    len(ny.content)\n",
    "    len(ny.links)\n",
    "    ny.links[0]\n",
    "except wikipedia.DisambiguationError as e:\n",
    "    print(\"目标词条有歧义\")\n",
    "except wikipedia.WikipediaException as e:\n",
    "    print(\"未找到目标词条\")"
   ]
  },
  {
   "cell_type": "markdown",
   "metadata": {},
   "source": [
    "## wikipediaapi\n",
    "- wikipedia-API | https://pypi.org/project/Wikipedia-API/"
   ]
  },
  {
   "cell_type": "code",
   "execution_count": 33,
   "metadata": {
    "ExecuteTime": {
     "end_time": "2019-04-11T10:58:23.021446Z",
     "start_time": "2019-04-11T10:58:22.570290Z"
    }
   },
   "outputs": [
    {
     "data": {
      "text/plain": [
       "[Category:All articles containing potentially dated statements (id: ??, ns: 14),\n",
       " Category:Articles containing potentially dated statements from August 2016 (id: ??, ns: 14),\n",
       " Category:Articles containing potentially dated statements from December 2018 (id: ??, ns: 14),\n",
       " Category:Articles containing potentially dated statements from March 2018 (id: ??, ns: 14),\n",
       " Category:Articles with Curlie links (id: ??, ns: 14),\n",
       " Category:Articles with short description (id: ??, ns: 14),\n",
       " Category:Class-based programming languages (id: ??, ns: 14),\n",
       " Category:Computational notebook (id: ??, ns: 14),\n",
       " Category:Computer science in the Netherlands (id: ??, ns: 14),\n",
       " Category:Cross-platform free software (id: ??, ns: 14),\n",
       " Category:Cross-platform software (id: ??, ns: 14),\n",
       " Category:Dutch inventions (id: ??, ns: 14),\n",
       " Category:Dynamically typed programming languages (id: ??, ns: 14),\n",
       " Category:Educational programming languages (id: ??, ns: 14),\n",
       " Category:Good articles (id: ??, ns: 14),\n",
       " Category:High-level programming languages (id: ??, ns: 14),\n",
       " Category:Information technology in the Netherlands (id: ??, ns: 14),\n",
       " Category:Object-oriented programming languages (id: ??, ns: 14),\n",
       " Category:Programming languages (id: ??, ns: 14),\n",
       " Category:Programming languages created in 1991 (id: ??, ns: 14),\n",
       " Category:Python (programming language) (id: ??, ns: 14),\n",
       " Category:Scripting languages (id: ??, ns: 14),\n",
       " Category:Text-oriented programming languages (id: ??, ns: 14),\n",
       " Category:Use dmy dates from August 2015 (id: ??, ns: 14),\n",
       " Category:Wikipedia articles needing clarification from May 2018 (id: ??, ns: 14),\n",
       " Category:Wikipedia articles with BNF identifiers (id: ??, ns: 14),\n",
       " Category:Wikipedia articles with GND identifiers (id: ??, ns: 14),\n",
       " Category:Wikipedia articles with LCCN identifiers (id: ??, ns: 14),\n",
       " Category:Wikipedia articles with SUDOC identifiers (id: ??, ns: 14)]"
      ]
     },
     "execution_count": 33,
     "metadata": {},
     "output_type": "execute_result"
    },
    {
     "ename": "KeyError",
     "evalue": "'query'",
     "output_type": "error",
     "traceback": [
      "\u001b[0;31m---------------------------------------------------------------------------\u001b[0m",
      "\u001b[0;31mKeyError\u001b[0m                                  Traceback (most recent call last)",
      "\u001b[0;32m<ipython-input-33-a1f737f785dd>\u001b[0m in \u001b[0;36m<module>\u001b[0;34m\u001b[0m\n\u001b[1;32m     14\u001b[0m \u001b[0mcats\u001b[0m \u001b[0;34m=\u001b[0m \u001b[0mpage_py\u001b[0m\u001b[0;34m.\u001b[0m\u001b[0mcategories\u001b[0m \u001b[0;31m# 获取category\u001b[0m\u001b[0;34m\u001b[0m\u001b[0;34m\u001b[0m\u001b[0m\n\u001b[1;32m     15\u001b[0m \u001b[0;34m[\u001b[0m\u001b[0mi\u001b[0m \u001b[0;32mfor\u001b[0m \u001b[0mi\u001b[0m \u001b[0;32min\u001b[0m \u001b[0mcats\u001b[0m\u001b[0;34m.\u001b[0m\u001b[0mvalues\u001b[0m\u001b[0;34m(\u001b[0m\u001b[0;34m)\u001b[0m\u001b[0;34m]\u001b[0m\u001b[0;34m\u001b[0m\u001b[0;34m\u001b[0m\u001b[0m\n\u001b[0;32m---> 16\u001b[0;31m \u001b[0mpage_py\u001b[0m\u001b[0;34m.\u001b[0m\u001b[0mcategorymembers\u001b[0m\u001b[0;34m\u001b[0m\u001b[0;34m\u001b[0m\u001b[0m\n\u001b[0m\u001b[1;32m     17\u001b[0m \u001b[0;31m# # 内容（使用html形式）\u001b[0m\u001b[0;34m\u001b[0m\u001b[0;34m\u001b[0m\u001b[0;34m\u001b[0m\u001b[0m\n\u001b[1;32m     18\u001b[0m \u001b[0;31m# wiki_html=wikipediaapi.Wikipedia(language='en', extract_format=wikipediaapi.ExtractFormat.HTML)\u001b[0m\u001b[0;34m\u001b[0m\u001b[0;34m\u001b[0m\u001b[0;34m\u001b[0m\u001b[0m\n",
      "\u001b[0;32m~/python3/lib/python3.6/site-packages/wikipediaapi/__init__.py\u001b[0m in \u001b[0;36mcategorymembers\u001b[0;34m(self)\u001b[0m\n\u001b[1;32m   1011\u001b[0m         \"\"\"\n\u001b[1;32m   1012\u001b[0m         \u001b[0;32mif\u001b[0m \u001b[0;32mnot\u001b[0m \u001b[0mself\u001b[0m\u001b[0;34m.\u001b[0m\u001b[0m_called\u001b[0m\u001b[0;34m[\u001b[0m\u001b[0;34m'categorymembers'\u001b[0m\u001b[0;34m]\u001b[0m\u001b[0;34m:\u001b[0m\u001b[0;34m\u001b[0m\u001b[0;34m\u001b[0m\u001b[0m\n\u001b[0;32m-> 1013\u001b[0;31m             \u001b[0mself\u001b[0m\u001b[0;34m.\u001b[0m\u001b[0m_fetch\u001b[0m\u001b[0;34m(\u001b[0m\u001b[0;34m'categorymembers'\u001b[0m\u001b[0;34m)\u001b[0m\u001b[0;34m\u001b[0m\u001b[0;34m\u001b[0m\u001b[0m\n\u001b[0m\u001b[1;32m   1014\u001b[0m         \u001b[0;32mreturn\u001b[0m \u001b[0mself\u001b[0m\u001b[0;34m.\u001b[0m\u001b[0m_categorymembers\u001b[0m\u001b[0;34m\u001b[0m\u001b[0;34m\u001b[0m\u001b[0m\n\u001b[1;32m   1015\u001b[0m \u001b[0;34m\u001b[0m\u001b[0m\n",
      "\u001b[0;32m~/python3/lib/python3.6/site-packages/wikipediaapi/__init__.py\u001b[0m in \u001b[0;36m_fetch\u001b[0;34m(self, call)\u001b[0m\n\u001b[1;32m   1015\u001b[0m \u001b[0;34m\u001b[0m\u001b[0m\n\u001b[1;32m   1016\u001b[0m     \u001b[0;32mdef\u001b[0m \u001b[0m_fetch\u001b[0m\u001b[0;34m(\u001b[0m\u001b[0mself\u001b[0m\u001b[0;34m,\u001b[0m \u001b[0mcall\u001b[0m\u001b[0;34m)\u001b[0m \u001b[0;34m->\u001b[0m \u001b[0;34m'WikipediaPage'\u001b[0m\u001b[0;34m:\u001b[0m\u001b[0;34m\u001b[0m\u001b[0;34m\u001b[0m\u001b[0m\n\u001b[0;32m-> 1017\u001b[0;31m         \u001b[0mgetattr\u001b[0m\u001b[0;34m(\u001b[0m\u001b[0mself\u001b[0m\u001b[0;34m.\u001b[0m\u001b[0mwiki\u001b[0m\u001b[0;34m,\u001b[0m \u001b[0;34m'_'\u001b[0m \u001b[0;34m+\u001b[0m \u001b[0mcall\u001b[0m\u001b[0;34m)\u001b[0m\u001b[0;34m(\u001b[0m\u001b[0mself\u001b[0m\u001b[0;34m)\u001b[0m\u001b[0;34m\u001b[0m\u001b[0;34m\u001b[0m\u001b[0m\n\u001b[0m\u001b[1;32m   1018\u001b[0m         \u001b[0mself\u001b[0m\u001b[0;34m.\u001b[0m\u001b[0m_called\u001b[0m\u001b[0;34m[\u001b[0m\u001b[0mcall\u001b[0m\u001b[0;34m]\u001b[0m \u001b[0;34m=\u001b[0m \u001b[0;32mTrue\u001b[0m\u001b[0;34m\u001b[0m\u001b[0;34m\u001b[0m\u001b[0m\n\u001b[1;32m   1019\u001b[0m         \u001b[0;32mreturn\u001b[0m \u001b[0mself\u001b[0m\u001b[0;34m\u001b[0m\u001b[0;34m\u001b[0m\u001b[0m\n",
      "\u001b[0;32m~/python3/lib/python3.6/site-packages/wikipediaapi/__init__.py\u001b[0m in \u001b[0;36m_categorymembers\u001b[0;34m(self, page)\u001b[0m\n\u001b[1;32m    438\u001b[0m             \u001b[0mparams\u001b[0m\u001b[0;34m\u001b[0m\u001b[0;34m\u001b[0m\u001b[0m\n\u001b[1;32m    439\u001b[0m         )\n\u001b[0;32m--> 440\u001b[0;31m         \u001b[0mself\u001b[0m\u001b[0;34m.\u001b[0m\u001b[0m_common_attributes\u001b[0m\u001b[0;34m(\u001b[0m\u001b[0mraw\u001b[0m\u001b[0;34m[\u001b[0m\u001b[0;34m'query'\u001b[0m\u001b[0;34m]\u001b[0m\u001b[0;34m,\u001b[0m \u001b[0mpage\u001b[0m\u001b[0;34m)\u001b[0m\u001b[0;34m\u001b[0m\u001b[0;34m\u001b[0m\u001b[0m\n\u001b[0m\u001b[1;32m    441\u001b[0m         \u001b[0mv\u001b[0m \u001b[0;34m=\u001b[0m \u001b[0mraw\u001b[0m\u001b[0;34m[\u001b[0m\u001b[0;34m'query'\u001b[0m\u001b[0;34m]\u001b[0m\u001b[0;34m\u001b[0m\u001b[0;34m\u001b[0m\u001b[0m\n\u001b[1;32m    442\u001b[0m         \u001b[0;32mwhile\u001b[0m \u001b[0;34m'continue'\u001b[0m \u001b[0;32min\u001b[0m \u001b[0mraw\u001b[0m\u001b[0;34m:\u001b[0m\u001b[0;34m\u001b[0m\u001b[0;34m\u001b[0m\u001b[0m\n",
      "\u001b[0;31mKeyError\u001b[0m: 'query'"
     ]
    }
   ],
   "source": [
    "import wikipediaapi\n",
    "wiki_wiki = wikipediaapi.Wikipedia('en')\n",
    "page_py = wiki_wiki.page('Python_(programming_language)')\n",
    "\n",
    "# page_py.exists() # 检查页面是否存在\n",
    "# page_py.title\n",
    "# page_py.summary # 获取summary\n",
    "# page_py.sections # 获取sections\n",
    "# page_py.sections[0].sections # 获取二级section\n",
    "# page_py.canonicalurl # 获得页面的url | 区别未知\n",
    "# page_py.fullurl # 获得页面的url | 区别未知\n",
    "# page_py.text # 内容\n",
    "# page_py_an = page_py.langlinks['an'] # 获取当前页面其他语言形式\n",
    "cats = page_py.categories # 获取category\n",
    "[i for i in cats.values()]\n",
    "\n",
    "# # 内容（使用html形式）\n",
    "# wiki_html=wikipediaapi.Wikipedia(language='en', extract_format=wikipediaapi.ExtractFormat.HTML)\n",
    "# wiki_html.page(\"India\").text\n",
    "\n",
    "# 获取页面中所有连接（指向其他wiki页面的链接）\n",
    "# links = page_py.links\n",
    "# print(links.values())\n",
    "# for title in sorted(links.keys()):\n",
    "#     print(title,links[title])"
   ]
  },
  {
   "cell_type": "markdown",
   "metadata": {},
   "source": [
    "### 获取category下所有的页面"
   ]
  },
  {
   "cell_type": "code",
   "execution_count": 163,
   "metadata": {
    "ExecuteTime": {
     "end_time": "2019-04-10T06:40:23.297603Z",
     "start_time": "2019-04-10T06:40:06.320666Z"
    },
    "scrolled": true
   },
   "outputs": [
    {
     "name": "stdout",
     "output_type": "stream",
     "text": [
      "Category members: Category:Physics\n",
      "*: Category:Businesspeople from Goa (ns: 14)\n",
      "**: Category:Businesswomen from Goa (ns: 14)\n",
      "*: Category:Communications in Goa (ns: 14)\n",
      "**: Category:Media in Goa (ns: 14)\n",
      "***: Category:International Film Festival of India (ns: 14)\n",
      "***: Category:Journalists from Goa (ns: 14)\n",
      "***: Category:Radio stations in Goa (ns: 14)\n",
      "***: Category:Television stations in Goa (ns: 14)\n",
      "*: Category:Companies based in Goa (ns: 14)\n",
      "*: Category:Dams in Goa (ns: 14)\n",
      "*: Category:Transport in Margao (ns: 14)\n",
      "*: Category:Transport in Panaji (ns: 14)\n",
      "*: Category:Tourism in Goa (ns: 14)\n",
      "**: Category:Hotels in Goa (ns: 14)\n",
      "**: Category:Tourist attractions in Goa (ns: 14)\n",
      "***: Category:Tourist attractions in North Goa district (ns: 14)\n",
      "****: Category:Beaches of North Goa district (ns: 14)\n",
      "****: Category:Chorão (Island) (ns: 14)\n",
      "*****: Category:Churches in Chorão Island (ns: 14)\n",
      "******: Category:Roman Catholic churches in Chorão Island (ns: 14)\n",
      "*****: Category:People of Chorão (Island) (ns: 14)\n",
      "****: Category:Churches in North Goa district (ns: 14)\n",
      "*****: Category:Churches in Chorão Island (ns: 14)\n",
      "******: Category:Roman Catholic churches in Chorão Island (ns: 14)\n",
      "*****: Category:Churches in Old Goa (ns: 14)\n",
      "******: Category:Roman Catholic churches in Old Goa (ns: 14)\n",
      "****: Category:Hindu temples in North Goa district (ns: 14)\n",
      "****: Category:Tourist attractions in Panaji (ns: 14)\n",
      "***: Category:Tourist attractions in South Goa district (ns: 14)\n",
      "****: Category:Beaches of South Goa district (ns: 14)\n",
      "****: Category:Churches in South Goa district (ns: 14)\n",
      "****: Category:Hindu temples in South Goa district (ns: 14)\n",
      "***: Category:Beaches of Goa (ns: 14)\n",
      "****: Category:Beaches of North Goa district (ns: 14)\n",
      "****: Category:Beaches of South Goa district (ns: 14)\n",
      "***: Category:Churches in Goa (ns: 14)\n",
      "****: Category:Churches in North Goa district (ns: 14)\n",
      "*****: Category:Churches in Chorão Island (ns: 14)\n",
      "******: Category:Roman Catholic churches in Chorão Island (ns: 14)\n",
      "*****: Category:Churches in Old Goa (ns: 14)\n",
      "******: Category:Roman Catholic churches in Old Goa (ns: 14)\n",
      "****: Category:Churches in South Goa district (ns: 14)\n",
      "****: Category:Roman Catholic churches in Goa (ns: 14)\n",
      "*****: Category:Roman Catholic churches in Chorão Island (ns: 14)\n",
      "******: Category:Roman Catholic chapels in Chorão Island (ns: 14)\n",
      "*****: Category:Roman Catholic churches in Old Goa (ns: 14)\n",
      "***: Category:Festivals in Goa (ns: 14)\n",
      "***: Category:Forts in Goa (ns: 14)\n",
      "***: Category:Hindu temples in Goa (ns: 14)\n",
      "****: Category:Hindu temples in North Goa district (ns: 14)\n",
      "****: Category:Hindu temples in South Goa district (ns: 14)\n",
      "****: Category:Shiva temples in Goa (ns: 14)\n",
      "****: Category:Bhagavathi temples (ns: 14)\n",
      "*****: Category:Bhagavathi temples in Kerala (ns: 14)\n",
      "***: Category:International Film Festival of India (ns: 14)\n",
      "***: Category:Tourist attractions in Konkan (ns: 14)\n",
      "***: Category:Museums in Goa (ns: 14)\n",
      "***: Category:Tourist attractions in Panaji (ns: 14)\n",
      "***: Category:Protected areas of Goa (ns: 14)\n",
      "****: Category:National parks in Goa (ns: 14)\n",
      "****: Category:Wildlife sanctuaries in Goa (ns: 14)\n",
      "*****: Category:Bird sanctuaries of Goa (ns: 14)\n",
      "*****: Category:Wildlife sanctuaries of the Western Ghats (ns: 14)\n",
      "***: Category:Sports venues in Goa (ns: 14)\n",
      "****: Category:Cricket grounds in Goa (ns: 14)\n",
      "***: Category:Waterfalls of Goa (ns: 14)\n",
      "*: Category:Transport in Goa (ns: 14)\n",
      "**: Category:Transport in North Goa district (ns: 14)\n",
      "***: Category:Transport in Panaji (ns: 14)\n",
      "***: Category:Railway stations in North Goa district (ns: 14)\n",
      "**: Category:Transport in South Goa district (ns: 14)\n",
      "***: Category:Transport in Margao (ns: 14)\n",
      "***: Category:Railway stations in South Goa district (ns: 14)\n",
      "**: Category:Airports in Goa (ns: 14)\n",
      "**: Category:Bridges in Goa (ns: 14)\n",
      "**: Category:Mountain passes of Goa (ns: 14)\n",
      "**: Category:Rail transport in Goa (ns: 14)\n",
      "***: Category:Hubli railway division (ns: 14)\n",
      "***: Category:Karwar railway division (ns: 14)\n",
      "***: Category:Konkan Railway (ns: 14)\n",
      "****: Category:Divisions of Konkan Railway (ns: 14)\n",
      "****: Category:Karwar railway division (ns: 14)\n",
      "****: Category:Railway stations along Konkan Railway line (ns: 14)\n",
      "****: Category:Ratnagiri railway division (ns: 14)\n",
      "***: Category:Railway stations in Goa (ns: 14)\n",
      "****: Category:Railway junction stations in Goa (ns: 14)\n",
      "****: Category:Railway stations in North Goa district (ns: 14)\n",
      "****: Category:Railway stations in South Goa district (ns: 14)\n",
      "**: Category:Roads in Goa (ns: 14)\n",
      "***: Category:National Highways in Goa (ns: 14)\n",
      "**: Category:Transport in Margao (ns: 14)\n",
      "**: Category:Transport in Panaji (ns: 14)\n",
      "**: Category:Transport in Vasco da Gama, Goa (ns: 14)\n"
     ]
    }
   ],
   "source": [
    "# 获取category在的所有页面\n",
    "def print_categorymembers(categorymembers, level=0, max_level=5):\n",
    "        for c in categorymembers.values():\n",
    "            if c.ns==14:\n",
    "                print(\"%s: %s (ns: %d)\" % (\"*\" * (level + 1), c.title, c.ns))\n",
    "            if c.ns == wikipediaapi.Namespace.CATEGORY and level < max_level:\n",
    "                print_categorymembers(c.categorymembers, level=level + 1, max_level=max_level)\n",
    "\n",
    "cat = wiki_wiki.page(\"Category:Economy of Goa\")\n",
    "print(\"Category members: Category:Physics\")\n",
    "print_categorymembers(cat.categorymembers)"
   ]
  },
  {
   "cell_type": "markdown",
   "metadata": {},
   "source": [
    "### 获取category下的所有子孙category"
   ]
  },
  {
   "cell_type": "code",
   "execution_count": 153,
   "metadata": {
    "ExecuteTime": {
     "end_time": "2019-04-10T06:33:53.717557Z",
     "start_time": "2019-04-10T06:33:53.480940Z"
    }
   },
   "outputs": [],
   "source": [
    "# targetCategory = \"History of metallurgy in the Indian subcontinent\"\n",
    "targetCategory = \"China\"\n",
    "targetCategory = \"Economy of Goa\"\n",
    "\n",
    "cat = wiki_wiki.page(f\"Category:{targetCategory}\")\n",
    "sub_cat = [i.title for i in cat.categorymembers.values() if i.ns == 14]\n",
    "portal = [i.title for i in cat.categorymembers.values() if i.ns == 100]"
   ]
  },
  {
   "cell_type": "code",
   "execution_count": 155,
   "metadata": {
    "ExecuteTime": {
     "end_time": "2019-04-10T06:34:16.340603Z",
     "start_time": "2019-04-10T06:34:16.324228Z"
    }
   },
   "outputs": [
    {
     "name": "stdout",
     "output_type": "stream",
     "text": [
      "Category:Economy of Goa\n",
      "├── Businesspeople from Goa\n",
      "├── Communications in Goa\n",
      "├── Companies based in Goa\n",
      "├── Dams in Goa\n",
      "├── Tourism in Goa\n",
      "├── Transport in Goa\n",
      "├── Transport in Margao\n",
      "└── Transport in Panaji\n",
      "\n"
     ]
    }
   ],
   "source": [
    "from treelib import Node, Tree\n",
    "tree = Tree()\n",
    "rootNode = tree.create_node(cat.title)\n",
    "for i in cat.categorymembers.values():\n",
    "     if i.ns == 14:\n",
    "        _ = tree.create_node(i.title.split(\":\")[1],parent=rootNode.identifier)\n",
    "        \n",
    "tree.show()"
   ]
  },
  {
   "cell_type": "markdown",
   "metadata": {},
   "source": [
    "### 获取树结构"
   ]
  },
  {
   "cell_type": "code",
   "execution_count": 32,
   "metadata": {
    "ExecuteTime": {
     "end_time": "2019-04-11T02:10:46.492902Z",
     "start_time": "2019-04-11T02:10:45.152663Z"
    },
    "scrolled": false
   },
   "outputs": [
    {
     "data": {
      "text/plain": [
       "True"
      ]
     },
     "execution_count": 32,
     "metadata": {},
     "output_type": "execute_result"
    },
    {
     "name": "stdout",
     "output_type": "stream",
     "text": [
      "Economic history of India\n",
      "├── Child labour in India\n",
      "├── Colonial Indian companies\n",
      "│   ├── British East India Company\n",
      "│   │   ├── British East India Company people\n",
      "│   │   ├── Medals of the Honourable East India Company\n",
      "│   │   ├── Military history of the British East India Company\n",
      "│   │   ├── Properties of the East India Company\n",
      "│   │   ├── Ships of the British East India Company\n",
      "│   │   └── Treaties of the British East India Company\n",
      "│   ├── Dutch East India Company\n",
      "│   ├── French East India Company\n",
      "│   └── Swedish East India Company\n",
      "├── Customary units in India\n",
      "├── Defunct companies of India\n",
      "├── Defunct trade unions of India\n",
      "├── Diamonds originating in India\n",
      "├── Economic history of India (1947–present)\n",
      "├── Economic history of Karnataka\n",
      "├── Economic history of Tamil Nadu\n",
      "├── Economy of British India\n",
      "├── Financial history of India\n",
      "├── Five-year plans of India\n",
      "├── Goods manufactured in India\n",
      "├── Historical currencies of India\n",
      "├── History of agriculture in India\n",
      "├── History of companies of India\n",
      "├── History of forestry in India\n",
      "├── History of taxation in India\n",
      "├── Indian inventions\n",
      "├── Industrial history of India\n",
      "├── Nationalisation in India\n",
      "├── Pepper trade\n",
      "├── Portuguese India Armadas\n",
      "└── Trading posts in India\n",
      "\n"
     ]
    },
    {
     "data": {
      "text/plain": [
       "'Economic history of India,Child labour in India,Colonial Indian companies,British East India Company,British East India Company people,Medals of the Honourable East India Company,Military history of the British East India Company,Properties of the East India Company,Ships of the British East India Company,Treaties of the British East India Company,Dutch East India Company,French East India Company,Swedish East India Company,Customary units in India,Defunct companies of India,Defunct trade unions of India,Diamonds originating in India,Economic history of India (1947–present),Economic history of Karnataka,Economic history of Tamil Nadu,Economy of British India,Financial history of India,Five-year plans of India,Goods manufactured in India,Historical currencies of India,History of agriculture in India,History of companies of India,History of forestry in India,History of taxation in India,Indian inventions,Industrial history of India,Nationalisation in India,Pepper trade,Portuguese India Armadas,Trading posts in India'"
      ]
     },
     "execution_count": 32,
     "metadata": {},
     "output_type": "execute_result"
    },
    {
     "data": {
      "text/plain": [
       "'Economic history of India,Child labour in India,Colonial Indian companies,Customary units in India,Defunct companies of India,Defunct trade unions of India,Diamonds originating in India,Economic history of India (1947–present),Economic history of Karnataka,Economic history of Tamil Nadu,Economy of British India,Financial history of India,Five-year plans of India,Goods manufactured in India,Historical currencies of India,History of agriculture in India,History of companies of India,History of forestry in India,History of taxation in India,Indian inventions,Industrial history of India,Nationalisation in India,Pepper trade,Portuguese India Armadas,Trading posts in India,British East India Company,Dutch East India Company,French East India Company,Swedish East India Company,British East India Company people,Medals of the Honourable East India Company,Military history of the British East India Company,Properties of the East India Company,Ships of the British East India Company,Treaties of the British East India Company'"
      ]
     },
     "execution_count": 32,
     "metadata": {},
     "output_type": "execute_result"
    },
    {
     "data": {
      "text/plain": [
       "'Economic history of India,Trading posts in India,Portuguese India Armadas,Pepper trade,Nationalisation in India,Industrial history of India,Indian inventions,History of taxation in India,History of forestry in India,History of agriculture in India,Goods manufactured in India,Five-year plans of India,Financial history of India,Economy of British India,Economic history of Tamil Nadu,Economic history of Karnataka,Economic history of India (1947–present),Diamonds originating in India,Defunct trade unions of India,Defunct companies of India,Customary units in India,Historical currencies of India,History of companies of India,Colonial Indian companies,Child labour in India,British East India Company,Dutch East India Company,French East India Company,Swedish East India Company,Treaties of the British East India Company,Ships of the British East India Company,Properties of the East India Company,Military history of the British East India Company,Medals of the Honourable East India Company,British East India Company people'"
      ]
     },
     "execution_count": 32,
     "metadata": {},
     "output_type": "execute_result"
    }
   ],
   "source": [
    "def putSubInTree(tree,current_node,cur_cat,max_level=3,init_level=0):\n",
    "    for sub_cat in cur_cat.categorymembers.values():\n",
    "        if sub_cat.ns == 14:\n",
    "            sub_node = tree.create_node(sub_cat.title.split(\":\")[1],parent=current_node.identifier)\n",
    "            if init_level < max_level:\n",
    "                init_level = init_level + 1\n",
    "                putSubInTree(tree,sub_node,sub_cat,max_level,init_level)\n",
    "    return None\n",
    "\n",
    "tree = Tree()\n",
    "targetCategory = urllib.parse.quote(\"Hospitals in india\")\n",
    "targetCategory = re.sub(\"india\",\"India\",\"Economic_history_of_india\")\n",
    "cat = wiki_wiki.page(f\"Category:{targetCategory}\")\n",
    "# cat = wiki_wiki.page(\"Category:Hospitals_in_India\")\n",
    "cat.exists()\n",
    "\n",
    "currentNode = tree.create_node(cat.title.split(\":\")[1])\n",
    "putSubInTree(tree,currentNode,cat,3)\n",
    "tree.show()\n",
    "\n",
    "','.join([tree[node].tag for node in tree.expand_tree(mode=Tree.DEPTH)])\n",
    "','.join([tree[node].tag for node in tree.expand_tree(mode=Tree.WIDTH)])\n",
    "','.join([tree[node].tag for node in tree.expand_tree(mode=Tree.ZIGZAG)])"
   ]
  },
  {
   "cell_type": "markdown",
   "metadata": {},
   "source": [
    "### 获取树结构（带page）"
   ]
  },
  {
   "cell_type": "code",
   "execution_count": 200,
   "metadata": {
    "ExecuteTime": {
     "end_time": "2019-04-10T10:57:46.330205Z",
     "start_time": "2019-04-10T10:57:46.303313Z"
    }
   },
   "outputs": [
    {
     "data": {
      "text/plain": [
       "'Category:Hospitals_in_india'"
      ]
     },
     "execution_count": 200,
     "metadata": {},
     "output_type": "execute_result"
    },
    {
     "data": {
      "text/plain": [
       "'Category:Hospitals_in_India'"
      ]
     },
     "execution_count": 200,
     "metadata": {},
     "output_type": "execute_result"
    }
   ],
   "source": [
    "f\"Category:{targetCategory}\"\n",
    "\"Category:Hospitals_in_India\""
   ]
  },
  {
   "cell_type": "code",
   "execution_count": 14,
   "metadata": {
    "ExecuteTime": {
     "end_time": "2019-04-11T01:51:43.487112Z",
     "start_time": "2019-04-11T01:51:42.276982Z"
    }
   },
   "outputs": [
    {
     "data": {
      "text/plain": [
       "True"
      ]
     },
     "execution_count": 14,
     "metadata": {},
     "output_type": "execute_result"
    },
    {
     "name": "stdout",
     "output_type": "stream",
     "text": [
      "Economic history of India\n",
      "├── Child labour in India\n",
      "│   ├── [page] Blood Bricks Campaign\n",
      "│   ├── [page] Child labour in India\n",
      "│   ├── [page] Child labour in the diamond industry\n",
      "│   ├── [page] Children of Mini-Japan\n",
      "│   ├── [page] Children of the Pyre\n",
      "│   ├── [page] Om Prakash Gurjar\n",
      "│   └── [page] Sumangali (child labour)\n",
      "├── Colonial Indian companies\n",
      "│   ├── British East India Company\n",
      "│   │   ├── British East India Company people\n",
      "│   │   ├── Medals of the Honourable East India Company\n",
      "│   │   ├── Military history of the British East India Company\n",
      "│   │   ├── Properties of the East India Company\n",
      "│   │   ├── Ships of the British East India Company\n",
      "│   │   ├── Treaties of the British East India Company\n",
      "│   │   ├── [page] Addiscombe Military Seminary\n",
      "│   │   ├── [page] Amboyna massacre\n",
      "│   │   ├── [page] Anchuthengu Fort\n",
      "│   │   ├── [page] Armagaon\n",
      "│   │   ├── [page] Batta\n",
      "│   │   ├── [page] Battle of Buxar\n",
      "│   │   ├── [page] Battle of Jhelum (1857)\n",
      "│   │   ├── [page] Battle of Miranpur Katra\n",
      "│   │   ├── [page] Bengal Army\n",
      "│   │   ├── [page] Bombay Army\n",
      "│   │   ├── [page] Boston Tea Party\n",
      "│   │   ├── [page] British Bencoolen\n",
      "│   │   ├── [page] Calico Acts\n",
      "│   │   ├── [page] Causes of the Indian Rebellion of 1857\n",
      "│   │   ├── [page] Charter Act of 1793\n",
      "│   │   ├── [page] Charter Act of 1813\n",
      "│   │   ├── [page] Chovvakkaran Moosa\n",
      "│   │   ├── [page] Company rule in India\n",
      "│   │   ├── [page] Company style\n",
      "│   │   ├── [page] Cornwallis Code\n",
      "│   │   ├── [page] Court of Wards (India)\n",
      "│   │   ├── [page] East India Bill\n",
      "│   │   ├── [page] East India Club\n",
      "│   │   ├── [page] East India Company\n",
      "│   │   ├── [page] East India Company College\n",
      "│   │   ├── [page] East India Docks\n",
      "│   │   ├── [page] East India Stock Dividend Redemption Act 1873\n",
      "│   │   ├── [page] Economy of India under Company rule\n",
      "│   │   ├── [page] Elliot Macnaghten\n",
      "│   │   ├── [page] Evangelical chaplains in India\n",
      "│   │   ├── [page] Flag of the East India Company\n",
      "│   │   ├── [page] Gabriel Boughton\n",
      "│   │   ├── [page] Gabriel Powell (rebel)\n",
      "│   │   ├── [page] Gentoo Code\n",
      "│   │   ├── [page] George Gabriel Powell\n",
      "│   │   ├── [page] George Parbury\n",
      "│   │   ├── [page] George Smyttan\n",
      "│   │   ├── [page] George Swinton (botanist)\n",
      "│   │   ├── [page] Gomastha\n",
      "│   │   ├── [page] Government General Hospital, Chennai\n",
      "│   │   ├── [page] Harry Gough\n",
      "│   │   ├── [page] Henry Edward Landor Thuillier\n",
      "│   │   ├── [page] Henry Meriton\n",
      "│   │   ├── [page] Henry St George Tucker\n",
      "│   │   ├── [page] Henry Willock\n",
      "│   │   ├── [page] Ho Jamalo\n",
      "│   │   ├── [page] India Office Records\n",
      "│   │   ├── [page] Indian Rebellion of 1857\n",
      "│   │   ├── [page] James Macadam Hare\n",
      "│   │   ├── [page] James Oliphant\n",
      "│   │   ├── [page] John Loch\n",
      "│   │   ├── [page] John Smith-Burges\n",
      "│   │   ├── [page] Jotedar\n",
      "│   │   ├── [page] Kintoor\n",
      "│   │   ├── [page] Lascar\n",
      "│   │   ├── [page] Madras Army\n",
      "│   │   ├── [page] Madras Observatory\n",
      "│   │   ├── [page] Mahua Dabar\n",
      "│   │   ├── [page] Massacre of Benares\n",
      "│   │   ├── [page] Mayor's Court\n",
      "│   │   ├── [page] Paika Rebellion\n",
      "│   │   ├── [page] Penang dollar\n",
      "│   │   ├── [page] Pitt's India Act\n",
      "│   │   ├── [page] Pratt–Yorke opinion\n",
      "│   │   ├── [page] Presidency armies\n",
      "│   │   ├── [page] President of the Board of Control\n",
      "│   │   ├── [page] Regulating Act of 1773\n",
      "│   │   ├── [page] Robert Louis Houston\n",
      "│   │   ├── [page] Ross Donnelly Mangles\n",
      "│   │   ├── [page] Scottish orientalism\n",
      "│   │   ├── [page] Secretary to the Board of Control\n",
      "│   │   ├── [page] Sicca rupee\n",
      "│   │   ├── [page] Sir George Robinson, 1st Baronet\n",
      "│   │   ├── [page] Star of India (flag)\n",
      "│   │   ├── [page] Subsidiary alliance\n",
      "│   │   ├── [page] Suetonius Grant Heatly\n",
      "│   │   ├── [page] Supreme Council of Bengal\n",
      "│   │   ├── [page] Surat Presidency\n",
      "│   │   ├── [page] Tea Act\n",
      "│   │   ├── [page] The Asiatic Journal and Monthly Register for British India and its Dependencies\n",
      "│   │   ├── [page] Thomas Moody (1779–1849)\n",
      "│   │   ├── [page] Thuggee and Dacoity Department\n",
      "│   │   ├── [page] Timeline of the Indian Rebellion of 1857\n",
      "│   │   ├── [page] Timur ruby\n",
      "│   │   ├── [page] Treaty of Allahabad\n",
      "│   │   ├── [page] William Fullerton Elphinstone\n",
      "│   │   ├── [page] William Henry Carmichael-Smyth\n",
      "│   │   ├── [page] William Tippet\n",
      "│   │   ├── [page] William Wigram\n",
      "│   │   └── [page] Zamindars of Bengal\n",
      "│   ├── Dutch East India Company\n",
      "│   ├── French East India Company\n",
      "│   ├── Swedish East India Company\n",
      "│   ├── [page] Casa da Índia\n",
      "│   ├── [page] Courteen association\n",
      "│   ├── [page] Danish East India Company\n",
      "│   ├── [page] Dutch East India Company\n",
      "│   ├── [page] East India Company\n",
      "│   ├── [page] French East India Company\n",
      "│   ├── [page] Ostend Company\n",
      "│   └── [page] Portuguese East India Company\n",
      "├── Customary units in India\n",
      "├── Defunct companies of India\n",
      "├── Defunct trade unions of India\n",
      "├── Diamonds originating in India\n",
      "├── Economic history of India (1947–present)\n",
      "├── Economic history of Karnataka\n",
      "├── Economic history of Tamil Nadu\n",
      "├── Economy of British India\n",
      "├── Financial history of India\n",
      "├── Five-year plans of India\n",
      "├── Goods manufactured in India\n",
      "├── Historical currencies of India\n",
      "├── History of agriculture in India\n",
      "├── History of companies of India\n",
      "│   ├── [page] History of Kingfisher Airlines\n",
      "│   └── [page] Timeline of Maruti Suzuki\n",
      "├── History of forestry in India\n",
      "├── History of taxation in India\n",
      "├── Indian inventions\n",
      "├── Industrial history of India\n",
      "├── Nationalisation in India\n",
      "├── Pepper trade\n",
      "├── Portuguese India Armadas\n",
      "├── Trading posts in India\n",
      "├── [page] 2007 West Bengal food riots\n",
      "├── [page] 2010 Indian onion crisis\n",
      "├── [page] 2nd Portuguese India Armada (Cabral, 1500)\n",
      "├── [page] An Essay upon the Cultivation of the Lands, and Improvements of the Revenues, of Bengal\n",
      "├── [page] Badla (stock trading)\n",
      "├── [page] Bengal Bubble of 1769\n",
      "├── [page] Bombay Burmah Trading Corporation\n",
      "├── [page] Bombay Plan\n",
      "├── [page] Boxwallah\n",
      "├── [page] Coinage of India\n",
      "├── [page] Cooperative movement in India\n",
      "├── [page] Darjeeling Planters' Club\n",
      "├── [page] Economic history of India\n",
      "├── [page] Economy of India under Company rule\n",
      "├── [page] Economy of India under the British Raj\n",
      "├── [page] Economy of Rashtrakuta empire of Manyakheta\n",
      "├── [page] Economy of Western Ganga kingdom\n",
      "├── [page] Economy of the Hoysala Empire\n",
      "├── [page] Economy of the Kingdom of Mysore\n",
      "├── [page] Ethora\n",
      "├── [page] Five Hundred Lords of Ayyavolu\n",
      "├── [page] Five-Year Plans of India\n",
      "├── [page] Golghar\n",
      "├── [page] Great Depression in India\n",
      "├── [page] Green Revolution in India\n",
      "├── [page] History of tea in India\n",
      "├── [page] History of the rupee\n",
      "├── [page] Hundi\n",
      "├── [page] Indian Currency Committee\n",
      "├── [page] Indo-Roman trade relations\n",
      "├── [page] Indo–Roman relations\n",
      "├── [page] Inland Customs Line\n",
      "├── [page] International Rubber Regulation Agreement\n",
      "├── [page] List of oldest companies in India\n",
      "├── [page] Maktha\n",
      "├── [page] Measurement of land in Punjab\n",
      "├── [page] Metrication in India\n",
      "├── [page] Monetary policy of India\n",
      "├── [page] Muslin trade in Bengal\n",
      "├── [page] Nanadesis\n",
      "├── [page] Non-cooperation movement\n",
      "├── [page] Paik system\n",
      "├── [page] Pargana\n",
      "├── [page] Philip Mason\n",
      "├── [page] Portuguese India Armadas\n",
      "├── [page] Postage stamps and postal history of the Indian states\n",
      "├── [page] Rewari metal work\n",
      "├── [page] Romesh Chunder Dutt\n",
      "├── [page] Royal Commission on Opium\n",
      "├── [page] Ryotwari\n",
      "├── [page] Shreni\n",
      "├── [page] Spice trade\n",
      "├── [page] Timeline of the economy of the Indian subcontinent\n",
      "├── [page] Trade between Western Europe and the Mughal Empire in the 17th century\n",
      "└── [page] Trade guilds of South India\n",
      "\n"
     ]
    }
   ],
   "source": [
    "import urllib\n",
    "import re\n",
    "from treelib import Node, Tree\n",
    "import wikipediaapi\n",
    "wiki_wiki = wikipediaapi.Wikipedia('en')\n",
    "\n",
    "def putSubInTree_withPages(tree,current_node,cur_cat,max_level=3,init_level=0):\n",
    "    for sub_cat in cur_cat.categorymembers.values():\n",
    "        if sub_cat.ns == 14:\n",
    "            sub_node = tree.create_node(sub_cat.title.split(\":\")[1],parent=current_node.identifier)\n",
    "            if init_level < max_level:\n",
    "                init_level = init_level + 1\n",
    "                putSubInTree_withPages(tree,sub_node,sub_cat,max_level,init_level)\n",
    "        elif sub_cat.ns == 0:\n",
    "            _ = tree.create_node(\"[page] \"+sub_cat.title,parent=current_node.identifier)\n",
    "    return None\n",
    "\n",
    "tree = Tree()\n",
    "targetCategory = urllib.parse.quote(\"Hospitals in india\")\n",
    "targetCategory = re.sub(\"india\",\"India\",\"Economic_history_of_india\")\n",
    "cat = wiki_wiki.page(f\"Category:{targetCategory}\")\n",
    "# cat = wiki_wiki.page(\"Category:Hospitals_in_India\")\n",
    "cat.exists()\n",
    "\n",
    "currentNode = tree.create_node(cat.title.split(\":\")[1])\n",
    "putSubInTree_withPages(tree,currentNode,cat,3)\n",
    "tree.show()\n",
    "\n"
   ]
  },
  {
   "cell_type": "code",
   "execution_count": 35,
   "metadata": {
    "ExecuteTime": {
     "end_time": "2019-04-11T03:15:57.031435Z",
     "start_time": "2019-04-11T02:17:10.068440Z"
    }
   },
   "outputs": [
    {
     "name": "stdout",
     "output_type": "stream",
     "text": [
      "total: 343\n"
     ]
    },
    {
     "data": {
      "text/plain": [
       "[['Timeline', 'Timeline_of_Indian_history'],\n",
       " ['Astronomy', 'Indian_astronomy'],\n",
       " ['Economics', 'Economic_history_of_India']]"
      ]
     },
     "execution_count": 35,
     "metadata": {},
     "output_type": "execute_result"
    },
    {
     "data": {
      "application/vnd.jupyter.widget-view+json": {
       "model_id": "6a47a5a19f4d4148858f3aaaed64fa01",
       "version_major": 2,
       "version_minor": 0
      },
      "text/plain": [
       "HBox(children=(IntProgress(value=0, max=339), HTML(value='')))"
      ]
     },
     "metadata": {},
     "output_type": "display_data"
    },
    {
     "name": "stdout",
     "output_type": "stream",
     "text": [
      "at Maritime,Indian_maritime_history\n",
      "    bk not exists: Indian_maritime_history\n",
      "    neither exists: Maritime & Indian_maritime_history\n",
      "at Mathematics,Indian_mathematics\n",
      "at Metallurgy,History_of_metallurgy_in_the_Indian_subcontinent\n",
      "    bk not exists: History_of_metallurgy_in_the_Indian_subcontinent\n",
      "at Military,Military_history_of_India\n",
      "at Postal,Postage_stamps_and_postal_history_of_India\n",
      "    bk not exists: Postage_stamps_and_postal_history_of_India\n",
      "    neither exists: Postal & Postage_stamps_and_postal_history_of_India\n",
      "at Science_and_technology,History_of_science_and_technology_in_the_Indian_subcontinent\n",
      "    bk not exists: History_of_science_and_technology_in_the_Indian_subcontinent\n",
      "at Stone_Age,South_Asian_Stone_Age\n",
      "    bk not exists: South_Asian_Stone_Age\n",
      "at Indus_Valley_Civilization,Indus_Valley_Civilization\n",
      "at Vedic_period,Vedic_period\n",
      "at Mahajanapadas,Mahajanapada\n",
      "    bk not exists: Mahajanapada\n",
      "at Mauryas,Maurya_Empire\n",
      "at Middle_kingdoms,Middle_kingdoms_of_India\n",
      "    bk not exists: Middle_kingdoms_of_India\n",
      "    neither exists: Middle_kingdoms & Middle_kingdoms_of_India\n",
      "at Hoysala,Hoysala_Empire\n",
      "at Chola,Chola_dynasty\n",
      "at Pala,Pala_Empire\n",
      "at Kakatiya,Kakatiya_dynasty\n",
      "at Delhi_Sultanate,Delhi_Sultanate\n",
      "at Vijayanagara,Vijayanagara_Empire\n",
      "at Mughals,Mughal_Empire\n",
      "at Marathas,Maratha_Empire\n",
      "at European_trade,East_India_Company\n",
      "at East_India_Company,East_India_Company\n",
      "at Plassey,Battle_of_Plassey\n",
      "    bk not exists: Battle_of_Plassey\n",
      "    neither exists: Plassey & Battle_of_Plassey\n",
      "at 1857_rebellion,Indian_Rebellion_of_1857\n",
      "at British_Raj,British_Raj\n",
      "    bk not exists: British_Raj\n",
      "    neither exists: British_Raj & British_Raj\n",
      "at Railways,History_of_rail_transport_in_India\n",
      "at Economy,Economy_of_India_under_the_British_Raj\n",
      "    bk not exists: Economy_of_India_under_the_British_Raj\n",
      "at Army,British_Indian_Army\n",
      "    bk not exists: British_Indian_Army\n",
      "    neither exists: Army & British_Indian_Army\n",
      "at Zamindari,Zamindar#British_era\n",
      "    bk not exists: Zamindar#British_era\n",
      "    neither exists: Zamindari & Zamindar#British_era\n",
      "at Bengali_renaissance,Bengali_renaissance\n",
      "    bk not exists: Bengali_renaissance\n",
      "    neither exists: Bengali_renaissance & Bengali_renaissance\n",
      "at Political_reforms,Indian_Councils_Act_1909\n",
      "    bk not exists: Indian_Councils_Act_1909\n",
      "    neither exists: Political_reforms & Indian_Councils_Act_1909\n",
      "at Princely_states,Princely_state\n",
      "    bk not exists: Princely_state\n",
      "    neither exists: Princely_states & Princely_state\n",
      "at Partition_of_Bengal,Partition_of_Bengal_(1905)\n",
      "    bk not exists: Partition_of_Bengal_(1905)\n",
      "    neither exists: Partition_of_Bengal & Partition_of_Bengal_(1905)\n",
      "at Independence_movement,Indian_independence_movement\n",
      "at 1943_famine,Bengal_famine_of_1943\n",
      "    bk not exists: Bengal_famine_of_1943\n",
      "    neither exists: 1943_famine & Bengal_famine_of_1943\n",
      "at World_War_II,India_in_World_War_II\n",
      "at Partition,Partition_of_India\n",
      "at Integration,Political_integration_of_India\n",
      "at Non-Aligned_Movement,India_and_the_Non-Aligned_Movement\n",
      "    bk not exists: India_and_the_Non-Aligned_Movement\n",
      "at Five-Year_Plans,Five-Year_Plans_of_India\n",
      "    bk not exists: Five-Year_Plans_of_India\n",
      "    neither exists: Five-Year_Plans & Five-Year_Plans_of_India\n",
      "at Sino-Indian_War,Sino-Indian_War\n",
      "at Indo-Pakistani_wars,Indo-Pakistani_wars_and_conflicts\n",
      "    bk not exists: Indo-Pakistani_wars_and_conflicts\n",
      "at Green_Revolution,Green_Revolution_in_India\n",
      "    bk not exists: Green_Revolution_in_India\n",
      "    neither exists: Green_Revolution & Green_Revolution_in_India\n",
      "at White_Revolution,Operation_Flood\n",
      "    bk not exists: Operation_Flood\n",
      "    neither exists: White_Revolution & Operation_Flood\n",
      "at Naxal_Insurgency,Naxalite\n",
      "    bk not exists: Naxalite\n",
      "    neither exists: Naxal_Insurgency & Naxalite\n",
      "at Smiling_Buddha,Smiling_Buddha\n",
      "    bk not exists: Smiling_Buddha\n",
      "    neither exists: Smiling_Buddha & Smiling_Buddha\n",
      "at Space_programme,Indian_Space_Research_Organisation\n",
      "at The_Emergency,The_Emergency_(India)\n",
      "at Indian_Peace_Keeping_Force_(IPKF),Indian_Peace_Keeping_Force\n",
      "at Economic_liberalisation,Economic_liberalisation_in_India\n",
      "    bk not exists: Economic_liberalisation_in_India\n",
      "at Pokhran-II,Pokhran-II\n",
      "    bk not exists: Pokhran-II\n",
      "    neither exists: Pokhran-II & Pokhran-II\n",
      "at Biosphere_reserves,Biosphere_reserves_of_India\n",
      "at Climate,Climate_of_India\n",
      "at Climatic_regions,Climatic_regions_of_India\n",
      "    bk not exists: Climatic_regions_of_India\n",
      "    neither exists: Climatic_regions & Climatic_regions_of_India\n",
      "at Environmental_issues,Environmental_issues_in_India\n",
      "at Fauna,Fauna_of_India\n",
      "at Flora,Flora_of_India\n",
      "at Geology,Geology_of_India\n",
      "at Protected_areas,Protected_areas_of_India\n",
      "at Wildlife,Wildlife_of_India\n",
      "at sanctuaries,Wildlife_sanctuaries_of_India\n",
      "at Desert,Thar_Desert\n",
      "at Indo-Gangetic,Indo-Gangetic_Plain\n",
      "    bk not exists: Indo-Gangetic_Plain\n",
      "    neither exists: Indo-Gangetic & Indo-Gangetic_Plain\n",
      "at Eastern_coastal,Eastern_coastal_plains\n",
      "    bk not exists: Eastern_coastal_plains\n",
      "    neither exists: Eastern_coastal & Eastern_coastal_plains\n",
      "at Western_coastal,Western_Coastal_Plains\n",
      "    bk not exists: Western_Coastal_Plains\n",
      "    neither exists: Western_coastal & Western_Coastal_Plains\n",
      "at East,East_India\n",
      "    bk not exists: East_India\n",
      "    neither exists: East & East_India\n",
      "at North,North_India\n",
      "at Northeast,Northeast_India\n",
      "at South,South_India\n",
      "at West,Western_India\n",
      "    bk not exists: Western_India\n",
      "    neither exists: West & Western_India\n",
      "at Autonomous_administrative_divisions,Autonomous_administrative_divisions_of_India\n",
      "    bk not exists: Autonomous_administrative_divisions_of_India\n",
      "    neither exists: Autonomous_administrative_divisions & Autonomous_administrative_divisions_of_India\n",
      "at Municipalities,Municipal_governance_in_India\n",
      "    bk not exists: Municipal_governance_in_India\n",
      "at States_and_territories,States_and_union_territories_of_India\n",
      "at Energy_policy,Energy_policy_of_India\n",
      "    bk not exists: Energy_policy_of_India\n",
      "at Foreign_relations,Foreign_relations_of_India\n",
      "at Parliament,Parliament_of_India\n",
      "at President,President_of_India\n",
      "    bk not exists: President_of_India\n",
      "    neither exists: President & President_of_India\n",
      "at Vice_President,Vice_President_of_India\n",
      "    bk not exists: Vice_President_of_India\n",
      "    neither exists: Vice_President & Vice_President_of_India\n",
      "at Prime_Minister,Prime_Minister_of_India\n",
      "    bk not exists: Prime_Minister_of_India\n",
      "    neither exists: Prime_Minister & Prime_Minister_of_India\n",
      "at Union_Council_of_Ministers,Union_Council_of_Ministers\n",
      "    bk not exists: Union_Council_of_Ministers\n",
      "    neither exists: Union_Council_of_Ministers & Union_Council_of_Ministers\n",
      "at Civil_Services,Civil_Services_of_India\n",
      "at Cabinet_Secretary,Cabinet_Secretary_of_India\n",
      "    bk not exists: Cabinet_Secretary_of_India\n",
      "    neither exists: Cabinet_Secretary & Cabinet_Secretary_of_India\n",
      "at State_governments,State_governments_of_India\n",
      "at Chief_Justice,Chief_Justice_of_India\n",
      "    bk not exists: Chief_Justice_of_India\n",
      "    neither exists: Chief_Justice & Chief_Justice_of_India\n",
      "at Constitution,Constitution_of_India\n",
      "at District_Courts,District_Courts_of_India\n",
      "at Fundamental_rights,_principles_and_duties,Fundamental_Rights,_Directive_Principles_and_Fundamental_Duties_of_India\n",
      "    bk not exists: Fundamental_Rights,_Directive_Principles_and_Fundamental_Duties_of_India\n",
      "    neither exists: Fundamental_rights,_principles_and_duties & Fundamental_Rights,_Directive_Principles_and_Fundamental_Duties_of_India\n",
      "at Human_rights,Human_rights_in_India\n",
      "at Supreme_Court,Supreme_Court_of_India\n",
      "at Enforcement,Law_enforcement_in_India\n",
      "at Border_Security_Force_(BSF),Border_Security_Force\n",
      "    bk not exists: Border_Security_Force\n",
      "    neither exists: Border_Security_Force_(BSF) & Border_Security_Force\n",
      "at Central_Industrial_Security_Force_(CISF),Central_Industrial_Security_Force\n",
      "    bk not exists: Central_Industrial_Security_Force\n",
      "    neither exists: Central_Industrial_Security_Force_(CISF) & Central_Industrial_Security_Force\n",
      "at Central_Reserve_Police_Force_(CRPF),Central_Reserve_Police_Force\n",
      "    bk not exists: Central_Reserve_Police_Force\n",
      "    neither exists: Central_Reserve_Police_Force_(CRPF) & Central_Reserve_Police_Force\n",
      "at Indo-Tibetan_Border_Police_(ITBP),Indo-Tibetan_Border_Police\n",
      "    bk not exists: Indo-Tibetan_Border_Police\n",
      "    neither exists: Indo-Tibetan_Border_Police_(ITBP) & Indo-Tibetan_Border_Police\n",
      "at National_Security_Guard_(NSG),National_Security_Guard\n"
     ]
    },
    {
     "name": "stdout",
     "output_type": "stream",
     "text": [
      "    bk not exists: National_Security_Guard\n",
      "    neither exists: National_Security_Guard_(NSG) & National_Security_Guard\n",
      "at Railway_Protection_Force_(RPF),Railway_Protection_Force\n",
      "    bk not exists: Railway_Protection_Force\n",
      "    neither exists: Railway_Protection_Force_(RPF) & Railway_Protection_Force\n",
      "at Sashastra_Seema_Bal_(SSB),Sashastra_Seema_Bal\n",
      "    bk not exists: Sashastra_Seema_Bal\n",
      "    neither exists: Sashastra_Seema_Bal_(SSB) & Sashastra_Seema_Bal\n",
      "at Special_Protection_Group_(SPG),Special_Protection_Group\n",
      "    bk not exists: Special_Protection_Group\n",
      "    neither exists: Special_Protection_Group_(SPG) & Special_Protection_Group\n",
      "at Bureau_of_Police_Research_and_Development_(BPR&D),Bureau_of_Police_Research_and_Development\n",
      "    bk not exists: Bureau_of_Police_Research_and_Development\n",
      "    neither exists: Bureau_of_Police_Research_and_Development_(BPR&D) & Bureau_of_Police_Research_and_Development\n",
      "at Central_Bureau_of_Investigation_(CBI),Central_Bureau_of_Investigation\n",
      "at Directorate_of_Revenue_Intelligence_(DRI),Directorate_of_Revenue_Intelligence\n",
      "    bk not exists: Directorate_of_Revenue_Intelligence\n",
      "    neither exists: Directorate_of_Revenue_Intelligence_(DRI) & Directorate_of_Revenue_Intelligence\n",
      "at Enforcement_Directorate,Enforcement_Directorate\n",
      "    bk not exists: Enforcement_Directorate\n",
      "    neither exists: Enforcement_Directorate & Enforcement_Directorate\n",
      "at Intelligence_Bureau_(IB),Intelligence_Bureau_(India)\n",
      "at Joint_Intelligence_Committee_(JIC),National_Security_Council_(India)\n",
      "    bk not exists: National_Security_Council_(India)\n",
      "    neither exists: Joint_Intelligence_Committee_(JIC) & National_Security_Council_(India)\n",
      "at Narcotics_Control_Bureau_(NCB),Narcotics_Control_Bureau\n",
      "    bk not exists: Narcotics_Control_Bureau\n",
      "    neither exists: Narcotics_Control_Bureau_(NCB) & Narcotics_Control_Bureau\n",
      "at National_Investigation_Agency_(NIA),National_Investigation_Agency\n",
      "    bk not exists: National_Investigation_Agency\n",
      "    neither exists: National_Investigation_Agency_(NIA) & National_Investigation_Agency\n",
      "at Research_and_Analysis_Wing_(R&AW),Research_and_Analysis_Wing\n",
      "at Chief_Justice,Chief_Justice_of_India\n",
      "    bk not exists: Chief_Justice_of_India\n",
      "    neither exists: Chief_Justice & Chief_Justice_of_India\n",
      "at Constitution,Constitution_of_India\n",
      "at District_Courts,District_Courts_of_India\n",
      "at Fundamental_rights,_principles_and_duties,Fundamental_Rights,_Directive_Principles_and_Fundamental_Duties_of_India\n",
      "    bk not exists: Fundamental_Rights,_Directive_Principles_and_Fundamental_Duties_of_India\n",
      "    neither exists: Fundamental_rights,_principles_and_duties & Fundamental_Rights,_Directive_Principles_and_Fundamental_Duties_of_India\n",
      "at Human_rights,Human_rights_in_India\n",
      "at Supreme_Court,Supreme_Court_of_India\n",
      "at Border_Security_Force_(BSF),Border_Security_Force\n",
      "    bk not exists: Border_Security_Force\n",
      "    neither exists: Border_Security_Force_(BSF) & Border_Security_Force\n",
      "at Central_Industrial_Security_Force_(CISF),Central_Industrial_Security_Force\n",
      "    bk not exists: Central_Industrial_Security_Force\n",
      "    neither exists: Central_Industrial_Security_Force_(CISF) & Central_Industrial_Security_Force\n",
      "at Central_Reserve_Police_Force_(CRPF),Central_Reserve_Police_Force\n",
      "    bk not exists: Central_Reserve_Police_Force\n",
      "    neither exists: Central_Reserve_Police_Force_(CRPF) & Central_Reserve_Police_Force\n",
      "at Indo-Tibetan_Border_Police_(ITBP),Indo-Tibetan_Border_Police\n",
      "    bk not exists: Indo-Tibetan_Border_Police\n",
      "    neither exists: Indo-Tibetan_Border_Police_(ITBP) & Indo-Tibetan_Border_Police\n",
      "at National_Security_Guard_(NSG),National_Security_Guard\n",
      "    bk not exists: National_Security_Guard\n",
      "    neither exists: National_Security_Guard_(NSG) & National_Security_Guard\n",
      "at Railway_Protection_Force_(RPF),Railway_Protection_Force\n",
      "    bk not exists: Railway_Protection_Force\n",
      "    neither exists: Railway_Protection_Force_(RPF) & Railway_Protection_Force\n",
      "at Sashastra_Seema_Bal_(SSB),Sashastra_Seema_Bal\n",
      "    bk not exists: Sashastra_Seema_Bal\n",
      "    neither exists: Sashastra_Seema_Bal_(SSB) & Sashastra_Seema_Bal\n",
      "at Special_Protection_Group_(SPG),Special_Protection_Group\n",
      "    bk not exists: Special_Protection_Group\n",
      "    neither exists: Special_Protection_Group_(SPG) & Special_Protection_Group\n",
      "at Bureau_of_Police_Research_and_Development_(BPR&D),Bureau_of_Police_Research_and_Development\n",
      "    bk not exists: Bureau_of_Police_Research_and_Development\n",
      "    neither exists: Bureau_of_Police_Research_and_Development_(BPR&D) & Bureau_of_Police_Research_and_Development\n",
      "at Central_Bureau_of_Investigation_(CBI),Central_Bureau_of_Investigation\n",
      "at Directorate_of_Revenue_Intelligence_(DRI),Directorate_of_Revenue_Intelligence\n",
      "    bk not exists: Directorate_of_Revenue_Intelligence\n",
      "    neither exists: Directorate_of_Revenue_Intelligence_(DRI) & Directorate_of_Revenue_Intelligence\n",
      "at Enforcement_Directorate,Enforcement_Directorate\n",
      "    bk not exists: Enforcement_Directorate\n",
      "    neither exists: Enforcement_Directorate & Enforcement_Directorate\n",
      "at Intelligence_Bureau_(IB),Intelligence_Bureau_(India)\n",
      "at Joint_Intelligence_Committee_(JIC),National_Security_Council_(India)\n",
      "    bk not exists: National_Security_Council_(India)\n",
      "    neither exists: Joint_Intelligence_Committee_(JIC) & National_Security_Council_(India)\n",
      "at Narcotics_Control_Bureau_(NCB),Narcotics_Control_Bureau\n",
      "    bk not exists: Narcotics_Control_Bureau\n",
      "    neither exists: Narcotics_Control_Bureau_(NCB) & Narcotics_Control_Bureau\n",
      "at National_Investigation_Agency_(NIA),National_Investigation_Agency\n",
      "    bk not exists: National_Investigation_Agency\n",
      "    neither exists: National_Investigation_Agency_(NIA) & National_Investigation_Agency\n",
      "at Research_and_Analysis_Wing_(R&AW),Research_and_Analysis_Wing\n",
      "at Border_Security_Force_(BSF),Border_Security_Force\n",
      "    bk not exists: Border_Security_Force\n",
      "    neither exists: Border_Security_Force_(BSF) & Border_Security_Force\n",
      "at Central_Industrial_Security_Force_(CISF),Central_Industrial_Security_Force\n",
      "    bk not exists: Central_Industrial_Security_Force\n",
      "    neither exists: Central_Industrial_Security_Force_(CISF) & Central_Industrial_Security_Force\n",
      "at Central_Reserve_Police_Force_(CRPF),Central_Reserve_Police_Force\n",
      "    bk not exists: Central_Reserve_Police_Force\n",
      "    neither exists: Central_Reserve_Police_Force_(CRPF) & Central_Reserve_Police_Force\n",
      "at Indo-Tibetan_Border_Police_(ITBP),Indo-Tibetan_Border_Police\n",
      "    bk not exists: Indo-Tibetan_Border_Police\n",
      "    neither exists: Indo-Tibetan_Border_Police_(ITBP) & Indo-Tibetan_Border_Police\n",
      "at National_Security_Guard_(NSG),National_Security_Guard\n",
      "    bk not exists: National_Security_Guard\n",
      "    neither exists: National_Security_Guard_(NSG) & National_Security_Guard\n",
      "at Railway_Protection_Force_(RPF),Railway_Protection_Force\n",
      "    bk not exists: Railway_Protection_Force\n",
      "    neither exists: Railway_Protection_Force_(RPF) & Railway_Protection_Force\n",
      "at Sashastra_Seema_Bal_(SSB),Sashastra_Seema_Bal\n",
      "    bk not exists: Sashastra_Seema_Bal\n",
      "    neither exists: Sashastra_Seema_Bal_(SSB) & Sashastra_Seema_Bal\n",
      "at Special_Protection_Group_(SPG),Special_Protection_Group\n",
      "    bk not exists: Special_Protection_Group\n",
      "    neither exists: Special_Protection_Group_(SPG) & Special_Protection_Group\n",
      "at Bureau_of_Police_Research_and_Development_(BPR&D),Bureau_of_Police_Research_and_Development\n",
      "    bk not exists: Bureau_of_Police_Research_and_Development\n",
      "    neither exists: Bureau_of_Police_Research_and_Development_(BPR&D) & Bureau_of_Police_Research_and_Development\n",
      "at Central_Bureau_of_Investigation_(CBI),Central_Bureau_of_Investigation\n",
      "at Directorate_of_Revenue_Intelligence_(DRI),Directorate_of_Revenue_Intelligence\n",
      "    bk not exists: Directorate_of_Revenue_Intelligence\n",
      "    neither exists: Directorate_of_Revenue_Intelligence_(DRI) & Directorate_of_Revenue_Intelligence\n",
      "at Enforcement_Directorate,Enforcement_Directorate\n",
      "    bk not exists: Enforcement_Directorate\n",
      "    neither exists: Enforcement_Directorate & Enforcement_Directorate\n",
      "at Intelligence_Bureau_(IB),Intelligence_Bureau_(India)\n",
      "at Joint_Intelligence_Committee_(JIC),National_Security_Council_(India)\n",
      "    bk not exists: National_Security_Council_(India)\n",
      "    neither exists: Joint_Intelligence_Committee_(JIC) & National_Security_Council_(India)\n",
      "at Narcotics_Control_Bureau_(NCB),Narcotics_Control_Bureau\n"
     ]
    },
    {
     "name": "stdout",
     "output_type": "stream",
     "text": [
      "    bk not exists: Narcotics_Control_Bureau\n",
      "    neither exists: Narcotics_Control_Bureau_(NCB) & Narcotics_Control_Bureau\n",
      "at National_Investigation_Agency_(NIA),National_Investigation_Agency\n",
      "    bk not exists: National_Investigation_Agency\n",
      "    neither exists: National_Investigation_Agency_(NIA) & National_Investigation_Agency\n",
      "at Research_and_Analysis_Wing_(R&AW),Research_and_Analysis_Wing\n",
      "at Army,Indian_Army\n",
      "at Navy,Indian_Navy\n",
      "at Air_Force,Indian_Air_Force\n",
      "at Censorship,Censorship_in_India\n",
      "at Elections,Elections_in_India\n",
      "at Nationalism,Indian_nationalism\n",
      "at Parliament,Parliament_of_India\n",
      "at Lok_Sabha,Lok_Sabha\n",
      "at Rajya_Sabha,Rajya_Sabha\n",
      "at INC,Indian_National_Congress\n",
      "at BJP,Bharatiya_Janata_Party\n",
      "at BSP,Bahujan_Samaj_Party\n",
      "at CPI,Communist_Party_of_India\n",
      "at CPM,Communist_Party_of_India_(Marxist)\n",
      "at NCP,Nationalist_Congress_Party\n",
      "at Reservations,Reservation_in_India\n",
      "at Scheduled_groups,Scheduled_Castes_and_Scheduled_Tribes\n",
      "    bk not exists: Scheduled_Castes_and_Scheduled_Tribes\n",
      "    neither exists: Scheduled_groups & Scheduled_Castes_and_Scheduled_Tribes\n",
      "at Secularism,Secularism_in_India\n",
      "at BSE_SENSEX,BSE_SENSEX\n",
      "at CNX_Nifty,CNX_Nifty\n",
      "at Government-owned_companies,Category:Government-owned_companies_of_India\n",
      "    bk not exists: Category:Government-owned_companies_of_India\n",
      "at Ministry_of_Finance,Ministry_of_Finance_(India)\n",
      "at Finance_ministers,Minister_of_Finance_(India)\n",
      "    bk not exists: Minister_of_Finance_(India)\n",
      "at Ministry_of_Commerce_and_Industry,Ministry_of_Commerce_and_Industry_(India)\n",
      "at Commerce_ministers,Minister_of_Commerce_and_Industry_(India)\n",
      "    bk not exists: Minister_of_Commerce_and_Industry_(India)\n",
      "    neither exists: Commerce_ministers & Minister_of_Commerce_and_Industry_(India)\n",
      "at Finance_Commission,Finance_Commission_of_India\n",
      "at Planning_Commission,Planning_Commission_(India)\n",
      "    bk not exists: Planning_Commission_(India)\n",
      "    neither exists: Planning_Commission & Planning_Commission_(India)\n",
      "at Economic_Advisory_Council,Economic_Advisory_Council\n",
      "    bk not exists: Economic_Advisory_Council\n",
      "    neither exists: Economic_Advisory_Council & Economic_Advisory_Council\n",
      "at Central_Statistical_Office,Central_Statistical_Office_(India)\n",
      "    bk not exists: Central_Statistical_Office_(India)\n",
      "    neither exists: Central_Statistical_Office & Central_Statistical_Office_(India)\n",
      "at Securities_and_Exchange_Board_of_India,Securities_and_Exchange_Board_of_India\n",
      "at Enforcement_Directorate,Enforcement_Directorate\n",
      "    bk not exists: Enforcement_Directorate\n",
      "    neither exists: Enforcement_Directorate & Enforcement_Directorate\n",
      "at Foreign_trade,Foreign_trade_of_India\n",
      "at Remittances,Remittances_to_India\n",
      "    bk not exists: Remittances_to_India\n",
      "at Taxation,Taxation_in_India\n",
      "at Subsidies,Subsidies_in_India\n",
      "    bk not exists: Subsidies_in_India\n",
      "at Industrial_licensing,Industrial_licensing_in_India\n",
      "    bk not exists: Industrial_licensing_in_India\n",
      "    neither exists: Industrial_licensing & Industrial_licensing_in_India\n",
      "at Voluntary_guidelines,National_Voluntary_Guidelines_on_Social,_Environmental_and_Economic_Responsibilities_of_Business\n",
      "    bk not exists: National_Voluntary_Guidelines_on_Social,_Environmental_and_Economic_Responsibilities_of_Business\n",
      "    neither exists: Voluntary_guidelines & National_Voluntary_Guidelines_on_Social,_Environmental_and_Economic_Responsibilities_of_Business\n",
      "at NITI_Aayog,NITI_Aayog\n",
      "    bk not exists: NITI_Aayog\n",
      "    neither exists: NITI_Aayog & NITI_Aayog\n",
      "at Make_in_India,Make_in_India\n",
      "    bk not exists: Make_in_India\n",
      "    neither exists: Make_in_India & Make_in_India\n",
      "at FDI_in_India,Foreign_Direct_Investment_in_India\n",
      "    bk not exists: Foreign_Direct_Investment_in_India\n",
      "    neither exists: FDI_in_India & Foreign_Direct_Investment_in_India\n",
      "at Indian_rupee,Indian_rupee\n",
      "    bk not exists: Indian_rupee\n",
      "    neither exists: Indian_rupee & Indian_rupee\n",
      "at History,History_of_the_rupee\n",
      "    bk not exists: History_of_the_rupee\n",
      "at Historical_exchange_rates_data_of_the_Indian_rupee,Tables_of_historical_exchange_rates_to_the_india_rupee\n",
      "    bk not exists: Tables_of_historical_exchange_rates_to_the_india_rupee\n",
      "    neither exists: Historical_exchange_rates_data_of_the_Indian_rupee & Tables_of_historical_exchange_rates_to_the_india_rupee\n",
      "at Coinage,Coinage_of_India\n",
      "    bk not exists: Coinage_of_India\n",
      "    neither exists: Coinage & Coinage_of_India\n",
      "at Reserve_Bank_of_India,Reserve_Bank_of_India\n",
      "at India_Government_Mint,India_Government_Mint\n",
      "    bk not exists: India_Government_Mint\n",
      "    neither exists: India_Government_Mint & India_Government_Mint\n",
      "at Banking,Banking_in_India\n",
      "at Banks,Category:Banks_of_India\n",
      "    bk not exists: Category:Banks_of_India\n",
      "at Insurance,Insurance_in_India\n",
      "at Foreign_exchange_reserves,Foreign_exchange_reserves_of_India\n",
      "    bk not exists: Foreign_exchange_reserves_of_India\n",
      "at Bombay_Stock_Exchange,Bombay_Stock_Exchange\n",
      "at National_Stock_Exchange,National_Stock_Exchange_of_India\n",
      "at Multi_Commodity_Exchange,Multi_Commodity_Exchange\n",
      "    bk not exists: Multi_Commodity_Exchange\n",
      "    neither exists: Multi_Commodity_Exchange & Multi_Commodity_Exchange\n",
      "at Bullion,The_Gold_(Control)_Act,_1968\n",
      "    bk not exists: The_Gold_(Control)_Act,_1968\n",
      "    neither exists: Bullion & The_Gold_(Control)_Act,_1968\n",
      "at Black_money,Indian_black_money\n",
      "    bk not exists: Indian_black_money\n",
      "    neither exists: Black_money & Indian_black_money\n",
      "at Economic_Development,Economic_development_in_India\n",
      "at Economic_liberalisation,Economic_liberalisation_in_India\n",
      "    bk not exists: Economic_liberalisation_in_India\n",
      "at Licence_Raj,Licence_Raj\n",
      "    bk not exists: Licence_Raj\n",
      "    neither exists: Licence_Raj & Licence_Raj\n",
      "at Green_revolution,Green_Revolution_in_India\n",
      "    bk not exists: Green_Revolution_in_India\n",
      "    neither exists: Green_revolution & Green_Revolution_in_India\n",
      "at Numbering_system,Indian_numbering_system\n",
      "    bk not exists: Indian_numbering_system\n",
      "    neither exists: Numbering_system & Indian_numbering_system\n",
      "at Billionaires,Category:Indian_billionaires\n",
      "    bk not exists: Category:Indian_billionaires\n",
      "at Businesspeople,Category:Indian_businesspeople\n",
      "    bk not exists: Category:Indian_businesspeople\n",
      "at Demography,Demographics_of_India\n",
      "at Income,Income_in_India\n",
      "at Poverty,Poverty_in_India\n",
      "at Labour_law,Indian_labour_law\n",
      "at Pensions,Pensions_in_India\n",
      "at EPFO,Employees%27_Provident_Fund_Organisation_of_India\n",
      "    bk not exists: Employees%27_Provident_Fund_Organisation_of_India\n",
      "    neither exists: EPFO & Employees%27_Provident_Fund_Organisation_of_India\n",
      "at NPS,National_Pension_Scheme\n",
      "    bk not exists: National_Pension_Scheme\n",
      "    neither exists: NPS & National_Pension_Scheme\n",
      "at PPF,Public_Provident_Fund_(India)\n",
      "    bk not exists: Public_Provident_Fund_(India)\n",
      "    neither exists: PPF & Public_Provident_Fund_(India)\n",
      "at Andhra_Pradesh,Economy_of_Andhra_Pradesh\n",
      "at Assam,Economy_of_Assam\n",
      "at Bihar,Economy_of_Bihar\n",
      "at Goa,Economy_of_Goa\n",
      "at Gujarat,Economy_of_Gujarat\n",
      "at Haryana,Economy_of_Haryana\n",
      "at Himachal_Pradesh,Economy_of_Himachal_Pradesh\n",
      "at Jammu_and_Kashmir,Economy_of_Jammu_and_Kashmir\n",
      "at Karnataka,Economy_of_Karnataka\n",
      "at Kerala,Economy_of_Kerala\n",
      "at Madhya_Pradesh,Economy_of_Madhya_Pradesh\n",
      "at Maharashtra,Economy_of_Maharashtra\n",
      "at Manipur,Economy_of_Manipur\n",
      "at Mizoram,Economy_of_Mizoram\n",
      "at Nagaland,Economy_of_Nagaland\n",
      "at Odisha,Economy_of_Odisha\n",
      "at Punjab,Economy_of_Punjab,_India\n",
      "at Rajasthan,Economy_of_Rajasthan\n",
      "at Tamil_Nadu,Economy_of_Tamil_Nadu\n",
      "at Telangana,Economy_of_Telangana\n",
      "at Uttarakhand,Economy_of_Uttarakhand\n",
      "at Uttar_Pradesh,Economy_of_Uttar_Pradesh\n",
      "at West_Bengal,Economy_of_West_Bengal\n",
      "at Agriculture,Agriculture_in_India\n",
      "at Livestock,Animal_husbandry_in_India\n",
      "at Fishing,Fishing_in_India\n",
      "at Automotive,Automotive_industry_in_India\n",
      "at Defence,Defence_industry_of_India\n",
      "at Construction,Construction_industry_of_India\n",
      "at Education,Education_in_India\n",
      "at Energy,Energy_in_India\n",
      "at Nuclear,Nuclear_power_in_India\n",
      "    bk not exists: Nuclear_power_in_India\n",
      "    neither exists: Nuclear & Nuclear_power_in_India\n",
      "at Solar,Solar_power_in_India\n",
      "at Wind,Wind_power_in_India\n",
      "at Entertainment,Entertainment_industry_in_India\n",
      "    bk not exists: Entertainment_industry_in_India\n",
      "at Forestry,Forestry_in_India\n",
      "at Gambling,Gambling_in_India\n",
      "at Healthcare,Healthcare_in_India\n",
      "at Information_technology,Information_technology_in_India\n"
     ]
    },
    {
     "name": "stdout",
     "output_type": "stream",
     "text": [
      "at Media,Media_of_India\n",
      "at Cinema,Cinema_of_India\n",
      "at Television,Television_in_India\n",
      "at Printing,Printing_industry_in_India\n",
      "    bk not exists: Printing_industry_in_India\n",
      "at Mining,Mining_in_India\n",
      "at Pharmaceuticals,Pharmaceutical_industry_in_India\n",
      "    bk not exists: Pharmaceutical_industry_in_India\n",
      "at Retail,Retailing_in_India\n",
      "at Science_and_technology,Science_and_technology_in_India\n",
      "at Biotechnology,Biotechnology_in_India\n",
      "at Telecommunications,Telecommunications_in_India\n",
      "at Textiles,Textile_industry_in_India\n",
      "    bk not exists: Textile_industry_in_India\n",
      "at Tourism,Tourism_in_India\n",
      "at Transport,Transport_in_India\n",
      "at Aviation,Aviation_in_India\n",
      "at Civil,Civil_Aviation_in_India\n",
      "    bk not exists: Civil_Aviation_in_India\n",
      "    neither exists: Civil & Civil_Aviation_in_India\n",
      "at Ports,Ports_in_India\n",
      "    bk not exists: Ports_in_India\n",
      "at Rail,Rail_transport_in_India\n",
      "at Utilities,Category:Utilities_of_India\n",
      "    bk not exists: Category:Utilities_of_India\n",
      "    neither exists: Utilities & Category:Utilities_of_India\n",
      "at Electricity,Electricity_sector_in_India\n",
      "    bk not exists: Electricity_sector_in_India\n",
      "at Water,Water_supply_and_sanitation_in_India\n",
      "at Caste_system,Caste_system_in_India\n",
      "    bk not exists: Caste_system_in_India\n",
      "at Corruption,Corruption_in_India\n",
      "at Demographics,Demographics_of_India\n",
      "at Women,Women_in_India\n",
      "at Education,Education_in_India\n",
      "at Engineering_colleges_in_India,Engineering_education_in_India\n",
      "at Ethnic_relations,Ethnic_relations_in_India\n",
      "    bk not exists: Ethnic_relations_in_India\n",
      "    neither exists: Ethnic_relations & Ethnic_relations_in_India\n",
      "at Healthcare,Health_in_India\n",
      "at Languages,Languages_of_India\n",
      "at Literacy,Literacy_in_India\n",
      "at Poverty,Poverty_in_India\n",
      "at Prisons,Prisons_in_India\n",
      "at Religion,Religion_in_India\n",
      "at Socio-economic_issues,Socio-economic_issues_in_India\n",
      "    bk not exists: Socio-economic_issues_in_India\n",
      "    neither exists: Socio-economic_issues & Socio-economic_issues_in_India\n",
      "at Standard_of_living,Standard_of_living_in_India\n",
      "    bk not exists: Standard_of_living_in_India\n",
      "at Water_supply_and_sanitation,Water_supply_and_sanitation_in_India\n",
      "at Sexuality,Sexuality_in_India\n",
      "at Crime,Crime_in_India\n",
      "at Arts_and_entertainment,Arts_and_entertainment_in_India\n",
      "    bk not exists: Arts_and_entertainment_in_India\n",
      "    neither exists: Arts_and_entertainment & Arts_and_entertainment_in_India\n",
      "at Architecture,Architecture_of_India\n",
      "at Blogging,Indian_blogosphere\n",
      "    bk not exists: Indian_blogosphere\n",
      "at Cinema,Cinema_of_India\n",
      "at Comics,Indian_comics\n",
      "at Webcomics,Webcomics_in_India\n",
      "    bk not exists: Webcomics_in_India\n",
      "at Cuisine,Indian_cuisine\n",
      "at wine,Indian_wine\n",
      "at Dance,Indian_classical_dance\n",
      "    bk not exists: Indian_classical_dance\n",
      "at Dress,Clothing_in_India\n",
      "    bk not exists: Clothing_in_India\n",
      "    neither exists: Dress & Clothing_in_India\n",
      "at Folklore,Folklore_of_India\n",
      "    bk not exists: Folklore_of_India\n",
      "at Literature,Indian_literature\n",
      "at Media,Media_of_India\n",
      "at television,Television_in_India\n",
      "at Martial_arts,Indian_martial_arts\n",
      "at Music,Music_of_India\n",
      "    bk not exists: Music_of_India\n",
      "at Public_holidays,Public_holidays_in_India\n",
      "at Sport,Sport_in_India\n",
      "at Earthquakes,Earthquakes_in_india\n",
      "    bk not exists: Earthquakes_in_india\n",
      "at Ecoregions,Ecoregions_in_india\n",
      "    bk not exists: Ecoregions_in_india\n",
      "at National_parks,National_parks_of_india\n",
      "    bk not exists: National_parks_of_india\n",
      "at Beaches,Beaches_in_india\n",
      "    bk not exists: Beaches_in_india\n",
      "at Extreme_points,Extreme_points_of_india\n",
      "    bk not exists: Extreme_points_of_india\n",
      "    neither exists: Extreme_points & Extreme_points_of_india\n",
      "at Glaciers,Glaciers_of_india\n",
      "    bk not exists: Glaciers_of_india\n",
      "at Islands,Islands_of_india\n",
      "    bk not exists: Islands_of_india\n",
      "at Lakes,Lakes_of_india\n",
      "    bk not exists: Lakes_of_india\n",
      "at Mountains,Mountains_in_india\n",
      "    bk not exists: Mountains_in_india\n",
      "at Rivers,Rivers_of_india\n",
      "    bk not exists: Rivers_of_india\n",
      "at Valleys,Valleys_in_india\n",
      "    bk not exists: Valleys_in_india\n",
      "at Volcanoes,Volcanoes_in_india\n",
      "    bk not exists: Volcanoes_in_india\n",
      "at Waterfalls,Waterfalls_of_india\n",
      "    bk not exists: Waterfalls_of_india\n",
      "at Cities,Cities_and_towns_in_india\n",
      "    bk not exists: Cities_and_towns_in_india\n",
      "at Agencies,Indian_agencies\n",
      "    bk not exists: Indian_agencies\n",
      "    neither exists: Agencies & Indian_agencies\n",
      "at High_Courts,High_courts_of_india\n",
      "    bk not exists: High_courts_of_india\n",
      "    neither exists: High_Courts & High_courts_of_india\n",
      "at Intelligence,Indian_intelligence_agencies\n",
      "at Political_parties,Political_parties_in_india\n",
      "    bk not exists: Political_parties_in_india\n",
      "at Scandals,Scandals_in_india\n",
      "    bk not exists: Scandals_in_india\n",
      "at Companies_of_india,Companies_of_india\n",
      "    bk not exists: Companies_of_india\n",
      "    neither exists: Companies_of_india & Companies_of_india\n",
      "at Governors,Governors_of_reserve_bank_of_india\n",
      "    bk not exists: Governors_of_reserve_bank_of_india\n",
      "at Government_initiatives,Indian_government_initiatives_focusing_on_economic_development\n",
      "    bk not exists: Indian_government_initiatives_focusing_on_economic_development\n",
      "    neither exists: Government_initiatives & Indian_government_initiatives_focusing_on_economic_development\n",
      "at Universities_in_India,Universities_in_india\n",
      "    bk not exists: Universities_in_india\n",
      "at Medical_colleges_in_India,Medical_colleges_in_india\n",
      "    bk not exists: Medical_colleges_in_india\n",
      "at Law_colleges_in_India,Law_schools_in_india\n",
      "    bk not exists: Law_schools_in_india\n",
      "    neither exists: Law_colleges_in_India & Law_schools_in_india\n",
      "at Hospitals_in_India,Hospitals_in_india\n",
      "    bk not exists: Hospitals_in_india\n",
      "at Festivals,Festivals_in_india\n",
      "    bk not exists: Festivals_in_india\n"
     ]
    }
   ],
   "source": [
    "import urllib\n",
    "import re\n",
    "import pickle\n",
    "\n",
    "def putSubInTree(tree,current_node,cur_cat,max_level=3,init_level=0):\n",
    "    for sub_cat in cur_cat.categorymembers.values():\n",
    "        if sub_cat.ns == 14:\n",
    "            sub_node = tree.create_node(sub_cat.title.split(\":\")[1],parent=current_node.identifier)\n",
    "            if init_level < max_level:\n",
    "                init_level = init_level + 1\n",
    "                putSubInTree(tree,sub_node,sub_cat,max_level,init_level)\n",
    "    return None\n",
    "\n",
    "with open(\"/home/zhoutong/tags/AbstractTags.txt\",\"r+\") as f:\n",
    "    content = [i.strip().split(\"\\t\") for i in f.readlines()]\n",
    "\n",
    "print(f\"total: {len(content)}\")\n",
    "content[:3]\n",
    "# assert False\n",
    "failList = []\n",
    "for (target,target_bk) in tqdm_notebook(content[4:]):\n",
    "    print(f\"at {target},{target_bk}\")\n",
    "    tree = Tree()\n",
    "    cat = wiki_wiki.page(f\"Category:{target_bk}\")\n",
    "    if not cat.exists():\n",
    "        print(f\"    bk not exists: {target_bk}\")\n",
    "        cat = wiki_wiki.page(f\"Category:{target}\")\n",
    "    if cat.exists():\n",
    "        path = f'/home/zhoutong/tags/AbstractTags.tree/{target}'\n",
    "        currentNode = tree.create_node(cat.title.split(\":\")[1])\n",
    "        putSubInTree(tree,currentNode,cat,10)\n",
    "        with open(path,\"wb+\") as f:\n",
    "            pickle.dump(tree,f)\n",
    "#         tree.save2file(f'/home/zhoutong/tags/AbstractTags.tree/{target}')\n",
    "#         with open(path,\"rb+\") as f:\n",
    "#             pickle.load(f).show()\n",
    "    else:\n",
    "        print(f\"    neither exists: {target} & {target_bk}\")\n",
    "        failList.append([target,target_bk])"
   ]
  },
  {
   "cell_type": "code",
   "execution_count": 36,
   "metadata": {
    "ExecuteTime": {
     "end_time": "2019-04-11T07:19:52.664043Z",
     "start_time": "2019-04-11T07:19:52.630208Z"
    }
   },
   "outputs": [],
   "source": [
    "with open(\"/home/zhoutong/tags/AbstractTags.tree/Mahajanapadas\",\"rb+\") as f:\n",
    "    tree = pickle.load(f)"
   ]
  },
  {
   "cell_type": "code",
   "execution_count": 37,
   "metadata": {
    "ExecuteTime": {
     "end_time": "2019-04-11T08:08:09.795139Z",
     "start_time": "2019-04-11T08:08:09.767086Z"
    }
   },
   "outputs": [
    {
     "name": "stdout",
     "output_type": "stream",
     "text": [
      "Mahajanapadas\n",
      "├── Avanti (India)\n",
      "├── Cities and towns in Anga Desh\n",
      "│   ├── Bhagalpur\n",
      "│   │   ├── Buildings and structures in Bhagalpur\n",
      "│   │   │   ├── Schools in Bhagalpur\n",
      "│   │   │   └── Universities and colleges in Bhagalpur\n",
      "│   │   │       └── Tilka Manjhi Bhagalpur University\n",
      "│   │   │           └── Colleges affiliated to Tilka Manjhi Bhagalpur University\n",
      "│   │   ├── Education in Bhagalpur\n",
      "│   │   │   ├── Schools in Bhagalpur\n",
      "│   │   │   └── Universities and colleges in Bhagalpur\n",
      "│   │   │       └── Tilka Manjhi Bhagalpur University\n",
      "│   │   │           └── Colleges affiliated to Tilka Manjhi Bhagalpur University\n",
      "│   │   ├── Media in Bhagalpur\n",
      "│   │   │   └── Newspapers published in Bhagalpur\n",
      "│   │   ├── People from Bhagalpur\n",
      "│   │   └── Transport in Bhagalpur\n",
      "│   └── Jamalpur, Bihar\n",
      "├── Gandhara\n",
      "│   └── Taxila Tehsil\n",
      "│       └── Populated places in Taxila Tehsil\n",
      "├── Kosala\n",
      "│   ├── Kosli language\n",
      "│   └── People from Kosala\n",
      "└── Magadha\n",
      "    ├── Films set in the Magadha Empire\n",
      "    ├── Kings of Magadha\n",
      "    ├── Kosala\n",
      "    │   ├── Kosli language\n",
      "    │   └── People from Kosala\n",
      "    └── Maurya Empire\n",
      "        ├── Edicts of Ashoka\n",
      "        ├── Films set in the Maurya Empire\n",
      "        ├── Mauryan art\n",
      "        ├── Mauryan dynasty\n",
      "        ├── Memorials to Ashok\n",
      "        ├── People of the Maurya Empire\n",
      "        └── Works about the Maurya Empire\n",
      "\n"
     ]
    }
   ],
   "source": [
    "tree.show()"
   ]
  },
  {
   "cell_type": "code",
   "execution_count": 24,
   "metadata": {
    "ExecuteTime": {
     "end_time": "2019-04-11T09:49:51.745390Z",
     "start_time": "2019-04-11T09:49:51.119022Z"
    }
   },
   "outputs": [
    {
     "name": "stdout",
     "output_type": "stream",
     "text": [
      "<class 'pandas.core.frame.DataFrame'>\n",
      "RangeIndex: 5 entries, 0 to 4\n",
      "Data columns (total 7 columns):\n",
      "query         5 non-null object\n",
      "status        5 non-null object\n",
      "categories    5 non-null object\n",
      "links         5 non-null object\n",
      "summary       5 non-null object\n",
      "title         5 non-null object\n",
      "url           5 non-null object\n",
      "dtypes: object(7)\n",
      "memory usage: 360.0+ bytes\n"
     ]
    },
    {
     "data": {
      "text/html": [
       "<div>\n",
       "<style scoped>\n",
       "    .dataframe tbody tr th:only-of-type {\n",
       "        vertical-align: middle;\n",
       "    }\n",
       "\n",
       "    .dataframe tbody tr th {\n",
       "        vertical-align: top;\n",
       "    }\n",
       "\n",
       "    .dataframe thead th {\n",
       "        text-align: right;\n",
       "    }\n",
       "</style>\n",
       "<table border=\"1\" class=\"dataframe\">\n",
       "  <thead>\n",
       "    <tr style=\"text-align: right;\">\n",
       "      <th></th>\n",
       "      <th>query</th>\n",
       "      <th>status</th>\n",
       "      <th>categories</th>\n",
       "      <th>links</th>\n",
       "      <th>summary</th>\n",
       "      <th>title</th>\n",
       "      <th>url</th>\n",
       "    </tr>\n",
       "  </thead>\n",
       "  <tbody>\n",
       "    <tr>\n",
       "      <th>0</th>\n",
       "      <td>Indian Premier League</td>\n",
       "      <td>success</td>\n",
       "      <td>[2008 establishments in India, All Wikipedia a...</td>\n",
       "      <td>[2008 Champions League Twenty20, 2008 Indian P...</td>\n",
       "      <td>The Indian Premier League (IPL) is a professio...</td>\n",
       "      <td>Indian Premier League</td>\n",
       "      <td>https://en.wikipedia.org/wiki/Indian_Premier_L...</td>\n",
       "    </tr>\n",
       "    <tr>\n",
       "      <th>1</th>\n",
       "      <td>Bharat Financial Inclusion</td>\n",
       "      <td>success</td>\n",
       "      <td>[1998 establishments in India, All Wikipedia a...</td>\n",
       "      <td>[Adverse selection, Andhra Pradesh, Asymmetric...</td>\n",
       "      <td>Bharat Financial Inclusion Limited (formerly k...</td>\n",
       "      <td>Bharat Financial Inclusion</td>\n",
       "      <td>https://en.wikipedia.org/wiki/Bharat_Financial...</td>\n",
       "    </tr>\n",
       "  </tbody>\n",
       "</table>\n",
       "</div>"
      ],
      "text/plain": [
       "                        query   status  \\\n",
       "0       Indian Premier League  success   \n",
       "1  Bharat Financial Inclusion  success   \n",
       "\n",
       "                                          categories  \\\n",
       "0  [2008 establishments in India, All Wikipedia a...   \n",
       "1  [1998 establishments in India, All Wikipedia a...   \n",
       "\n",
       "                                               links  \\\n",
       "0  [2008 Champions League Twenty20, 2008 Indian P...   \n",
       "1  [Adverse selection, Andhra Pradesh, Asymmetric...   \n",
       "\n",
       "                                             summary  \\\n",
       "0  The Indian Premier League (IPL) is a professio...   \n",
       "1  Bharat Financial Inclusion Limited (formerly k...   \n",
       "\n",
       "                        title  \\\n",
       "0       Indian Premier League   \n",
       "1  Bharat Financial Inclusion   \n",
       "\n",
       "                                                 url  \n",
       "0  https://en.wikipedia.org/wiki/Indian_Premier_L...  \n",
       "1  https://en.wikipedia.org/wiki/Bharat_Financial...  "
      ]
     },
     "execution_count": 24,
     "metadata": {},
     "output_type": "execute_result"
    },
    {
     "data": {
      "text/html": [
       "<div>\n",
       "<style scoped>\n",
       "    .dataframe tbody tr th:only-of-type {\n",
       "        vertical-align: middle;\n",
       "    }\n",
       "\n",
       "    .dataframe tbody tr th {\n",
       "        vertical-align: top;\n",
       "    }\n",
       "\n",
       "    .dataframe thead th {\n",
       "        text-align: right;\n",
       "    }\n",
       "</style>\n",
       "<table border=\"1\" class=\"dataframe\">\n",
       "  <thead>\n",
       "    <tr style=\"text-align: right;\">\n",
       "      <th></th>\n",
       "      <th>query</th>\n",
       "      <th>status</th>\n",
       "      <th>categories</th>\n",
       "      <th>links</th>\n",
       "      <th>summary</th>\n",
       "      <th>title</th>\n",
       "      <th>url</th>\n",
       "      <th>len_categories</th>\n",
       "    </tr>\n",
       "  </thead>\n",
       "  <tbody>\n",
       "    <tr>\n",
       "      <th>0</th>\n",
       "      <td>Indian Premier League</td>\n",
       "      <td>success</td>\n",
       "      <td>[2008 establishments in India, All Wikipedia a...</td>\n",
       "      <td>[2008 Champions League Twenty20, 2008 Indian P...</td>\n",
       "      <td>The Indian Premier League (IPL) is a professio...</td>\n",
       "      <td>Indian Premier League</td>\n",
       "      <td>https://en.wikipedia.org/wiki/Indian_Premier_L...</td>\n",
       "      <td>19</td>\n",
       "    </tr>\n",
       "    <tr>\n",
       "      <th>1</th>\n",
       "      <td>Bharat Financial Inclusion</td>\n",
       "      <td>success</td>\n",
       "      <td>[1998 establishments in India, All Wikipedia a...</td>\n",
       "      <td>[Adverse selection, Andhra Pradesh, Asymmetric...</td>\n",
       "      <td>Bharat Financial Inclusion Limited (formerly k...</td>\n",
       "      <td>Bharat Financial Inclusion</td>\n",
       "      <td>https://en.wikipedia.org/wiki/Bharat_Financial...</td>\n",
       "      <td>10</td>\n",
       "    </tr>\n",
       "  </tbody>\n",
       "</table>\n",
       "</div>"
      ],
      "text/plain": [
       "                        query   status  \\\n",
       "0       Indian Premier League  success   \n",
       "1  Bharat Financial Inclusion  success   \n",
       "\n",
       "                                          categories  \\\n",
       "0  [2008 establishments in India, All Wikipedia a...   \n",
       "1  [1998 establishments in India, All Wikipedia a...   \n",
       "\n",
       "                                               links  \\\n",
       "0  [2008 Champions League Twenty20, 2008 Indian P...   \n",
       "1  [Adverse selection, Andhra Pradesh, Asymmetric...   \n",
       "\n",
       "                                             summary  \\\n",
       "0  The Indian Premier League (IPL) is a professio...   \n",
       "1  Bharat Financial Inclusion Limited (formerly k...   \n",
       "\n",
       "                        title  \\\n",
       "0       Indian Premier League   \n",
       "1  Bharat Financial Inclusion   \n",
       "\n",
       "                                                 url  len_categories  \n",
       "0  https://en.wikipedia.org/wiki/Indian_Premier_L...              19  \n",
       "1  https://en.wikipedia.org/wiki/Bharat_Financial...              10  "
      ]
     },
     "execution_count": 24,
     "metadata": {},
     "output_type": "execute_result"
    }
   ],
   "source": [
    "import pandas as pd\n",
    "import json\n",
    "from pandas.io.json import json_normalize\n",
    "\n",
    "with open(\"/home/zhoutong/tags/tagMap_9k.wikiRes\",\"r+\") as f:\n",
    "    content = [i.strip() for i in f.readlines()][:5]\n",
    "\n",
    "jsonDictList = [json.loads(i) for i in content]\n",
    "\n",
    "\n",
    "df = json_normalize(jsonDictList)\n",
    "df = df[['query','status','categories','links','summary','title','url']]\n",
    "df.info()\n",
    "df.head(2)\n",
    "df['len_categories'] = [len(i) for i in df['categories']]\n",
    "df.head(2)\n"
   ]
  },
  {
   "cell_type": "markdown",
   "metadata": {},
   "source": [
    "# 【工具封装】WikiSearch"
   ]
  },
  {
   "cell_type": "code",
   "execution_count": 89,
   "metadata": {
    "ExecuteTime": {
     "end_time": "2019-04-11T13:10:32.091330Z",
     "start_time": "2019-04-11T13:10:32.064575Z"
    },
    "code_folding": [],
    "scrolled": true
   },
   "outputs": [],
   "source": [
    "import wikipediaapi\n",
    "\n",
    "class WikiSearch():\n",
    "    def __init__(self):\n",
    "        self.wiki_wiki = wikipediaapi.Wikipedia('en')\n",
    "        \n",
    "    def search(self,targetWord= \"BJP\"):\n",
    "        page_py = self.wiki_wiki.page(targetWord)\n",
    "        if page_py.exists():\n",
    "            title = page_py.title\n",
    "            url = page_py.canonicalurl\n",
    "            cat = [i.title.split(\"Category:\")[1] for i in page_py.categories.values()]\n",
    "            summary = page_py.summary\n",
    "            links = [i.title for i in page_py.links.values() if \":\" not in i.title]\n",
    "            status=\"success\"\n",
    "        else:\n",
    "            title = \"\"\n",
    "            url = \"\"\n",
    "            cat = []\n",
    "            summary = \"\"\n",
    "            links = []\n",
    "            status=\"fail\"\n",
    "            print(\"page not exists\")\n",
    "        return (title,url,cat,summary,links,status)\n",
    "    def getResult_json(self,query,verbose=False):\n",
    "        (title,url,categories,summary,links,status) = self.search(query)\n",
    "        return json.dumps({\"query\":query,\"title\":title,\"url\":url,\"categories\":categories,\"summary\":summary,\"links\":links,\"status\":status})\n",
    "        "
   ]
  },
  {
   "cell_type": "code",
   "execution_count": 91,
   "metadata": {
    "ExecuteTime": {
     "end_time": "2019-04-11T13:11:20.786764Z",
     "start_time": "2019-04-11T13:11:19.670297Z"
    },
    "scrolled": false
   },
   "outputs": [
    {
     "name": "stdout",
     "output_type": "stream",
     "text": [
      "{\"query\": \"Dream\", \"title\": \"Dream\", \"url\": \"https://en.wikipedia.org/wiki/Dream\", \"categories\": [\"All articles with dead external links\", \"All articles with failed verification\", \"All articles with unsourced statements\", \"Articles to be expanded from February 2019\", \"Articles with Curlie links\", \"Articles with dead external links from April 2013\", \"Articles with evidence out of context\", \"Articles with failed verification from April 2015\", \"Articles with unsourced statements from July 2016\", \"CS1 maint: Archived copy as title\", \"CS1 maint: Multiple names: authors list\", \"Commons category link is locally defined\", \"Dream\", \"Night\", \"Psychotherapy\", \"Sleep\", \"Symbols\", \"Webarchive template wayback links\", \"Wikipedia articles needing clarification from January 2019\", \"Wikipedia articles with GND identifiers\", \"Wikipedia articles with LCCN identifiers\", \"Wikipedia articles with NDL identifiers\", \"Wikipedia pages semi-protected against vandalism\"], \"summary\": \"A dream is a succession of images, ideas, emotions, and sensations that usually occur involuntarily in the mind during certain stages of sleep. The content and purpose of dreams are not fully understood, although they have been a topic of scientific, philosophical and religious interest throughout recorded history. Dream interpretation is the attempt at drawing meaning from dreams and searching for an underlying message. The scientific study of dreams is called oneirology.Dreams mainly occur in the rapid-eye movement (REM) stage of sleep\\u2014when brain activity is high and resembles that of being awake. REM sleep is revealed by continuous movements of the eyes during sleep. At times, dreams may occur during other stages of sleep. However, these dreams tend to be much less vivid or memorable. The length of a dream can vary; they may last for a few seconds, or approximately 20\\u201330 minutes. People are more likely to remember the dream if they are awakened during the REM phase. The average person has three to five dreams per night, and some may have up to seven; however, most dreams are immediately or quickly forgotten. Dreams tend to last longer as the night progresses. During a full eight-hour night sleep, most dreams occur in the typical two hours of REM. Dreams related to waking-life experiences are associated with REM theta activity, which suggests that emotional memory processing takes place in REM sleep.Opinions about the meaning of dreams have varied and shifted through time and culture. Many endorse the Freudian theory of dreams \\u2013 that dreams reveal insight into hidden desires and emotions. Other prominent theories include those suggesting that dreams assist in memory formation, problem solving, or simply are a product of random brain activation.Sigmund Freud, who developed the psychological discipline of psychoanalysis, wrote extensively about dream theories and their interpretations in the early 1900s. He explained dreams as manifestations of one's deepest desires and anxieties, often relating to repressed childhood memories or obsessions. Furthermore, he believed that virtually every dream topic, regardless of its content, represented the release of sexual tension. In The Interpretation of Dreams (1899), Freud developed a psychological technique to interpret dreams and devised a series of guidelines to understand the symbols and motifs that appear in our dreams. In modern times, dreams have been seen as a connection to the unconscious mind. They range from normal and ordinary to overly surreal and bizarre. Dreams can have varying natures, such as being frightening, exciting, magical, melancholic, adventurous, or sexual. The events in dreams are generally outside the control of the dreamer, with the exception of lucid dreaming, where the dreamer is self-aware. Dreams can at times make a creative thought occur to the person or give a sense of inspiration.\", \"links\": [\"A Nightmare on Elm Street (franchise)\", \"Abandonment (emotional)\", \"Abingdon-on-Thames\", \"Absorption (psychology)\", \"Activation-synthesis hypothesis\", \"Advanced sleep phase disorder\", \"Affect (psychology)\", \"African trypanosomiasis\", \"Akkadian language\", \"Alfred Adler\", \"Alice's Adventures in Wonderland\", \"Alpha wave\", \"Amniotes\", \"An American Werewolf in London\", \"Ancestors\", \"Ancient Egypt\", \"Anger\", \"Animist\", \"Antiphon (orator)\", \"Antonio de Pereda\", \"Anu\", \"Anxiety\", \"Anxiety (mood)\", \"Anxiety dream\", \"Aristotle\", \"Armadillo\", \"Arousal\", \"Artistic inspiration\", \"Ashurbanipal\", \"Ashurnasirpal II\", \"Assyria\", \"Atthakatha\", \"BBC\", \"Babylonia\", \"Baroque\", \"Bed\", \"Bed bug (insect)\", \"Bedding\", \"Bedroom\", \"Bedtime\", \"Bedtime story\", \"Bedtime toy\", \"Bedwetting\", \"Beta wave\", \"Bibcode\", \"Bible\", \"Biphasic and polyphasic sleep\", \"Bodhisattva\", \"Book of Genesis\", \"Brain activity\", \"Brainwaves\", \"Bruxism\", \"Bunk bed\", \"Calvin S. Hall\", \"Carl Jung\", \"Carrie (1976 film)\", \"Catathrenia\", \"Catholics\", \"Central hypoventilation syndrome\", \"Cerebral cortex\", \"Childhood amnesia\", \"Christians\", \"Chronotype\", \"Cicero\", \"Circadian rhythm sleep disorder\", \"CiteSeerX\", \"Cognitive neuroscience of dreams\", \"Cortisol\", \"Creation myth\", \"Creativity\", \"Curlie\", \"Cyclic alternating pattern\", \"Daniel (biblical figure)\", \"Daybed\", \"Daydreaming\", \"Deirdre Barrett\", \"Delayed sleep phase disorder\", \"Delta wave\", \"Depression (mood)\", \"Descartes\", \"Despair (emotion)\", \"Devil\", \"Digital object identifier\", \"Divination\", \"Dream (disambiguation)\", \"Dream Caused by the Flight of a Bee around a Pomegranate a Second Before Awakening\", \"Dream Cycle\", \"Dream Yoga\", \"Dream argument\", \"Dream art\", \"Dream diary\", \"Dream dictionary\", \"Dream guide\", \"Dream incubation\", \"Dream interpretation\", \"Dream journal\", \"Dream pop\", \"Dream sequence\", \"Dream sharing\", \"Dream speech\", \"Dream vision\", \"Dream world (plot device)\", \"Dream yoga\", \"Dreamcatcher\", \"Dreaming (journal)\", \"Dreaming (spirituality)\", \"Dreaming of the Tiger Spring\", \"Dreamlands\", \"Dreamscape (1984 film)\", \"Dreamwork\", \"Dynamic psychiatry\", \"Dyssomnia\", \"D\\u00e9j\\u00e0 vu\", \"Earth\", \"Eastern Roman emperor\", \"Electroencephalogram\", \"Electroencephalography\", \"Electromyography\", \"Embodied imagination\", \"Emotion and memory\", \"Emotional\", \"Emotional selection\", \"Emotions\", \"Enkidu\", \"Enlil\", \"Epic of Gilgamesh\", \"Epiphenomenon\", \"Evil\", \"Excessive daytime sleepiness\", \"Exploding head syndrome\", \"False awakening\", \"Fantasy\", \"Fantasy (psychology)\", \"Fantasy prone personality\", \"Fear\", \"Field of Dreams\", \"Filmmaker\", \"Forebrain\", \"Forester Universe\", \"Four-poster bed\", \"Freudian\", \"Friday the 13th (1980 film)\", \"Fritz Perls\", \"Functional magnetic resonance imaging\", \"Futon\", \"Gamma wave\", \"Gestalt therapy\", \"Gilgamesh\", \"Giotto\", \"God\", \"Goya\", \"Greenwood Press\", \"Gudea\", \"Guided imagery\", \"Guilt (emotion)\", \"H.P. Lovecraft\", \"Hallucination\", \"Hammock\", \"Happiness\", \"Hatsuyume\", \"Hearing (sense)\", \"Heaven\", \"Hebrews\", \"Henri Rousseau\", \"Henry Fuseli\", \"Herodotus\", \"Hinduism\", \"Hippocampus\", \"Hippocrates\", \"Hispania\", \"Histamine\", \"Histories (Herodotus)\", \"Horror and terror\", \"Horror film\", \"Hughlings Jackson\", \"Human sexual activity\", \"Humbaba\", \"Hypersomnia\", \"Hypnagogia\", \"Hypnic jerk\", \"Hypnopompic\", \"Hypnotic susceptibility\", \"Iain R. Edgar\", \"Idea\", \"Image\", \"Imgur-Enlil\", \"In Our Time (radio series)\", \"Inanna\", \"Inception\", \"Incubus\", \"Indigenous Australians\", \"Indigenous peoples of the Americas\", \"Insomnia\", \"Integrated Authority File\", \"International Standard Book Number\", \"International Standard Serial Number\", \"Interobject\", \"Irregular sleep\\u2013wake rhythm\", \"I\\u0161kar Zaq\\u012bqu\", \"J. Allan Hobson\", \"JSTOR\", \"Jacob's Dream\", \"Jacob's Ladder\", \"Jacob's ladder\", \"Jet lag\", \"Johannesburg\", \"John Tierney (journalist)\", \"Jorge Luis Borges\", \"Joy\", \"Julius Schnorr von Carolsfeld\", \"Jusepe de Ribera\", \"K-complex\", \"Kalhu\", \"Karl Bryullov\", \"Kleine\\u2013Levin syndrome\", \"Kur\", \"Kyell Gold\", \"Lady Charlotte Guest\", \"Lagash\", \"Lalitavistara\", \"Le R\\u00eave (Picasso)\", \"Lewis Carroll\", \"Library of Congress Control Number\", \"Lilith\", \"List of dream diaries\", \"List of dreams\", \"List of memory biases\", \"List of the named Buddhas\", \"London\", \"Long-term memory\", \"Looking-Glass Land\", \"Lucian of Samosata\", \"Lucid dream\", \"Lucid dreaming\", \"Lullaby\", \"Mabinogion\", \"Macrobius\", \"Madog ap Maredudd\", \"Magical (paranormal)\", \"Magnus Maximus\", \"Mahavastu\", \"Mandukya Upanishad\", \"Marcus Tullius Cicero\", \"Mare (folklore)\", \"Mark Solms\", \"Marsupial\", \"Martin Luther\", \"Mathematician\", \"Mattress\", \"Meditations on First Philosophy\", \"Memory consolidation\", \"Mental image\", \"Mesopotamia\", \"Messages\", \"Mexico\", \"Michael Willmann\", \"Microsleep\", \"Middle Ages\", \"Middle Welsh\", \"Milinda Panha\", \"Military\", \"Mind\", \"Monotheistic\", \"Morpheus (mythology)\", \"Mu wave\", \"Muhammad\", \"Musical composer\", \"NREM\", \"NREM sleep\", \"Nap\", \"Narcolepsy\", \"National Diet Library\", \"National Institute of Neurological Disorders and Stroke\", \"Neocortex\", \"Neurotransmitter\", \"Night eating syndrome\", \"Night terror\", \"Nightmare\", \"Nightmares\", \"Nightwear\", \"Ningirsu\", \"Nocturia\", \"Nocturnal clitoral tumescence\", \"Nocturnal emission\", \"Nocturnal penile tumescence\", \"Non-24-hour sleep\\u2013wake disorder\", \"Non-rapid eye movement sleep\", \"Norepinephrine\", \"Novelist\", \"Obesity hypoventilation syndrome\", \"Old Testament\", \"Olfaction\", \"Oneirogen\", \"Oneirology\", \"Oneiromancy\", \"Oneironaut\", \"Oneironautics\", \"Ontology\", \"Openness to experience\", \"Opossum\", \"Oracles\", \"Orgasm\", \"Out-of-body experience\", \"PGO waves\", \"Pablo Picasso\", \"Papyrus\", \"Parasomnia\", \"Parietal lobe\", \"Perception\", \"Periodic limb movement disorder\", \"Peter Weir\", \"Philip K. Dick\", \"Physicist\", \"Physiological\", \"Piers Plowman\", \"Polysomnography\", \"Popular culture\", \"Posttraumatic stress disorder\", \"Power nap\", \"Powys\", \"Pre-lucid dream\", \"Precognition\", \"Prefrontal cortex\", \"Prognosis\", \"Protestantism\", \"Psychoanalysis\", \"Psychoanalytic dream interpretation\", \"Psychologists\", \"Psychology\", \"Psychology Today\", \"Psychophysiology\", \"Psychotherapy\", \"PubMed Central\", \"PubMed Identifier\", \"REM sleep\", \"Rapid eye movement sleep\", \"Rapid eye movement sleep behavior disorder\", \"Rapture dream\", \"Recorded history\", \"Recurring dream\", \"Reformation\", \"Repressed memory\", \"Reverse learning\", \"Robert McCarley\", \"Romanticism\", \"Routledge\", \"Royal road\", \"Sadness\", \"Saint Joseph\", \"Salience (neuroscience)\", \"Salvador Dal\\u00ed\", \"Schizotypy\", \"Scientist\", \"Scrovegni Chapel\", \"Second wind (sleep)\", \"Self-aware\", \"Semantic memory\", \"Sensation (psychology)\", \"Sensorimotor rhythm\", \"Serotonin\", \"Shamash\", \"Shift work sleep disorder\", \"Siesta\", \"Sigmund Freud\", \"Skeptical hypothesis\", \"Sleep\", \"Sleep and creativity\", \"Sleep and learning\", \"Sleep apnea\", \"Sleep debt\", \"Sleep deprivation\", \"Sleep diary\", \"Sleep disorder\", \"Sleep hygiene\", \"Sleep induction\", \"Sleep inertia\", \"Sleep medicine\", \"Sleep onset\", \"Sleep paralysis\", \"Sleep spindle\", \"Sleep state misperception\", \"Sleeping bag\", \"Sleeping while on duty\", \"Sleepover\", \"Sleepwalking\", \"Slow-wave sleep\", \"Snoring\", \"Somatosensory system\", \"Somniale Danielis\", \"Somniloquy\", \"Somnium Scipionis\", \"Somnolence\", \"Somnology\", \"Soul\", \"Speculative fiction\", \"Spellbound (1945 film)\", \"Spirit spouse\", \"St. Augustine\", \"St. Jerome\", \"Stages of sleep\", \"Stimulus (physiology)\", \"Stress (medicine)\", \"Succubus\", \"Sumer\", \"Surrealism\", \"Synesthesia\", \"S\\u00e1ndor Ferenczi\", \"Taste\", \"Temptation\", \"The Book of the Duchess\", \"The Circular Ruins\", \"The Dream (Rousseau painting)\", \"The Dream of Rhonabwy\", \"The Interpretation of Dreams\", \"The Lathe of Heaven\", \"The Lucidity Institute\", \"The Manchurian Candidate (1962 film)\", \"The Neverending Story\", \"The New York Times\", \"The Nightmare\", \"The Red Book of Hergest\", \"The Sleep of Reason Produces Monsters\", \"The Three Stigmata of Palmer Eldritch\", \"The Wizard of Oz (1939 film)\", \"Theta wave\", \"Thought recording and reproduction device\", \"Thought suppression\", \"Through the Looking-Glass\", \"Time dilation\", \"Tonic immobility\", \"Treating nightmares\", \"Ubik\", \"Unconscious mind\", \"University of Dundee\", \"Upanishads\", \"Urination\", \"Veda\", \"Veridical dream\", \"Vision quest\", \"Wang Chong\", \"Wayback Machine\", \"Welsh language\", \"Western Reserve University\", \"Western Roman Empire\", \"White Book of Rhydderch\", \"Wilder Penfield\", \"William Domhoff\", \"Wish fulfillment\", \"Wonderland (fictional country)\", \"Zhuangzi (book)\"], \"status\": \"success\"}\n"
     ]
    }
   ],
   "source": [
    "w_searcher = WikiSearch()\n",
    "print(w_searcher.getResult_json(\"Dream\"))"
   ]
  },
  {
   "cell_type": "code",
   "execution_count": 98,
   "metadata": {
    "ExecuteTime": {
     "end_time": "2019-04-04T07:13:29.195741Z",
     "start_time": "2019-04-04T07:13:29.156388Z"
    }
   },
   "outputs": [
    {
     "data": {
      "text/plain": [
       "wikipediaapi.WikipediaPage"
      ]
     },
     "execution_count": 98,
     "metadata": {},
     "output_type": "execute_result"
    },
    {
     "data": {
      "text/plain": [
       "wikipediaapi.WikipediaPage"
      ]
     },
     "execution_count": 98,
     "metadata": {},
     "output_type": "execute_result"
    },
    {
     "data": {
      "text/plain": [
       "'Category:All Wikipedia articles written in American English'"
      ]
     },
     "execution_count": 98,
     "metadata": {},
     "output_type": "execute_result"
    },
    {
     "data": {
      "text/plain": [
       "0"
      ]
     },
     "execution_count": 98,
     "metadata": {},
     "output_type": "execute_result"
    },
    {
     "data": {
      "text/plain": [
       "14"
      ]
     },
     "execution_count": 98,
     "metadata": {},
     "output_type": "execute_result"
    },
    {
     "data": {
      "text/plain": [
       "<Namespace.CATEGORY: 14>"
      ]
     },
     "execution_count": 98,
     "metadata": {},
     "output_type": "execute_result"
    },
    {
     "data": {
      "text/plain": [
       "{'Wikipedia:Categorization': Wikipedia:Categorization (id: ??, ns: 4),\n",
       " 'Wikipedia:Maintenance': Wikipedia:Maintenance (id: ??, ns: 4),\n",
       " 'Wikipedia:What is an article?': Wikipedia:What is an article? (id: ??, ns: 4),\n",
       " 'Help:Category': Help:Category (id: ??, ns: 12),\n",
       " 'Category:Hidden categories': Category:Hidden categories (id: ??, ns: 14)}"
      ]
     },
     "execution_count": 98,
     "metadata": {},
     "output_type": "execute_result"
    }
   ],
   "source": [
    "page_cat = list(page_py.categories.values())[0]\n",
    "type(page_cat)\n",
    "type(page_py)\n",
    "page_cat.title\n",
    "page_py.ns\n",
    "page_cat.ns\n",
    "wikipediaapi.Namespace.CATEGORY\n",
    "page_cat.links"
   ]
  },
  {
   "cell_type": "markdown",
   "metadata": {},
   "source": [
    "# 【方案二】纯爬虫处理"
   ]
  },
  {
   "cell_type": "markdown",
   "metadata": {},
   "source": [
    "发现不论哪家的API都会有一些信息的滞后，和当前wiki页面的情况不符<br>\n",
    "诸如新的重定向没有生效、 category取的不对"
   ]
  },
  {
   "cell_type": "code",
   "execution_count": null,
   "metadata": {},
   "outputs": [],
   "source": [
    "import requests\n",
    "word = \"ADVICE\"\n",
    "def ws(word):\n",
    "    res = requests.get(f\"https://en.wikipedia.org/w/index.php?search={word}&title=Special%3ASearch&go=Go\")\n",
    "    with open(\"/Users/zac/Downloads/currentPage.html\",\"w+\") as f:\n",
    "        f.writelines(res.text)\n",
    "    if(not res.url.startswith(\"https://en.wikipedia.org/wiki/\")):\n",
    "        print(\"error\")\n",
    "    return res\n",
    "    "
   ]
  },
  {
   "cell_type": "markdown",
   "metadata": {},
   "source": [
    "## 【工具封装】WikiSearch_byCrawl"
   ]
  },
  {
   "cell_type": "code",
   "execution_count": 106,
   "metadata": {
    "ExecuteTime": {
     "end_time": "2019-04-11T13:23:11.233304Z",
     "start_time": "2019-04-11T13:23:11.176866Z"
    },
    "code_folding": []
   },
   "outputs": [],
   "source": [
    "import requests\n",
    "import json\n",
    "from lxml import etree\n",
    "class WikiSearch_byCrawl():\n",
    "    def __init__(self,verbosePath=\"wikiSearchResult_request.html\"):\n",
    "        self.verbosePath = verbosePath\n",
    "        self.url = \"https://en.wikipedia.org/w/index.php\" \n",
    "        self.gl_proxies = {}\n",
    "        self.header = {\"Referer\":\"https://www.google.com/\",\n",
    "                       'User-Agent':'Mozilla/5.0 (Macintosh; Intel Mac OS X 10_12_6) AppleWebKit/537.36 (KHTML, like Gecko) Chrome/72.0.3626.121 Safari/537.36'}\n",
    "        pass\n",
    "    \n",
    "    def request(self,query,verbose=False):\n",
    "        params = {'search':query,\n",
    "                  'title':'Special%3ASearch',\n",
    "                  'go':'Go'}\n",
    "        resp1 = requests.get(self.url,params=params,headers=self.header,proxies=self.gl_proxies,timeout=4)\n",
    "        if(verbose):\n",
    "            with open(self.verbosePath,\"w+\") as f: f.writelines(resp1.text)\n",
    "        return resp1\n",
    "    \n",
    "    @staticmethod\n",
    "    def _findCategory(html):\n",
    "        cats = html.xpath(\"//div[@id='mw-normal-catlinks']/ul/li\")\n",
    "        allCategories = [li.xpath(\"string(.)\") for li in cats]\n",
    "        return allCategories\n",
    "    @staticmethod\n",
    "    def _findHiddenCategory(html):\n",
    "        cats = html.xpath(\"//div[@id='mw-hidden-catlinks']/ul/li\")\n",
    "        allCategories = [li.xpath(\"string(.)\") for li in cats]\n",
    "        return allCategories\n",
    "    @staticmethod\n",
    "    def _findAllLinks(html):\n",
    "        content_div = html.xpath(\"//div[@id='mw-content-text']\")[0]\n",
    "        allLink = [a for a in content_div.xpath(\".//a[@href and @title]\")]\n",
    "        allLink = [a for a in allLink if a.attrib['href'].startswith(\"/wiki/\")] # 过滤掉非wiki词条的\n",
    "        allLink = [a for a in allLink if \":\" not in a.attrib['href']] # 过滤掉非wiki词条的\n",
    "        allLinkRes = [a.xpath(\"string(.)\") for a in allLink]\n",
    "        return allLinkRes\n",
    "    # todo\n",
    "    @staticmethod\n",
    "    def _findSummary(html):\n",
    "        content_text_div = html.xpath(\"//div[@id='mw-content-text']/div[@class='mw-parser-output']\")[0]\n",
    "        allText = content_text_div.xpath(\"./p[not(@*)]\") #全部段落\n",
    "        return allText[0].xpath(\"string(.)\")\n",
    "    \n",
    "    def parse(self,response):\n",
    "        try:\n",
    "            html = etree.HTML(response.text)\n",
    "            cats = self._findCategory(html)\n",
    "            hidden_cats = self._findHiddenCategory(html)\n",
    "            links = self._findAllLinks(html)\n",
    "            summary = self._findSummary(html)\n",
    "            title = html.xpath(\"//h1[@id='firstHeading']\")[0].xpath(\"string(.)\")\n",
    "            url = response.url\n",
    "            resDict = {\"title\":title,\"summary\":summary,\"categories\":cats,\"hidden_categories\":hidden_cats,\"links\":links,\"url\":url}\n",
    "            resDict.update({\"status\":\"success\"})\n",
    "        except Exception as e:\n",
    "            resDict = {\"title\":\"\",\"summary\":\"\",\"categories\":[],\"hidden_categories\":[],\"links\":[],\"url\":\"\"}\n",
    "            resDict.update({\"status\":\"fail\"})\n",
    "        return resDict\n",
    "        \n",
    "    \n",
    "    def search(self,query,verbose=False):\n",
    "        response = self.request(query,verbose)\n",
    "        return self.parse(response)\n",
    "    \n",
    "    def getResult_json(self,query,verbose=False):\n",
    "        resDict = self.search(query,verbose)\n",
    "        resDict.update({\"query\":query})\n",
    "        resultJSON=json.dumps(resDict)\n",
    "        return resultJSON"
   ]
  },
  {
   "cell_type": "code",
   "execution_count": 93,
   "metadata": {
    "ExecuteTime": {
     "end_time": "2019-04-11T13:12:18.836823Z",
     "start_time": "2019-04-11T13:12:18.364061Z"
    },
    "scrolled": false
   },
   "outputs": [
    {
     "name": "stdout",
     "output_type": "stream",
     "text": [
      "{\"title\": \"Advice\", \"summary\": \"Advice (noun) or advise (verb) may refer to:\\n\", \"categories\": [\"Disambiguation pages\"], \"hidden_categories\": [\"Disambiguation pages with short description\", \"All article disambiguation pages\", \"All disambiguation pages\"], \"links\": [\"Advice (opinion)\", \"Advice (constitutional)\", \"Advice (programming)\", \"Advice (complexity)\", \"pay slip\", \"HMS\\u00a0Advice\", \"\\\"Advice\\\" (song)\", \"Christina Grimmie\", \"Kehlani\", \"SweetSexySavage\", \"ADVISE\", \"The Advice\", \"The Advice (album)\", \"Advisor\", \"Advocate\"], \"url\": \"https://en.wikipedia.org/wiki/Advice\"}\n"
     ]
    }
   ],
   "source": [
    "query = \"ADVICE\"\n",
    "wsearcher_crawl = WikiSearch_byCrawl()\n",
    "response = wsearcher_crawl.request(query,True)\n",
    "print(wsearcher_crawl.getResult_json(query))"
   ]
  },
  {
   "cell_type": "markdown",
   "metadata": {},
   "source": [
    "# 两个工具类对比\n",
    "- 时间和准确性上都是 byCrawl 更优"
   ]
  },
  {
   "cell_type": "code",
   "execution_count": 103,
   "metadata": {
    "ExecuteTime": {
     "end_time": "2019-04-11T13:22:09.966647Z",
     "start_time": "2019-04-11T13:22:09.958006Z"
    }
   },
   "outputs": [],
   "source": [
    "query = \"China\""
   ]
  },
  {
   "cell_type": "code",
   "execution_count": 104,
   "metadata": {
    "ExecuteTime": {
     "end_time": "2019-04-11T13:22:13.211274Z",
     "start_time": "2019-04-11T13:22:10.244896Z"
    },
    "scrolled": true
   },
   "outputs": [
    {
     "name": "stdout",
     "output_type": "stream",
     "text": [
      ">>> WikiSearch()\n",
      " {\"query\": \"China\", \"title\": \"China\", \"url\": \"https://en.wikipedia.org/wiki/China\", \"categories\": [\"All Wikipedia articles written in American English\", \"All articles containing potentially dated statements\", \"All articles with vague or ambiguous time\", \"Articles containing Chinese-language text\", \"Articles containing Mongolian-language text\", \"Articles containing Persian-language text\", \"Articles containing Portuguese-language text\", \"Articles containing Sanskrit-language text\", \"Articles containing potentially dated statements from 2005\", \"Articles containing potentially dated statements from 2010\", \"Articles containing potentially dated statements from 2012\", \"Articles containing potentially dated statements from 2013\", \"Articles containing potentially dated statements from 2015\", \"Articles containing potentially dated statements from 2017\", \"Articles containing potentially dated statements from 2018\", \"Articles containing potentially dated statements from January 2016\", \"Articles containing simplified Chinese-language text\", \"Articles containing traditional Chinese-language text\", \"Articles with Chinese-language external links\", \"Articles with Curlie links\", \"Articles with Portuguese-language external links\", \"Articles with short description\", \"Atheist states\", \"BRICS nations\", \"CS1 Chinese-language sources (zh)\", \"CS1 maint: Uses editors parameter\", \"CS1 uses Chinese-language script (zh)\", \"China\", \"Coordinates on Wikidata\", \"East Asian countries\", \"G20 nations\", \"Good articles\", \"Member states of the United Nations\", \"Northeast Asian countries\", \"Pages using Timeline\", \"Pages using infobox country or infobox former country with the symbol caption or type parameters\", \"States and territories established in 1949\", \"Use American English from August 2016\", \"Use dmy dates from March 2019\", \"Vague or ambiguous time from March 2019\", \"Webarchive template other archives\", \"Webarchive template wayback links\", \"Wikipedia articles with BNF identifiers\", \"Wikipedia articles with GND identifiers\", \"Wikipedia articles with ISNI identifiers\", \"Wikipedia articles with LCCN identifiers\", \"Wikipedia articles with MusicBrainz area identifiers\", \"Wikipedia articles with NARA identifiers\", \"Wikipedia articles with NKC identifiers\", \"Wikipedia articles with VIAF identifiers\", \"Wikipedia articles with WorldCat-VIAF identifiers\", \"Wikipedia indefinitely move-protected pages\", \"Wikipedia indefinitely semi-protected pages\"], \"summary\": \"China, officially the People's Republic of China (PRC), is a country in East Asia and the world's most populous country, with a population of around 1.404 billion. Covering approximately 9,600,000 square kilometers (3,700,000 sq mi), it is the third- or fourth-largest country by total area. Governed by the Communist Party of China, the state exercises jurisdiction over 22 provinces, five autonomous regions, four direct-controlled municipalities (Beijing, Tianjin, Shanghai, and Chongqing), and the special administrative regions of Hong Kong and Macau.\\nChina emerged as one of the world's earliest civilizations, in the fertile basin of the Yellow River in the North China Plain. For millennia, China's political system was based on hereditary monarchies, or dynasties, beginning with the semi-legendary Xia dynasty in 21st century BCE. Since then, China has expanded, fractured, and re-unified numerous times. In the 3rd century BCE, the Qin reunited core China and established the first Chinese empire. The succeeding Han dynasty, which ruled from 206 BC until 220 AD, saw some of the most advanced technology at that time, including papermaking and the compass, along with agricultural and medical improvements. The invention of gunpowder and movable type in the Tang dynasty (618\\u2013907) and Northern Song (960\\u20131127) completed the Four Great Inventions. Tang culture spread widely in Asia, as the new Silk Route brought traders to as far as Mesopotamia and Horn of Africa. Dynastic rule ended in 1912 with the Xinhai Revolution, when a republic replaced the Qing dynasty. The Chinese Civil War resulted in a division of territory in 1949, when the Communist Party of China established the People's Republic of China, a unitary one-party sovereign state on Mainland China, while the Kuomintang-led government retreated to the island of Taiwan. The political status of Taiwan remains disputed.\\nSince the introduction of economic reforms in 1978, China's economy has been one of the world's fastest-growing with annual growth rates consistently above 6 percent. According to the World Bank, China's GDP grew from $150 billion in 1978 to $12.24 trillion by 2017. Since 2010, China has been the world's second-largest economy by nominal GDP and since 2014, the largest economy in the world by purchasing power parity (PPP). China is also the world's largest exporter and second-largest importer of goods. China is a recognized nuclear weapons state and has the world's largest standing army and second-largest defense budget. The PRC is a permanent member of the United Nations Security Council as it replaced the ROC in 1971, as well as an active global partner of ASEAN Plus mechanism. China is also a leading member of numerous formal and informal multilateral organizations, including the Shanghai Cooperation Organization (SCO), WTO, APEC, BRICS, the BCIM, and the G20. In recent times, scholars have argued that it will soon be a world superpower, rivaling the United States.\", \"links\": [\"+86\", \".cn\", \".\\u4e2d\\u56fd\", \".\\u4e2d\\u570b\", \"10th BRICS summit\", \"11th BRICS summit\", \"12th BRICS summit\", \"135th meridian east\", \"18th National Congress of the Communist Party of China\", \"18th parallel north\", \"1st BRIC summit\", \"2007 Chinese anti-satellite missile test\", \"2008 Summer Olympics\", \"2008 Summer Olympics medal table\", \"2010 Nobel Peace Prize\", \"2011 BRICS summit\", \"2011 Summer Universiade\", \"2012 SCO summit\", \"2012 Summer Paralympics\", \"2013 East Asian Games\", \"2014 SCO summit\", \"2014 Summer Youth Olympics\", \"2015 World Championships in Athletics\", \"2016 BRICS U-17 Football Cup\", \"2017 SCO summit\", \"2018 BRICS U-17 Football Cup\", \"2019 FIBA Basketball World Cup\", \"2022 Olympic Winter Games\", \"2022 Winter Olympics\", \"2nd BRIC summit\", \"3G (countries)\", \"3rd BRICS summit\", \"4th BRICS summit\", \"54th parallel north\", \"5th BRICS summit\", \"6th BRICS summit\", \"73rd meridian east\", \"7th BRICS summit\", \"8th BRICS summit\", \"9th BRICS summit\", \"AAAAA Tourist Attractions of China\", \"APEC Australia 1989\", \"APEC Australia 2007\", \"APEC Brunei 2000\", \"APEC Business Travel Card\", \"APEC Canada 1997\", \"APEC Chile 2004\", \"APEC Chile 2019\", \"APEC China 2001\", \"APEC China 2014\", \"APEC Climate Center\", \"APEC Indonesia 1994\", \"APEC Indonesia 2013\", \"APEC Japan 1995\", \"APEC Japan 2010\", \"APEC Malaysia 1998\", \"APEC Mexico 2002\", \"APEC New Zealand 1999\", \"APEC Papua New Guinea 2018\", \"APEC Peru 2008\", \"APEC Peru 2016\", \"APEC Philippines 1996\", \"APEC Philippines 2015\", \"APEC Republic of Korea 1991\", \"APEC Russia 2012\", \"APEC Sculpture Garden\", \"APEC Singapore 1990\", \"APEC Singapore 2009\", \"APEC South Korea 2005\", \"APEC Thailand 1992\", \"APEC Thailand 2003\", \"APEC United States 1993\", \"APEC United States 2011\", \"APEC Vietnam 2006\", \"APEC Vietnam 2017\", \"APEC Youth Science Festival\", \"APEC blue\", \"ASEAN Plus Three\", \"Abkhazia\", \"Academic publishing in China\", \"Administrative divisions of China\", \"Afghanistan\", \"African socialism\", \"Agence France-Presse\", \"Agreement on Agriculture\", \"Agreement on Government Procurement\", \"Agreement on Technical Barriers to Trade\", \"Agreement on Trade-Related Aspects of Intellectual Property Rights\", \"Agreement on Trade Related Investment Measures\", \"Agreement on the Application of Sanitary and Phytosanitary Measures\", \"Agriculture in China\", \"Ainslie Thomas Embree\", \"Ainu people\", \"Air pollution in China\", \"Air supremacy\", \"Akrotiri and Dhekelia\", \"Aksai Chin\", \"Alejandro Jara\", \"Alibaba\", \"Alibaba Group\", \"Alipay\", \"Allies of World War II\", \"Alluvium\", \"Along the River During the Qingming Festival\", \"Altaic languages\", \"American Chinese food\", \"American Left\", \"Amur River\", \"An Shi Rebellion\", \"Ancestor\", \"Ancient China\", \"Andre Gunder Frank\", \"Anhui\", \"Anhui cuisine\", \"Annual average GDP growth\", \"Anti-Qing sentiment\", \"Antireligious campaigns in China\", \"Appellate Body\", \"Apple Inc.\", \"Arab socialism\", \"Archery\", \"Archive-It\", \"Archives in China\", \"Argentina\", \"Armenia\", \"Art of East Asia\", \"Artificial intelligence\", \"Asia\", \"Asia-Pacific Economic Cooperation\", \"Asia Times Online\", \"Asian black bear\", \"Asian dust\", \"Association football\", \"Association of East Asian Research Universities\", \"Association of Southeast Asian Nations\", \"Australia\", \"Austroasiatic Languages\", \"Austronesian languages\", \"Autocracy\", \"Autonomous regions of China\", \"Ayding Lake\", \"Azerbaijan\", \"Azerbaijan People's Government\", \"BBC\", \"BCIM\", \"BRICS\", \"BRICS Cable\", \"BRICS Contingent Reserve Arrangement\", \"BRICS U-17 Football Cup\", \"BRICS Universities League\", \"BSc\", \"Badain Jaran Desert\", \"Badminton\", \"Bahrain\", \"Baiji\", \"Bali Package\", \"Ballistic missile submarine\", \"Bamboo\", \"Bangladesh\", \"Bank of Canada\", \"Banking in China\", \"Banpo\", \"Barry Sautman\", \"Baselines of the Chinese territorial sea\", \"Bavarian Soviet Republic\", \"Before Present\", \"BeiDou Navigation Satellite System\", \"Beijing\", \"Beijing Capital International Airport\", \"Beijing Subway\", \"Beijing dialect\", \"Beijing\\u2013Guangzhou\\u2013Shenzhen\\u2013Hong Kong High-Speed Railway\", \"Beijing\\u2013Shanghai High-Speed Railway\", \"Beiyang Army\", \"Belarus\", \"Belgium\", \"Bhutan\", \"Bian Lian\", \"Bianjing\", \"Bibcode\", \"Bibliography of Chinese history\", \"Bibliography of the China\", \"Biblioth\\u00e8que nationale de France\", \"Bilateralism\", \"Biodiversity action plan\", \"Bloomberg Businessweek\", \"Bloomberg L.P.\", \"Board game\", \"Boeing\", \"Bohai Sea\", \"Bolivarian Revolution\", \"Book of Documents\", \"Bopomofo\", \"Borders of China\", \"Boxer Rebellion\", \"Brahmaputra River\", \"Brahmic scripts\", \"Brazil\", \"Brazil\\u2013China relations\", \"Brazil\\u2013India relations\", \"Brazil\\u2013Russia relations\", \"Brazil\\u2013South Africa relations\", \"Bremen Soviet Republic\", \"Britain's Road to Socialism\", \"British Indian Ocean Territory\", \"British Left\", \"Bronze Age\", \"Brunei\", \"Buddhism\", \"Buddhism in China\", \"Buddhist cuisine\", \"Burmese Way to Socialism\", \"Burning of books and burying of scholars\", \"Buyei\", \"ByteDance\", \"C4I\", \"C4ISTAR\", \"CIA World Factbook\", \"CPC Politburo Standing Committee\", \"Caishen\", \"Cambodia\", \"Cambridge, Mass.\", \"Canada\", \"Cantonese\", \"Cantonese cuisine\", \"Cao Wei\", \"Capital punishment in the People's Republic of China\", \"Carol Gluck\", \"Censorship in China\", \"Central Asia\", \"Central China\", \"Central Intelligence Agency\", \"Central Military Commission (People's Republic of China)\", \"Central Plain (China)\", \"Chairman of the Central Military Commission\", \"Chairman of the Communist Party of China\", \"Chairman of the National Committee of the Chinese People's Political Consultative Conference\", \"Chairman of the Standing Committee of the National People's Congress\", \"Chang'an\", \"Chang'e 3\", \"Chang'e 4\", \"Chapter VII of the United Nations Charter\", \"Chapter V of the United Nations Charter\", \"Charles K. Kao\", \"Chen Ning Yang\", \"Chengdu\", \"Chengdu Aircraft Industry Group\", \"Chengdu J-10\", \"Chengdu J-20\", \"Chengdu Research Base of Giant Panda Breeding\", \"Chengyu\", \"Chess\", \"Chiang Kai-shek\", \"Chile\", \"China\", \"China's Generation Y\", \"China (disambiguation)\", \"China Family Panel Studies\", \"China Mobile\", \"China National Highways\", \"China Railway Corporation\", \"China Standard Time\", \"China Telecom\", \"China Unicom\", \"China at the 1952 Summer Olympics\", \"China at the Olympics\", \"Chinas\", \"China\\u2013India relations\", \"China\\u2013Japan\\u2013South Korea trilateral summit\", \"China\\u2013South Africa relations\", \"Chinese Basketball Association\", \"Chinese Buddhism\", \"Chinese Century\", \"Chinese Civil War\", \"Chinese Communist Party\", \"Chinese Communist Revolution\", \"Chinese Communists\", \"Chinese Dream\", \"Chinese Islamic cuisine\", \"Chinese New Year\", \"Chinese People's Political Consultative Conference\", \"Chinese Soviet Republic\", \"Chinese Super League\", \"Chinese Taipei\", \"Chinese aircraft carrier Liaoning\", \"Chinese aircraft carrier programme\", \"Chinese art\", \"Chinese astrology\", \"Chinese calendar\", \"Chinese calligraphy\", \"Chinese characters\", \"Chinese classic texts\", \"Chinese cooking techniques\", \"Chinese cuisine\", \"Chinese culture\", \"Chinese democracy movement\", \"Chinese diaspora\", \"Chinese economic reform\", \"Chinese emigration\", \"Chinese financial system\", \"Chinese folk religion\", \"Chinese folklore\", \"Chinese food therapy\", \"Chinese foreign aid\", \"Chinese geography\", \"Chinese gods and immortals\", \"Chinese herbology\", \"Chinese historiography\", \"Chinese intellectualism\", \"Chinese knotting\", \"Chinese language\", \"Chinese literature\", \"Chinese martial arts\", \"Chinese mythology\", \"Chinese nationalism\", \"Chinese painting\", \"Chinese people\", \"Chinese philosophy\", \"Chinese poetry\", \"Chinese prehistory\", \"Chinese salvationist religions\", \"Chinese skepticism of democracy\", \"Chinese social relations\", \"Chinese social structure\", \"Chinese space program\", \"Chinese space station\", \"Chinese tea culture\", \"Chinese theology\", \"Chinese units\", \"Chinese university ranking (Wu Shulian)\", \"Chinese variety art\", \"Chinese yuan\", \"Cholera\", \"Chongqing\", \"Chongzhen Emperor\", \"Chopsticks\", \"Christian Science Monitor\", \"Christianity\", \"Christmas Island\", \"Chunyun\", \"Chu\\u2013Han Contention\", \"Cinema of China\", \"Citigroup\", \"Civil Service of the People's Republic of China\", \"Civil aviation in China\", \"Civil rights\", \"Classic Chinese Novels\", \"Classic of History\", \"Classic of Poetry\", \"Classical Chinese poetry\", \"Classical Gardens of Suzhou\", \"Cocos (Keeling) Islands\", \"Collective farming\", \"Colombia\", \"Columbia University\", \"Commander-in-chief\", \"Common Era\", \"Commonwealth of Independent States\", \"Communist Party of China\", \"Communist state\", \"Compass\", \"Comprehensive Economic Partnership for East Asia\", \"Confucianism\", \"Conifer\", \"Coniferous\", \"Constitution of China\", \"Constitution of the People's Republic of China\", \"Constitution of the Republic of China\", \"Constitutional monarchy\", \"Control of fire by early humans\", \"Convention on Biological Diversity\", \"Coordinated Universal Time\", \"Corporatism\", \"Corruption in China\", \"Counterfeit\", \"Counterfeit medications\", \"Country\", \"Country code top-level domain\", \"Cradle of civilization\", \"Crime in China\", \"Criticism of education in China\", \"Criticism of the World Trade Organization\", \"Cross-Strait relations\", \"CrossAsia\", \"Cruise missile\", \"Cuba\", \"Cuisine of Hong Kong\", \"Cuju\", \"Cult\", \"Cult (religious practice)\", \"Cultural Revolution\", \"Culture hero\", \"Culture of the People's Republic of China\", \"Curlie\", \"Cycling\", \"Cyprus\", \"Cyril Ramaphosa\", \"Czechoslovak Socialist Republic\", \"Dadiwan culture\", \"Dalian\", \"Damaidi\", \"Dance in China\", \"Daniel C. Tsui\", \"Dao County\", \"Declaration by United Nations\", \"Deity\", \"Demesne\", \"Democratic Kampuchea\", \"Democratic Republic of Afghanistan\", \"Democratic Republic of Madagascar\", \"Democratic centralism\", \"Demographics of China\", \"Demonym\", \"Deng Xiaoping\", \"Department of the Treasury (Australia)\", \"Dependent territory\", \"Derg\", \"Desalination\", \"Desertification\", \"Destruction of the Library of Alexandria\", \"Developing countries\", \"Digital object identifier\", \"Dim sum bond\", \"Diplomatic recognition\", \"Direct-administered municipalities of China\", \"Direct-controlled municipalities of China\", \"Direct-controlled municipality of China\", \"Direct election\", \"Director-General of the World Trade Organization\", \"Dispute Settlement Body\", \"Districts of Hong Kong\", \"Doha Declaration\", \"Doha Development Round\", \"Domestic tourism\", \"Dominican Republic\", \"Dong Fang Hong I\", \"Dong language\", \"Dongguan\", \"Dragon boat\", \"Dream of the Red Chamber\", \"Dry season\", \"Du Fu\", \"Duarte Barbosa\", \"Duge Bridge\", \"Dungan Revolt (1862\\u201377)\", \"Dungan language\", \"Dynasties in Chinese history\", \"Dzungar Khanate\", \"E-commerce\", \"EAFF East Asian Championship\", \"East Africa\", \"East Asia\", \"East Asia Climate Partnership\", \"East Asia Image Collection\", \"East Asia Institute (Ludwigshafen)\", \"East Asia Law Review\", \"East Asia Summit\", \"East Asian Bronze Age\", \"East Asian Buddhism\", \"East Asian Bureau of Economic Research\", \"East Asian Community\", \"East Asian Economic Review\", \"East Asian Football Federation\", \"East Asian Games\", \"East Asian Institute (Singapore)\", \"East Asian Judo Championships\", \"East Asian Monsoon\", \"East Asian M\\u0101dhyamaka\", \"East Asian Yog\\u0101c\\u0101ra\", \"East Asian Youth Games\", \"East Asian age reckoning\", \"East Asian blepharoplasty\", \"East Asian calligraphy\", \"East Asian cinema\", \"East Asian cultural sphere\", \"East Asian dragon\", \"East Asian fetish\", \"East Asian gothic typeface\", \"East Asian hip-and-gable roof\", \"East Asian literature\", \"East Asian model of capitalism\", \"East Asian people\", \"East Asian philosophy\", \"East Asian rainy season\", \"East Asian religions\", \"East Asian studies\", \"East Asian zodiac\", \"East China\", \"East China Sea\", \"East Germany\", \"East Timor\", \"Eastern Asiatic Region\", \"Eastern Min\", \"Eastern Zhou\", \"Economic bubbles\", \"Economic development\", \"Economic history of China (1949\\u2013present)\", \"Economic history of China before 1912\", \"Economic reform in the People's Republic of China\", \"Economy of Afghanistan\", \"Economy of Albania\", \"Economy of Algeria\", \"Economy of Angola\", \"Economy of Antigua and Barbuda\", \"Economy of Argentina\", \"Economy of Armenia\", \"Economy of Australia\", \"Economy of Austria\", \"Economy of Bahrain\", \"Economy of Bangladesh\", \"Economy of Barbados\", \"Economy of Belgium\", \"Economy of Belize\", \"Economy of Benin\", \"Economy of Bolivia\", \"Economy of Botswana\", \"Economy of Brazil\", \"Economy of Brunei\", \"Economy of Bulgaria\", \"Economy of Burkina Faso\", \"Economy of Burma\", \"Economy of Burundi\", \"Economy of Cambodia\", \"Economy of Cameroon\", \"Economy of Canada\", \"Economy of Cape Verde\", \"Economy of Chad\", \"Economy of Chile\", \"Economy of China\", \"Economy of Colombia\", \"Economy of Costa Rica\", \"Economy of Croatia\", \"Economy of Cuba\", \"Economy of Cyprus\", \"Economy of C\\u00f4te d'Ivoire\", \"Economy of Denmark\", \"Economy of Djibouti\", \"Economy of Dominica\", \"Economy of East Asia\", \"Economy of Ecuador\", \"Economy of Egypt\", \"Economy of El Salvador\", \"Economy of Estonia\", \"Economy of Fiji\", \"Economy of Finland\", \"Economy of France\", \"Economy of Gabon\", \"Economy of Georgia (country)\", \"Economy of Germany\", \"Economy of Ghana\", \"Economy of Greece\", \"Economy of Grenada\", \"Economy of Guatemala\", \"Economy of Guinea\", \"Economy of Guinea-Bissau\", \"Economy of Guyana\", \"Economy of Haiti\", \"Economy of Honduras\", \"Economy of Hong Kong\", \"Economy of Hungary\", \"Economy of Iceland\", \"Economy of India\", \"Economy of Indonesia\", \"Economy of Israel\", \"Economy of Italy\", \"Economy of Jamaica\", \"Economy of Japan\", \"Economy of Jordan\", \"Economy of Kazakhstan\", \"Economy of Kenya\", \"Economy of Kuwait\", \"Economy of Kyrgyzstan\", \"Economy of Laos\", \"Economy of Latvia\", \"Economy of Lesotho\", \"Economy of Liberia\", \"Economy of Liechtenstein\", \"Economy of Lithuania\", \"Economy of Luxembourg\", \"Economy of Macau\", \"Economy of Madagascar\", \"Economy of Malawi\", \"Economy of Malaysia\", \"Economy of Mali\", \"Economy of Malta\", \"Economy of Mauritania\", \"Economy of Mauritius\", \"Economy of Mexico\", \"Economy of Moldova\", \"Economy of Mongolia\", \"Economy of Montenegro\", \"Economy of Morocco\", \"Economy of Mozambique\", \"Economy of Namibia\", \"Economy of Nepal\", \"Economy of New Zealand\", \"Economy of Nicaragua\", \"Economy of Niger\", \"Economy of Nigeria\", \"Economy of Norway\", \"Economy of Oman\", \"Economy of Pakistan\", \"Economy of Panama\", \"Economy of Papua New Guinea\", \"Economy of Paraguay\", \"Economy of Peru\", \"Economy of Poland\", \"Economy of Portugal\", \"Economy of Qatar\", \"Economy of Romania\", \"Economy of Russia\", \"Economy of Rwanda\", \"Economy of Saint Kitts and Nevis\", \"Economy of Saint Lucia\", \"Economy of Saint Vincent and the Grenadines\", \"Economy of Samoa\", \"Economy of Saudi Arabia\", \"Economy of Senegal\", \"Economy of Seychelles\", \"Economy of Sierra Leone\", \"Economy of Singapore\", \"Economy of Slovakia\", \"Economy of Slovenia\", \"Economy of South Africa\", \"Economy of South Korea\", \"Economy of Spain\", \"Economy of Sri Lanka\", \"Economy of Suriname\", \"Economy of Swaziland\", \"Economy of Sweden\", \"Economy of Switzerland\", \"Economy of Taiwan\", \"Economy of Tajikistan\", \"Economy of Tanzania\", \"Economy of Thailand\", \"Economy of Togo\", \"Economy of Tonga\", \"Economy of Trinidad and Tobago\", \"Economy of Tunisia\", \"Economy of Turkey\", \"Economy of Uganda\", \"Economy of Ukraine\", \"Economy of Uruguay\", \"Economy of Venezuela\", \"Economy of Vietnam\", \"Economy of Yemen\", \"Economy of Zambia\", \"Economy of Zimbabwe\", \"Economy of the Central African Republic\", \"Economy of the China\", \"Economy of the Czech Republic\", \"Economy of the Democratic Republic of the Congo\", \"Economy of the Dominican Republic\", \"Economy of the European Union\", \"Economy of the Gambia\", \"Economy of the Maldives\", \"Economy of the Netherlands\", \"Economy of the Philippines\", \"Economy of the Republic of Ireland\", \"Economy of the Republic of Macedonia\", \"Economy of the Republic of the Congo\", \"Economy of the Solomon Islands\", \"Economy of the United Arab Emirates\", \"Economy of the United Kingdom\", \"Economy of the United States\", \"Ecozone\", \"Education in China\", \"Education in the People's Republic of China\", \"Egypt\", \"Eight-Nation Alliance\", \"Eighth East Asia Summit\", \"Elections in China\", \"Elections in the People's Republic of China\", \"Eleventh East Asia Summit\", \"Emperor Hui of Jin\", \"Emperor Huizong of Song\", \"Emperor Wu of Liu Song\", \"Emperor Xiaowen of Northern Wei\", \"Empire of China (1915\\u20131916)\", \"Empress Dowager Cixi\", \"Encyclop\\u00e6dia Britannica\", \"End of World War II in Asia\", \"End of the Han dynasty\", \"Endemic\", \"Energy policy of China\", \"English language\", \"Environment of China\", \"Environmental issues in China\", \"Environmental policy in China\", \"Equatorial Guinea\", \"Erlitou culture\", \"Erosion\", \"Ethnic Mongols in China\", \"Ethnic group\", \"Ethnic groups in Chinese history\", \"Ethnic minorities in China\", \"Eurasian Geography and Economics\", \"Eurasian Land Bridge\", \"Eurasian Steppe\", \"European Union\", \"Expressways of China\", \"Extraterritoriality\", \"Extreme points of China\", \"Falun Gong\", \"Fauna of China\", \"Feminism in China\", \"Feudalism\", \"Fifth East Asia Summit\", \"Financial Times\", \"Finnish Democratic Republic\", \"First East Asia Summit\", \"First Emperor\", \"First Sino-Japanese War\", \"First Sino-Japanese war\", \"Five Barbarians\", \"Five Classics\", \"Five Dynasties and Ten Kingdoms period\", \"Five Principles of Peaceful Coexistence\", \"Flag of China\", \"Floating population\", \"Flora of China\", \"Foochow Romanized\", \"Food safety in China\", \"Food safety incidents in China\", \"Forbes\", \"Forced abortions\", \"Foreign Affairs\", \"Foreign aid to China\", \"Foreign direct investment\", \"Foreign exchange reserves of the People's Republic of China\", \"Foreign relations\", \"Foreign relations of Abkhazia\", \"Foreign relations of Armenia\", \"Foreign relations of Artsakh\", \"Foreign relations of Brazil\", \"Foreign relations of China\", \"Foreign relations of Cyprus\", \"Foreign relations of India\", \"Foreign relations of Israel\", \"Foreign relations of Kosovo\", \"Foreign relations of North Korea\", \"Foreign relations of Northern Cyprus\", \"Foreign relations of Russia\", \"Foreign relations of Somaliland\", \"Foreign relations of South Africa\", \"Foreign relations of South Korea\", \"Foreign relations of South Ossetia\", \"Foreign relations of Taiwan\", \"Foreign relations of Transnistria\", \"Foreign relations of the Sahrawi Arab Democratic Republic\", \"Foreign relations of the State of Palestine\", \"Fortune (magazine)\", \"Fortune Global 500\", \"Foshan\", \"Four Asian Tigers\", \"Four Books and Five Classics\", \"Four Classics\", \"Four Great Classical Novels\", \"Four Great Inventions\", \"Four Modernizations\", \"Four Policemen\", \"Four occupations\", \"Fourth East Asia Summit\", \"France\", \"Free area of the Republic of China\", \"Free trade area\", \"Freedom of assembly\", \"Freedom of religion\", \"Freedom of speech\", \"Freedom of the press\", \"French Left\", \"Fujian\", \"Fujian Province\", \"Fujian cuisine\", \"Fungi\", \"Fuyan Cave\", \"Fuzhou dialect\", \"Fuzhounese\", \"G20\", \"G7\", \"G8+5\", \"Galician Soviet Socialist Republic\", \"Gan Chinese\", \"Gang of Four\", \"Gansu\", \"Gaokao\", \"Garden design\", \"General Agreement on Tariffs and Trade\", \"General Agreement on Trade in Services\", \"General Secretary of the Communist Party of China\", \"Geographic coordinate system\", \"Geography of China\", \"Geography of the China\", \"Geology of China\", \"Georgia (country)\", \"Germany\", \"Giant panda\", \"Gini coefficient\", \"Glaciers\", \"Global Competitiveness Index\", \"Go (board game)\", \"Go (game)\", \"Gobi Desert\", \"Gods and demons fiction\", \"Goguryeo\", \"Goguryeo\\u2013Sui War\", \"Gojoseon\\u2013Han War\", \"Government-owned corporation\", \"Government of China\", \"Grand Canal of China\", \"Grassland\", \"Great Chinese Famine\", \"Great Divergence\", \"Great Hall of the People\", \"Great Lakes\", \"Great Leap Forward\", \"Great Wall of China\", \"Gross domestic product\", \"Group of Eight\", \"Group of Six\", \"Guandi\", \"Guangdong\", \"Guangdong Province\", \"Guangdong Romanization\", \"Guangxi\", \"Guangxu Emperor\", \"Guangzhou\", \"Guangzhou Metro\", \"Guilin\", \"Guizhou\", \"Gulf of Tonkin\", \"Gunpowder\", \"Gym\", \"HIV/AIDS in China\", \"Haijin\", \"Hainan\", \"Hainan Island\", \"Hainan Province\", \"Hakka Chinese\", \"Hakka language\", \"Han Chinese\", \"Han Zheng\", \"Han campaigns against Dian\", \"Han characters\", \"Han dynasty\", \"Hangzhou\", \"Hangzhou Bay\", \"Hanyu Pinyin\", \"Han\\u2013Xiongnu War\", \"Harbin\", \"Harmonious Socialist Society\", \"Harry Wu\", \"Head of government\", \"Head of state\", \"Health in China\", \"Heaven worship\", \"Heavy industry\", \"Hebei\", \"Hebei province\", \"Heilongjiang\", \"Hell money\", \"Henan\", \"High-speed rail by country\", \"High-speed rail in China\", \"Higher fungi\", \"Himalaya\", \"Himalayas\", \"Hindu\", \"Hinghwa Romanized\", \"Historical GDP of China\", \"History of China\", \"History of Chinese currency\", \"History of East Asia\", \"History of United Nations peacekeeping\", \"History of printing in East Asia\", \"History of science and technology in China\", \"History of socialism\", \"History of the China\", \"History of the Han dynasty\", \"History of the People's Republic of China\", \"History of the People's Republic of China (1949\\u20131976)\", \"History of the People's Republic of China (1976\\u20131989)\", \"History of the People's Republic of China (1989\\u20132002)\", \"History of the People's Republic of China (2002\\u2013present)\", \"History of the socialist movement in Brazil\", \"History of the socialist movement in the United Kingdom\", \"History of the socialist movement in the United States\", \"History of typography in East Asia\", \"Hmongic language\", \"Hmong\\u2013Mien languages\", \"Hokkien\", \"Hominidae\", \"Homo erectus\", \"Homo sapiens\", \"Homosexuality in China\", \"Hong Kong\", \"Hong Kong Dollar\", \"Hong Kong International Airport\", \"Hong Kong\\u2013Zhuhai\\u2013Macau Bridge\", \"Hongwu Emperor\", \"Horizontal and vertical writing in East Asian scripts\", \"Horn of Africa\", \"Horse racing\", \"Horses in East Asian warfare\", \"Hu Jintao\", \"Hu Shih\", \"Hua-Yi distinction\", \"Huawei\", \"Huaxia\", \"Hubei\", \"Hui people\", \"Hukou system\", \"Human Development Index\", \"Human rights in China\", \"Human rights in East Asia\", \"Human rights in the People's Republic of China\", \"Human sex ratio\", \"Humanistic\", \"Hunan\", \"Hunan cuisine\", \"Hundred Days' Reform\", \"Hundred Schools of Thought\", \"Hungarian People's Republic\", \"Hungarian Soviet Republic\", \"Hydroelectric power\", \"Hydroelectricity\", \"Hypersonic flight\", \"ICBM\", \"ISO 3166\", \"ISO 4217\", \"I Ching\", \"Ideology of the Communist Party of China\", \"Imperial China\", \"Imperial Japan\", \"Imperial examination\", \"Improved sanitation\", \"Income inequality in China\", \"Incorporation of Tibet into the People's Republic of China\", \"Index of China-related articles\", \"Index of the China-related articles\", \"India\", \"Indian Ocean\", \"India\\u2013Russia relations\", \"India\\u2013South Africa relations\", \"Indirect election\", \"Individualism\", \"Indo-European language\", \"Indomalaya\", \"Indonesia\", \"Industrial and Commercial Bank of China\", \"Infant mortality\", \"Information Technology Agreement\", \"Inner Asia\", \"Inner Mongolia\", \"Integrated Authority File\", \"Interactions Between Heaven and Mankind\", \"International Futures\", \"International Monetary Fund\", \"International Standard Book Number\", \"International Standard Name Identifier\", \"International Standard Serial Number\", \"International Trade Centre\", \"International rankings of China\", \"International recognition of Abkhazia and South Ossetia\", \"International recognition of Artsakh\", \"International recognition of Israel\", \"International recognition of Kosovo\", \"International recognition of Transnistria\", \"International recognition of the Sahrawi Arab Democratic Republic\", \"International recognition of the State of Palestine\", \"Internationalization of the Renminbi\", \"Internet censorship in China\", \"Involvement of the People's Republic of China in Africa\", \"Iran\", \"Iraq\", \"Irish soviets\", \"Iron Age\", \"Irreligion\", \"Islam\", \"Islam in China\", \"Island of Taiwan\", \"Israel\", \"Italy\", \"Ivory Coast\", \"J-16\", \"JSTOR\", \"Jair Bolsonaro\", \"Japan\", \"Japan Empire\", \"Japanese invasions of Korea (1592\\u201398)\", \"Japanese war crimes\", \"Jerry Norman (sinologist)\", \"Jiahu\", \"Jiahu symbols\", \"Jian'ou dialect\", \"Jiang Zemin\", \"Jiangsu\", \"Jiangsu cuisine\", \"Jiangxi\", \"Jilin\", \"Jin Mao Tower\", \"Jin Yong\", \"Jin dynasty (1115\\u20131234)\", \"Jin dynasty (265\\u2013420)\", \"Jin\\u2013Song Wars\", \"Jiuquan Satellite Launch Center\", \"Joint Monitoring Programme for Water Supply and Sanitation\", \"Jordan\", \"Journal of East Asian Studies\", \"Journey to the West\", \"Judicial system of China\", \"Juniper\", \"Jurchen people\", \"Jyutping\", \"Kaifeng\", \"Kang Kyung-wha\", \"Karakoram\", \"Kashmir\", \"Kazakh language\", \"Kazakhs in China\", \"Kazakhstan\", \"Khitan Liao\", \"Kienning Colloquial Romanized\", \"King Zheng of Qin\", \"Kinmen\", \"Korea\", \"Korean Peninsula\", \"Korean language\", \"Koreans\", \"Koreans in China\", \"Kosovo\", \"Kublai Khan\", \"Kunlun Mountains\", \"Kuomintang\", \"Kuomintang Islamic insurgency in China (1950\\u201358)\", \"Kuwait\", \"Kyrgyz in China\", \"Kyrgyz language\", \"Kyrgyzstan\", \"K\\u00f6ppen climate classification\", \"Labor Zionism\", \"Landing Operation on Hainan Island\", \"Landlord\", \"Landscape art\", \"Languages of China\", \"Languages of East Asia\", \"Laogai\", \"Laos\", \"Late-2000s recession\", \"Latitude\", \"Law enforcement in China\", \"Law of the People's Republic of China\", \"Laziji\", \"Lebanon\", \"Left- and right-hand traffic\", \"Legalism (philosophy)\", \"Legitimacy (political)\", \"Lenovo\", \"Li Bai\", \"Li Keqiang\", \"Li Peng\", \"Li River\", \"Li Zhanshu\", \"Li Zicheng\", \"Liang Yusheng\", \"Liaoning\", \"Libraries in China\", \"Library of Alexandria\", \"Library of Congress Control Number\", \"Life expectancy\", \"Lingua franca\", \"List of BRICS leaders\", \"List of Chinese administrative divisions by GDP\", \"List of Chinese administrative divisions by GDP per capita\", \"List of Chinese astronauts\", \"List of Chinese discoveries\", \"List of Chinese dynasties\", \"List of Chinese inventions\", \"List of Chinese military texts\", \"List of East Asian stock exchanges\", \"List of UNESCO Biosphere Reserves in China\", \"List of World Heritage Sites in China\", \"List of airlines of China\", \"List of airports in China\", \"List of busiest airports by passenger traffic\", \"List of cities by GDP\", \"List of cities in China\", \"List of cities in China by population\", \"List of concentration and internment camps\", \"List of countries and dependencies by area\", \"List of countries and dependencies by population\", \"List of countries and dependencies by population density\", \"List of countries by GDP (PPP)\", \"List of countries by GDP (PPP) per capita\", \"List of countries by GDP (nominal)\", \"List of countries by GDP (nominal) per capita\", \"List of countries by Human Development Index\", \"List of countries by carbon dioxide emissions\", \"List of countries by electricity production from renewable sources\", \"List of countries by military expenditure share of GDP\", \"List of countries by military expenditures\", \"List of countries by motor vehicle production\", \"List of countries by natural gas exports\", \"List of countries by number of Internet users\", \"List of countries by number of active troops\", \"List of countries by number of broadband Internet users\", \"List of countries by number of mobile phones in use\", \"List of countries by number of neighbouring countries\", \"List of countries by rail transport network size\", \"List of countries by real GDP growth rate\", \"List of countries by road network size\", \"List of current Chinese provincial leaders\", \"List of destroyed libraries\", \"List of diplomatic missions of the People's Republic of China\", \"List of endangered and protected species of China\", \"List of endangered languages in China\", \"List of ethnic groups in China\", \"List of highest bridges in the world\", \"List of islands of China\", \"List of lakes of China\", \"List of land border lengths\", \"List of largest Chinese companies\", \"List of largest banks\", \"List of longest bridges in the world\", \"List of mammals of China\", \"List of members of the United Nations Security Council\", \"List of metro systems\", \"List of national parks of China\", \"List of newspapers in China\", \"List of political parties in China\", \"List of ports and harbors of the Pacific Ocean\", \"List of ports in China\", \"List of protected areas of China\", \"List of regions of China\", \"List of rivers of China\", \"List of sovereign states and dependent territories in Asia\", \"List of states with limited recognition\", \"List of states with nuclear weapons\", \"List of statues by height\", \"List of the busiest airports in China\", \"List of universities in China\", \"List of volcanoes in China\", \"List of warlords and military cliques in the Warlord Era\", \"List of wars involving the People's Republic of China\", \"List of world's busiest container ports\", \"List of years in the People's Republic of China\", \"Lists of East Asian surnames (disambiguation)\", \"Literacy rate\", \"Literary inquisition\", \"Liu Song\", \"Liu Xiaobo\", \"Living language\", \"Long March\", \"Long March 2F\", \"Longitude\", \"Lu Xun\", \"Lujiazui\", \"Luoyi\", \"MTR\", \"Macanese pataca\", \"Macau\", \"Mach number\", \"Magic realism\", \"Mahjong\", \"Mah\\u0101bh\\u0101rata\", \"Main battle tank\", \"Mainland China\", \"Malays (ethnic group)\", \"Malaysia\", \"Maldives\", \"Malnutrition\", \"Manchu alphabet\", \"Manchu language\", \"Manchu people\", \"Mandarin Chinese\", \"Mandarin Phonetic Symbols II\", \"Manusm\\u1e5bti\", \"Mao Zedong\", \"March of the Volunteers\", \"Marrakech Agreement\", \"Martin Jacques\", \"Martino Martini\", \"Marxism\", \"Matsu Islands\", \"Mausoleum of the First Qin Emperor\", \"May Fourth Movement\", \"Mazu (goddess)\", \"McCarthyism\", \"McKinsey & Company\", \"MediaCorp Channel NewsAsia\", \"Media of China\", \"Megacity\", \"Megadiverse countries\", \"Mei Ze\", \"Mekong\", \"Melanesian socialism\", \"Member states of Shanghai Cooperation Organisation\", \"Member states of the Shanghai Cooperation Organisation\", \"Member states of the United Nations\", \"Meritocracy\", \"Mesopotamia\", \"Metro systems by annual passenger rides\", \"Metropolitan regions of China\", \"Mexico\", \"Miao people\", \"Middle school\", \"Mienic languages\", \"Migrant worker\", \"Migration in China\", \"Military history of China before 1911\", \"Military power projection\", \"Min Chinese\", \"Ming dynasty\", \"Ming treasure voyages\", \"Ministerial Conference\", \"Ministry of Environmental Protection of the People's Republic of China\", \"Misty poetry\", \"Mixed economy\", \"Miyamoto Musashi\", \"Mo Yan\", \"Monetary Authority of Singapore\", \"Mongol conquest of China\", \"Mongolia\", \"Mongolian Cyrillic script\", \"Mongolian People's Republic\", \"Mongolian language\", \"Mongolian script\", \"Mongolian wrestling\", \"Mongols\", \"Mongols in China\", \"Monsoons\", \"Moon Jae-in\", \"Moose\", \"Mount Everest\", \"Movable type\", \"Municipalities of Macau\", \"MusicBrainz\", \"Music industry of East Asia\", \"Music of China\", \"Muztagh Ata\", \"Myanmar\", \"NGO\", \"Names of China\", \"Nanjing\", \"Nanking Massacre\", \"Nanyue\", \"Narendra Modi\", \"National Archives and Records Administration\", \"National Basketball Association\", \"National Bureau of Statistics of China\", \"National Day of the People's Republic of China\", \"National Emblem of China\", \"National Emblem of the People's Republic of China\", \"National Gallery of Art\", \"National Health and Family Planning Commission\", \"National Library of the Czech Republic\", \"National People's Congress\", \"National Railway Administration of the People's Republic of China\", \"National Science Board\", \"National security of China\", \"Nationality law of China\", \"Natural disasters in China\", \"Natural gas in Russia\", \"Naxi language\", \"Needham Research Institute\", \"Negative numbers\", \"Neo-Confucianism\", \"Nepal\", \"Network-centric warfare\", \"New Culture Movement\", \"New Development Bank\", \"New Straits Times\", \"New Zealand\", \"Ningxia\", \"Ninth East Asia Summit\", \"Noam Chomsky\", \"Nobel Assembly at Karolinska Institutet\", \"Nobel Prize in Chemistry\", \"Nobel Prize in Physics\", \"Nobel Prize in Physiology or Medicine\", \"Non-Aligned Movement\", \"Nontheism\", \"North China\", \"North China Plain\", \"North Korea\", \"North Vietnam\", \"Northeast Asia\", \"Northeast China\", \"Northeast China Plain\", \"Northeastern China\", \"Northern Chinese Famine of 1876\\u201379\", \"Northern Cyprus\", \"Northern Expedition\", \"Northern Min\", \"Northern Song\", \"Northern Wei\", \"Northern and Southern dynasties\", \"Northern and southern China\", \"Northwest China\", \"Northwestern China\", \"November 1918 in Alsace-Lorraine\", \"Nuclear attack submarine\", \"Nuclear submarine\", \"Nuclear weapons\", \"OCLC\", \"OECD\", \"Obesity\", \"Office of the Secretary of Defense\", \"Official script\", \"Old Chinese\", \"Old Texts\", \"Old Uyghur alphabet\", \"Oman\", \"One-China policy\", \"One-child policy\", \"One-party state\", \"OnePlus\", \"OpenStreetMap\", \"Opium Wars\", \"Oppo phones\", \"Oracle bone script\", \"Orders of precedence in China\", \"Organ transplantation in China\", \"Outline of China\", \"Outline of ancient China\", \"Outline of the China\", \"PRC\", \"PRC (disambiguation)\", \"Pakistan\", \"Palearctic\", \"Pamir Mountains\", \"Pangu\", \"Papermaking\", \"Papua New Guinea\", \"Paramount leader\", \"Paramount leader (China)\", \"Party leader\", \"Pascal Lamy\", \"Patriotic Health Campaign\", \"Peace Clause\", \"Peacebuilding Commission\", \"Peking Man\", \"Peking duck\", \"Peking opera\", \"Penal system in China\", \"People's Bank of China\", \"People's Daily\", \"People's Democratic Republic of Ethiopia\", \"People's Liberation Army\", \"People's Liberation Army Air Force\", \"People's Liberation Army Ground Force\", \"People's Liberation Army Navy\", \"People's Liberation Army Navy Surface Force\", \"People's Liberation Army Rocket Force\", \"People's Liberation Army at Tiananmen Square protests of 1989\", \"People's Republic of Angola\", \"People's Republic of Benin\", \"People's Republic of Bulgaria\", \"People's Republic of Kampuchea\", \"People's Republic of Mozambique\", \"People's Republic of the Congo\", \"People's Revolutionary Government (Grenada)\", \"People's Socialist Republic of Albania\", \"People's commune\", \"People's democratic dictatorship\", \"Permanent members of the United Nations Security Council\", \"Persecution of Falun Gong\", \"Persian Socialist Soviet Republic\", \"Persian alphabet\", \"Persian language\", \"Persian people\", \"Peru\", \"Pescadores\", \"Petroleum industry in China\", \"Pe\\u030dh-\\u014de-j\\u012b\", \"Pharmaceutical industry in China\", \"Pharmaceuticals\", \"Pha\\u030dk-fa-s\\u1e73\", \"Philippines\", \"Physical fitness\", \"Pinyin\", \"Planned economy\", \"Plateau\", \"Poland\", \"Polish People's Republic\", \"Politburo of the Communist Party of China\", \"Political freedom\", \"Political status of Taiwan\", \"Politics of China\", \"Politics of the China\", \"Polity\", \"Pollution in China\", \"Popular Science\", \"Porcelain\", \"Port of Guangzhou\", \"Port of Hong Kong\", \"Port of Ningbo-Zhoushan\", \"Port of Qingdao\", \"Port of Shanghai\", \"Port of Shenzhen\", \"Port of Tianjin\", \"Portuguese empire\", \"Portuguese exploration\", \"Portuguese language\", \"Portuguese people\", \"Postal map romanization\", \"Potential superpowers\", \"Poverty in China\", \"Premier of the People's Republic of China\", \"President of the People's Republic of China\", \"PricewaterhouseCoopers\", \"Primary school\", \"Primary stage of socialism\", \"Prisoners of conscience\", \"Private healthcare\", \"Progenitor\", \"Programme for International Student Assessment\", \"Property\", \"Protected areas of China\", \"Protest and dissent in the People's Republic of China\", \"Proto-writing\", \"Provinces of China\", \"Provisional Revolutionary Government of the Republic of South Vietnam\", \"Pu-Xian Min\", \"PubMed Identifier\", \"Public companies\", \"Public holidays in China\", \"Purchasing power parity\", \"Qatar\", \"Qiang language\", \"Qigong\", \"Qin's campaign against the Yue tribes\", \"Qin's wars of unification\", \"Qin (state)\", \"Qin Shi Huang\", \"Qin dynasty\", \"Qing conquest of the Ming\", \"Qing dynasty\", \"Qingdao\", \"Qinghai\", \"Qiu Xigui\", \"Quartz (publication)\", \"Qufu\", \"Quota Elimination\", \"Radio in China\", \"Rail transport in China\", \"Rail usage statistics by country\", \"Rainforest\", \"Re-education through labor\", \"Re-education through labour\", \"Reconstructions of Old Chinese\", \"Religion in China\", \"Religious suppression\", \"Renewable energy commercialization\", \"Renewable energy in China\", \"Renminbi\", \"Reporters Without Borders\", \"Reproductive rights\", \"Republic\", \"Republic of Artsakh\", \"Republic of China\", \"Republic of China (1912\\u20131949)\", \"Republic of China (1912\\u201349)\", \"Republic of China Military Academy\", \"Republic of Mahabad\", \"Reserve currency\", \"Rhododendron\", \"Rice noodle roll\", \"Richard Eden\", \"Right to a fair trial\", \"Rio de Janeiro\", \"River delta\", \"Roberto Azev\\u00eado\", \"Robot\", \"Rogue state\", \"Romance of the Three Kingdoms\", \"Romanization\", \"Rowman & Littlefield\", \"Rubber stamp (politics)\", \"Rufus Yerxa\", \"Rules of the road in China\", \"Rural society in China\", \"Russia\", \"Russian language\", \"Russia\\u2013South Africa relations\", \"Ryukyu Islands\", \"Ryukyuan people\", \"SASM/GNC romanization\", \"SIPRI\", \"STEM fields\", \"Sahrawi Arab Democratic Republic\", \"Salar language\", \"San-min Doctrine\", \"Sandinista ideology\", \"Sandstorms\", \"Sanskrit\", \"Sanya\", \"Sarikoli language\", \"Satellite navigation\", \"Saudi Arabia\", \"Sawndip\", \"Scar literature\", \"Scarborough Shoal standoff\", \"Scarlet fever\", \"Scholar-official\", \"Science and technology in China\", \"Science and technology of the Han dynasty\", \"Scientific American\", \"Sea denial\", \"Seal (East Asia)\", \"Second East Asia Summit\", \"Second Sino-Japanese War\", \"Second class citizen\", \"Secretariat of the Communist Party of China\", \"Secretary of the Central Commission for Discipline Inspection\", \"Self-Strengthening Movement\", \"Senkaku Islands dispute\", \"SenseTime\", \"Seventh East Asia Summit\", \"Severe acute respiratory syndrome\", \"Sewage treatment\", \"Sexism\", \"Sexuality in China\", \"Shaanxi\", \"Shandong\", \"Shandong cuisine\", \"Shang dynasty\", \"Shanghai\", \"Shanghai Cooperation Organisation\", \"Shanghai Cooperation Organization\", \"Shanghai Maglev Train\", \"Shanghai Metro\", \"Shanghai Pudong International Airport\", \"Shanghai Stock Exchange\", \"Shanghai Tower\", \"Shanghai World Financial Center\", \"Shanghainese\", \"Shanxi\", \"Shen (Chinese religion)\", \"Shenyang\", \"Shenyang J-11\", \"Shenyang J-15\", \"Shenyang J-31\", \"Shenzhen\", \"Shenzhen Metro\", \"Shenzhou 11\", \"Shenzhou 5\", \"Shiji\", \"Shinz\\u014d Abe\", \"Short-range ballistic missile\", \"Shun dynasty\", \"Sichuan\", \"Sichuan cuisine\", \"Sichuanese Mandarin\", \"Sichuanese Pinyin\", \"Silk Road\", \"Silk Road UNESCO World Heritage Sites\", \"Simplified Chinese\", \"Simplified Chinese characters\", \"Singapore\", \"Singapore issues\", \"Sinitic languages\", \"Sino-Indian border dispute\", \"Sino-Platonic Papers\", \"Sino-Russian relations since 1991\", \"Sino-Tibetan language\", \"Sino-Xenic pronunciations\", \"Sixteen Kingdoms\", \"Sixth East Asia Summit\", \"Sixth National Population Census of the People's Republic of China\", \"Slavery in China\", \"Slovak Soviet Republic\", \"Smoking in China\", \"Snooker\", \"Social issues in China\", \"Social welfare in China\", \"Socialism\", \"Socialism in Australia\", \"Socialism in Bangladesh\", \"Socialism in Canada\", \"Socialism in Estonia\", \"Socialism in Hong Kong\", \"Socialism in India\", \"Socialism in Iran\", \"Socialism in New Zealand\", \"Socialism in Pakistan\", \"Socialism in Sri Lanka\", \"Socialism in Tunisia\", \"Socialism in the Netherlands\", \"Socialism with Chinese characteristics\", \"Socialist-oriented market economy\", \"Socialist Federal Republic of Yugoslavia\", \"Socialist Republic of Romania\", \"Socialist market economy\", \"Socialist state\", \"Society for Worldwide Interbank Financial Telecommunication\", \"Sogdia\", \"Sohu\", \"Solar power by country\", \"Somali Democratic Republic\", \"Somaliland\", \"Song dynasty\", \"South Africa\", \"South Asia\", \"South Central China\", \"South China\", \"South China Sea\", \"South Korea\", \"South Ossetia\", \"South Yemen\", \"Southern Min\", \"Southern Ming\", \"Southward expansion of the Han dynasty\", \"Southwest China\", \"Southwestern University of Finance and Economics\", \"South\\u2013North Water Transfer Project\", \"Sovereign state\", \"Soviet Republic of Saxony\", \"Soviet Union\", \"Soy milk\", \"Special Economic Zone\", \"Special Economic Zones of China\", \"Special administrative region\", \"Special administrative regions of China\", \"Special administrative regions of the People's Republic of China\", \"Special drawing rights\", \"Spelling in Gwoyeu Romatzyh\", \"Sport in China\", \"Sport in the People's Republic of China\", \"Spring Temple Buddha\", \"Spring and Autumn period\", \"Sri Lanka\", \"Standard Chinese\", \"Standard Mandarin\", \"Standard Tibetan\", \"Standard Zhuang\", \"Standard of living\", \"Standard of living in China\", \"Standing Committee of the National People's Congress\", \"State Administration for Religious Affairs\", \"State Council of the People's Republic of China\", \"State atheism\", \"State capitalism\", \"State of Palestine\", \"Stealth aircraft\", \"Stephen G. Haw\", \"Steppe Route\", \"Stockholm International Peace Research Institute\", \"String of Pearls (China)\", \"Stunted growth\", \"Submarines\", \"Subtropical\", \"Sui dynasty\", \"Sui language\", \"Suicide in China\", \"Sukhoi Su-30\", \"Summit (meeting)\", \"Sun Tzu\", \"Sun Yat-sen\", \"Supachai Panitchpakdi\", \"Supercomputer\", \"Surrender of Japan\", \"Suzhou\", \"Suzhounese\", \"Swimming\", \"Syria\", \"T'ai chi ch'uan\", \"TOP500\", \"Table tennis\", \"Tai L\\u00fc language\", \"Taiping Rebellion\", \"Taishanese\", \"Taiwan\", \"Taiwan (island)\", \"Taiwan Province, People's Republic of China\", \"Taiwan Province (People's Republic of China)\", \"Taiwanese Romanization System\", \"Taiwanese aborigines\", \"Taiwanese indigenous peoples\", \"Tai\\u2013Kadai languages\", \"Tajikistan\", \"Tajiks of Xinjiang\", \"Taklamakan Desert\", \"Tang dynasty\", \"Taoism\", \"Taoist priest\", \"Taoists\", \"Tar\\u014d K\\u014dno\", \"Taxkorgan Tajik Autonomous County\", \"Taxus\", \"Technological and industrial history of China\", \"Telecommunications in China\", \"Telephone numbers in China\", \"Television in China\", \"Temple of Heaven\", \"Tencent\", \"Tenth East Asia Summit\", \"Teochew dialect\", \"Terracotta Army\", \"Territorial changes of the People's Republic of China\", \"Terrorism in China\", \"Tertiary education\", \"Thai language\", \"Thailand\", \"The Art of War\", \"The Book of Five Rings\", \"The Daily Telegraph\", \"The Economist\", \"The Guardian\", \"The New York Times\", \"The Washington Post\", \"The Washington Times\", \"The World Factbook\", \"Theater (warfare)\", \"Third East Asia Summit\", \"Thirteenth East Asia Summit\", \"Three Evils\", \"Three Kingdoms\", \"Three laughs at Tiger Brook\", \"Three teachings\", \"Tian (god)\", \"Tian Shan\", \"Tiananmen Square\", \"Tiananmen Square protests of 1989\", \"Tiangong-1\", \"Tiangong-2\", \"Tianjin\", \"Tibet\", \"Tibet Autonomous Region\", \"Tibetan Buddhism\", \"Tibetan Plateau\", \"Tibetan alphabet\", \"Tibetan people\", \"Tibetan pinyin\", \"Tibetan script\", \"Tibeto-Burman languages\", \"Time in China\", \"Time magazine\", \"Timeline of Chinese history\", \"Timeline of late anti-Qing rebellions\", \"Timeline of the World Trade Organization\", \"Tmall\", \"Tobacco smoking\", \"Tofu\", \"Tongyong Pinyin\", \"Topography\", \"Torture\", \"Total fertility rate\", \"Totalitarianism\", \"Tourism in China\", \"Trade surplus\", \"Traditional Chinese characters\", \"Traditional Chinese medicine\", \"Trans-Karakoram Tract\", \"Transfer of sovereignty over Macau\", \"Transnistria\", \"Transport in China\", \"Treasury bond\", \"Treaty of Nanking\", \"Tsinghua University\", \"Tsung-Dao Lee\", \"Tu Youyou\", \"Tujia people\", \"Turkey\", \"Turkic languages\", \"Turkmenistan\", \"Turpan Depression\", \"Tuvan People's Republic\", \"Twelfth East Asia Summit\", \"Twenty-Four Histories\", \"Two-child policy\", \"Type 001 aircraft carrier\", \"Type 99 tank\", \"Typhoid\", \"UNESCO\", \"UNICEF\", \"UN Security Council\", \"US$\", \"USA Today\", \"US Department of Defense\", \"US public debt\", \"UTC+8\", \"Ujamaa\", \"Unequal Treaties\", \"Unicorn (finance)\", \"Unified Task Force\", \"Unitary state\", \"United Arab Emirates\", \"United Front (China)\", \"United Kingdom\", \"United Nations\", \"United Nations Command\", \"United Nations Department of Economic and Social Affairs\", \"United Nations General Assembly Resolution 2758\", \"United Nations Military Observer\", \"United Nations Security Council\", \"United Nations Security Council Counter-Terrorism Committee\", \"United Nations Security Council election, 2017\", \"United Nations Security Council resolution\", \"United Nations Security Council veto power\", \"United States\", \"United States Congress\", \"Universal suffrage\", \"University of California Press\", \"Unmanned aerial vehicle\", \"Unrecognized ethnic groups in China\", \"Uprising of the Five Barbarians\", \"Urban rail transit in China\", \"Urban society in China\", \"Urbanization in China\", \"Uyghur Arabic alphabet\", \"Uyghur Cyrillic alphabet\", \"Uyghur Latin alphabet\", \"Uyghur New Script\", \"Uyghur language\", \"Uyghur people\", \"Uyghurs\", \"Uzbekistan\", \"Varieties of Chinese\", \"Venture capital\", \"Vice Premier of the People's Republic of China\", \"Vice President of the People's Republic of China\", \"Vietnam\", \"Virtual International Authority File\", \"Vivo (technology company)\", \"Vladimir Putin\", \"WHO\", \"WIN/GIA\", \"Wa language\", \"Wade\\u2013Giles\", \"Wang Huning\", \"Wang Lijun incident\", \"Wang Qishan\", \"Wang Yang (politician)\", \"Wang Yangming\", \"Wang Yi (politician)\", \"War of the Eight Princes\", \"Warring States\", \"Warring States period\", \"Water Margin\", \"Water pollution\", \"Water resources of China\", \"Water shortage\", \"Water supply and sanitation in China\", \"Wayback Machine\", \"WeChat\", \"WeChat Pay\", \"Welfare state\", \"Wen Jiabao\", \"Western China\", \"Western Regions\", \"Western Yugur language\", \"Western Zhou\", \"Western Zhou dynasty\", \"White Lotus Rebellion\", \"Wildlife of China\", \"Wind power by country\", \"Wind turbine\", \"Wired (magazine)\", \"Women in China\", \"Working language\", \"World's busiest airport\", \"World's busiest airports by cargo traffic\", \"WorldCat Identities\", \"World Bank\", \"World Economic Forum\", \"World Health Organization\", \"World Trade Organization\", \"World Trade Organization Ministerial Conference of 1996\", \"World Trade Organization Ministerial Conference of 1998\", \"World Trade Organization Ministerial Conference of 1999\", \"World Trade Organization Ministerial Conference of 2001\", \"World Trade Organization Ministerial Conference of 2003\", \"World Trade Organization Ministerial Conference of 2005\", \"World Trade Organization Ministerial Conference of 2009\", \"World Trade Organization Ministerial Conference of 2011\", \"World Trade Organization Ministerial Conference of 2013\", \"World Trade Organization Ministerial Conference of 2015\", \"World Trade Organization Ministerial Conference of 2017\", \"World Trade Organization accession and membership\", \"World War II\", \"World energy resources and consumption\", \"Writing system\", \"Written vernacular Chinese\", \"Wu Chinese\", \"Wu Sangui\", \"Wuhan\", \"Wujing Zongyao\", \"Wuxia\", \"Wylie transliteration\", \"Xi'an\", \"Xi'an Incident\", \"Xi Jinping\", \"Xi River\", \"Xia dynasty\", \"Xianbei\", \"Xiang Chinese\", \"Xiangqi\", \"Xianren Cave\", \"Xianyang\", \"Xiao'erjing\", \"Xiaokang\", \"Xiaolongbao\", \"Xiaomi\", \"Xia\\u2013Shang\\u2013Zhou Chronology Project\", \"Xiehouyu\", \"Xinhai Revolution\", \"Xinhua\", \"Xinhua News Agency\", \"Xinjiang\", \"Xinjiang re-education camps\", \"Xishuangbanna Dai Autonomous Prefecture\", \"Xi\\u2013Li Administration\", \"Xungen movement\", \"Yale romanization of Cantonese\", \"Yale romanization of Mandarin\", \"Yalu River\", \"Yamato people\", \"Yan Huang Zisun\", \"Yan Ruoqu\", \"Yang Liwei\", \"Yangshan Port\", \"Yangtze River\", \"Yangtze River bridges and tunnels\", \"Yao Ming\", \"Yao Xinzhong\", \"Yelang\", \"Yellow Emperor\", \"Yellow River\", \"Yellow Sea\", \"Yemen\", \"Yi Jianlian\", \"Yi language\", \"Yi people\", \"Yinxu\", \"Young adult fiction\", \"Yuan Shikai\", \"Yuan T. Lee\", \"Yuan dynasty\", \"Yue Chinese\", \"Yunnan\", \"Yunnan\\u2013Guizhou Plateau\", \"Yutu (rover)\", \"ZTE\", \"Zhangjiakou\", \"Zhao Leji\", \"Zhejiang\", \"Zhejiang cuisine\", \"Zheng He\", \"Zhengzhou\", \"Zhonghua Minzu\", \"Zhongnanhai\", \"Zhou Enlai\", \"Zhou dynasty\", \"Zhoukoudian\", \"Zhu Rongji\", \"Zhuang language\", \"Zhuang languages\", \"Zhuang people\", \"Zimbabwe\", \"\\u2013\"], \"status\": \"success\"}\n"
     ]
    }
   ],
   "source": [
    "w_searcher = WikiSearch()\n",
    "print(\">>> WikiSearch()\\n\",w_searcher.getResult_json(query))"
   ]
  },
  {
   "cell_type": "code",
   "execution_count": 107,
   "metadata": {
    "ExecuteTime": {
     "end_time": "2019-04-11T13:23:17.217172Z",
     "start_time": "2019-04-11T13:23:16.495514Z"
    },
    "scrolled": false
   },
   "outputs": [
    {
     "name": "stdout",
     "output_type": "stream",
     "text": [
      ">>> WikiSearch_byCrawl()\n",
      " {\"title\": \"China\", \"summary\": \"China, officially the People's Republic of China (PRC), is a country in East Asia and the world's most populous country, with a population of around 1.404\\u00a0billion.[10] Covering approximately 9,600,000 square kilometers (3,700,000\\u00a0sq\\u00a0mi), it is the third- or fourth-largest country by total area.[k][16] Governed by the Communist Party of China, the state exercises jurisdiction over 22 provinces, five autonomous regions, four direct-controlled municipalities (Beijing, Tianjin, Shanghai, and Chongqing), and the special administrative regions of Hong Kong and Macau.\\n\", \"categories\": [\"States and territories established in 1949\", \"China\", \"Atheist states\", \"BRICS nations\", \"East Asian countries\", \"G20 nations\", \"Member states of the United Nations\", \"Northeast Asian countries\"], \"hidden_categories\": [\"Pages using Timeline\", \"Articles containing Portuguese-language text\", \"Articles containing Chinese-language text\", \"Articles with Portuguese-language external links\", \"CS1 maint: Uses editors parameter\", \"Articles with Chinese-language external links\", \"CS1 uses Chinese-language script (zh)\", \"Webarchive template wayback links\", \"CS1 Chinese-language sources (zh)\", \"Webarchive template other archives\", \"Articles containing traditional Chinese-language text\", \"Wikipedia indefinitely semi-protected pages\", \"Wikipedia indefinitely move-protected pages\", \"Articles with short description\", \"Good articles\", \"Use American English from August 2016\", \"All Wikipedia articles written in American English\", \"Use dmy dates from March 2019\", \"Pages using infobox country or infobox former country with the symbol caption or type parameters\", \"Articles containing Mongolian-language text\", \"Articles containing Persian-language text\", \"Articles containing Sanskrit-language text\", \"Articles containing simplified Chinese-language text\", \"Articles containing potentially dated statements from 2005\", \"All articles containing potentially dated statements\", \"All articles with vague or ambiguous time\", \"Vague or ambiguous time from March 2019\", \"Articles containing potentially dated statements from 2013\", \"Articles containing potentially dated statements from 2015\", \"Articles containing potentially dated statements from 2018\", \"Articles containing potentially dated statements from 2012\", \"Articles containing potentially dated statements from 2017\", \"Articles containing potentially dated statements from January 2016\", \"Articles containing potentially dated statements from 2010\", \"Articles with Curlie links\", \"Coordinates on Wikidata\", \"Wikipedia articles with BNF identifiers\", \"Wikipedia articles with GND identifiers\", \"Wikipedia articles with ISNI identifiers\", \"Wikipedia articles with LCCN identifiers\", \"Wikipedia articles with MusicBrainz area identifiers\", \"Wikipedia articles with NARA identifiers\", \"Wikipedia articles with NKC identifiers\", \"Wikipedia articles with VIAF identifiers\", \"Wikipedia articles with WorldCat-VIAF identifiers\"], \"links\": [\"Taiwan\", \"China (disambiguation)\", \"PRC (disambiguation)\", \"Chinese\", \"Pinyin\", \"Flag\", \" National Emblem\", \"March of the Volunteers\", \"Beijing\", \"Shanghai\", \"Standard Chinese\", \"Mongolian\", \"Uyghur\", \"Tibetan\", \"Zhuang\", \"various others\", \"Official script\", \"Simplified Chinese\", \"Ethnic\\u00a0groups\", \"Han\", \"55 minorities\", \"Zhuang\", \"Man (Manchu)\", \"Uygur (Uyghur)\", \"Hui\", \"Miao\", \"Yi\", \"Tujia\", \"Mongol\", \"Zang (Tibetan)\", \"Buyei\", \"Chosen (Korean)\", \"Religion in China\", \"Demonym(s)\", \"Chinese\", \"Government\", \"Unitary\", \"one-party\", \"socialist\", \"republic\", \"Party General Secretary\", \"President\", \"Xi Jinping\", \"Premier\", \"Li Keqiang\", \"Congress Chairman\", \"Li Zhanshu\", \"Conference Chairman\", \"Wang Yang\", \"Party Secretariat\", \"Wang Huning\", \"Secretary of the Discipline Inspection Commission\", \"Zhao Leji\", \"Vice Premier\", \"Han Zheng\", \"Vice President\", \"Wang Qishan\", \"National People's Congress\", \"Formation\", \"First pre-imperial dynasty\", \"First imperial dynasty\", \"Republic established\", \"Proclamation of the People's Republic\", \"Current constitution\", \"Last polity\", \"admitted\", \"Area \", \"3rd/4th\", \"Population\", \"1st\", \"1st\", \"83rd\", \"GDP\", \"PPP\", \"1st\", \"79th\", \"GDP\", \"2nd\", \"71st\", \"Gini\", \"HDI\", \"86th\", \"Renminbi\", \"CNY\", \"UTC\", \"+8\", \"China Standard Time\", \"CE\", \"CE-1949\", \"Driving side\", \"Calling code\", \"+86\", \"ISO 3166 code\", \"Internet TLD\", \".cn\", \".\\u4e2d\\u570b\", \".\\u4e2d\\u56fd\", \"East Asia\", \"world's most populous country\", \"1.404\\u00a0billion\", \"Communist Party of China\", \"provinces\", \"autonomous regions\", \"direct-controlled municipalities\", \"Beijing\", \"Tianjin\", \"Shanghai\", \"Chongqing\", \"special administrative regions\", \"Hong Kong\", \"Macau\", \"earliest civilizations\", \"Yellow River\", \"North China Plain\", \"dynasties\", \"Xia dynasty\", \"BCE\", \"expanded, fractured, and re-unified\", \"the Qin reunited core China\", \"the first Chinese empire\", \"Han dynasty\", \"most advanced technology\", \"papermaking\", \"compass\", \"gunpowder\", \"movable type\", \"Tang dynasty\", \"Northern Song\", \"Four Great Inventions\", \"Asia\", \"Silk Route\", \"Mesopotamia\", \"Horn of Africa\", \"Xinhai Revolution\", \"republic\", \"Qing dynasty\", \"Chinese Civil War\", \"Communist Party of China\", \"unitary\", \"one-party\", \"sovereign state\", \"Mainland China\", \"Kuomintang\", \"Taiwan\", \"political status of Taiwan\", \"economic reforms in 1978\", \"China's economy\", \"fastest-growing\", \"nominal GDP\", \"purchasing power parity\", \"nuclear weapons state\", \"largest standing army\", \"second-largest defense budget\", \"permanent member\", \"United Nations Security Council\", \"ASEAN Plus mechanism\", \"Shanghai Cooperation Organization (SCO)\", \"WTO\", \"APEC\", \"BRICS\", \"BCIM\", \"G20\", \"Names of China\", \"Simplified\", \"Traditional\", \"Simplified Chinese\", \"Traditional\\u00a0Chinese\", \"Hanyu Pinyin\", \"Standard Mandarin\", \"Hanyu Pinyin\", \"Bopomofo\", \"Gwoyeu Romatzyh\", \"Wade\\u2013Giles\", \"Tongyong Pinyin\", \"Yale Romanization\", \"MPS2\", \"other Mandarin\", \"Xiao'erjing\", \"Dungan\", \"Sichuanese\", \"Pinyin\", \"Wu\", \"Gan\", \"Xiang\", \"Hakka\", \"Romanization\", \"Pha\\u030dk-fa-s\\u1e73\", \"Yue: Cantonese\", \"Yale Romanization\", \"Jyutping\", \"Southern Min\", \"Hokkien\", \"POJ\", \"T\\u00e2i-l\\u00f4\", \"Eastern Min\", \"Fuzhou\", \"BUC\", \"Pu-Xian Min\", \"Hinghwa\", \"BUC\", \"Northern Min\", \"Jian'ou\", \"Romanized\", \"Portuguese\", \"Simplified Chinese\", \"Traditional\\u00a0Chinese\", \"Hanyu Pinyin\", \"Standard Mandarin\", \"Hanyu Pinyin\", \"Bopomofo\", \"Gwoyeu Romatzyh\", \"Wade\\u2013Giles\", \"Tongyong Pinyin\", \"Yale Romanization\", \"MPS2\", \"other Mandarin\", \"Xiao'erjing\", \"Dungan\", \"Sichuanese\", \"Pinyin\", \"Wu\", \"Gan\", \"Xiang\", \"Hakka\", \"Romanization\", \"Pha\\u030dk-fa-s\\u1e73\", \"Yue: Cantonese\", \"Yale Romanization\", \"Jyutping\", \"Southern Min\", \"Hokkien\", \"POJ\", \"T\\u00e2i-l\\u00f4\", \"Eastern Min\", \"Fuzhou\", \"BUC\", \"Pu-Xian Min\", \"Hinghwa\", \"BUC\", \"Northern Min\", \"Jian'ou\", \"Romanized\", \"Tibetan\", \"Wylie\", \"Tibetan Pinyin\", \"Zhuang\", \"Mongolian Cyrillic\", \"SASM/GNC\", \"Uyghur\", \"Latin Y\\u00ebziqi\", \"Yengi Yezi\\u2c6a\", \"SASM/GNC\", \"Siril Y\\u00ebziqi\", \"Portuguese\", \"Portuguese\", \"Malay\", \"Persian\", \"Richard Eden\", \"Portuguese\", \"explorer\", \"Duarte Barbosa\", \"Persian\", \"Sanskrit\", \"C\\u012bna\", \"Hindu\", \"Mah\\u0101bh\\u0101rata\", \"Laws of Manu\", \"Martino Martini\", \"Qin dynasty\", \"Yelang\", \"Chinese\", \"pinyin\", \"Western Zhou\", \"royal demesne\", \"Luoyi\", \"Eastern Zhou\", \"Central Plain\", \"Qing\", \"Huaxia\", \"perceived \\\"barbarians\\\"\", \"History of China\", \"Timeline of Chinese history\", \"Chinese prehistory\", \"Xianren Cave\", \"hominids\", \"Peking Man\", \"Homo erectus\", \"used fire\", \"Zhoukoudian\", \"Beijing\", \"years ago\", \"years ago\", \"Fuyan Cave\", \"Dao County\", \"Hunan\", \"proto-writing\", \"Jiahu\", \"Damaidi\", \"Dadiwan\", \"Banpo\", \"Jiahu symbols\", \"Dynasties in Chinese history\", \"Yinxu\", \"Shang dynasty\", \"first dynasty\", \"Xia\", \"mythical\", \"Bronze Age\", \"Erlitou\", \"Shang dynasty\", \"Yellow River\", \"oracle bone script\", \"Chinese characters\", \"Zhou\", \"Spring and Autumn period\", \"Warring States period\", \"Qin Shi Huang\", \"Warring States\", \"Great Wall of China\", \"Ming dynasty\", \"Warring States period\", \"state of Qin\", \"totalitarian\", \"autocracy\", \"King Zheng of Qin\", \"First Emperor\", \"Qin dynasty\", \"legalist\", \"Chinese characters\", \"measurements\", \"currency\", \"conquered the Yue tribes\", \"Guangxi\", \"Guangdong\", \"Vietnam\", \"widespread civil war\", \"Xianyang\", \"was burned\", \"Han dynasty\", \"Han Chinese\", \"expanded the empire's territory considerably\", \"Central Asia, Mongolia\", \"South Korea\", \"Yunnan\", \"recovery of Guangdong and northern Vietnam\", \"Nanyue\", \"Sogdia\", \"Silk Road\", \"Himalayas\", \"Legalism\", \"Confucianism\", \"Terracotta Army\", \"Mausoleum of the First Qin Emperor\", \"Xi'an\", \"end of the Han dynasty\", \"Three Kingdoms\", \"one\", \"Four Classics\", \"Chinese literature\", \"Wei\", \"Jin dynasty\", \"civil war\", \"developmentally-disabled emperor\", \"Five Barbarians\", \"invaded\", \"Sixteen States\", \"Xianbei\", \"Northern Wei\", \"Emperor Xiaowen\", \"enforced a drastic sinification on his subjects\", \"Liu Yu\", \"Liu Song\", \"Northern and Southern dynasties\", \"Sui\", \"Grand Canal\", \"Buddhism\", \"failed war\", \"northern Korea\", \"Tang\", \"Song\", \"Western Regions\", \"Chang'an\", \"An Shi Rebellion\", \"separatist situation\", \"Khitan Liao\", \"polity\", \"Along the River During the Qingming Festival\", \"Song dynasty\", \"Bianjing\", \"Kaifeng\", \"revival of Confucianism\", \"landscape art\", \"porcelain\", \"Jurchen\", \"Jin dynasty\", \"Emperor Huizong of Song\", \"Bianjing\", \"Jin\\u2013Song Wars\", \"southern China\", \"Mongol conquest of China\", \"Mongol\", \"Kublai Khan\", \"Yuan dynasty\", \"Ming dynasty\", \"Hongwu Emperor\", \"Zheng He\", \"Ming treasure voyages\", \"Indian Ocean\", \"East Africa\", \"Nanjing\", \"Wang Yangming\", \"individualism\", \"four occupations\", \"scholar-official\", \"Japanese invasions of Korea (1592\\u201398)\", \"Manchu invasions\", \"Li Zicheng\", \"Chongzhen Emperor\", \"Qing dynasty\", \"Wu Sangui\", \"Shun dynasty\", \"Taiping Rebellion\", \"Qing dynasty\", \"economy of China shrank drastically\", \"Southern Ming\", \"Dzungar Khanate\", \"anti-Qing sentiment\", \"Haijin\", \"literary inquisition\", \"Opium Wars\", \"extraterritoriality\", \"Hong Kong\", \"Treaty of Nanking\", \"Unequal Treaties\", \"First Sino-Japanese War\", \"Korean Peninsula\", \"Japan\", \"Eight-Nation Alliance\", \"Boxers\", \"internal unrest\", \"White Lotus Rebellion\", \"Taiping Rebellion\", \"Dungan Revolt\", \"Self-Strengthening Movement\", \"Chinese diaspora\", \"Northern Chinese Famine of 1876\\u201379\", \"Guangxu Emperor\", \"reform plan\", \"constitutional monarchy\", \"Empress Dowager Cixi\", \"Boxer Rebellion\", \"Xinhai Revolution\", \"Republic of China\", \"Republic of China (1912\\u20131949)\", \"Sun Yat-sen\", \"Kuomintang\", \"Yuan Shikai\", \"Emperor of China\", \"Beiyang Army\", \"Chiang Kai-shek\", \"Republic of China Military Academy\", \"Northern Expedition\", \"Nanjing\", \"San-min\", \"political division\", \"Communist\", \"People's Liberation Army\", \"Chinese Civil War\", \"Long March\", \"Xi'an Incident\", \"Imperial Japan\", \"Chiang Kai-shek\", \"Mao Zedong\", \"end of World War II\", \"Second Sino-Japanese War\", \"theater\", \"World War II\", \"war atrocities\", \"were massacred\", \"Big Four\", \"Declaration by United Nations\", \"Allies of World War II\", \"surrender of Japan\", \"Pescadores\", \"ROC constitution\", \"History of the People's Republic of China\", \"Mao Zedong\", \"Chinese Civil War\", \"mainland China\", \"Taiwan\", \"Hainan\", \"Communist Party Chairman\", \"Mao Zedong\", \"Tiananmen Square\", \"National Day\", \"capturing Hainan\", \"incorporating Tibet\", \"an insurgency in western China\", \"Noam Chomsky\", \"McCarthyism\", \"landlords\", \"Great Leap Forward\", \"an estimated 45\\u00a0million deaths\", \"Cultural Revolution\", \"replaced the Republic of China\", \"Gang of Four\", \"Deng Xiaoping\", \"economic reforms\", \"communes\", \"increasingly open-market environment\", \"constitution\", \"violent suppression\", \"student protests in Tiananmen Square\", \"Jiang Zemin\", \"Li Peng\", \"Zhu Rongji\", \"World Trade Organization\", \"Hu Jintao\", \"Wen Jiabao\", \"major social displacement\", \"late-2000s recession\", \"factional disputes and political scandals\", \"18th National Communist Party Congress\", \"General Secretary of the Communist Party\", \"Xi Jinping\", \"Xi\\u2013Li Administration\", \"one-child policy\", \"Geography of China\", \"K\\u00f6ppen-Geiger climate classification\", \"Gobi\", \"Taklamakan Deserts\", \"subtropical\", \"Himalaya\", \"Karakoram\", \"Pamir\", \"Tian Shan\", \"South\", \"Central Asia\", \"Yangtze\", \"Yellow Rivers\", \"Tibetan Plateau\", \"Bohai\", \"Yellow\", \"East China\", \"South China\", \"Eurasian Steppe\", \"Steppe route\", \"Silk Road\", \"Li River\", \"Guilin\", \"Guangxi\", \"Badain Jaran Desert\", \"Inner Mongolia\", \"Muztagh Ata\", \"Kunlun Mountains\", \"Taxkorgan\", \"Xinjiang\", \"latitudes\", \"18\\u00b0\", \"54\\u00b0 N\", \"longitudes\", \"73\\u00b0\", \"135\\u00b0 E\", \"Yellow Sea\", \"East China Sea\", \"alluvial plains\", \"grasslands\", \"deltas\", \"Yellow River\", \"Yangtze River\", \"Xi\", \"Mekong\", \"Brahmaputra\", \"Amur\", \"plateaus\", \"Taklamakan\", \"Gobi Desert\", \"Mount Everest\", \"Ayding Lake\", \"Turpan Depression\", \"dry seasons\", \"monsoons\", \"topography\", \"expansion of its deserts\", \"sandstorms\", \"dust storms\", \"SEPA\", \"erosion\", \"pollution control\", \"glaciers\", \"water shortages\", \"Wildlife of China\", \"giant panda\", \"endangered\", \"endemic\", \"Chengdu Research Base of Giant Panda Breeding\", \"Sichuan\", \"megadiverse countries\", \"ecozones\", \"Palearctic\", \"Indomalaya\", \"Brazil\", \"Colombia\", \"Rio de Janeiro\", \"Convention on Biological Diversity\", \"National Biodiversity Strategy and Action Plan\", \"mammals\", \"Homo sapiens\", \"animal species are threatened, vulnerable or in danger of local extinction\", \"traditional Chinese medicine\", \"nature reserves\", \"Baiji\", \"coniferous\", \"moose\", \"Asian black bear\", \"conifer\", \"bamboo\", \"juniper\", \"yew\", \"rhododendrons\", \"Subtropical\", \"rainforests\", \"Yunnan\", \"Hainan Island\", \"fungi\", \"higher fungi\", \"Environmental issues in China\", \"Water resources of China\", \"Energy policy of China\", \"Wind turbines\", \"Xinjiang\", \"Beijing\", \"severe environmental deterioration and pollution\", \"World Bank\", \"world's largest carbon dioxide emitter\", \"water pollution\", \"North China Plain\", \"renewable energy\", \"its commercialization\", \"$\", \"hydroelectric power\", \"largest hydroelectric power producer\", \"installed solar photovoltaics system\", \"wind power system\", \"desalination\", \"Borders of China\", \"Territorial changes of the People's Republic of China\", \"second-largest\", \"Russia\", \"United States\", \"Encyclop\\u00e6dia Britannica\", \"CIA World Factbook\", \"longest combined land border in the world\", \"Yalu River\", \"Gulf of Tonkin\", \"borders 14 nations\", \"more than any other country\", \"Vietnam\", \"Laos\", \"Myanmar (Burma)\", \"India\", \"Bhutan\", \"Nepal\", \"Afghanistan\", \"Pakistan\", \"Tajikistan\", \"Kyrgyzstan\", \"Kazakhstan\", \"Russia\", \"Mongolia\", \"North Korea\", \"Inner Asia\", \"Northeast Asia\", \"South Korea\", \"Japan\", \"Vietnam\", \"Philippines\", \"Politics of China\", \"List of current Chinese provincial leaders\", \"Great Hall of the People\", \"National People's Congress\", \"Zhongnanhai\", \"Chinese government\", \"Communist Party of China\", \"China's constitution\", \"socialist states openly endorsing communism\", \"Ideology of the Communist Party of China\", \"corporatist\", \"free access to the Internet\", \"freedom of the press\", \"freedom of assembly\", \"the right to have children\", \"free formation of social organizations\", \"freedom of religion\", \"people's democratic dictatorship\", \"socialism with Chinese characteristics\", \"Marxism\", \"socialist market economy\", \"Tiananmen Square\", \"China's constitution\", \"Communist Party of China\", \"one-party state\", \"General Secretary\", \"party leader\", \"paramount leader\", \"electoral system\", \"directly elected\", \"National People's Congress\", \"indirectly elected\", \"Another eight political parties\", \"Chinese People's Political Consultative Conference\", \"democratic centralism\", \"rubber stamp\", \"Government of China\", \"Xi Jinping\", \"General Secretary\", \"President\", \"Li Keqiang\", \"Premier\", \"President\", \"head of state\", \"National People's Congress\", \"Premier\", \"head of government\", \"State Council\", \"Xi Jinping\", \"General Secretary of the Communist Party of China\", \"Chairman of the Central Military Commission\", \"paramount leader\", \"Li Keqiang\", \"CPC Politburo Standing Committee\", \"Administrative divisions of China\", \"Districts of Hong Kong\", \"Municipalities of Macau\", \"provinces\", \"autonomous regions\", \"municipalities\", \"special administrative regions\", \"mainland China\", \"Hong Kong\", \"Macau\", \"North China\", \"Northeast China\", \"East China\", \"South Central China\", \"Southwest China\", \"Northwest China\", \"Taiwan\", \"its 23rd province\", \"Republic of China\", \"Anhui\", \"Fujian\", \"Gansu\", \"Guangdong\", \"Guizhou\", \"Hainan\", \"Hebei\", \"Heilongjiang\", \"Henan\", \"Hubei\", \"Hunan\", \"Jiangsu\", \"Jiangxi\", \"Jilin\", \"Liaoning\", \"Qinghai\", \"Shaanxi\", \"Shandong\", \"Shanxi\", \"Sichuan\", \"Yunnan\", \"Zhejiang\", \"Taiwan\", \"R.O.China\", \"Guangxi\", \"Inner Mongolia\", \"Ningxia\", \"Xinjiang\", \"Tibet\", \"Beijing\", \"Chongqing\", \"Shanghai\", \"Tianjin\", \"Hong Kong\", \"Macau\", \"Foreign relations of China\", \"Xi Jinping\", \"embassies in 162\", \"legitimacy\", \"state with limited recognition\", \"United Nations Security Council\", \"Non-Aligned Movement\", \"developing countries\", \"BRICS\", \"third official summit\", \"Sanya\", \"Hainan\", \"Shanghai Cooperation Organization\", \"One-China policy\", \"Zhou Enlai\", \"Five Principles of Peaceful Coexistence\", \"regarded as dangerous\", \"Zimbabwe\", \"Iran\", \"free trade areas\", \"World Trade Organization\", \"East Asia Summit\", \"ASEAN Plus Three\", \"Shanghai Cooperation Organization\", \"United States Congress\", \"trade surplus\", \"Chinese yuan\", \"engaging with African nations\", \"Argentina\", \"Russia\", \"gas deal\", \"provide natural gas\", \"Foreign relations of China \\u00a7\\u00a0International territorial disputes\", \"List of wars involving the People's Republic of China\", \"Cross-Strait relations\", \"Chinese Civil War\", \"the territories\", \"Republic of China\", \"island of Taiwan\", \"Taiwan Province\", \"Kinmen\", \"Matsu\", \"Fujian Province\", \"South China Sea\", \"Hainan Province\", \"Guangdong Province\", \"Cross-Strait relations\", \"One-China policy\", \"disputed border with India\", \"Bhutan\", \"Senkaku Islands\", \"Scarborough Shoal\", \"Xi Jinping\", \"potential new superpower\", \"prominent global role\", \"economic bubbles\", \"Human rights in China\", \"Hukou system\", \"Social welfare in China\", \"Elections in China\", \"Censorship in China\", \"Feminism in China\", \"Nobel Peace Prize\", \"Liu Xiaobo\", \"Chinese democracy movement\", \"political freedom\", \"Constitution of the People's Republic of China\", \"freedom of speech\", \"freedom of the press\", \"right to a fair trial\", \"freedom of religion\", \"universal suffrage\", \"property rights\", \"Communist Party\", \"Reporters Without Borders\", \"second class citizens\", \"household registration\", \"state benefits\", \"NGOs\", \"China's human rights record\", \"civil rights\", \"forced abortions\", \"torture\", \"excessive use of the death penalty\", \"Tiananmen Square protests of 1989\", \"Tiananmen Square protests\", \"Falun Gong\", \"persecution of Falun Gong\", \"Tibet\", \"Xinjiang\", \"religious suppression\", \"China's Muslim\", \"Uyghur\", \"detention camps\", \"reeducation camps\", \"Xinjiang re-education camps\", \"economic development\", \"standard of living\", \"literacy rate\", \"life expectancy\", \"Yangtze River\", \"others remain more conservative\", \"re-education through labour\", \"slavery\", \"Laogai\", \"Harry Wu\", \"Harry Wu\", \"organ transplantation\", \"prisoners of conscience\", \"Military history of China before 1911\", \"People's Liberation Army\", \"Chengdu Fighter J-10\", \"Chengdu Aircraft Corporation (CAC)\", \"People's Liberation Army Air Force\", \"People's Liberation Army\", \"Central Military Commission\", \"North Korea\", \"Ground Force\", \"Navy\", \"Air Force\", \"People's Liberation Army Rocket Force\", \"world's second-largest military budget\", \"military expenditures-GDP ratio\", \"SIPRI\", \"Office of the Secretary of Defense\", \"Aircraft carrier Liaoning\", \"Type 001 aircraft carrier\", \"first aircraft carrier\", \"People's Liberation Army Navy Surface Force\", \"nuclear weapons\", \"potential military superpower\", \"US Department of Defense\", \"ICBMs\", \"SRBMs\", \"UN Security Council\", \"power projection\", \"first aircraft carrier\", \"submarines\", \"nuclear-powered\", \"attack\", \"ballistic missile\", \"network of foreign military relationships along critical sea lanes\", \"PLA air force\", \"Chengdu J-20\", \"stealth\", \"Sukhoi Su-30\", \"Chengdu J-10\", \"J-20\", \"Shenyang J-11\", \"J-15\", \"J-16\", \"J-31\", \"stealth aircraft\", \"combat drones\", \"Air\", \"Sea denial\", \"Soviet\", \"tank\", \"Type 99 tank\", \"C3I\", \"C4I\", \"network-centric warfare\", \"anti-satellite missiles\", \"cruise missiles\", \"Stockholm International Peace Research Institute\", \"hypersonic flight\", \"Mach\", \"Economy of China\", \"Agriculture in China\", \"List of Chinese administrative divisions by GDP\", \"GDP per capita at purchasing-power parity\", \"the world's second-largest economy\", \"purchasing power parity\", \"Shanghai World Financial Center\", \"Jin Mao Tower\", \"Shanghai Tower, Lujiazui\", \"Economic history of China (1949\\u2013present)\", \"planned economy\", \"Cultural Revolution\", \"Deng Xiaoping\", \"reform the economy\", \"mixed economy\", \"Agricultural collectivization\", \"Special Economic Zones\", \"state-owned enterprises\", \"state capitalism\", \"heavy industries\", \"Alibaba Group\", \"Hangzhou\", \"annual average GDP growth\", \"G7\", \"Global Growth Generators\", \"Citigroup\", \"energy consumer\", \"#1 in the world\", \"World Economic Forum\", \"Shanghai Stock Exchange\", \"Shanghai\", \"Lujiazui\", \"25th-largest city GDP\", \"PWC\", \"e-commerce\", \"Tencent\", \"Alibaba\", \"WeChat\", \"Tmall\", \"WeChat Pay\", \"Ali Pay\", \"venture capital\", \"unicorn\", \"ByteDance\", \"Artificial Intelligence\", \"SenseTime\", \"Huawei\", \"Xiaomi\", \"Oppo\", \"Vivo\", \"OnePlus\", \"Apple\", \"WTO\", \"Its foreign exchange reserves\", \"foreign direct investment\", \"US public debt\", \"Treasury bonds\", \"counterfeit\", \"Global Competitiveness Index\", \"Global 500\", \"120 Chinese companies\", \"public companies\", \"world's largest bank by total assets\", \"Industrial and Commercial Bank of China\", \"internationalization of the Renminbi\", \"dim sum bond\", \"Japan\", \"Australia\", \"Singapore\", \"United Kingdom\", \"Canada\", \"reserve currency\", \"special drawing rights\", \"Income inequality in China\", \"Gini coefficient\", \"Southwestern University of Finance and Economics\", \"Science and technology in China\", \"Chinese space program\", \"List of Chinese discoveries\", \"List of Chinese inventions\", \"History of science and technology in China\", \"Wujing Zongyao\", \"Ming dynasty\", \"Chinese discoveries\", \"inventions\", \"papermaking\", \"printing\", \"compass\", \"gunpowder\", \"Four Great Inventions\", \"negative numbers\", \"Great Divergence\", \"military defeats\", \"Japan\", \"Self-Strengthening Movement\", \"Soviet Union\", \"Four Modernizations\", \"OECD\", \"National Science Board\", \"Nobel Prize in Physics\", \"Nobel Prize in Chemistry\", \"Physiology or Medicine\", \"Jiuquan Satellite Launch Center\", \"science, mathematics and engineering\", \"BSc\", \"scientific papers,\", \"Huawei\", \"Lenovo\", \"supercomputers\", \"world's most powerful\", \"robots\", \"Chinese space program\", \"Dong Fang Hong I\", \"Yang Liwei\", \"Shenzhou 5\", \"ten Chinese nationals\", \"Tiangong-1\", \"a large manned station\", \"Chang'e 3\", \"Yutu\", \"Tiangong-2\", \"Jiuquan\", \"Long March 2F\", \"Shenzhou 11\", \"Chang'e 4\", \"McKinsey\", \"Telecommunications in China\", \"largest number of active cellphones\", \"internet\", \"broadband users\", \"China Mobile\", \"China Unicom\", \"China Telecom\", \"Huawei\", \"ZTE\", \"satellite navigation\", \"Beidou\", \"Transport in China\", \"Duge Bridge\", \"highest bridge in the world\", \"national highways\", \"expressways\", \"China's highways\", \"longest highway system in the world\", \"high-speed railway\", \"81 such bridges and tunnels\", \"production\", \"poorly enforced traffic laws\", \"Beijing Capital International Airport\", \"China's railways\", \"state-owned\", \"the busiest in the world\", \"second longest network in the world\", \"Chinese New Year\", \"world's largest annual human migration\", \"high-speed rail (HSR) system\", \"high speed rail in China\", \"longest HSR network in the world\", \"Beijing\\u2013Guangzhou\\u2013Shenzhen High-Speed Railway\", \"Beijing\\u2013Shanghai High-Speed Railway\", \"three of longest railroad bridges in the world\", \"Shanghai Maglev Train\", \"Shanghai Maglev Train\", \"urban mass transit systems\", \"Shanghai Metro\", \"Beijing Subway\", \"Guangzhou Metro\", \"Hong Kong MTR\", \"Shenzhen Metro\", \"longest\", \"busiest\", \"Hong Kong\\u2013Zhuhai\\u2013Macau Bridge\", \"approximately 229 airports in 2017,\", \"Boeing\", \"civil aviation\", \"largest airports in China\", \"busiest in the world\", \"Capital Airport\", \"passenger traffic\", \"Hong Kong International Airport\", \"Shanghai Pudong International Airport\", \"air cargo tonnage\", \"military use\", \"Chinese airlines\", \"river and seaports\", \"Shanghai\", \"Hong Kong\", \"Shenzhen\", \"Ningbo-Zhoushan\", \"Guangzhou\", \"Qingdao\", \"Tianjin\", \"in container traffic\", \"cargo tonnage\", \"Port of Shanghai\", \"Yangshan Island\", \"Hangzhou Bay\", \"world's busiest container port\", \"Water supply and sanitation in China\", \"water scarcity, contamination, and pollution\", \"Joint Monitoring Program for Water Supply and Sanitation\", \"WHO\", \"UNICEF\", \"improved sanitation\", \"sewage treatment plants\", \"South\\u2013North Water Transfer Project\", \"Demographics of China\", \"national census of 2010\", \"pulled hundreds of millions\", \"two-child policy\", \"total fertility rate\", \"sex ratio\", \"List of ethnic groups in China\", \"Ethnic minorities in China\", \"Ethnic groups in Chinese history\", \"Sibsongbanna\", \"Tai L\\u00fc language\", \"Zhonghua Minzu\", \"Han Chinese\", \"Tibet\", \"Xinjiang\", \"Languages of China\", \"List of endangered languages in China\", \"living languages\", \"Sinitic branch\", \"Sino-Tibetan language\", \"Mandarin\", \"other varieties\", \"Chinese language\", \"Yue\", \"Cantonese\", \"Taishanese\", \"Wu\", \"Shanghainese\", \"Suzhounese\", \"Min\", \"Fuzhounese\", \"Hokkien\", \"Teochew\", \"Xiang\", \"Gan\", \"Hakka\", \"Tibeto-Burman branch\", \"Tibetan\", \"Qiang\", \"Naxi\", \"Yi\", \"Tibetan\", \"Yunnan\\u2013Guizhou Plateau\", \"southwest China\", \"Zhuang\", \"Thai\", \"Dong\", \"Sui\", \"Tai-Kadai family\", \"Miao\", \"Yao\", \"Hmong\\u2013Mien family\", \"Wa\", \"Austroasiatic family\", \"northeastern\", \"northwestern China\", \"Altaic languages\", \"Manchu\", \"Mongolian\", \"Turkic languages\", \"Uyghur\", \"Kazakh\", \"Kyrgyz\", \"Salar\", \"Western Yugur\", \"Korean\", \"North Korea\", \"Sarikoli\", \"Tajiks in western Xinjiang\", \"Indo-European language\", \"Taiwanese aborigines\", \"Austronesian languages\", \"Standard Mandarin\", \"Beijing dialect\", \"lingua franca\", \"Chinese characters\", \"written script\", \"simplified characters\", \"traditional characters\", \"romanized\", \"Pinyin system\", \"alphabet\", \"Indic script\", \"Persian alphabet\", \"Uyghur Arabic alphabet\", \"Mongolian script used in China\", \"Manchu script\", \"Old Uyghur alphabet\", \"Zhuang\", \"Latin alphabet script\", \"Chinese character script\", \"List of cities in China\", \"List of cities in China by population\", \"Metropolitan regions of China\", \"largest cities\", \"migrant workers\", \"megacities\", \"floating populations\", \"Sixth National Population Census of the People's Republic of China (2010)\", \"Rank\", \"Name\", \"Province\", \"Pop.\", \"Rank\", \"Name\", \"Province\", \"Pop.\", \"Shanghai\", \"Beijing\", \"Shanghai\", \"\\u2013\", \"Chengdu\", \"Sichuan\", \"Chongqing\", \"Guangzhou\", \"Beijing\", \"\\u2013\", \"Nanjing\", \"Jiangsu\", \"Chongqing\", \"\\u2013\", \"Shenyang\", \"Liaoning\", \"Guangzhou\", \"Guangdong\", \"Hangzhou\", \"Zhejiang\", \"Shenzhen\", \"Guangdong\", \"Xi'an\", \"Shaanxi\", \"Tianjin\", \"\\u2013\", \"Harbin\", \"Heilongjiang\", \"Wuhan\", \"Hubei\", \"Suzhou\", \"Jiangsu\", \"Dongguan\", \"Guandgong\", \"Qingdao\", \"Shandong\", \"Hong Kong\", \"\\u2013\", \"Dalian\", \"Liaoning\", \"Foshan\", \"Guangdong\", \"Zhengzhou\", \"Henan\", \"Education in the People's Republic of China\", \"List of universities in China\", \"Tsinghua University\", \"top-ranked universities in China\", \"primary\", \"junior secondary school\", \"Gaokao\", \"tertiary\", \"Guizhou\", \"poorest provinces in China\", \"Programme for International Student Assessment\", \"both native and international criticism\", \"Health in China\", \"Pharmaceutical industry in China\", \"Human Development Index\", \"National Health and Family Planning Commission\", \"Patriotic Health Campaign\", \"cholera\", \"typhoid\", \"scarlet fever\", \"privatized\", \"pharmaceuticals\", \"counterfeit medications\", \"infant mortality\", \"stunting\", \"malnutrition\", \"widespread air pollution\", \"cigarette smokers\", \"obesity\", \"SARS\", \"Religion in China\", \"CFPS\", \"Non-religious\", \"Chinese folk religion\", \"cults\", \"deities\", \"ancestors\", \"Confucianism\", \"Taoism\", \"Chinese Buddhism\", \"Buddhism\", \"folk salvationism\", \"Taoist sects\", \"Christianity\", \"Islam\", \"state atheism\", \"antireligious campaigns\", \"State Administration for Religious Affairs\", \"Freedom of religion\", \"Three laughs at Tiger Brook\", \"Song dynasty\", \"three teachings\", \"Confucianism\", \"Taoism\", \"Buddhism\", \"Chinese Buddhism\", \"theological and spiritual framework\", \"Shang\", \"Zhou dynasty\", \"shen\", \"energies of generation\", \"deities\", \"ancestral principles\", \"culture heroes\", \"Chinese mythology\", \"cults\", \"Mazu\", \"Huangdi\", \"divine patriarchs\", \"Guandi\", \"Caishen\", \"Pangu\", \"world's tallest religious statues\", \"Spring Temple Buddha\", \"Henan\", \"three teachings\", \"Gallup International\", \"non-theistic\", \"humanistic\", \"Taoists\", \"folk salvationism\", \"ethnic minority groups in China\", \"traditional autochthone religions\", \"Tibetan Buddhism\", \"Islamic religion\", \"Hui\", \"Uyghur\", \"Kazakh\", \"Kyrgyz\", \"Chinese culture\", \"Culture of the People's Republic of China\", \"Temple of Heaven\", \"heaven worship\", \"Interactions Between Heaven and Mankind\", \"Confucianism\", \"imperial examinations\", \"Han dynasty\", \"literary emphasis\", \"calligraphy\", \"poetry\", \"painting\", \"culture of merit\", \"Classical Gardens of Suzhou\", \"May Fourth Movement\", \"sexism\", \"Cultural Revolution\", \"feudalism\", \"Peking opera\", \"Chinese nationalism\", \"third-most-visited country in the world\", \"domestic tourism\", \"Chinese literature\", \"Journey to the West\", \"Peking opera\", \"Zhou dynasty\", \"Chinese classic texts\", \"thoughts\", \"calendar\", \"military\", \"astrology\", \"herbology\", \"geography\", \"I Ching\", \"Shujing\", \"Four Books and Five Classics\", \"Classic of Poetry\", \"classical Chinese poetry\", \"Li Bai\", \"Du Fu\", \"Chinese historiography\", \"Shiji\", \"Twenty-Four Histories\", \"Chinese mythology\", \"folklore\", \"Ming dynasty\", \"gods and demons fictions\", \"Four Great Classical Novels\", \"Water Margin\", \"Romance of the Three Kingdoms\", \"Journey to the West\", \"Dream of the Red Chamber\", \"wuxia\", \"Jin Yong\", \"Liang Yusheng\", \"East Asian cultural sphere\", \"Bian Lian\", \"New Culture Movement\", \"written vernacular Chinese\", \"Hu Shih\", \"Lu Xun\", \"misty poetry\", \"scar literature\", \"young adult fiction\", \"xungen literature\", \"magic realism\", \"Mo Yan\", \"Chinese cuisine\", \"laziji\", \"xiaolongbao\", \"rice noodle roll\", \"Peking duck\", \"Sichuan\", \"Cantonese\", \"Jiangsu\", \"Shandong\", \"Fujian\", \"Hunan\", \"Anhui\", \"Zhejiang\", \"cooking methods\", \"food therapy\", \"traditional Chinese medicine\", \"tofu\", \"soy milk\", \"Buddhist cuisine\", \"Chinese Islamic cuisine\", \"Hong Kong cuisine\", \"American Chinese food\", \"Chinese diaspora\", \"Sport in China\", \"China at the Olympics\", \"Dragon boat\", \"2008 Summer Olympics\", \"2015 World Championships in Athletics\", \"2019 FIBA Basketball World Cup\", \"2022 Winter Olympics\", \"oldest sporting cultures\", \"archery\", \"Western Zhou dynasty\", \"cuju\", \"association football\", \"Go\", \"Xiangqi\", \"Physical fitness\", \"qigong\", \"t'ai chi ch'uan\", \"gyms\", \"Chinese Basketball Association\", \"National Basketball Association\", \"Yao Ming\", \"Yi Jianlian\", \"Chinese Super League\", \"martial arts\", \"table tennis\", \"badminton\", \"swimming\", \"snooker\", \"Board games\", \"go\", \"xiangqi\", \"mahjong\", \"chess\", \"cyclists\", \"dragon boat\", \"Mongolian-style wrestling\", \"horse racing\", \"participated in the Olympic Games\", \"since 1952\", \"2008 Summer Olympics\", \"the highest number of gold medals\", \"2012 Summer Paralympics\", \"Shenzhen\", \"2011 Summer Universiade\", \"2013 East Asian Games\", \"2014 Summer Youth Olympics\", \"Nanjing\", \"Zhangjiakou\", \"Hebei province\", \"2022 Olympic Winter Games\", \"Index of China-related articles\", \"Outline of China\", \"Public holidays in China\", \"Taoist clergy\", \"Han ethnicity\", \"Romanized\", \"Pinyin\", \"Portuguese\", \"Macau\", \"English\", \"Hong Kong\", \"special administrative regions\", \"Hong Kong\", \"Traditional Chinese characters\", \"Mongolian script\", \"Inner Mongolia\", \"Tibetan script\", \"Tibetan Autonomous Region\", \"General Secretary of the Communist Party of China\", \"paramount leader\", \"President of the People's Republic of China\", \"head of state\", \"Chairman of the Central Military Commission\", \"Commander-in-chief\", \"Orders of precedence in China\", \"the mainland\", \"Hong Kong\", \"Macau\", \"Taiwan\", \"Trans-Karakoram Tract\", \"Aksai Chin\", \"Territorial changes of the People's Republic of China\", \"Hong Kong Dollar\", \"Hong Kong\", \"Macau\", \"Macanese pataca\", \"Hong Kong\", \"Macau\", \"List of countries and dependencies by area\", \"Portuguese\", \"Old Chinese\", \"Classic of History\", \"Huangtian\", \"burning of books and burying of scholars\", \"destructions\", \"Library of Alexandria\", \"Old Texts\", \"Five Classics\", \"Qufu\", \"Mei Ze\", \"Book of Documents\", \"only shown to be a forgery in the Qing dynasty\", \"Great Lakes\", \"Kashmir\", \"Tsung-Dao Lee\", \"Chen Ning Yang\", \"Daniel C. Tsui\", \"Charles K. Kao\", \"Yuan T. Lee\", \"Tu Youyou\", \"Eurasian Geography and Economics\", \"doi\", \"United Nations Department of Economic and Social Affairs\", \"Xia\\u2013Shang\\u2013Zhou Chronology Project\", \"ISSN\", \"SIPRI\", \"doi\", \"ISSN\", \"ISBN\", \"Eden, Richard\", \"ISBN\", \"Sino-Platonic Papers\", \"ISBN\", \"ISBN\", \"Baxter-Sagart\", \"Cambridge\", \"ISBN\", \"ISBN\", \"Bibcode\", \"doi\", \"ISSN\", \"PMID\", \"Qiu Xigui\", \"Jerry Norman\", \"ISBN\", \"ISBN\", \"National Gallery of Art\", \"ISBN\", \"ISBN\", \"ISBN\", \"ISBN\", \"ISBN\", \"ISBN\", \"ISBN\", \"ISBN\", \"ISBN\", \"ISBN\", \"ISBN\", \"ISBN\", \"ISBN\", \"ISBN\", \"ISBN\", \"ISBN\", \"ISBN\", \"ISBN\", \"ISBN\", \"Ainslie Thomas Embree\", \"Carol Gluck\", \"ISBN\", \"Encyclop\\u00e6dia Britannica\", \"ISBN\", \"Stephen Haw\", \"ISBN\", \"ISBN\", \"ISBN\", \"ISBN\", \"ISBN\", \"ISBN\", \"ISBN\", \"ISBN\", \"ISBN\", \"OCLC\", \"ISBN\", \"ISBN\", \"ISBN\", \"ISBN\", \"ISBN\", \"ISBN\", \"Wayback Machine\", \"The New York Times\", \"Financial Times\", \"doi\", \"ISBN\", \"Wayback Machine\", \"Wayback Machine\", \"Wayback Machine\", \"Wayback Machine\", \"Wayback Machine\", \"Wayback Machine\", \"ISBN\", \"ISBN\", \"ISBN\", \"Bloomberg L.P.\", \"Wayback Machine\", \"Columbia University\", \"Forbes\", \"Scientific American\", \"Wayback Machine\", \"ISBN\", \"doi\", \"JSTOR\", \"Constitution of the People's Republic of China\", \"Constitution of the People's Republic of China\", \"Wayback Machine\", \"Wayback Machine\", \"The New York Times\", \"Wayback Machine\", \"Christian Science Monitor\", \"Wayback Machine\", \"Forbes\", \"Xinhua\", \"Foreign Affairs\", \"Wayback Machine\", \"ISBN\", \"doi\", \"Financial Times\", \"The Washington Post\", \"The New York Times\", \"ISBN\", \"USA Today\", \"The Washington Post\", \"ISBN\", \"The Guardian\", \"Popular Science\", \"Wayback Machine\", \"Agence France-Presse\", \"ChannelNewsAsia\", \"The Washington Times\", \"ISSN\", \"World Bank\", \"Bloomberg L.P.\", \"Bloomberg L.P.\", \"International Monetary Fund\", \"Taiwan\", \"special administrative regions\", \"Hong Kong\", \"Macau\", \"Fortune\", \"Forbes\", \"The New York Times\", \"Asia Times Online\", \"Department of the Treasury (Australia)\", \"Monetary Authority of Singapore\", \"Financial Times\", \"Bank of Canada\", \"Society for Worldwide Interbank Financial Telecommunication\", \"The Daily Telegraph\", \"BBC\", \"Financial Times\", \"Bloomberg Businessweek\", \"ISSN\", \"ISBN\", \"Frank, Andre\", \"doi\", \"JSTOR\", \"ISBN\", \"ISBN\", \"Nobel Assembly at Karolinska Institutet\", \"The Economist\", \"New Straits Times\", \"The Daily Telegraph\", \"People's Daily\", \"Wired\", \"ISSN\", \"doi\", \"ISSN\", \"Bloomberg L.P.\", \"Bloomberg L.P.\", \"Agence France-Presse\", \"Archive-It\", \"ISSN\", \"Xinhua News Agency\", \"doi\", \"doi\", \"Xinhua\", \"ISBN\", \"ISBN\", \"ISBN\", \"Rowman & Littlefield\", \"ISBN\", \"TIME\", \"Bibcode\", \"doi\", \"PMID\", \"The New York Times\", \"World Health Organization\", \"China Family Panel Studies\", \"ISBN\", \"Yao, Xinzhong\", \"ISBN\", \"ISBN\", \"ISBN\", \"ISSN\", \"ISSN\", \"Sautman, Barry\", \"ISBN\", \"China Family Panel Studies\", \"UNESCO\", \"Quartz\", \"Wayback Machine\", \"Wayback Machine\", \"Wayback Machine\", \"ISBN\", \"doi\", \"PMID\", \"Sohu\", \"USA Today\", \"Bibliography of Chinese history\", \"ISBN\", \"Jacques, Martin\", \"ISBN\", \"Foreign Affairs\", \"ISBN\", \"University of California Press\", \"ISBN\", \"ISBN\", \"ISBN\", \"People's Daily\", \"The World Factbook\", \"Central Intelligence Agency\", \"Curlie\", \"Encyclop\\u00e6dia Britannica\", \"International Futures\", \"OpenStreetMap\", \"History\", \"China\", \"timeline\", \"Ancient China\", \"outline\", \"Imperial China\", \"Republic of China (1912\\u20131949)\", \"People's Republic of China\\u2212PRC\", \"PRC 1949\\u20131976\", \"PRC 1976\\u20131989\", \"PRC 1989\\u20132002\", \"PRC since 2002\", \"Years in the PRC\", \"Geography\", \"Natural environment\", \"Borders\", \"Extreme points\", \"Geology\", \"Natural disasters\", \"Regions\", \"East\", \"Northeast\", \"North\", \"South Central\", \"Central\", \"South\", \"Western\", \"Northwest\", \"Southwest\", \"Islands\", \"Northeast\", \"North\", \"Central Plains\", \"Volcanoes\", \"Lakes\", \"Rivers\", \"Water resources\", \"Bohai\", \"Yellow\", \"East China\", \"South China\", \"Protected areas\", \"National parks\", \"UNESCO Biosphere Reserves\", \"Wildlife\", \"Fauna\", \"Flora\", \"Government\", \"Politics\", \"Economy\", \"Government\", \"politics\", \"Civil service\", \"Constitution\", \"Elections\", \"Environmental policy\", \"Foreign relations\", \"Military (People's Liberation Army)\", \"National People's Congress\", \"Standing Committee\", \"National security\", \"Political parties and movements\", \"Communist Party\", \"General Secretary\", \"Politburo\", \"Democratic Parties\", \"Anti-democratisation\", \"Pro-democratisation\", \"President\", \"Vice President\", \"State Council\", \"Premier\", \"Vice Premier\", \"Administrativedivisions\", \"Baseline islands\", \"Cities\", \"Province-level subdivisions\", \"Law\", \"Judicial system\", \"Human rights\", \"LGBT\", \"Law enforcement\", \"Nationality law\", \"Penal system\", \"Economy\", \"Agriculture\", \"Banking\", \"Central bank\", \"Economic history\", \"Energy\", \"Petroleum industry\", \"Renewable energy\", \"Finance system\", \"Foreign aid received\", \"Foreign aid program\", \"Historical GDP\", \"International rankings\", \"Poverty\", \"Reform\", \"Renminbi (currency)\", \"Science and technology\", \"history\", \"Special Economic Zones (SEZs)\", \"Standard of living\", \"Telecommunications\", \"Tourism\", \"AAAAA Tourist Attractions of China\", \"Transport\", \"airports\", \"Culture\", \"Demographics\", \"Emigration\", \"Ethnic groups\", \"Internal migration\", \"Statistics\", \"Urbanization\", \"Anthem\", \"Chinese Dream\", \"Corruption\", \"Crime\", \"Emblem\", \"Education\", \"universities\", \"Flag\", \"Generation Y\", \"Harmonious Socialist Society\", \"HIV/AIDS\", \"Intellectualism\", \"Languages\", \"Poverty\", \"Public health\", \"food safety\", \"incidents\", \"Public holidays\", \"Rural life\", \"Sexuality\", \"Socialism with Chinese characteristics\", \"Social issues\", \"Social relations\", \"Social structure\", \"Social welfare\", \"Suicide\", \"Terrorism\", \"Time zones\", \"Urban life\", \"Water supply and sanitation\", \"Women\", \"Xiaokang (middle-class)\", \"Primary stage of socialism\", \"Culture\", \"Archives\", \"Art\", \"Cinema\", \"Cuisine\", \"Dance\", \"Libraries\", \"Martial arts\", \"Media\", \"newspapers\", \"radio\", \"television\", \"Music\", \"Philosophy\", \"Religion\", \"Smoking\", \"Sports\", \"Tea culture\", \"Tourism\", \"Variety arts\", \"World Heritage Sites\", \"Literature\", \"Poetry\", \"Folklore\", \"Mythology\", \"Novel\", \"Xiehouyu\", \" Chinese Idiom\", \"Index\", \"Countries and dependencies\", \"Asia\", \"Sovereign states\", \"Afghanistan\", \"Armenia\", \"Azerbaijan\", \"Bahrain\", \"Bangladesh\", \"Bhutan\", \"Brunei\", \"Cambodia\", \"Cyprus\", \"Egypt\", \"Georgia\", \"India\", \"Indonesia\", \"Iran\", \"Iraq\", \"Israel\", \"Japan\", \"Jordan\", \"Kazakhstan\", \"North Korea\", \"South Korea\", \"Kuwait\", \"Kyrgyzstan\", \"Laos\", \"Lebanon\", \"Malaysia\", \"Maldives\", \"Mongolia\", \"Myanmar\", \"Nepal\", \"Oman\", \"Pakistan\", \"Palestine\", \"Philippines\", \"Qatar\", \"Russia\", \"Saudi Arabia\", \"Singapore\", \"Sri Lanka\", \"Syria\", \"Tajikistan\", \"Thailand\", \"East Timor (Timor-Leste)\", \"Turkey\", \"Turkmenistan\", \"United Arab Emirates\", \"Uzbekistan\", \"Vietnam\", \"Yemen\", \"States with limited recognition\", \"Abkhazia\", \"Artsakh\", \"Northern Cyprus\", \"South Ossetia\", \"Taiwan\", \"Dependencies\", \"specialadministrative regions\", \"Christmas Island\", \"Cocos (Keeling) Islands\", \"Hong Kong\", \"Macau\", \"Akrotiri and Dhekelia\", \"British Indian Ocean Territory\", \"East Asia\", \"Mainland\", \"Hong Kong\", \"Macau\", \"Japan\", \"Ryukyu\", \"Korea\", \"North\", \"South\", \"Mongolia\", \"ROC\", \"Taiwan\", \"\", \"Ethnic groups\", \"Ainu\", \"Han\", \"Hui\", \"Koreans\", \"in China\", \"Manchu\", \"Miao\", \"Mongols\", \"in China\", \"Ryukyuans\", \"Indigenous Taiwanese\", \"Tibetans\", \"Tujia\", \"Uyghurs\", \"Yamato\", \"Yi\", \"Zhuang\", \"other ethnic groups in China\", \"unrecognized\", \"historical\", \"Culture\", \"Age reckoning\", \"Art\", \"Blepharoplasty\", \"Buddhism\", \"Calligraphy\", \"Chopsticks\", \"Cinema\", \"Cultural sphere\", \"Decorative knotwork\", \"Dragon\", \"Gardens\", \"Gothic typeface\", \"Han characters\", \"Hell money\", \"Hip-and-gable roof\", \"Languages\", \"Literature\", \"M\\u0101dhyamaka\", \"Music industry\", \"Philosophy\", \"Religion\", \"Scripts\", \"Seal\", \"Sino-Xenic pronunciations\", \"Surnames\", \"Yellow fever\", \"Yog\\u0101c\\u0101ra\", \"Zodiac\", \"East Asia Climate Partnership\", \"Monsoon\", \"Rainy season\", \"Flora\", \"economics\", \"China\\u2013Japan\\u2013South Korea trilateral summit\", \"Comprehensive Economic Partnership for East Asia\", \"Capitalism\", \"East Asia Summit\", \"East Asian Bureau of Economic Research\", \"East Asian Community\", \"Four Asian Tigers\", \"Human rights in East Asia\", \"Ports\", \"Stock exchanges\", \"History\", \"Bronze Age\", \"Iron Age\", \"Printing\", \"East Asian Games\", \"East Asian Youth Games\", \"EAFF East Asian Championship\", \"East Asian Football Federation\", \"East Asian Judo Championships\", \"Association of East Asian Research Universities\", \"CrossAsia\", \"East Asian Bureau of Economic Research\", \"East Asian Economic Review\", \"East Asia Image Collection\", \"East Asian Institute\", \"East Asia Law Review\", \"East Asian studies\", \"Journal of East Asian Studies\", \"Ludwigshafen East Asia Institute\", \"Horses in East Asian warfare\", \"Miyamoto Musashi\", \"Sun Tzu\", \"The Art of War\", \"The Book of Five Rings\", \"Needham Research Institute\", \"Printing\", \"China\\u2013Japan\\u2013South Korea trilateral summit leaders and foreign ministers\", \"Japan\", \"South Korea\", \"\", \"Li\", \"\", \"Abe\", \"\", \"Moon\", \"\", \"Wang\", \"\", \"K\\u014dno\", \"\", \"Kang\", \"Group of Eight (G8)\", \"Group of Eight + Five (G8+5)\", \"Canada\", \"France\", \"Germany\", \"Italy\", \"Japan\", \"Russia\", \"United Kingdom\", \"United States\", \"European Union\", \"G8+5\", \"Brazil\", \"India\", \"Mexico\", \"South Africa\", \"Group of Six\", \"Group of Seven\", \"G7+1\", \"G20 major economies\", \"\", \"Argentina\", \"\", \"Australia\", \"\", \"Brazil\", \"\", \"Canada\", \"\", \"\", \"European Union\", \"\", \"France\", \"\", \"Germany\", \"\", \"India\", \"\", \"Indonesia\", \"\", \"Italy\", \"\", \"Japan\", \"\", \"Mexico\", \"\", \"Russia\", \"\", \"Saudi Arabia\", \"\", \"South Africa\", \"\", \"Republic of Korea\", \"\", \"Turkey\", \"\", \"United Kingdom\", \"\", \"United States\", \"BRICS\", \"\", \"Brazil\", \"\", \"Russia\", \"\", \"India\", \"\", \"China\", \"\", \"South Africa\", \"Summits\", \"Yekaterinburg 2009\", \"Bras\\u00edlia 2010\", \"Sanya 2011\", \"New Delhi 2012\", \"Durban 2013\", \"Fortaleza 2014\", \"Ufa 2015\", \"Goa 2016\", \"Xiamen 2017\", \"Johannesburg 2018\", \"Bilateral relations\", \"Brazil\\u2013China\", \"Brazil\\u2013India\", \"Brazil\\u2013Russia\", \"Brazil\\u2013South Africa\", \"China\\u2013India\", \"China\\u2013Russia\", \"China\\u2013South Africa\", \"India\\u2013Russia\", \"India\\u2013South Africa\", \"Russia\\u2013South Africa\", \"Leaders\", \"Bolsonaro\", \"Putin\", \"Modi\", \"Xi\", \"Ramaphosa\", \"New Development Bank\", \"BRICS Contingent Reserve Arrangement\", \"BRICS Leaders\", \"BRICS Cable\", \"BRICS Universities League\", \"BRICS U-17 Football Cup\", \"2016 Goa\", \"2018 Johannesburg\", \"East Asia Summit (EAS)\", \"First\", \"Second\", \"Third\", \"Fourth\", \"Fifth\", \"Sixth\", \"Seventh\", \"Eighth\", \"Ninth\", \"Tenth\", \"Eleventh\", \"Twelfth\", \"Thirteenth\", \"Australia\", \"Brunei\", \"Cambodia\", \"India\", \"Indonesia\", \"Japan\", \"Laos\", \"Malaysia\", \"Myanmar\", \"New Zealand\", \"Philippines\", \"Russia\", \"Singapore\", \"South Korea\", \"Thailand\", \"United States\", \"Vietnam\", \"Socialism\", \"country\", \"American Left\", \"Australia\", \"Bangladesh\", \"British Left\", \"Canada\", \"Estonia\", \"France\", \"Hong Kong\", \"India\", \"Iran\", \"Netherlands\", \"New Zealand\", \"Pakistan\", \"Sri Lanka\", \"Tunisia\", \"Brazil\", \"United Kingdom\", \"United States\", \"African\", \"Arab\", \"British\", \"Burmese\", \"Chinese\", \"Israeli\", \"Melanesian\", \"Nicaraguan\", \"Tanzanian\", \"Venezuelan\", \"Vietnamese\", \"Communiststates\", \"Angola\", \"Benin\", \"Congo-Brazzaville\", \"Ethiopia (1974\\u20131987)\", \"Ethiopia (1987\\u20131991)\", \"Madagascar\", \"Mozambique\", \"Somalia\", \"Cuba\", \"Grenada\", \"Afghanistan\", \"Cambodia (1975-1979) \", \"Cambodia (1979\\u20131992)\", \"North Korea\", \"Laos\", \"Mongolia\", \"Tuva\", \"Vietnam\", \"North Vietnam\", \"South Yemen\", \"Gilan\", \"Iranian Azerbaijan\", \"Kurdish Republic of Mahabad\", \"South Vietnam\", \"Soviet China\", \"Albania\", \"Bulgaria\", \"Czechoslovakia\", \"East Germany\", \"Hungary (1949\\u20131989)\", \"Poland\", \"Romania\", \"Soviet Union\", \"Yugoslavia\", \"Alsace-Lorraine\", \"Bavaria\", \"Bremen\", \"Finland\", \"Hungary (1919)\", \"Galicia\", \"Ireland\", \"Saxony\", \"Slovakia (1919)\", \"History of socialism\", \"Security Council\", \"United Nations\", \"Chapter V\", \"Chapter VII\", \"Veto\", \"Resolution\", \"Military Observer\", \"Peacebuilding Commission\", \"Counter-Terrorism Committee\", \"Peacekeeping\", \"United Nations Command\", \"Unified Task Force\", \"Members\", \"Permanent\", \"France\", \"Russia\", \"United Kingdom\", \"United States\", \"2018\\u20132019\", \"Equatorial Guinea\", \"Ivory Coast\", \"Kuwait\", \"Peru\", \"Poland\", \"2019\\u20132020\", \"Belgium\", \"Dominican Republic\", \"Germany\", \"Indonesia\", \"South Africa\", \"World Trade Organization\", \"Accession and membership\", \"Appellate Body\", \"Dispute Settlement Body\", \"International Trade Centre\", \"Chronology of key events\", \"Criticism\", \"Doha Development Round\", \"Singapore issues\", \"Quota Elimination\", \"Peace Clause\", \"General Agreement on Tariffs and Trade\", \"Agriculture\", \"Sanitary and Phytosanitary Measures\", \"Technical Barriers to Trade\", \"Trade Related Investment Measures\", \"Trade in Services\", \"Trade-Related Aspects of Intellectual Property Rights\", \"Government Procurement\", \"Information Technology\", \"Marrakech Agreement\", \"Doha Declaration\", \"Bali Package\", \"MinisterialConferences\", \"1st (1996)\", \"2nd (1998)\", \"3rd (1999)\", \"4th (2001)\", \"5th (2003)\", \"6th (2005)\", \"7th (2009)\", \"8th (2011)\", \"9th (2013)\", \"10th (2015)\", \"11th (2017)\", \"Roberto Azev\\u00eado\", \"Director-General\", \"Pascal Lamy\", \"Supachai Panitchpakdi\", \"Alejandro Jara\", \"Rufus Yerxa\", \"Afghanistan\", \"Albania\", \"Algeria\", \"Angola\", \"Antigua and Barbuda\", \"Argentina\", \"Armenia\", \"Australia\", \"Bahrain\", \"Bangladesh\", \"Barbados\", \"Belize\", \"Benin\", \"Bolivia\", \"Botswana\", \"Brazil\", \"Brunei\", \"Burkina Faso\", \"Burma\", \"Burundi\", \"Cambodia\", \"Cameroon\", \"Canada\", \"Cape Verde\", \"Central African Republic\", \"Chad\", \"Chile\", \"China\", \"Colombia\", \"Democratic Republic of the Congo\", \"Republic of the Congo\", \"Costa Rica\", \"C\\u00f4te d'Ivoire\", \"Cuba\", \"Djibouti\", \"Dominica\", \"Dominican Republic\", \"Ecuador\", \"Egypt\", \"El Salvador\", \"Fiji\", \"Gabon\", \"The Gambia\", \"Georgia\", \"Ghana\", \"Grenada\", \"Guatemala\", \"Guinea\", \"Guinea-Bissau\", \"Guyana\", \"Haiti\", \"Honduras\", \"Hong Kong\", \"Iceland\", \"India\", \"Indonesia\", \"Israel\", \"Jamaica\", \"Japan\", \"Jordan\", \"Kazakhstan\", \"Kenya\", \"South Korea\", \"Kuwait\", \"Kyrgyzstan\", \"Laos\", \"Lesotho\", \"Liberia\", \"Liechtenstein\", \"Macau\", \"Macedonia\", \"Madagascar\", \"Malawi\", \"Malaysia\", \"Maldives\", \"Mali\", \"Mauritania\", \"Mauritius\", \"Mexico\", \"Moldova\", \"Mongolia\", \"Montenegro\", \"Morocco\", \"Mozambique\", \"Namibia\", \"Nepal\", \"New Zealand\", \"Nicaragua\", \"Niger\", \"Nigeria\", \"Norway\", \"Oman\", \"Pakistan\", \"Panama\", \"Papua New Guinea\", \"Paraguay\", \"Peru\", \"Philippines\", \"Qatar\", \"Russia\", \"Rwanda\", \"St. Kitts and Nevis\", \"St. Lucia\", \"St. Vincent and the Grenadines\", \"Samoa\", \"Saudi Arabia\", \"Senegal\", \"Seychelles\", \"Sierra Leone\", \"Singapore\", \"Solomon Islands\", \"South Africa\", \"Sri Lanka\", \"Suriname\", \"Swaziland\", \"Switzerland\", \"Tajikistan\", \"Taiwan\", \"Tanzania\", \"Thailand\", \"Togo\", \"Tonga\", \"Trinidad and Tobago\", \"Tunisia\", \"Turkey\", \"Uganda\", \"Ukraine\", \"United Arab Emirates\", \"United States\", \"Uruguay\", \"Venezuela\", \"Vietnam\", \"Yemen\", \"Zambia\", \"Zimbabwe\", \"European Union\", \"Austria\", \"Belgium\", \"Bulgaria\", \"Croatia\", \"Cyprus\", \"Czech Republic\", \"Denmark\", \"Estonia\", \"Finland\", \"France\", \"Germany\", \"Greece\", \"Hungary\", \"Ireland\", \"Italy\", \"Latvia\", \"Lithuania\", \"Luxembourg\", \"Malta\", \"Netherlands\", \"Poland\", \"Portugal\", \"Romania\", \"Slovakia\", \"Slovenia\", \"Spain\", \"Sweden\", \"United Kingdom\", \"Special administrative regions of the People's Republic of China\", \"Separate Customs Territory of Taiwan, Penghu, Kinmen and Matsu\", \"Asia-Pacific Economic Cooperation (APEC)\", \"Australia\", \"Brunei\", \"Canada\", \"Chile\", \"Hong Kong\", \"Indonesia\", \"Japan\", \"South Korea\", \"Malaysia\", \"Mexico\", \"New Zealand\", \"Papua New Guinea\", \"Peru\", \"Philippines\", \"Russia\", \"Singapore\", \"Chinese Taipei\", \"Thailand\", \"United States\", \"Vietnam\", \"1989\", \"1996\", \"1997\", \"2001\", \"2002\", \"2003\", \"2004\", \"2005\", \"2006\", \"2007\", \"2008\", \"2009\", \"2010\", \"2011\", \"2012\", \"2013\", \"2014\", \"2015\", \"2016\", \"2017\", \"2018\", \"2019\", \"APEC Business Travel Card\", \"APEC blue\", \"APEC Climate Center\", \"APEC Sculpture Garden\", \"APEC Youth Science Festival\", \"special administrative region of China\", \"Chinese Taipei\", \"Shanghai Cooperation Organisation (SCO)\", \"Beijing 2012\", \"Dushanbe 2014\", \"Astana 2017\", \"Member states\", \"India\", \"Kazakhstan\", \"Kyrgyzstan\", \"Pakistan\", \"Russia\", \"Tajikistan\", \"Uzbekistan\", \"Afghanistan\", \"Belarus\", \"Iran\", \"Mongolia\", \"Armenia\", \"Azerbaijan\", \"Cambodia\", \"Nepal\", \"Sri Lanka\", \"Turkey\", \"ASEAN\", \"CIS\", \"Turkmenistan\", \"Member states\", \"Eurasian Land Bridge\", \"Three Evils\", \"Working languages\", \"Chinese\", \"Russian\", \"States with limited recognition\", \"international recognition\", \"foreign relations\", \"UN member states\", \"Armenia\", \"relations\", \"relations\", \"Cyprus\", \"relations\", \"Israel\", \"recognition\", \"relations\", \"North Korea\", \"relations\", \"South Korea\", \"relations\", \"UN observer states\", \"Palestine\", \"recognition\", \"relations\", \"Abkhazia\", \"recognition\", \"relations\", \"Kosovo\", \"recognition\", \"relations\", \"Northern Cyprus\", \"relations\", \"Sahrawi Arab Democratic Republic\", \"recognition\", \"relations\", \"South Ossetia\", \"recognition\", \"relations\", \"Taiwan\", \"relations\", \"Artsakh\", \"recognition\", \"relations\", \"Transnistria\", \"recognition\", \"relations\", \"Somaliland\", \"relations\", \"\", \"Provincial-level divisions of China\", \"Provinces\", \"Anhui\", \"Fujian\", \"Gansu\", \"Guangdong\", \"Guizhou\", \"Hainan\", \"Hebei\", \"Heilongjiang\", \"Henan\", \"Hubei\", \"Hunan\", \"Jiangsu\", \"Jiangxi\", \"Jilin\", \"Liaoning\", \"Qinghai\", \"Shaanxi\", \"Shandong\", \"Shanxi\", \"Sichuan\", \"Yunnan\", \"Zhejiang\", \"Autonomous regions\", \"Guangxi\", \"Inner Mongolia\", \"Ningxia\", \"Tibet\", \"Xinjiang\", \"Municipalities\", \"Beijing\", \"Chongqing\", \"Shanghai\", \"Tianjin\", \"Special administrative regions\", \"\", \"Hong Kong\", \"\", \"Macau\", \"Taiwan\", \"Taiwan\", \"claimed by the People's Republic of China\", \"\", \"Republic of China\", \"Political status of Taiwan\", \"Coordinates\", \"BNF\", \"GND\", \"ISNI\", \"LCCN\", \"MusicBrainz\", \"NARA\", \"NKC\", \"VIAF\", \"WorldCat Identities\"], \"url\": \"https://en.wikipedia.org/wiki/China\", \"status\": \"success\", \"query\": \"China\"}\n"
     ]
    }
   ],
   "source": [
    "wsearcher_crawl = WikiSearch_byCrawl()\n",
    "print(\">>> WikiSearch_byCrawl()\\n\",wsearcher_crawl.getResult_json(query))"
   ]
  },
  {
   "cell_type": "code",
   "execution_count": null,
   "metadata": {},
   "outputs": [],
   "source": []
  },
  {
   "cell_type": "code",
   "execution_count": null,
   "metadata": {},
   "outputs": [],
   "source": []
  }
 ],
 "metadata": {
  "kernelspec": {
   "display_name": "Python 3",
   "language": "python",
   "name": "python3"
  },
  "language_info": {
   "codemirror_mode": {
    "name": "ipython",
    "version": 3
   },
   "file_extension": ".py",
   "mimetype": "text/x-python",
   "name": "python",
   "nbconvert_exporter": "python",
   "pygments_lexer": "ipython3",
   "version": "3.6.7"
  },
  "toc": {
   "base_numbering": 1,
   "nav_menu": {},
   "number_sections": true,
   "sideBar": true,
   "skip_h1_title": false,
   "title_cell": "Table of Contents",
   "title_sidebar": "Contents",
   "toc_cell": false,
   "toc_position": {},
   "toc_section_display": true,
   "toc_window_display": true
  }
 },
 "nbformat": 4,
 "nbformat_minor": 2
}
