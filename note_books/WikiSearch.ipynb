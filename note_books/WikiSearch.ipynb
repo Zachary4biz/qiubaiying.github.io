{
 "cells": [
  {
   "cell_type": "code",
   "execution_count": 5,
   "metadata": {
    "ExecuteTime": {
     "end_time": "2019-04-04T06:16:26.791519Z",
     "start_time": "2019-04-04T06:16:21.670537Z"
    }
   },
   "outputs": [],
   "source": [
    "from IPython.core.interactiveshell import InteractiveShell\n",
    "InteractiveShell.ast_node_interactivity = \"all\"\n",
    "%matplotlib inline\n",
    "from tqdm import tqdm_notebook\n",
    "import concurrent.futures\n",
    "from multiprocessing import Pool"
   ]
  },
  {
   "cell_type": "markdown",
   "metadata": {},
   "source": [
    "# 【方案一】Wiki系列API"
   ]
  },
  {
   "cell_type": "markdown",
   "metadata": {},
   "source": [
    "## wikipedia\n",
    "- wikipedia | https://pypi.org/project/wikipedia/ "
   ]
  },
  {
   "cell_type": "code",
   "execution_count": 7,
   "metadata": {
    "ExecuteTime": {
     "end_time": "2019-04-04T06:19:04.899509Z",
     "start_time": "2019-04-04T06:19:03.154208Z"
    },
    "deletable": false,
    "editable": false,
    "run_control": {
     "frozen": true
    }
   },
   "outputs": [
    {
     "data": {
      "text/plain": [
       "'A bottle is a narrow-necked container made of an impermeable material (clay, glass, plastic, aluminium, etc.) in various shapes and sizes  to store and transport liquids (water, milk, beer, wine, ink, cooking oil, medicine, soft drinks, shampoo, and chemicals, etc.) and whose mouth at the bottling line can be sealed with an internal stopper, an external bottle cap, a closure, or a conductive \"inner seal\" using induction sealing.\\nSome of the earliest bottles appeared in China, Phoenicia, Crete, and Rome.'"
      ]
     },
     "execution_count": 7,
     "metadata": {},
     "output_type": "execute_result"
    },
    {
     "data": {
      "text/plain": [
       "'A bottle is a narrow-necked container made of an impermeable material (clay, glass, plastic, aluminium, etc.) in various shapes and sizes  to store and transport liquids (water, milk, beer, wine, ink, cooking oil, medicine, soft drinks, shampoo, and chemicals, etc.) and whose mouth at the bottling line can be sealed with an internal stopper, an external bottle cap, a closure, or a conductive \"inner seal\" using induction sealing.'"
      ]
     },
     "execution_count": 7,
     "metadata": {},
     "output_type": "execute_result"
    },
    {
     "data": {
      "text/plain": [
       "['Bottle',\n",
       " 'Bottle It In',\n",
       " 'Coca-Cola',\n",
       " 'Klein bottle',\n",
       " 'Polyethylene terephthalate',\n",
       " 'Bottle Rocket',\n",
       " 'The Bottle',\n",
       " 'Wine bottle',\n",
       " 'Bottle episode',\n",
       " 'Calabash']"
      ]
     },
     "execution_count": 7,
     "metadata": {},
     "output_type": "execute_result"
    }
   ],
   "source": [
    "import wikipedia\n",
    "wikipedia.set_lang(\"en\")\n",
    "wikipedia.summary(\"Bottle\")\n",
    "wikipedia.summary(\"Bottle\",sentences=1)\n",
    "wikipedia.search(\"Bottle\") # 检索Barack"
   ]
  },
  {
   "cell_type": "code",
   "execution_count": 42,
   "metadata": {
    "ExecuteTime": {
     "end_time": "2019-04-04T06:45:25.678226Z",
     "start_time": "2019-04-04T06:45:24.266571Z"
    },
    "scrolled": false
   },
   "outputs": [
    {
     "data": {
      "text/plain": [
       "'China'"
      ]
     },
     "execution_count": 42,
     "metadata": {},
     "output_type": "execute_result"
    },
    {
     "data": {
      "text/plain": [
       "'https://en.wikipedia.org/wiki/China'"
      ]
     },
     "execution_count": 42,
     "metadata": {},
     "output_type": "execute_result"
    },
    {
     "data": {
      "text/plain": [
       "98415"
      ]
     },
     "execution_count": 42,
     "metadata": {},
     "output_type": "execute_result"
    },
    {
     "data": {
      "text/plain": [
       "1963"
      ]
     },
     "execution_count": 42,
     "metadata": {},
     "output_type": "execute_result"
    },
    {
     "data": {
      "text/plain": [
       "'+86'"
      ]
     },
     "execution_count": 42,
     "metadata": {},
     "output_type": "execute_result"
    }
   ],
   "source": [
    "try:\n",
    "    ny = wikipedia.page(\"China\") # 直接获取页面\n",
    "    ny.title\n",
    "    ny.url\n",
    "    len(ny.content)\n",
    "    len(ny.links)\n",
    "    ny.links[0]\n",
    "except wikipedia.DisambiguationError as e:\n",
    "    print(\"目标词条有歧义\")\n",
    "except wikipedia.WikipediaException as e:\n",
    "    print(\"未找到目标词条\")"
   ]
  },
  {
   "cell_type": "markdown",
   "metadata": {},
   "source": [
    "## wikipediaapi\n",
    "- wikipedia-API | https://pypi.org/project/Wikipedia-API/"
   ]
  },
  {
   "cell_type": "code",
   "execution_count": null,
   "metadata": {
    "deletable": false,
    "editable": false,
    "run_control": {
     "frozen": true
    }
   },
   "outputs": [],
   "source": [
    "import wikipediaapi\n",
    "wiki_wiki = wikipediaapi.Wikipedia('en')\n",
    "page_py = wiki_wiki.page('Python_(programming_language)')\n",
    "\n",
    "page_py.exists() # 检查页面是否存在\n",
    "page_py.title\n",
    "page_py.summary # 获取summary\n",
    "page.sections # 获取sections\n",
    "page.sections[0].sections # 获取二级section\n",
    "page_py.canonicalurl # 获得页面的url | 区别未知\n",
    "page_py.fullurl # 获得页面的url | 区别未知\n",
    "page_py.text # 内容\n",
    "page_py_an = page_py.langlinks['an'] # 获取当前页面其他语言形式\n",
    "cats = page.categories # 获取category\n",
    "\n",
    "# 内容（使用html形式）\n",
    "wiki_html=wikipediaapi.Wikipedia(language='en', extract_format=wikipediaapi.ExtractFormat.HTML)\n",
    "wiki_html.page(\"India\").text\n",
    "\n",
    "# 获取页面中所有连接（指向其他wiki页面的链接）\n",
    "links = page_py.links\n",
    "for title in sorted(links.keys()):\n",
    "    print(title,links[title])"
   ]
  },
  {
   "cell_type": "markdown",
   "metadata": {},
   "source": [
    "### 获取category下所有的页面"
   ]
  },
  {
   "cell_type": "code",
   "execution_count": null,
   "metadata": {},
   "outputs": [],
   "source": [
    "# 获取category在的所有页面\n",
    "def print_categorymembers(categorymembers, level=0, max_level=1):\n",
    "        for c in categorymembers.values():\n",
    "            print(\"%s: %s (ns: %d)\" % (\"*\" * (level + 1), c.title, c.ns))\n",
    "            if c.ns == wikipediaapi.Namespace.CATEGORY and level < max_level:\n",
    "                print_categorymembers(c.categorymembers, level=level + 1, max_level=max_level)\n",
    "\n",
    "cat = wiki_wiki.page(\"Category:Physics\")\n",
    "print(\"Category members: Category:Physics\")\n",
    "print_categorymembers(cat.categorymembers)"
   ]
  },
  {
   "cell_type": "markdown",
   "metadata": {},
   "source": [
    "### 流程"
   ]
  },
  {
   "cell_type": "code",
   "execution_count": 25,
   "metadata": {
    "ExecuteTime": {
     "end_time": "2019-04-04T06:34:45.645712Z",
     "start_time": "2019-04-04T06:34:45.596756Z"
    }
   },
   "outputs": [],
   "source": [
    "import wikipediaapi\n",
    "wiki_wiki = wikipediaapi.Wikipedia('en')"
   ]
  },
  {
   "cell_type": "code",
   "execution_count": 109,
   "metadata": {
    "ExecuteTime": {
     "end_time": "2019-04-04T10:17:10.450068Z",
     "start_time": "2019-04-04T10:17:10.428753Z"
    },
    "scrolled": true
   },
   "outputs": [],
   "source": [
    "class WikiSearch():\n",
    "    @staticmethod\n",
    "    def search(targetWord= \"BJP\"):\n",
    "        page_py = wiki_wiki.page(targetWord)\n",
    "        if page_py.exists():\n",
    "            title = page_py.title\n",
    "            url = page_py.canonicalurl\n",
    "            cat = [i.title.split(\"Category:\")[1] for i in page_py.categories.values()]\n",
    "        else:\n",
    "            title = \"\"\n",
    "            url = \"\"\n",
    "            cat = []\n",
    "            print(\"page not exists\")\n",
    "        return (title,url,cat)"
   ]
  },
  {
   "cell_type": "code",
   "execution_count": 110,
   "metadata": {
    "ExecuteTime": {
     "end_time": "2019-04-04T10:17:16.320123Z",
     "start_time": "2019-04-04T10:17:15.694596Z"
    }
   },
   "outputs": [
    {
     "data": {
      "text/plain": [
       "('China',\n",
       " 'https://en.wikipedia.org/wiki/China',\n",
       " ['All Wikipedia articles written in American English',\n",
       "  'All articles containing potentially dated statements',\n",
       "  'All articles with vague or ambiguous time',\n",
       "  'Articles containing Chinese-language text',\n",
       "  'Articles containing Mongolian-language text',\n",
       "  'Articles containing Persian-language text',\n",
       "  'Articles containing Portuguese-language text',\n",
       "  'Articles containing Sanskrit-language text',\n",
       "  'Articles containing potentially dated statements from 2005',\n",
       "  'Articles containing potentially dated statements from 2010',\n",
       "  'Articles containing potentially dated statements from 2012',\n",
       "  'Articles containing potentially dated statements from 2013',\n",
       "  'Articles containing potentially dated statements from 2015',\n",
       "  'Articles containing potentially dated statements from 2017',\n",
       "  'Articles containing potentially dated statements from 2018',\n",
       "  'Articles containing potentially dated statements from January 2016',\n",
       "  'Articles containing simplified Chinese-language text',\n",
       "  'Articles containing traditional Chinese-language text',\n",
       "  'Articles with Chinese-language external links',\n",
       "  'Articles with Curlie links',\n",
       "  'Articles with Portuguese-language external links',\n",
       "  'Articles with short description',\n",
       "  'Atheist states',\n",
       "  'BRICS nations',\n",
       "  'CS1 Chinese-language sources (zh)',\n",
       "  'CS1 maint: Uses editors parameter',\n",
       "  'CS1 uses Chinese-language script (zh)',\n",
       "  'China',\n",
       "  'Coordinates on Wikidata',\n",
       "  'East Asian countries',\n",
       "  'G20 nations',\n",
       "  'Good articles',\n",
       "  'Member states of the United Nations',\n",
       "  'Northeast Asian countries',\n",
       "  'Pages using Timeline',\n",
       "  'Pages using infobox country or infobox former country with the symbol caption or type parameters',\n",
       "  'States and territories established in 1949',\n",
       "  'Use American English from August 2016',\n",
       "  'Use dmy dates from March 2019',\n",
       "  'Vague or ambiguous time from March 2019',\n",
       "  'Webarchive template other archives',\n",
       "  'Webarchive template wayback links',\n",
       "  'Wikipedia articles with BNF identifiers',\n",
       "  'Wikipedia articles with GND identifiers',\n",
       "  'Wikipedia articles with ISNI identifiers',\n",
       "  'Wikipedia articles with LCCN identifiers',\n",
       "  'Wikipedia articles with MusicBrainz area identifiers',\n",
       "  'Wikipedia articles with NARA identifiers',\n",
       "  'Wikipedia articles with NKC identifiers',\n",
       "  'Wikipedia articles with VIAF identifiers',\n",
       "  'Wikipedia articles with WorldCat-VIAF identifiers',\n",
       "  'Wikipedia indefinitely move-protected pages',\n",
       "  'Wikipedia indefinitely semi-protected pages'])"
      ]
     },
     "execution_count": 110,
     "metadata": {},
     "output_type": "execute_result"
    }
   ],
   "source": [
    "WikiSearch.search(\"China\")"
   ]
  },
  {
   "cell_type": "code",
   "execution_count": 98,
   "metadata": {
    "ExecuteTime": {
     "end_time": "2019-04-04T07:13:29.195741Z",
     "start_time": "2019-04-04T07:13:29.156388Z"
    }
   },
   "outputs": [
    {
     "data": {
      "text/plain": [
       "wikipediaapi.WikipediaPage"
      ]
     },
     "execution_count": 98,
     "metadata": {},
     "output_type": "execute_result"
    },
    {
     "data": {
      "text/plain": [
       "wikipediaapi.WikipediaPage"
      ]
     },
     "execution_count": 98,
     "metadata": {},
     "output_type": "execute_result"
    },
    {
     "data": {
      "text/plain": [
       "'Category:All Wikipedia articles written in American English'"
      ]
     },
     "execution_count": 98,
     "metadata": {},
     "output_type": "execute_result"
    },
    {
     "data": {
      "text/plain": [
       "0"
      ]
     },
     "execution_count": 98,
     "metadata": {},
     "output_type": "execute_result"
    },
    {
     "data": {
      "text/plain": [
       "14"
      ]
     },
     "execution_count": 98,
     "metadata": {},
     "output_type": "execute_result"
    },
    {
     "data": {
      "text/plain": [
       "<Namespace.CATEGORY: 14>"
      ]
     },
     "execution_count": 98,
     "metadata": {},
     "output_type": "execute_result"
    },
    {
     "data": {
      "text/plain": [
       "{'Wikipedia:Categorization': Wikipedia:Categorization (id: ??, ns: 4),\n",
       " 'Wikipedia:Maintenance': Wikipedia:Maintenance (id: ??, ns: 4),\n",
       " 'Wikipedia:What is an article?': Wikipedia:What is an article? (id: ??, ns: 4),\n",
       " 'Help:Category': Help:Category (id: ??, ns: 12),\n",
       " 'Category:Hidden categories': Category:Hidden categories (id: ??, ns: 14)}"
      ]
     },
     "execution_count": 98,
     "metadata": {},
     "output_type": "execute_result"
    }
   ],
   "source": [
    "page_cat = list(page_py.categories.values())[0]\n",
    "type(page_cat)\n",
    "type(page_py)\n",
    "page_cat.title\n",
    "page_py.ns\n",
    "page_cat.ns\n",
    "wikipediaapi.Namespace.CATEGORY\n",
    "page_cat.links"
   ]
  },
  {
   "cell_type": "markdown",
   "metadata": {},
   "source": [
    "# 【方案二】纯爬虫处理"
   ]
  },
  {
   "cell_type": "code",
   "execution_count": null,
   "metadata": {},
   "outputs": [],
   "source": []
  }
 ],
 "metadata": {
  "kernelspec": {
   "display_name": "Python 3",
   "language": "python",
   "name": "python3"
  },
  "language_info": {
   "codemirror_mode": {
    "name": "ipython",
    "version": 3
   },
   "file_extension": ".py",
   "mimetype": "text/x-python",
   "name": "python",
   "nbconvert_exporter": "python",
   "pygments_lexer": "ipython3",
   "version": "3.6.7"
  },
  "toc": {
   "base_numbering": 1,
   "nav_menu": {},
   "number_sections": true,
   "sideBar": true,
   "skip_h1_title": false,
   "title_cell": "Table of Contents",
   "title_sidebar": "Contents",
   "toc_cell": false,
   "toc_position": {},
   "toc_section_display": true,
   "toc_window_display": true
  }
 },
 "nbformat": 4,
 "nbformat_minor": 2
}
