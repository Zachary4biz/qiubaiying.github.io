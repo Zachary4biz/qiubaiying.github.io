{
 "cells": [
  {
   "cell_type": "code",
   "execution_count": 7,
   "metadata": {
    "ExecuteTime": {
     "end_time": "2019-03-24T10:01:39.470929Z",
     "start_time": "2019-03-24T10:01:39.396342Z"
    }
   },
   "outputs": [],
   "source": [
    "from IPython.core.interactiveshell import InteractiveShell\n",
    "InteractiveShell.ast_node_interactivity = \"all\"\n",
    "%matplotlib inline\n",
    "from tqdm import tqdm_notebook\n",
    "import concurrent.futures"
   ]
  },
  {
   "cell_type": "markdown",
   "metadata": {
    "ExecuteTime": {
     "end_time": "2019-03-24T09:48:14.739726Z",
     "start_time": "2019-03-24T09:48:14.710273Z"
    }
   },
   "source": [
    "# 解析八位的二进制加法运算\n",
    "- 参考： http://iamtrask.github.io/2015/11/15/anyone-can-code-lstm/ "
   ]
  },
  {
   "cell_type": "code",
   "execution_count": 2,
   "metadata": {
    "ExecuteTime": {
     "end_time": "2019-03-24T09:49:23.243480Z",
     "start_time": "2019-03-24T09:49:19.975002Z"
    }
   },
   "outputs": [],
   "source": [
    "import numpy as np\n",
    "np.random.seed(0)"
   ]
  },
  {
   "cell_type": "markdown",
   "metadata": {},
   "source": [
    "## 定义基本函数"
   ]
  },
  {
   "cell_type": "code",
   "execution_count": 3,
   "metadata": {
    "ExecuteTime": {
     "end_time": "2019-03-24T09:49:29.545776Z",
     "start_time": "2019-03-24T09:49:29.527820Z"
    }
   },
   "outputs": [],
   "source": [
    "# 激活函数用sigmoid\n",
    "def sigmoid(x):\n",
    "    output = 1/(1+np.exp(-x))\n",
    "    return output\n",
    "# sigmoid导数\n",
    "def sigmoid_derivation(output):\n",
    "    return output*(1-output)"
   ]
  },
  {
   "cell_type": "markdown",
   "metadata": {},
   "source": [
    "## 超参数配置"
   ]
  },
  {
   "cell_type": "code",
   "execution_count": 12,
   "metadata": {
    "ExecuteTime": {
     "end_time": "2019-03-24T10:04:25.795273Z",
     "start_time": "2019-03-24T10:04:25.786777Z"
    }
   },
   "outputs": [],
   "source": [
    "alpha = 0.1              #反向传播时参数w更新的速度\n",
    "input_dim = 2            #输入数据的维度，程序是实现两个数相加的\n",
    "hidden_dim = 16          #隐藏层神经元个数=16\n",
    "output_dim = 1           #输出结果值是1维的"
   ]
  },
  {
   "cell_type": "markdown",
   "metadata": {},
   "source": [
    "## 构造映射字典\n",
    "- 生成0~256的256个数字对应的八位二进制 的映射字典"
   ]
  },
  {
   "cell_type": "code",
   "execution_count": 13,
   "metadata": {
    "ExecuteTime": {
     "end_time": "2019-03-25T14:10:23.520581Z",
     "start_time": "2019-03-25T14:10:23.074027Z"
    }
   },
   "outputs": [
    {
     "data": {
      "text/plain": [
       "array([0, 0, 0, 0, 0, 0, 0, 0], dtype=uint8)"
      ]
     },
     "execution_count": 13,
     "metadata": {},
     "output_type": "execute_result"
    },
    {
     "data": {
      "text/plain": [
       "array([0, 0, 0, 0, 0, 0, 1, 0], dtype=uint8)"
      ]
     },
     "execution_count": 13,
     "metadata": {},
     "output_type": "execute_result"
    },
    {
     "data": {
      "text/plain": [
       "array([1, 1, 1, 1, 1, 1, 1, 1], dtype=uint8)"
      ]
     },
     "execution_count": 13,
     "metadata": {},
     "output_type": "execute_result"
    }
   ],
   "source": [
    "# 映射字典\n",
    "int2binary={}\n",
    "binary_dim=8 # 8位二进制\n",
    "largest_number = pow(2,binary_dim) # 8位二进制最大为2^8=256\n",
    "# 使用np的API直接将整型转换为8位二进制\n",
    "binary = np.unpackbits(np.array([range(largest_number)], dtype=np.uint8).T,axis=1)\n",
    "for i in range(largest_number):\n",
    "    int2binary.update({i:binary[i]})\n",
    "\n",
    "int2binary[0]\n",
    "int2binary[2]\n",
    "int2binary[255]"
   ]
  },
  {
   "cell_type": "markdown",
   "metadata": {},
   "source": [
    "## 随机初始化权重 \n",
    "- -1~1初始化\n",
    "- 第一层权重 2x16"
   ]
  },
  {
   "cell_type": "code",
   "execution_count": null,
   "metadata": {},
   "outputs": [],
   "source": [
    "#初始化神经网络的权重参数\n",
    "synapse_0 = 2*np.random.random((input_dim,hidden_dim)) - 1   #输入至神经元的w0，维度为2X16，取值约束在[-1,1]间\n",
    "synapse_1 = 2*np.random.random((hidden_dim,output_dim)) - 1  #神经元至输出层的权重w1,维度为16X1，取值约束在[-1,1]间\n",
    "synapse_h = 2*np.random.random((hidden_dim,hidden_dim)) - 1  #神经元前一时刻状态至当前状态权重wh,维度为16X16，取值约束在[-1,1]间                                   \n",
    " \n",
    "synapse_0_update = np.zeros_like(synapse_0)          #构造与w0相同维度的矩阵，并初始化为全0；\n",
    "synapse_1_update = np.zeros_like(synapse_1)\n",
    "synapse_h_update = np.zeros_like(synapse_h)\n"
   ]
  },
  {
   "cell_type": "markdown",
   "metadata": {},
   "source": [
    "## 模型迭代"
   ]
  },
  {
   "cell_type": "code",
   "execution_count": null,
   "metadata": {},
   "outputs": [],
   "source": [
    "# 模型迭代次数100\n",
    "for i in range(100):\n",
    "    # generate a simple addition problem (a + b = c)\n",
    "    # 随机初始化两个数a,b （均小于128，目的是避免加和的数超过最值256）\n",
    "    a_int = np.random.randint(largest_number/2) # int version      #约束初始化的输入加数a的值不超过128\n",
    "    b_int = np.random.randint(largest_number/2) # int version\n",
    "    # 将其映射为二进制数\n",
    "    a = int2binary[a_int] # binary encoding                        #将加数a的转为对应二进制数\n",
    "    b = int2binary[b_int] # binary encoding\n",
    "\n",
    "    # 真实和\n",
    "    c_int = a_int + b_int    \n",
    "    c = int2binary[c_int] \n",
    "    # 初始化预测和\n",
    "    d = np.zeros_like(c)\n",
    "    overallError = 0\n",
    "\n",
    "    # 反向求导用\n",
    "    layer_2_deltas = list()\n",
    "    # 先对隐藏层前一时刻状态初始化为0\n",
    "    layer_1_values = list()\n",
    "    layer_1_values.append(np.zeros(hidden_dim))\n",
    "    # 前向传播（二进制求和，低位在右，高位在左）\n",
    "    for position in range(binary_dim):                         \n",
    "        # 输入的a与b（二进制形式） | X = (a[7],b[7])\n",
    "        X = np.array([[a[binary_dim - position - 1],b[binary_dim - position - 1]]])\n",
    "        # 真实label值 | y = (c[7]).T\n",
    "        y = np.array([[c[binary_dim - position - 1]]]).T                            \n",
    "        # hidden layer (input ~+ prev_hidden)\n",
    "        # sigmoid( X*w0 + RNN前一时刻状态值*wh )\n",
    "        layer_1 = sigmoid(np.dot(X,synapse_0) + np.dot(layer_1_values[-1],synapse_h))  \n",
    "        # layer_1*w1 | 输出层 (加法求得的二进制表示)\n",
    "        layer_2 = sigmoid(np.dot(layer_1,synapse_1))\n",
    "        # 求误差\n",
    "        layer_2_error = y - layer_2\n",
    "        # 代价函数\n",
    "        layer_2_deltas.append((layer_2_error)*sigmoid_output_to_derivative(layer_2))\n",
    "        # 误差\n",
    "        overallError += np.abs(layer_2_error[0])\n",
    "        \n",
    "        # 预测的和\n",
    "        d[binary_dim - position - 1] = np.round(layer_2[0][0])\n",
    "        #深拷贝，将RNN模块状态值存储，用于反向传播\n",
    "        layer_1_values.append(copy.deepcopy(layer_1))                     \n",
    "\n",
    "    future_layer_1_delta = np.zeros(hidden_dim)\n",
    "    # 反向传播，计算从左到右，即二进制高位到低位\n",
    "    for position in range(binary_dim):\n",
    "        \n",
    "        \n",
    "        \n",
    "        \n",
    "\n",
    "        \n",
    "        \n",
    "\n",
    "    \n",
    "    \n",
    "    "
   ]
  },
  {
   "cell_type": "code",
   "execution_count": null,
   "metadata": {},
   "outputs": [],
   "source": []
  },
  {
   "cell_type": "code",
   "execution_count": null,
   "metadata": {},
   "outputs": [],
   "source": []
  }
 ],
 "metadata": {
  "kernelspec": {
   "display_name": "Python 3",
   "language": "python",
   "name": "python3"
  },
  "language_info": {
   "codemirror_mode": {
    "name": "ipython",
    "version": 3
   },
   "file_extension": ".py",
   "mimetype": "text/x-python",
   "name": "python",
   "nbconvert_exporter": "python",
   "pygments_lexer": "ipython3",
   "version": "3.6.7"
  },
  "toc": {
   "base_numbering": 1,
   "nav_menu": {},
   "number_sections": true,
   "sideBar": true,
   "skip_h1_title": false,
   "title_cell": "Table of Contents",
   "title_sidebar": "Contents",
   "toc_cell": false,
   "toc_position": {},
   "toc_section_display": true,
   "toc_window_display": true
  }
 },
 "nbformat": 4,
 "nbformat_minor": 2
}
