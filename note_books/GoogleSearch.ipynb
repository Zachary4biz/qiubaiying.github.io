{
 "cells": [
  {
   "cell_type": "markdown",
   "metadata": {},
   "source": [
    "# SetUp"
   ]
  },
  {
   "cell_type": "code",
   "execution_count": 5,
   "metadata": {
    "ExecuteTime": {
     "end_time": "2019-03-31T12:21:26.048402Z",
     "start_time": "2019-03-31T12:21:23.012309Z"
    },
    "init_cell": true
   },
   "outputs": [],
   "source": [
    "from IPython.core.interactiveshell import InteractiveShell\n",
    "InteractiveShell.ast_node_interactivity = \"all\"\n",
    "%matplotlib inline\n",
    "from tqdm import tqdm_notebook\n",
    "import concurrent.futures\n",
    "from multiprocessing import Pool"
   ]
  },
  {
   "cell_type": "code",
   "execution_count": 14,
   "metadata": {
    "ExecuteTime": {
     "end_time": "2019-03-30T10:49:56.868213Z",
     "start_time": "2019-03-30T10:49:56.754799Z"
    },
    "init_cell": true
   },
   "outputs": [],
   "source": [
    "from selenium import webdriver\n",
    "from selenium.webdriver.common.desired_capabilities import DesiredCapabilities\n",
    "from selenium.webdriver.support.ui import WebDriverWait\n",
    "import random\n",
    "import json\n",
    "import itertools"
   ]
  },
  {
   "cell_type": "code",
   "execution_count": 15,
   "metadata": {
    "ExecuteTime": {
     "end_time": "2019-03-30T10:49:57.191111Z",
     "start_time": "2019-03-30T10:49:57.162333Z"
    }
   },
   "outputs": [
    {
     "data": {
      "text/plain": [
       "'linux'"
      ]
     },
     "execution_count": 15,
     "metadata": {},
     "output_type": "execute_result"
    },
    {
     "data": {
      "text/plain": [
       "'3.6.7 (default, Dec 11 2018, 07:12:38) \\n[GCC 4.8.5 20150623 (Red Hat 4.8.5-36)]'"
      ]
     },
     "execution_count": 15,
     "metadata": {},
     "output_type": "execute_result"
    }
   ],
   "source": [
    "import sys\n",
    "sys.platform\n",
    "sys.version"
   ]
  },
  {
   "cell_type": "markdown",
   "metadata": {},
   "source": [
    "# 初始化代理ip池"
   ]
  },
  {
   "cell_type": "markdown",
   "metadata": {},
   "source": [
    "## 获取国外ip"
   ]
  },
  {
   "cell_type": "code",
   "execution_count": 271,
   "metadata": {
    "ExecuteTime": {
     "end_time": "2019-03-29T07:14:35.101545Z",
     "start_time": "2019-03-29T07:14:34.348752Z"
    }
   },
   "outputs": [
    {
     "data": {
      "text/plain": [
       "300"
      ]
     },
     "execution_count": 271,
     "metadata": {},
     "output_type": "execute_result"
    },
    {
     "data": {
      "text/plain": [
       "[('128.199.222.84', '8080'),\n",
       " ('128.199.161.65', '443'),\n",
       " ('138.197.155.142', '80')]"
      ]
     },
     "execution_count": 271,
     "metadata": {},
     "output_type": "execute_result"
    },
    {
     "data": {
      "text/plain": [
       "[('31.170.51.40', '80'), ('5.202.101.207', '80'), ('185.108.141.74', '8080')]"
      ]
     },
     "execution_count": 271,
     "metadata": {},
     "output_type": "execute_result"
    }
   ],
   "source": [
    "import requests\n",
    "from bs4 import BeautifulSoup\n",
    "res = requests.get(\"https://free-proxy-list.net/\")\n",
    "soup = BeautifulSoup(res.text)\n",
    "ip_address = [i.text for i in soup.select(\"#proxylisttable td:nth-child(1)\")]\n",
    "ip_port = [i.text for i in soup.select(\"#proxylisttable td:nth-child(2)\")]\n",
    "ip_pool = list(zip(ip_address,ip_port))\n",
    "len(ip_pool)\n",
    "ip_pool[:3]\n",
    "ip_pool[-3:]\n"
   ]
  },
  {
   "cell_type": "markdown",
   "metadata": {},
   "source": [
    "### 筛选多个可用ip"
   ]
  },
  {
   "cell_type": "code",
   "execution_count": 254,
   "metadata": {
    "ExecuteTime": {
     "end_time": "2019-03-29T06:53:34.258377Z",
     "start_time": "2019-03-29T06:53:33.362818Z"
    },
    "scrolled": true
   },
   "outputs": [
    {
     "data": {
      "application/vnd.jupyter.widget-view+json": {
       "model_id": "573afa3b401340268b7c697195007a2d",
       "version_major": 2,
       "version_minor": 0
      },
      "text/plain": [
       "HBox(children=(IntProgress(value=0, max=20), HTML(value='')))"
      ]
     },
     "metadata": {},
     "output_type": "display_data"
    },
    {
     "name": "stdout",
     "output_type": "stream",
     "text": [
      "\n",
      "可用ip有 20 个\n"
     ]
    },
    {
     "data": {
      "text/plain": [
       "[['128.199.222.84', '8080', True], ['128.199.161.65', '443', True]]"
      ]
     },
     "execution_count": 254,
     "metadata": {},
     "output_type": "execute_result"
    },
    {
     "data": {
      "text/plain": [
       "[['157.230.57.57', '8080', True], ['45.55.46.222', '8080', True]]"
      ]
     },
     "execution_count": 254,
     "metadata": {},
     "output_type": "execute_result"
    }
   ],
   "source": [
    "import telnetlib\n",
    "ip_pool_=ip_pool[:20] # 总计有300多个ip\n",
    "def isUseful(ip,port,timeout=2):\n",
    "    try:\n",
    "        telnetlib.Telnet(ip, port=port, timeout=timeout)\n",
    "    except:\n",
    "        return False\n",
    "    else:\n",
    "        return True\n",
    "\n",
    "def mapFunc(i):\n",
    "    return list(i)+[isUseful(i[0],i[1],2)]\n",
    "with Pool(4) as p:\n",
    "      ip_pool_withStatus = list(tqdm_notebook(p.imap(mapFunc, ip_pool_), total=len(ip_pool_)))\n",
    "\n",
    "ip_pool_available = [i for i in ip_pool_withStatus if i[-1]] \n",
    "print(\"可用ip有 %s 个\" % len(ip_pool_available))\n",
    "ip_pool_available[:2]\n",
    "ip_pool_available[-2:]"
   ]
  },
  {
   "cell_type": "markdown",
   "metadata": {},
   "source": [
    "### 筛选一个可用代理\n",
    "- 如何适配多线程？"
   ]
  },
  {
   "cell_type": "code",
   "execution_count": 272,
   "metadata": {
    "ExecuteTime": {
     "end_time": "2019-03-29T07:14:52.683160Z",
     "start_time": "2019-03-29T07:14:52.484422Z"
    }
   },
   "outputs": [
    {
     "data": {
      "text/plain": [
       "'128.199.222.84:8080'"
      ]
     },
     "execution_count": 272,
     "metadata": {},
     "output_type": "execute_result"
    }
   ],
   "source": [
    "ip_iter = iter(ip_pool)\n",
    "def isUseful(ip,port,timeout=2):\n",
    "    try:\n",
    "        telnetlib.Telnet(ip, port=port, timeout=timeout)\n",
    "    except:\n",
    "        return False\n",
    "    else:\n",
    "        return True\n",
    "def getAvailableProxy():\n",
    "    t = next(ip_iter)\n",
    "    try:\n",
    "        while(not isUseful(t[0],t[1])):\n",
    "            t = next(a)\n",
    "    except StopIteration as e:\n",
    "        t = []\n",
    "#     print(\"可用的为: \",\":\".join(t))\n",
    "    return \":\".join(t)\n",
    "\n",
    "ip = getAvailableProxy()\n",
    "ip"
   ]
  },
  {
   "cell_type": "markdown",
   "metadata": {},
   "source": [
    "## 随机ip初始化webdriver"
   ]
  },
  {
   "cell_type": "code",
   "execution_count": 111,
   "metadata": {
    "ExecuteTime": {
     "end_time": "2019-03-29T01:59:18.369757Z",
     "start_time": "2019-03-29T01:59:16.424528Z"
    },
    "scrolled": true
   },
   "outputs": [
    {
     "name": "stdout",
     "output_type": "stream",
     "text": [
      "使用代理: 47.74.8.220:3128\n",
      "检查代理是否生效,当前ip为: {\n",
      "  \"origin\": \"47.74.8.220, 47.74.8.220\"\n",
      "}\n"
     ]
    }
   ],
   "source": [
    "def initDriver(service_args=[],timeout=5):\n",
    "    driver = webdriver.PhantomJS(service_args=service_args)\n",
    "    driver.set_page_load_timeout(timeout)\n",
    "    driver.set_script_timeout(timeout)\n",
    "    return driver\n",
    "\n",
    "    \n",
    "proxy = \":\".join(random.choice(ip_pool_available)[:2])\n",
    "print(\"使用代理: %s\" % proxy)\n",
    "service_args = ['--proxy=%s'% proxy,'--load-images=false']\n",
    "driver = initDriver(service_args,6)\n",
    "try:\n",
    "    driver.get('http://httpbin.org/ip')\n",
    "except Exception as e:\n",
    "    print(e.message)\n",
    "    \n",
    "print(\"检查代理是否生效,当前ip为: %s\" % driver.find_element_by_tag_name(\"body\").text)"
   ]
  },
  {
   "cell_type": "markdown",
   "metadata": {},
   "source": [
    "# 方案一、直接拼接搜索页的URL\n",
    "- 注意需从首页获取 Key\n",
    "\n",
    "## 从首页获取Key"
   ]
  },
  {
   "cell_type": "code",
   "execution_count": 259,
   "metadata": {
    "ExecuteTime": {
     "end_time": "2019-03-29T06:54:46.379072Z",
     "start_time": "2019-03-29T06:54:46.281627Z"
    },
    "init_cell": true
   },
   "outputs": [
    {
     "name": "stdout",
     "output_type": "stream",
     "text": [
      ">>> key:\n",
      " NsGdXKbJE-qP0wKix5ngBA\n"
     ]
    }
   ],
   "source": [
    "import requests\n",
    "import re\n",
    "import time\n",
    "from lxml import etree\n",
    "resp = requests.get(\"http://www.google.com\")\n",
    "html = resp.text\n",
    "key = re.search(r\"kEI:\\'(.*?)\\'\", html).group(1)\n",
    "print(\">>> key:\\n\",key)"
   ]
  },
  {
   "cell_type": "markdown",
   "metadata": {},
   "source": [
    "## 拼接query请求搜索页\n",
    "- 请求url并保存html文件（debug用）"
   ]
  },
  {
   "cell_type": "code",
   "execution_count": 270,
   "metadata": {
    "ExecuteTime": {
     "end_time": "2019-03-29T07:13:47.880885Z",
     "start_time": "2019-03-29T07:13:43.669421Z"
    },
    "init_cell": true
   },
   "outputs": [
    {
     "name": "stdout",
     "output_type": "stream",
     "text": [
      ">>> request on url: \n",
      "https://www.google.com/search?source=hp&ei=NsGdXKbJE-qP0wKix5ngBA&q=India\n",
      ">>> use proxy as follow: \n",
      " {'http': '128.199.222.84:8080', 'https': ''}\n",
      ">>> 本机ip:\n",
      " {'origin': '144.34.217.10, 144.34.217.10'}\n",
      ">>> 代理ip:\n",
      " {'origin': 'unknown, 128.199.222.84, 128.199.222.84'}\n",
      ">>> result len: 470680\n"
     ]
    },
    {
     "data": {
      "text/plain": [
       "465135"
      ]
     },
     "execution_count": 270,
     "metadata": {},
     "output_type": "execute_result"
    }
   ],
   "source": [
    "query = \"India\"\n",
    "url = f\"https://www.google.com/search?source=hp&ei={key}&q={query}\"\n",
    "print(\">>> request on url: \\n\"+url)\n",
    "proxies = {\"http\":getAvailableProxy(),\n",
    "           \"https\":getAvailableProxy()}\n",
    "print(\">>> use proxy as follow: \\n\",proxies)\n",
    "print(\">>> 本机ip:\\n\",json.loads(requests.get(\"http://httpbin.org/ip\").text.strip()))\n",
    "print(\">>> 代理ip:\\n\",json.loads(requests.get(\"http://httpbin.org/ip\",proxies=proxies).text.strip()))\n",
    "\n",
    "header = {\"Referer\": \"https://www.google.com/\",\n",
    "          'User-Agent':'Mozilla/5.0 (Macintosh; Intel Mac OS X 10_12_6) AppleWebKit/537.36 (KHTML, like Gecko) Chrome/72.0.3626.121 Safari/537.36'}\n",
    "resp1 = requests.get(url,headers=header,proxies=proxies)\n",
    "html = etree.HTML(resp1.text)\n",
    "print(\">>> result len:\",len(etree.tostring(html).decode()))\n",
    "with open(\"googleSearchResult_request.html\",\"w+\") as f: f.write(resp1.text)"
   ]
  },
  {
   "cell_type": "markdown",
   "metadata": {},
   "source": [
    "## 查找class为g的div"
   ]
  },
  {
   "cell_type": "code",
   "execution_count": 224,
   "metadata": {
    "ExecuteTime": {
     "end_time": "2019-03-29T04:51:13.666267Z",
     "start_time": "2019-03-29T04:51:13.639565Z"
    },
    "init_cell": true,
    "scrolled": false
   },
   "outputs": [
    {
     "name": "stdout",
     "output_type": "stream",
     "text": [
      "目标div有 9 个\n"
     ]
    }
   ],
   "source": [
    "div_rso = html.xpath(\"//div[@id='rso']\")\n",
    "div_bkWMgd = div_rso[0].xpath(\"./div[@class='bkWMgd']\")\n",
    "\n",
    "def find_g(element):\n",
    "    div_g = element.xpath(\"./div[@class='g']\")\n",
    "    if(len(div_g)==0):\n",
    "        div_srg = element.xpath(\"./div[@class='srg']\")\n",
    "        if(len(div_srg)>0):\n",
    "            div_g = div_srg[0].xpath(\"./div[@class='g']\")\n",
    "    return div_g\n",
    "\n",
    "div_g = []\n",
    "for el in div_bkWMgd:\n",
    "    tmp = find_g(el)\n",
    "    if(len(tmp)>0):\n",
    "        div_g.extend(tmp)\n",
    "print(f\"目标div (class为g) 有 {len(div_g)} 个\")"
   ]
  },
  {
   "cell_type": "markdown",
   "metadata": {},
   "source": [
    "## 继续解析class为g的div"
   ]
  },
  {
   "cell_type": "code",
   "execution_count": 225,
   "metadata": {
    "ExecuteTime": {
     "end_time": "2019-03-29T04:51:18.313881Z",
     "start_time": "2019-03-29T04:51:18.289773Z"
    },
    "init_cell": true
   },
   "outputs": [
    {
     "name": "stdout",
     "output_type": "stream",
     "text": [
      ">>>> 搜索结果第一个展示：\n",
      "India - Wikipedia\n",
      "https://en.wikipedia.org/wiki/India\n",
      "India (ISO: Bhārat), also known as the Republic of India (ISO: Bhārat Gaṇarājya), is a country in South Asia. It is the seventh largest country by area and with ...Calling code‎: ‎+91Demonym(s)‎: ‎IndianLargest city‎: ‎Mumbai‎; 18°58′30″N 72°49′4...Currency‎: ‎Indian rupee‎ (‎₹‎) (‎INR‎)‎History · ‎Geography · ‎Biodiversity · ‎Politics and government\n",
      ">>>> 搜索结果最后一个展示：\n",
      "India - Wikitravel\n",
      "https://wikitravel.org/en/India\n",
      "India is the largest country in the South Asia Region, located primarily in the center of South Asia, and shares International borders with Pakistan to the ...Country code‎: ‎+91Capital‎: ‎New DelhiLanguage‎: ‎Hindi, English and 21 other official ...Area‎: ‎total: 3,287,263km²; water: 314,070km²; l...\n"
     ]
    }
   ],
   "source": [
    "def find_result(element):\n",
    "    a_el = element.xpath(\".//div[@class='r']\")[0].xpath(\"a\")[0]\n",
    "    title = a_el.xpath(\".//h3[@class='LC20lb']\")[0].text\n",
    "    link = a_el.attrib[\"href\"]\n",
    "    summary = element.xpath(\".//div[@class='s']\")[0].xpath(\"string(.)\")\n",
    "    return [title,link,summary]\n",
    "result = [find_result(i) for i in div_g]\n",
    "\n",
    "print(\">>>> 搜索结果第一个展示：\\n\"+\"\\n\".join(result[0]))\n",
    "print(\">>>> 搜索结果最后一个展示：\\n\"+\"\\n\".join(result[-1]))"
   ]
  },
  {
   "cell_type": "markdown",
   "metadata": {},
   "source": [
    "# 方案二、从首页模拟搜索行为\n",
    "## 初始化Driver"
   ]
  },
  {
   "cell_type": "code",
   "execution_count": 231,
   "metadata": {
    "ExecuteTime": {
     "end_time": "2019-03-29T06:06:56.483216Z",
     "start_time": "2019-03-29T06:06:54.324713Z"
    }
   },
   "outputs": [
    {
     "data": {
      "text/plain": [
       "True"
      ]
     },
     "execution_count": 231,
     "metadata": {},
     "output_type": "execute_result"
    },
    {
     "data": {
      "text/plain": [
       "215233"
      ]
     },
     "execution_count": 231,
     "metadata": {},
     "output_type": "execute_result"
    }
   ],
   "source": [
    "service_args = ['--load-images=false']\n",
    "dcap = dict(DesiredCapabilities.PHANTOMJS)\n",
    "dcap[\"phantomjs.page.settings.userAgent\"] = (\"Mozilla/5.0 (Macintosh; Intel Mac OS X 10_12_6) AppleWebKit/537.36 (KHTML, like Gecko) Chrome/72.0.3626.121 Safari/537.36\")\n",
    "driver = webdriver.PhantomJS(service_args=service_args,desired_capabilities=dcap)\n",
    "driver.implicitly_wait(15)\n",
    "driver.get(\"https://www.google.com\")\n",
    "\n",
    "driver.save_screenshot('googleInitial.png')\n",
    "with open(\"googleInitial.html\",\"w+\") as f: f.write(driver.page_source)"
   ]
  },
  {
   "cell_type": "markdown",
   "metadata": {},
   "source": [
    "## 进入Google首页进行搜索"
   ]
  },
  {
   "cell_type": "code",
   "execution_count": 188,
   "metadata": {
    "ExecuteTime": {
     "end_time": "2019-03-29T04:07:18.413470Z",
     "start_time": "2019-03-29T04:07:05.929565Z"
    },
    "scrolled": true
   },
   "outputs": [
    {
     "data": {
      "text/plain": [
       "True"
      ]
     },
     "execution_count": 188,
     "metadata": {},
     "output_type": "execute_result"
    },
    {
     "data": {
      "text/plain": [
       "True"
      ]
     },
     "execution_count": 188,
     "metadata": {},
     "output_type": "execute_result"
    },
    {
     "data": {
      "text/plain": [
       "542744"
      ]
     },
     "execution_count": 188,
     "metadata": {},
     "output_type": "execute_result"
    }
   ],
   "source": [
    "query = \"India\"\n",
    "driver.get(\"https://www.google.com\")\n",
    "inputElement = driver.find_element_by_id(\"main\").find_element_by_xpath(\"\"\"//*[@id=\"tsf\"]/div[2]/div[1]/div[1]/div/div[1]/input\"\"\")\n",
    "inputElement.click()\n",
    "inputElement.send_keys(query)\n",
    "driver.save_screenshot(\"send_keys.png\")\n",
    "# 触发搜索\n",
    "driver.find_element_by_xpath(\"\"\"//*[@id=\"tsf\"]/div[2]/div/div[3]/center/input[1]\"\"\").click()\n",
    "\n",
    "driver.save_screenshot(\"search.png\")\n",
    "with open(\"googleSearchedResult_selenium.html\",\"w+\") as f:\n",
    "    f.write(driver.page_source)"
   ]
  },
  {
   "cell_type": "markdown",
   "metadata": {},
   "source": [
    "## 搜索结果页DOM树递进查找\n",
    "\n",
    "### 查找到class为g的div\n",
    "- id为rso的最外层div\n",
    "    - class为g的直接子节点\n",
    "    - 没有为g的直接子节点，则找为srg的直接子节点\n",
    "        - class为g的直接子节点"
   ]
  },
  {
   "cell_type": "code",
   "execution_count": 189,
   "metadata": {
    "ExecuteTime": {
     "end_time": "2019-03-29T04:08:36.106915Z",
     "start_time": "2019-03-29T04:07:20.518914Z"
    },
    "scrolled": false
   },
   "outputs": [
    {
     "name": "stdout",
     "output_type": "stream",
     "text": [
      "> rso下的div有 6 个\n",
      ">> 包含g标签的div有 4 个\n",
      ">>> 包含g标签的div中准确的有 8 个\n"
     ]
    }
   ],
   "source": [
    "divs_rso=driver.find_elements_by_xpath(\"\"\"//*[@id=\"rso\"]/div\"\"\")\n",
    "print(\"> rso下的div有 %s 个\" % len(divs_rso))\n",
    "divs_target = [part for part in divs_rso if len(part.find_elements_by_class_name(\"g\"))>0]\n",
    "print(\">> 包含g标签的div有 %s 个\" % len(divs_target))\n",
    "\n",
    "# 第一层子节点查找\"g\"，没有则进入\"srg\"查找”g\"，查找结果直接返回\n",
    "def find_g(element):\n",
    "    result = element.find_elements_by_xpath(\"./div[@class='g']\")\n",
    "    if(len(result)==0):\n",
    "        srg = element.find_elements_by_xpath(\"./div[@class='srg']\")\n",
    "        if(len(srg)>0):\n",
    "            result = srg[0].find_elements_by_xpath(\"./div[@class='g']\")\n",
    "    return result\n",
    "\n",
    "divs_g = []\n",
    "for i in divs_target:\n",
    "    findRes=find_g(i)\n",
    "    if(len(findRes)>0):\n",
    "        divs_g.extend(findRes)\n",
    "print(\">>> 包含g标签的div中准确的有 %s 个\" % len(divs_g))\n",
    "\n"
   ]
  },
  {
   "cell_type": "markdown",
   "metadata": {},
   "source": [
    "### 在class为g的div中继续查找标题、链接、简介"
   ]
  },
  {
   "cell_type": "code",
   "execution_count": 190,
   "metadata": {
    "ExecuteTime": {
     "end_time": "2019-03-29T04:08:49.527526Z",
     "start_time": "2019-03-29T04:08:47.420131Z"
    }
   },
   "outputs": [
    {
     "name": "stdout",
     "output_type": "stream",
     "text": [
      ">>>> 搜索结果第一个展示：\n",
      "India - Wikipedia\n",
      "https://en.wikipedia.org/wiki/India\n",
      "India (ISO: Bhārat), also known as the Republic of India (ISO: Bhārat Gaṇarājya), is a country in South Asia. It is the seventh largest country by area and with ...\n",
      "Calling code: +91 Demonym(s): Indian\n",
      "Largest city: Mumbai; 18°58′30″N 72°49′4... Currency: Indian rupee (₹) (INR)\n",
      "History · Geography · Biodiversity · Politics and government\n",
      ">>>> 搜索结果最后一个展示：\n",
      "India - Wikitravel\n",
      "https://wikitravel.org/en/India\n",
      "India is the largest country in the South Asia Region, located primarily in the center of South Asia, and shares International borders with Pakistan to the ...\n",
      "Country code: +91 Capital: New Delhi\n",
      "Language: Hindi, English and 21 other official ... Area: total: 3,287,263km²; water: 314,070km²; l...\n"
     ]
    }
   ],
   "source": [
    "def find_result(element):\n",
    "    a_el = element.find_element_by_xpath(\".//div[@class='r']\").find_element_by_tag_name(\"a\")\n",
    "    title = a_el.find_element_by_xpath(\".//h3[@class='LC20lb']\").text\n",
    "    link = a_el.get_attribute(\"href\")\n",
    "    summary = element.find_element_by_xpath(\".//div[@class='s']\").text\n",
    "    return [title,link,summary]\n",
    "result = [find_result(i) for i in divs_g]\n",
    "print(\">>>> 搜索结果第一个展示：\\n\"+\"\\n\".join(result[0]))\n",
    "print(\">>>> 搜索结果最后一个展示：\\n\"+\"\\n\".join(result[-1]))"
   ]
  },
  {
   "cell_type": "code",
   "execution_count": 191,
   "metadata": {
    "ExecuteTime": {
     "end_time": "2019-03-29T04:08:51.725403Z",
     "start_time": "2019-03-29T04:08:51.612015Z"
    }
   },
   "outputs": [],
   "source": [
    "driver.close()"
   ]
  },
  {
   "cell_type": "markdown",
   "metadata": {},
   "source": [
    "# 流程化"
   ]
  },
  {
   "cell_type": "markdown",
   "metadata": {},
   "source": [
    "## 【类封装】ip代理类封装"
   ]
  },
  {
   "cell_type": "code",
   "execution_count": 1,
   "metadata": {
    "ExecuteTime": {
     "end_time": "2019-03-31T12:20:41.354351Z",
     "start_time": "2019-03-31T12:20:40.279688Z"
    },
    "code_folding": [
     5,
     10,
     13,
     23,
     32,
     42
    ]
   },
   "outputs": [],
   "source": [
    "import requests\n",
    "from bs4 import BeautifulSoup\n",
    "import telnetlib\n",
    "import itertools\n",
    "\n",
    "class Proxy():\n",
    "    def __init__(self):\n",
    "        self.abroadProxiesIter = iter([])\n",
    "        pass\n",
    "    \n",
    "    def initDomesticProxies(self):\n",
    "        pass\n",
    "    \n",
    "    def initAbroadProxies(self):\n",
    "        res = requests.get(\"https://free-proxy-list.net/\")\n",
    "        soup = BeautifulSoup(res.text)\n",
    "        ip_address = [i.text for i in soup.select(\"#proxylisttable td:nth-child(1)\")]\n",
    "        ip_port = [i.text for i in soup.select(\"#proxylisttable td:nth-child(2)\")]\n",
    "        ip_pool = [a+\":\"+b for a,b in zip(ip_address,ip_port)]\n",
    "        print(f\"抓取到 {len(ip_pool)} 个 ip:port 用于初始化\")\n",
    "        self.abroadProxiesIter = itertools.cycle(iter(ip_pool))\n",
    "\n",
    "    @staticmethod\n",
    "    def isAvailable(proxy,timeout=2):\n",
    "        ip,port = proxy.split(\":\")\n",
    "        try:\n",
    "            telnetlib.Telnet(ip, port=port, timeout=timeout)\n",
    "        except:\n",
    "            return False\n",
    "        else:\n",
    "            return True\n",
    "\n",
    "    def getAvailableProxy(self):\n",
    "        t = next(self.abroadProxiesIter)\n",
    "        try:\n",
    "            while(not Proxy.isAvailable(t)):\n",
    "                t = next(self.abroadProxiesIter)\n",
    "        except StopIteration as e:\n",
    "            t = \"\"\n",
    "        return t\n",
    "\n",
    "    @staticmethod\n",
    "    def isAvailableOnURL(proxy,url,timeout=2):\n",
    "        try:\n",
    "            resp=requests.get(url,proxies={'http':proxy,'https':proxy},timeout=timeout)\n",
    "            if (resp.status_code==200):\n",
    "                return True\n",
    "            else:\n",
    "                return False\n",
    "        except Exception as e:\n",
    "            print(repr(e))\n",
    "            return False\n",
    "        \n",
    "    def getAvailableProxyOnURL(self,url):\n",
    "        t = self.getAvailableProxy()\n",
    "        try:\n",
    "            while(not Proxy.isAvailableOnURL(t,url)):\n",
    "                t = self.getAvailableProxy()\n",
    "        except StopIteration as e:\n",
    "            t = \"\"\n",
    "        return t\n"
   ]
  },
  {
   "cell_type": "markdown",
   "metadata": {},
   "source": [
    "### TestCase"
   ]
  },
  {
   "cell_type": "code",
   "execution_count": null,
   "metadata": {},
   "outputs": [],
   "source": [
    "proxyObj = Proxy()\n",
    "proxyObj.initAbroadProxies()"
   ]
  },
  {
   "cell_type": "markdown",
   "metadata": {},
   "source": [
    "### TestCase2"
   ]
  },
  {
   "cell_type": "code",
   "execution_count": null,
   "metadata": {},
   "outputs": [],
   "source": [
    "proxyObj=Proxy()\n",
    "proxyObj.initAbroadProxies()\n",
    "\n",
    "\n",
    "key = GoogleSearch.getKey()\n",
    "key\n",
    "url = f\"https://www.google.com/search?source=hp&ei={key}&q={query}\"\n",
    "searcher.gl_proxies\n",
    "proxyObj.isAvailableOnURL(searcher.gl_proxies,url)\n",
    "\n",
    "t = next(proxyObj.abroadProxiesIter)\n",
    "try:\n",
    "    while(not Proxy.isAvailable(t)):\n",
    "        t\n",
    "        t = next(proxyObj.abroadProxiesIter)\n",
    "except StopIteration as e:\n",
    "    t = \"\"\n",
    "proxyObj.getAvailableProxyOnURL(url)\n",
    "assert False\n",
    "\n",
    "\n",
    "resp=requests.get(url,headers=searcher.header,proxies=searcher.gl_proxies,timeout=4)\n",
    "resp.status_code\n",
    "with open(\"tmp.html\",\"w+\") as f: f.writelines(resp.text)"
   ]
  },
  {
   "cell_type": "markdown",
   "metadata": {},
   "source": [
    "## 【类封装】Request直接请求"
   ]
  },
  {
   "cell_type": "code",
   "execution_count": 2,
   "metadata": {
    "ExecuteTime": {
     "end_time": "2019-03-31T12:20:58.024719Z",
     "start_time": "2019-03-31T12:20:57.896754Z"
    },
    "code_folding": [
     44,
     61
    ],
    "scrolled": false
   },
   "outputs": [],
   "source": [
    "import requests\n",
    "import re\n",
    "import time\n",
    "from lxml import etree\n",
    "import random\n",
    "import json\n",
    "\n",
    "class GoogleSearch():\n",
    "    def __init__(self):\n",
    "        self.gl_query = \"\"\n",
    "        self.gl_proxies = {}\n",
    "        self.key = \"\"\n",
    "        self.header = {\"Referer\":\"https://www.google.com/\",\n",
    "                       'User-Agent':'Mozilla/5.0 (Macintosh; Intel Mac OS X 10_12_6) AppleWebKit/537.36 (KHTML, like Gecko) Chrome/72.0.3626.121 Safari/537.36'}\n",
    "        self.verbosePath = \"googleSearchResult_request.html\"\n",
    "      \n",
    "    def updateProxies(self,proxies):\n",
    "        self.gl_proxies = proxies\n",
    "\n",
    "    def checkCurrentIP(self):\n",
    "        print(\"\\n\\n\"+\">>> use proxy as follow: \\n\",self.gl_proxies)\n",
    "        localIP = json.loads(requests.get(\"http://httpbin.org/ip\",timeout=4).text.strip())\n",
    "        print(\">>> 本机ip:\\n\",localIP)\n",
    "        try:\n",
    "            proxyIP = json.loads(requests.get(\"http://httpbin.org/ip\",proxies=self.gl_proxies,timeout=4).text.strip())\n",
    "            print(\">>> 代理ip:\\n\",proxyIP)\n",
    "        except Exception as e:\n",
    "            print(\">>> 代理ip:\\n\",f\"代理网络异常，Exception: {repr(e)}\")\n",
    "    \n",
    "    # 如果已经获取过key，随机概率使用新key（避免行为过于规律被封）\n",
    "    def getKey(self):\n",
    "        if(self.key==\"\" or random.random()>=0.3):\n",
    "            resp = requests.get(\"http://www.google.com\")\n",
    "            html = resp.text\n",
    "            self.key = re.search(r\"kEI:\\'(.*?)\\'\", html).group(1)\n",
    "        return self.key\n",
    "    \n",
    "    @staticmethod\n",
    "    def getKey():\n",
    "        resp = requests.get(\"http://www.google.com\")\n",
    "        html = resp.text\n",
    "        key = re.search(r\"kEI:\\'(.*?)\\'\", html).group(1)\n",
    "        return key\n",
    "    \n",
    "    def request(self,query,key,verbose=False):\n",
    "        url = f\"https://www.google.com/search?source=hp&ei={key}&q={query}\"\n",
    "        resp1 = requests.get(url,headers=self.header,proxies=self.gl_proxies,timeout=4)\n",
    "        if(verbose):\n",
    "            with open(self.verbosePath,\"w+\") as f: f.writelines(resp1.text)\n",
    "        return resp1.text\n",
    "    \n",
    "    @staticmethod\n",
    "    def _find_g(element):\n",
    "        div_g = element.xpath(\"./div[@class='g']\")\n",
    "        if(len(div_g)==0):\n",
    "            div_srg = element.xpath(\"./div[@class='srg']\")\n",
    "            if(len(div_srg)>0):\n",
    "                div_g = div_srg[0].xpath(\"./div[@class='g']\")\n",
    "        return div_g\n",
    "    \n",
    "    @staticmethod\n",
    "    def _find_result(element):\n",
    "        a_el = element.xpath(\".//div[@class='r']\")[0].xpath(\"a\")[0]\n",
    "        title = a_el.xpath(\".//h3[@class='LC20lb']\")[0].text\n",
    "        link = a_el.attrib[\"href\"]\n",
    "        summary = element.xpath(\".//div[@class='s']\")[0].xpath(\"string(.)\")\n",
    "        return [title,link,summary]\n",
    "\n",
    "    @staticmethod\n",
    "    def _parse(html_inp):\n",
    "        html = etree.HTML(html_inp)\n",
    "        # 查找所有class为g的div\n",
    "        div_rso = html.xpath(\"//div[@id='rso']\")\n",
    "        div_bkWMgd = div_rso[0].xpath(\"./div[@class='bkWMgd']\")\n",
    "        div_g = []\n",
    "        for el in div_bkWMgd:\n",
    "            tmp = GoogleSearch._find_g(el)\n",
    "            if(len(tmp)>0):\n",
    "                div_g.extend(tmp)\n",
    "        # 解析class为g的div\n",
    "        result = []\n",
    "        for i in div_g:\n",
    "            try:\n",
    "                result.append(GoogleSearch._find_result(i))\n",
    "            except Exception as e:\n",
    "                print(repr(e))\n",
    "        return result\n",
    "\n",
    "    def search(self,query,verbose=False):\n",
    "        key = self.getKey()\n",
    "        html_res = self.request(query,key,verbose)\n",
    "        parse_res = GoogleSearch._parse(html_res)\n",
    "        return parse_res\n",
    "\n",
    "    def getResult_json(self,query,verbose=False):\n",
    "        result = self.search(query,verbose)\n",
    "        result_dictArr = [dict(zip([\"title\",\"link\",\"summary\",\"query\"],i+[query])) for i in result]\n",
    "        resultJSON = json.dumps({query:result_dictArr})\n",
    "        return resultJSON\n"
   ]
  },
  {
   "cell_type": "markdown",
   "metadata": {},
   "source": [
    "### TestCase"
   ]
  },
  {
   "cell_type": "code",
   "execution_count": null,
   "metadata": {},
   "outputs": [],
   "source": [
    "searcher = GoogleSearch()\n",
    "searcher.checkCurrentIP()\n",
    "\n",
    "searcher.updateProxies({'http':'84.52.108.218:41290','https':'84.52.108.218:41290'})\n",
    "searcher.checkCurrentIP()\n",
    "\n",
    "searcher.updateProxies({})\n",
    "searcher.checkCurrentIP()\n",
    "\n",
    "query=\"Article\"\n",
    "result_dictArr = searcher.getResult_json(query,True)\n",
    "resultJSON = json.dumps({query:result_dictArr})\n",
    "resultJSON"
   ]
  },
  {
   "cell_type": "markdown",
   "metadata": {},
   "source": [
    "## 加载数据"
   ]
  },
  {
   "cell_type": "code",
   "execution_count": 3,
   "metadata": {
    "ExecuteTime": {
     "end_time": "2019-03-31T12:21:05.723922Z",
     "start_time": "2019-03-31T12:21:05.683271Z"
    }
   },
   "outputs": [
    {
     "data": {
      "text/plain": [
       "900"
      ]
     },
     "execution_count": 3,
     "metadata": {},
     "output_type": "execute_result"
    }
   ],
   "source": [
    "with open(\"/home/zhoutong/tags/title_tag2.txt\",\"r+\") as f:\n",
    "    tagList = [i.strip().split(\"\\t\")[0] for i in f.readlines()]\n",
    "tagList[:3]\n",
    "len(tagList)"
   ]
  },
  {
   "cell_type": "code",
   "execution_count": null,
   "metadata": {},
   "outputs": [],
   "source": [
    "import sqlite3\n",
    "# 如果文件不存在，会自动在当前目录创建:\n",
    "conn = sqlite3.connect('test.db')\n",
    "\n",
    "# >>> 传统数据库操作方式\n",
    "# 创建一个Cursor:\n",
    "cursor = conn.cursor()\n",
    "# 执行一条SQL语句，创建user表:\n",
    "cursor.execute('create table user (id varchar(20) primary key, name varchar(20))')\n",
    "# 1. 插入:\n",
    "cursor.execute('insert into user (id, name) values (\\'1\\', \\'Michael\\')')\n",
    "# 2. 查询:\n",
    "cursor.execute('select * from user where id=?', ('1',))\n",
    "values = cursor.fetchall()\n",
    "# 通过rowcount获得插入的行数:\n",
    "cursor.rowcount\n",
    "# 关闭Cursor:\n",
    "cursor.close()\n",
    "# 提交事务:\n",
    "conn.commit()\n",
    "# 关闭Connection:\n",
    "conn.close()"
   ]
  },
  {
   "cell_type": "markdown",
   "metadata": {},
   "source": [
    "## 请求并保存结果"
   ]
  },
  {
   "cell_type": "code",
   "execution_count": 7,
   "metadata": {
    "ExecuteTime": {
     "end_time": "2019-03-31T12:47:56.843998Z",
     "start_time": "2019-03-31T12:22:11.310081Z"
    }
   },
   "outputs": [
    {
     "data": {
      "application/vnd.jupyter.widget-view+json": {
       "model_id": "bdf2783d9cc64441bd4969ba2a2ffd44",
       "version_major": 2,
       "version_minor": 0
      },
      "text/plain": [
       "HBox(children=(IntProgress(value=0, max=900), HTML(value='')))"
      ]
     },
     "metadata": {},
     "output_type": "display_data"
    },
    {
     "name": "stdout",
     "output_type": "stream",
     "text": [
      "current query at hindi\n",
      "current query at tv9\n",
      "current query at abp news\n",
      "current query at sports tak\n",
      "IndexError('list index out of range',)\n",
      "current query at best scene\n",
      "IndexError('list index out of range',)\n",
      "current query at preview\n",
      "current query at full episode\n",
      "current query at etv plus\n",
      "IndexError('list index out of range',)\n",
      "current query at ntv\n",
      "current query at news tak\n",
      "current query at odia serial\n",
      "IndexError('list index out of range',)\n",
      "current query at hd\n",
      "current query at tarangtv\n",
      "IndexError('list index out of range',)\n",
      "current query at episode\n",
      "current query at live\n",
      "current query at etv telugu\n",
      "current query at promo\n",
      "current query at abn telugu\n",
      "current query at tv5 kannada\n",
      "current query at teluguone\n",
      "current query at full song\n",
      "current query at zeebangla\n",
      "current query at tv5 news\n",
      "current query at v6 news\n",
      "current query at full video\n",
      "current query at exclusive\n",
      "current query at hmtv\n",
      "IndexError('list index out of range',)\n",
      "current query at mazhavil manorama\n",
      "current query at webisode\n",
      "current query at breaking news\n",
      "current query at cinema politics\n",
      "current query at latest punjabi songs 2018\n",
      "current query at patas\n",
      "IndexError('list index out of range',)\n",
      "current query at yoyo tv channel\n",
      "current query at mana telugu\n",
      "current query at oneindia kannada\n",
      "current query at rajinikanth\n",
      "current query at latest promo\n",
      "current query at full hd\n",
      "current query at zee tv\n",
      "current query at diy\n",
      "current query at in hindi\n",
      "current query at the quint\n",
      "current query at speed records\n",
      "current query at hindi tv show\n",
      "current query at वनइंडिया हिंदी\n",
      "IndexError('list index out of range',)\n",
      "current query at sumantv\n",
      "current query at upcoming twist\n",
      "current query at tamil\n",
      "IndexError('list index out of range',)\n",
      "current query at indian railways\n",
      "current query at yoyo tv\n",
      "current query at ipl 2018\n",
      "current query at zee telugu serial\n",
      "IndexError('list index out of range',)\n",
      "current query at official trailer\n",
      "current query at bigg boss 12\n",
      "current query at new punjabi songs 2018\n",
      "current query at english\n",
      "IndexError('list index out of range',)\n",
      "current query at sanjeev kapoor khazana\n",
      "current query at teaser\n",
      "current query at latest punjabi songs 2019\n",
      "current query at full hindi movie\n",
      "current query at must watch\n",
      "IndexError('list index out of range',)\n",
      "current query at kumkum bhagya\n",
      "current query at bangla serial\n",
      "IndexError('list index out of range',)\n",
      "current query at 10tv news\n",
      "current query at official video\n",
      "current query at thanthi tv\n",
      "current query at 10tv\n",
      "current query at gta 5 online\n",
      "current query at the lallantop\n",
      "current query at zee tv serial\n",
      "current query at telangana elections 2018\n",
      "current query at taarak mehta ka ooltah chashmah\n",
      "current query at white hill music\n",
      "current query at cid\n",
      "current query at zee tamil serial\n",
      "current query at infobells\n",
      "IndexError('list index out of range',)\n",
      "current query at express raja\n",
      "current query at watch\n",
      "current query at tujhse hai raabta\n",
      "current query at hindi dubbed full movie\n",
      "current query at teenmaar news\n",
      "IndexError('list index out of range',)\n",
      "current query at hd video\n",
      "current query at official music video\n",
      "current query at hyderabad\n",
      "current query at remix\n",
      "current query at maths\n",
      "current query at bhajan kirtan\n",
      "current query at breaking\n",
      "current query at official\n",
      "current query at tv1\n",
      "current query at zee bangla\n",
      "current query at video song\n",
      "current query at astro tak\n",
      "current query at jabardasth\n",
      "current query at omg\n",
      "current query at silsila badalte rishton ka\n",
      "current query at latest punjabi song 2018\n",
      "current query at extra jabardasth\n",
      "IndexError('list index out of range',)\n",
      "current query at new punjabi songs 2019\n",
      "current query at wowkidz action\n",
      "current query at filmibeat\n",
      "current query at pubg mobile\n",
      "current query at popxo\n",
      "current query at review\n",
      "current query at exclusive interview\n",
      "current query at audio jukebox\n",
      "current query at data dock\n",
      "current query at so sorry\n",
      "IndexError('list index out of range',)\n",
      "current query at watch full episode on zee5\n",
      "IndexError('list index out of range',)\n",
      "current query at crime patrol\n",
      "current query at india news viral\n",
      "IndexError('list index out of range',)\n",
      "current query at tech tak\n",
      "current query at tech talks\n",
      "current query at download zee5 app now\n",
      "current query at nonstop news\n",
      "current query at vikatanprimetime\n",
      "current query at speed news\n",
      "current query at patas 2\n",
      "IndexError('list index out of range',)\n",
      "current query at code\n",
      "current query at shocking\n",
      "current query at clash of clans\n",
      "current query at हिंदी\n",
      "current query at salman khan\n",
      "current query at ssc gd 2018\n",
      "IndexError('list index out of range',)\n",
      "current query at yrkkh\n",
      "current query at india\n",
      "current query at telugu news\n",
      "current query at dhanush\n",
      "current query at vlog\n",
      "current query at yoyo cine talkies\n",
      "current query at today breaking news\n",
      "current query at reasoning\n",
      "current query at ishq mein marjawan\n",
      "current query at gta 5\n",
      "current query at full video song\n",
      "current query at vir\n",
      "current query at akshay kumar\n",
      "current query at hitesh ks\n",
      "IndexError('list index out of range',)\n",
      "current query at ram charan\n",
      "current query at powerdrift\n",
      "current query at lyrical video\n",
      "current query at sri balaji video\n",
      "IndexError('list index out of range',)\n",
      "current query at spmishra tech\n",
      "current query at volga videos\n",
      "IndexError('list index out of range',)\n",
      "current query at mostlysane\n",
      "current query at pranks in india\n",
      "current query at shankar\n",
      "current query at with english subtitles\n",
      "IndexError('list index out of range',)\n",
      "current query at taja30\n",
      "IndexError('list index out of range',)\n",
      "current query at ishq subhan allah\n",
      "current query at rdc gujarati\n",
      "current query at kundali bhagya\n",
      "current query at telugu hindi dubbed full movie\n",
      "current query at saas bahu aur saazish\n",
      "current query at flixwood\n",
      "current query at sthreepadham\n",
      "current query at hindi/urdu\n",
      "current query at friday poster\n",
      "IndexError('list index out of range',)\n",
      "current query at shalimarcinema\n",
      "IndexError('list index out of range',)\n",
      "current query at mango music\n",
      "current query at bhojpuri song\n",
      "IndexError('list index out of range',)\n",
      "current query at filtercopy\n",
      "IndexError('list index out of range',)\n",
      "current query at the hindu\n",
      "current query at full audio\n",
      "IndexError('list index out of range',)\n",
      "current query at autocar india\n",
      "current query at the robot boy\n",
      "current query at video jukebox\n",
      "IndexError('list index out of range',)\n",
      "current query at telugu\n",
      "current query at live streamed video\n",
      "current query at new bhojpuri song\n",
      "current query at yeh rishta kya kehlata hai\n",
      "current query at dna\n",
      "current query at anirudh\n",
      "current query at filmyfocus.com\n",
      "current query at baal veer\n",
      "current query at shakti\n",
      "current query at match prediction\n",
      "current query at your favorite character\n",
      "current query at motoroctane\n",
      "current query at hair style girl\n",
      "IndexError('list index out of range',)\n",
      "current query at zee tamil\n",
      "current query at nayanthara\n",
      "current query at news18 india\n",
      "current query at amazing videos\n",
      "IndexError('list index out of range',)\n",
      "current query at tara tarini\n",
      "IndexError('list index out of range',)\n",
      "current query at first look\n",
      "IndexError('list index out of range',)\n",
      "current query at bhojpuri hit songs 2018\n",
      "current query at marathi serial\n",
      "current query at bhojpuri hit song 2018\n",
      "current query at nua bohu\n",
      "current query at vijay\n",
      "IndexError('list index out of range',)\n",
      "current query at audio\n",
      "current query at lyrical\n",
      "current query at zee marathi\n",
      "current query at best out of waste\n",
      "IndexError('list index out of range',)\n",
      "current query at mallemalatv\n",
      "current query at ama ghara laxmi\n",
      "IndexError('list index out of range',)\n",
      "current query at jukebox\n",
      "current query at dsp\n",
      "current query at durga\n",
      "current query at latest updates\n",
      "current query at gta 5 thug life\n",
      "current query at unboxing\n",
      "current query at neha kakkar\n",
      "current query at madan gowri\n",
      "current query at mumbai\n",
      "current query at savitri\n",
      "current query at saat bhai champa\n",
      "IndexError('list index out of range',)\n",
      "current query at bhramanam\n",
      "current query at arijit singh\n",
      "current query at bengali\n",
      "current query at pinkvilla\n",
      "current query at dhadrianwale\n",
      "current query at full movie\n",
      "current query at t-series\n",
      "current query at mobilenews 24.\n",
      "current query at watch exclusive\n",
      "current query at new punjabi song 2018\n",
      "current query at eagle media works\n",
      "current query at the debate with arnab goswami\n",
      "IndexError('list index out of range',)\n",
      "current query at the kapil sharma show\n",
      "current query at बालवीर\n"
     ]
    },
    {
     "name": "stdout",
     "output_type": "stream",
     "text": [
      "current query at telugu filmnagar\n",
      "IndexError('list index out of range',)\n",
      "current query at reasoning by deepak sir\n",
      "IndexError('list index out of range',)\n",
      "current query at yash\n",
      "current query at mg\n",
      "current query at bhojpuri hit song\n",
      "IndexError('list index out of range',)\n",
      "current query at tollywood nagar\n",
      "IndexError('list index out of range',)\n",
      "current query at sidharth tv\n",
      "IndexError('list index out of range',)\n",
      "current query at latest punjabi songs\n",
      "current query at bhojpuri songs\n",
      "IndexError('list index out of range',)\n",
      "current query at vs records\n",
      "current query at bk shivani\n",
      "current query at interview\n",
      "current query at bjp\n",
      "current query at cvr news\n",
      "current query at kunwari bohu\n",
      "IndexError('list index out of range',)\n",
      "current query at mammootty\n",
      "current query at kalinga tv\n",
      "current query at coming soon\n",
      "current query at newsqube\n",
      "current query at dharuvu tv\n",
      "current query at vikrant gupta\n",
      "IndexError('list index out of range',)\n",
      "current query at ishqbaaz\n",
      "current query at dance+ 4\n",
      "current query at maths by naman sir\n",
      "current query at sonotek\n",
      "current query at rathore cassettes\n",
      "current query at bangla\n",
      "current query at indian vlogger soumali\n",
      "current query at ipl2018\n",
      "current query at introduction\n",
      "current query at petta\n",
      "current query at anaysa\n",
      "current query at super 50\n",
      "IndexError('list index out of range',)\n",
      "current query at cwe\n",
      "current query at otv\n",
      "current query at maths by sahil sir\n",
      "current query at সাত ভাই চম্পা\n",
      "current query at rani rashmoni\n",
      "current query at singer\n",
      "current query at aap ke aa jane se\n",
      "current query at smile settai\n",
      "IndexError('list index out of range',)\n",
      "current query at yeh teri galliyan\n",
      "current query at etv  telugu\n",
      "current query at indian telugu story\n",
      "IndexError('list index out of range',)\n",
      "current query at rajiv dixit\n",
      "current query at trailer\n",
      "current query at fortnite battle royale\n",
      "current query at delhi\n",
      "current query at हिन्दी\n",
      "current query at latest punjabi songs 2017\n",
      "current query at official teaser\n",
      "current query at indian street food\n",
      "IndexError('list index out of range',)\n",
      "current query at myna street food\n",
      "IndexError('list index out of range',)\n",
      "current query at techno rohit\n",
      "current query at master stroke\n",
      "current query at tamil tech\n",
      "current query at viu india\n",
      "current query at planet bhojpuri\n",
      "IndexError('list index out of range',)\n",
      "current query at lehrentv\n",
      "current query at samantha\n",
      "current query at aadade aadharam\n",
      "current query at new haryanvi song 2018\n",
      "current query at prank in india\n",
      "current query at pove pora\n",
      "IndexError('list index out of range',)\n",
      "current query at intro\n",
      "current query at vijay sethupathi\n",
      "current query at flowers\n",
      "current query at zee telugu tv serial\n",
      "IndexError('list index out of range',)\n",
      "current query at full audio song\n",
      "current query at by technical boss\n",
      "IndexError('list index out of range',)\n",
      "current query at bollywood\n",
      "current query at short film\n",
      "current query at zero\n",
      "current query at news 100 nonstop\n",
      "current query at in telugu\n",
      "IndexError('list index out of range',)\n",
      "current query at latest twist\n",
      "current query at manasu mamata\n",
      "current query at faisal khan\n",
      "current query at war robots\n",
      "current query at 3 star\n",
      "IndexError('list index out of range',)\n",
      "current query at taal thok ke\n",
      "current query at valai pechu\n",
      "IndexError('list index out of range',)\n",
      "current query at aiims\n",
      "current query at neet 2019\n",
      "current query at gk by sandeep sir\n",
      "IndexError('list index out of range',)\n",
      "current query at song\n",
      "current query at ps4 pro\n",
      "current query at zee bangla tv serial\n",
      "current query at viswasam\n",
      "current query at morning breaking\n",
      "IndexError('list index out of range',)\n",
      "current query at allu arjun\n",
      "current query at ajith\n",
      "current query at sumeet music\n",
      "IndexError('list index out of range',)\n",
      "current query at ntv live\n",
      "current query at indian bangla story\n",
      "IndexError('list index out of range',)\n",
      "current query at recap\n",
      "current query at ios & android\n",
      "current query at seethamma vakitlo sirimalle chettu\n",
      "current query at poove poochoodava\n",
      "IndexError('list index out of range',)\n",
      "current query at udaan\n",
      "current query at tapu sena special\n",
      "current query at artkala\n",
      "current query at hindi by ganesh sir\n",
      "current query at motion poster\n",
      "IndexError('list index out of range',)\n",
      "current query at mahesh babu\n",
      "current query at yeh un dinon ki baat hai\n",
      "current query at trs praja ashirvada sabha\n",
      "current query at jabardasth komaram dandora\n",
      "current query at highlights\n",
      "current query at odia\n",
      "current query at swathi chinukulu\n",
      "IndexError('list index out of range',)\n",
      "current query at yuvan shankar raja\n",
      "current query at ranveer singh\n",
      "current query at get ready\n",
      "current query at bokul kotha\n",
      "current query at bhagyajathakam\n",
      "current query at bhojpuri hit songs 2019\n",
      "current query at budget 2019\n",
      "current query at new released full hindi dubbed movie\n",
      "current query at cover\n",
      "current query at reasoning by hitesh sir\n",
      "current query at attarintiki daredi\n",
      "current query at bhojpuri hit song 2019\n",
      "current query at kids\n",
      "current query at full hd video\n",
      "current query at tfpc\n",
      "current query at devi chitralekhaji\n",
      "current query at ibps clerk 2018\n",
      "current query at city crime\n",
      "current query at naamkaran\n",
      "current query at amitabh bachchan\n",
      "IndexError('list index out of range',)\n",
      "current query at funny video\n",
      "IndexError('list index out of range',)\n",
      "current query at congress\n",
      "current query at i mazhavil manorama\n",
      "current query at top singer\n",
      "current query at byn\n",
      "current query at 2015\n",
      "IndexError('list index out of range',)\n",
      "current query at news\n",
      "current query at thai fairy tales\n",
      "current query at motorbeam\n",
      "current query at namma kannada tv\n",
      "current query at today upcoming twist\n",
      "current query at shah rukh khan\n",
      "current query at ind vs aus\n",
      "current query at life style\n",
      "current query at gameplay\n",
      "IndexError('list index out of range',)\n",
      "current query at day 1\n",
      "current query at yeh hai mohabbatein\n",
      "current query at audio song\n",
      "current query at nazar\n",
      "current query at daily horoscope\n",
      "current query at shrimad bhagwat katha\n",
      "current query at นิทานก่อนนอน\n",
      "current query at bengali movie song\n",
      "current query at new punjabi songs 2017\n",
      "current query at truyện cổ tích việt nam\n",
      "IndexError('list index out of range',)\n",
      "current query at abhishekam\n",
      "IndexError('list index out of range',)\n",
      "current query at up police 2018\n",
      "IndexError('list index out of range',)\n",
      "current query at siva\n",
      "IndexError('list index out of range',)\n",
      "current query at dmk\n",
      "current query at musical reality show\n",
      "current query at internet wala love\n",
      "current query at 5 minute 25 khabrein\n",
      "current query at kaumudy tv\n",
      "current query at latest news\n",
      "current query at bhojpuri hit songs\n",
      "current query at lalitha audios and videos\n",
      "current query at today news\n",
      "current query at tutorial\n",
      "current query at cm kcr live\n",
      "current query at latest haryanvi songs haryanavi 2018\n",
      "current query at kcr live\n",
      "IndexError('list index out of range',)\n",
      "current query at pubg mobile live\n",
      "current query at funny videos\n",
      "IndexError('list index out of range',)\n",
      "current query at kappa tv\n",
      "current query at zee tamil tv serial\n",
      "current query at live stream\n",
      "current query at bhojpuri hit songs 2018 new\n",
      "current query at tamil news\n",
      "current query at top telugu tv\n",
      "current query at top kannada tv\n",
      "IndexError('list index out of range',)\n",
      "current query at amulya audios and videos\n",
      "IndexError('list index out of range',)\n",
      "current query at hot tamil cinema news\n",
      "current query at abn live\n",
      "current query at news 100\n",
      "IndexError('list index out of range',)\n",
      "current query at photoshop tutorial\n",
      "current query at new punjabi songs 2016\n",
      "current query at hindu devotional songs malayalam\n",
      "current query at videogyan kids shows\n",
      "IndexError('list index out of range',)\n",
      "current query at latest songs 2018\n",
      "IndexError('list index out of range',)\n",
      "current query at news headlines\n",
      "current query at hindi movies\n",
      "current query at selfie review\n",
      "current query at picsart editing tutorial\n",
      "IndexError('list index out of range',)\n",
      "current query at full interview\n",
      "current query at after effects tutorial\n",
      "IndexError('list index out of range',)\n",
      "current query at jordar news\n",
      "IndexError('list index out of range',)\n",
      "current query at hindi serial\n",
      "IndexError('list index out of range',)\n",
      "current query at sakshi tv\n",
      "current query at food & travel tv\n",
      "current query at new punjabi songs\n",
      "current query at hooplakidz tv\n",
      "current query at morning news\n",
      "current query at telangana news\n",
      "current query at tarang tv\n",
      "IndexError('list index out of range',)\n",
      "current query at latest haryanvi songs haryanavi 2019\n"
     ]
    },
    {
     "name": "stdout",
     "output_type": "stream",
     "text": [
      "current query at big news big debate\n",
      "current query at live updates\n",
      "current query at top news from telugu states\n",
      "current query at latest punjabi songs 2016\n",
      "current query at bhojpuri songs 2018\n",
      "current query at colors tv\n",
      "current query at trending news\n",
      "current query at unboxing & review\n",
      "current query at latest bhojpuri songs 2018\n",
      "current query at bhojpuri hit songs 2019 new\n",
      "current query at christian devotional songs malayalam 2018\n",
      "current query at songs\n",
      "current query at dumbest review\n",
      "current query at guru tv\n",
      "current query at all babies channel\n",
      "current query at hot news\n",
      "current query at news18 bihar jharkhand live\n",
      "IndexError('list index out of range',)\n",
      "current query at haryanvi dance\n",
      "current query at mim news express\n",
      "current query at bollywood news\n",
      "current query at real-life review\n",
      "IndexError('list index out of range',)\n",
      "current query at hindi news\n",
      "current query at top news\n",
      "current query at serial\n",
      "current query at live performance\n",
      "current query at movie review\n",
      "current query at top 10 news\n",
      "current query at piano tutorial\n",
      "current query at piano daddy\n",
      "IndexError('list index out of range',)\n",
      "current query at jodhpur live\n",
      "IndexError('list index out of range',)\n",
      "current query at good news\n",
      "current query at kids funny videos\n",
      "current query at live streaming\n",
      "current query at today latest news\n",
      "current query at dance video\n",
      "current query at hindi dubbed movies 2018 full movie\n",
      "current query at zee tv kumkum bhagya serial today news 2018\n",
      "current query at sarthak tv show\n",
      "IndexError('list index out of range',)\n",
      "current query at chuchu tv\n",
      "IndexError('list index out of range',)\n",
      "current query at dance cover\n",
      "current query at bihar news\n",
      "current query at hot cinema news\n",
      "current query at aurangabad news\n",
      "current query at news 18 tamilnadu\n",
      "current query at polimer news\n",
      "current query at lehren news\n",
      "current query at full speech\n",
      "IndexError('list index out of range',)\n",
      "current query at watch live\n",
      "current query at mango videos\n",
      "current query at superfast news\n",
      "current query at kannada news\n",
      "current query at best online price\n",
      "current query at cheapest net saree rates\n",
      "IndexError('list index out of range',)\n",
      "current query at retail price\n",
      "current query at sarthak tv\n",
      "current query at tamil nadu news live\n",
      "current query at news 18 tamilnadu live\n",
      "current query at bhojpuri songs 2019\n",
      "current query at action movies\n",
      "current query at ksr live show\n",
      "current query at reporter live\n",
      "current query at latest malayalam news live\n",
      "IndexError('list index out of range',)\n",
      "current query at kerala news\n",
      "current query at റിപ്പോർട്ടർ ടീവി\n",
      "current query at news 50\n",
      "IndexError('list index out of range',)\n",
      "current query at new haryanvi songs haryanavi 2019\n",
      "current query at bhojpuri holi songs 2019\n",
      "current query at zee marathi tv serials\n",
      "current query at bhojpuri holi songs\n",
      "current query at asianet news @ 1 pm\n",
      "current query at current affairs 2018 live at 7\n",
      "IndexError('list index out of range',)\n",
      "current query at midday news\n",
      "current query at mobile news 24.\n",
      "current query at new songs 2019\n",
      "current query at latest songs 2019\n",
      "current query at news headline\n",
      "current query at first drive review\n",
      "current query at telugu comedy videos\n",
      "current query at new songs 2018\n",
      "IndexError('list index out of range',)\n",
      "current query at suman tv\n",
      "current query at today upcoming news\n",
      "IndexError('list index out of range',)\n",
      "current query at doctors tv\n",
      "current query at jharkhand news\n",
      "current query at picsart tutorial\n",
      "IndexError('list index out of range',)\n",
      "current query at amrutham telugu comedy serial\n",
      "current query at nursery rhymes & kids songs\n",
      "IndexError('list index out of range',)\n",
      "current query at odia comedy serial\n",
      "current query at sell horses online\n",
      "current query at ap news\n",
      "current query at tv5 live\n",
      "current query at talking movies with idream\n",
      "IndexError('list index out of range',)\n",
      "current query at manorama online\n",
      "current query at oye tv\n",
      "current query at mid day news\n",
      "current query at cnbc-tv18 live stream\n",
      "current query at the dance project\n",
      "IndexError('list index out of range',)\n",
      "current query at dethadi news\n",
      "current query at guru tv news\n",
      "current query at astro tak live\n",
      "IndexError('list index out of range',)\n",
      "current query at garam garam movies\n",
      "current query at full video songs jukebox\n",
      "current query at sai baba songs\n",
      "current query at latest haryanvi songs\n",
      "current query at chandrababu live\n",
      "current query at current affairs 2019 live at 7\n",
      "current query at telangana folk songs\n",
      "current query at kids songs\n",
      "IndexError('list index out of range',)\n",
      "current query at live news\n",
      "current query at public review\n",
      "current query at puthuyugam tv\n",
      "current query at colors tv bepanah upcoming serial news\n",
      "current query at puthiya thalaimurai tv\n",
      "current query at election results live\n",
      "current query at anganwadi asha salary today latest news\n",
      "current query at best of news fuse\n",
      "current query at news night_reporter live\n",
      "IndexError('list index out of range',)\n",
      "current query at ktr live\n",
      "IndexError('list index out of range',)\n",
      "current query at punjabi songs\n",
      "current query at telugu serial\n",
      "IndexError('list index out of range',)\n",
      "current query at 24 hours 24 news\n",
      "IndexError('list index out of range',)\n",
      "current query at puthiyathalaimurai tv\n",
      "current query at 2018\n",
      "IndexError('list index out of range',)\n",
      "current query at bhakti songs\n",
      "IndexError('list index out of range',)\n",
      "current query at latest movies\n",
      "current query at asianet news live tv\n",
      "current query at live from iskcon vrindavan\n",
      "current query at solidworks tutorial\n",
      "IndexError('list index out of range',)\n",
      "current query at eagle hindi movies\n",
      "current query at suvarna news\n",
      "current query at gta 5 thug life funny videos compilation\n",
      "current query at eskay movies\n",
      "current query at sunday live\n",
      "IndexError('list index out of range',)\n",
      "current query at live q&a with nitin bhatia\n",
      "current query at tamil tech news\n",
      "current query at tollywood news\n",
      "current query at kcr public meeting live\n",
      "current query at yrkkh star plus telly news updates\n",
      "current query at bharathanatyam dance\n",
      "IndexError('list index out of range',)\n",
      "current query at upcoming twist udaan serial\n",
      "current query at zool babies fun songs\n",
      "current query at tech news\n",
      "current query at 10 minutes 50 news\n",
      "IndexError('list index out of range',)\n",
      "current query at tanki online\n",
      "current query at malayalam live tv news\n",
      "IndexError('list index out of range',)\n",
      "current query at watch latest malayalam news updates\n",
      "current query at colors tv kasam tere pyaar ki today latest news 2018\n",
      "current query at telugu devotional songs\n",
      "current query at bhojpuri sad songs\n",
      "current query at 5 cities 50 news\n",
      "IndexError('list index out of range',)\n",
      "current query at news today with rajdeep\n",
      "IndexError('list index out of range',)\n",
      "current query at 3d action shows for kids\n",
      "IndexError('list index out of range',)\n",
      "current query at zee tv kumkum bhagya serial news\n",
      "current query at cinema 4d tutorial\n",
      "IndexError('list index out of range',)\n",
      "current query at kbcnews katihar live\n",
      "current query at keyboard tutorial\n",
      "IndexError('list index out of range',)\n",
      "current query at dance choreography\n",
      "current query at news bulletin\n",
      "current query at punjab news\n",
      "current query at watch live news in odia 24x7\n",
      "current query at sports news\n",
      "current query at pm modi live\n",
      "current query at guru tv news kannada\n",
      "current query at popular punjabi songs\n",
      "IndexError('list index out of range',)\n",
      "current query at movies\n",
      "current query at latest punjabi movies 2016\n",
      "current query at full review\n",
      "current query at hindi movies 2018 full movie\n",
      "current query at new punjabi songs 2015\n",
      "current query at full tutorial\n",
      "current query at latest speech\n",
      "current query at daily news\n",
      "current query at fast news\n",
      "current query at puthiya thalaimurai tv live streaming\n",
      "current query at hit songs\n",
      "current query at bengali movie songs video jukebox\n",
      "current query at first india news\n",
      "current query at pc live\n",
      "current query at baby songs\n",
      "current query at full songs\n",
      "current query at live video\n",
      "current query at abp news is live\n",
      "current query at latest punjabi songs 2015\n",
      "current query at noix tv\n",
      "IndexError('list index out of range',)\n",
      "current query at latest today news\n",
      "current query at unboxing and review\n",
      "IndexError('list index out of range',)\n",
      "current query at hot indian news\n",
      "IndexError('list index out of range',)\n",
      "current query at abp news live\n",
      "current query at thug life videos compilation\n",
      "current query at live at 7\n"
     ]
    },
    {
     "name": "stdout",
     "output_type": "stream",
     "text": [
      "IndexError('list index out of range',)\n",
      "current query at kannada latest news\n",
      "IndexError('list index out of range',)\n",
      "current query at honest review\n",
      "current query at sapna dance\n",
      "current query at aaj ka news\n",
      "IndexError('list index out of range',)\n",
      "current query at watch top news stories of the day\n",
      "current query at business news live\n",
      "current query at new year party songs\n",
      "IndexError('list index out of range',)\n",
      "current query at star plus tv serial news\n",
      "IndexError('list index out of range',)\n",
      "current query at 2018 latest jesus songs\n",
      "current query at chuchu tv surprise eggs toys live stream\n",
      "current query at unboxing & hands on review\n",
      "current query at cnbc tv18  live\n",
      "current query at business news in english\n",
      "current query at editor's hour_reporter live\n",
      "IndexError('list index out of range',)\n",
      "current query at 6 pm telugu news\n",
      "current query at govt employees news\n",
      "current query at bhasad news\n",
      "current query at election news\n",
      "current query at road test review\n",
      "current query at news18 punjab/haryana/himachal live tv\n",
      "current query at punjabi bhangra songs\n",
      "current query at hindi movies 2019 full movie\n",
      "current query at usp tv\n",
      "current query at popular punjabi movies\n",
      "IndexError('list index out of range',)\n",
      "current query at msr tv\n",
      "current query at sony tv upcoming serial news\n",
      "current query at punjabi songs 2018\n",
      "current query at telugu songs\n",
      "current query at makeup tutorial\n",
      "current query at today news headlines\n",
      "current query at punjabi songs 2016\n",
      "current query at best learning videos for kids\n",
      "IndexError('list index out of range',)\n",
      "current query at tv5 news live\n",
      "current query at lalitha audios & videos\n",
      "current query at live pubg pc\n",
      "current query at abi news\n",
      "current query at bhojpuri sad songs 2019\n",
      "current query at 2018 trending nigerian nollywood movies\n",
      "current query at f2 songs\n",
      "current query at punjabi news\n",
      "current query at latest remix songs 2019\n",
      "current query at news special\n",
      "current query at star plus serials news 2018\n",
      "current query at sarrika singh live\n",
      "current query at fitdance channel\n",
      "current query at nerdy news\n",
      "current query at jio latest news\n",
      "current query at hindi movies 2015 full movie\n",
      "IndexError('list index out of range',)\n",
      "current query at 2018 movies\n",
      "IndexError('list index out of range',)\n",
      "current query at quick review\n",
      "IndexError('list index out of range',)\n",
      "current query at motivational videos\n",
      "current query at devotional songs\n",
      "current query at jawari news\n",
      "current query at odia news\n",
      "IndexError('list index out of range',)\n",
      "current query at star plus kasauti serial 2019\n",
      "IndexError('list index out of range',)\n",
      "current query at malayalam christian devotional songs\n",
      "current query at krk live\n",
      "current query at and tv show\n",
      "current query at star plus naamkaran today serial news 2018\n",
      "current query at photoshop manipulation tutorial\n",
      "IndexError('list index out of range',)\n",
      "current query at tv serial news\n",
      "current query at india tv\n",
      "current query at current affairs live at 7\n",
      "current query at superhit bhojpuri songs 2018\n",
      "current query at 5ive live\n",
      "current query at hindi news live\n",
      "IndexError('list index out of range',)\n",
      "current query at review & reaction\n",
      "current query at film review\n",
      "current query at bhojpuri superhit songs 2018\n",
      "current query at trailer review\n",
      "current query at news night\n",
      "current query at exam review\n",
      "current query at bhojpuri songs 2019 new\n",
      "IndexError('list index out of range',)\n",
      "current query at budget 2019 live\n",
      "current query at illustrator tutorial\n",
      "IndexError('list index out of range',)\n",
      "current query at doctors tv telugu\n",
      "IndexError('list index out of range',)\n",
      "current query at telugu hit songs\n",
      "current query at and tv\n",
      "current query at telugu songs 2017\n",
      "IndexError('list index out of range',)\n",
      "current query at haryanvi songs\n",
      "current query at latest news today\n",
      "current query at live match\n",
      "current query at pakau tv channel\n",
      "current query at s web tv\n",
      "current query at dubbed hindi movies 2015 full movie\n",
      "IndexError('list index out of range',)\n",
      "current query at superhit bhojpuri songs\n",
      "current query at dance\n",
      "current query at live report\n",
      "current query at latest remix songs 2018\n",
      "current query at reporting live\n",
      "current query at star plus kasauti serial 2018\n",
      "current query at rahul gandhi live\n",
      "current query at online shopping\n",
      "current query at viswasam songs\n",
      "current query at big fight live\n",
      "current query at sensex, nifty live\n",
      "current query at superhit punjabi songs\n",
      "current query at nambikkai tv\n",
      "current query at priyamanaval serial review\n",
      "current query at online coaching for sbi ibps bank po\n",
      "current query at zee tv new serial aap ke aa jaane se\n",
      "IndexError('list index out of range',)\n",
      "current query at review & swatches\n",
      "current query at romantic songs\n",
      "IndexError('list index out of range',)\n",
      "current query at chuchu tv storytime\n",
      "current query at live proof\n",
      "current query at bollywood songs\n",
      "current query at review & demo\n",
      "current query at official hindi dubbed trailer\n",
      "current query at talking tom funny videos\n",
      "current query at official movie trailer\n",
      "IndexError('list index out of range',)\n",
      "current query at big breaking news\n",
      "current query at 2018 telugu movies\n",
      "IndexError('list index out of range',)\n",
      "current query at bhojpuri video songs\n",
      "IndexError('list index out of range',)\n",
      "current query at kinemaster tutorial\n",
      "current query at top 25 news\n",
      "current query at express 18 news\n",
      "current query at otv live\n",
      "current query at star plus nazar serial 2019\n",
      "current query at ap assembly live\n",
      "current query at cooking show tv serial\n",
      "current query at sony tv rishta likhenge hum naya\n",
      "current query at latest tamil cinema news\n",
      "current query at telugu full movies\n",
      "current query at hindi review\n",
      "current query at hindi dubbed movies\n",
      "current query at 2018 official hindi dubbed trailer\n",
      "current query at new songs\n",
      "current query at 2018 latest telugu movies\n",
      "current query at live @ amazon great indian festival\n",
      "IndexError('list index out of range',)\n",
      "current query at masala news from telugu states\n",
      "IndexError('list index out of range',)\n",
      "current query at sandesh news\n",
      "current query at yoyo tv live\n",
      "IndexError('list index out of range',)\n",
      "current query at zero public review\n",
      "current query at sony tv serial news 2018\n",
      "IndexError('list index out of range',)\n",
      "current query at 2019 latest telugu movies\n",
      "current query at top 100 news of the day\n",
      "current query at colors tv shakti astitva ke ehsaas ki\n",
      "current query at christian devotional songs malayalam\n",
      "current query at mum mum tv\n",
      "IndexError('list index out of range',)\n",
      "current query at photoshop tutorial cc\n",
      "IndexError('list index out of range',)\n",
      "current query at upcoming twist in tu aashiqui serial\n",
      "current query at colors tv today news 2018\n",
      "IndexError('list index out of range',)\n",
      "current query at star plus yrkkh news\n",
      "IndexError('list index out of range',)\n",
      "current query at hindi dubbed movies 2016 full movie\n",
      "current query at bhojpuri hit songs 2017 new\n",
      "current query at latest punjabi movies\n",
      "current query at naa peru surya naa illu india songs\n",
      "current query at comparison review\n",
      "current query at diy tutorial\n",
      "IndexError('list index out of range',)\n",
      "current query at tamil news live\n",
      "current query at channel update\n",
      "IndexError('list index out of range',)\n",
      "current query at theatrical trailer\n",
      "current query at hd songs\n",
      "current query at new haryanvi songs\n",
      "current query at bad news\n",
      "current query at live breaking\n",
      "IndexError('list index out of range',)\n",
      "current query at editors hour _reporter live\n",
      "current query at chugli tv\n",
      "current query at breaking news today\n",
      "current query at tamil serial\n",
      "current query at pslv tv\n",
      "IndexError('list index out of range',)\n",
      "current query at hushaaru songs\n",
      "IndexError('list index out of range',)\n",
      "current query at कांग्रेस की प्रेस कॉन्फ्रेंस live\n",
      "IndexError('list index out of range',)\n",
      "current query at revanth reddy live\n",
      "current query at how to earn money online\n",
      "current query at all songs\n",
      "current query at ktr road show live\n",
      "current query at sakshi live updates\n",
      "current query at aadhar card loan apply online india\n",
      "current query at sandalwood latest news\n",
      "IndexError('list index out of range',)\n",
      "current query at watch top news headlines of the day\n",
      "current query at nonstop punjabi news\n",
      "current query at ptc news\n",
      "IndexError('list index out of range',)\n",
      "current query at hindi dubbed movies 2019 full movie\n",
      "current query at parliament live\n",
      "current query at loud oli tamil tech news\n",
      "current query at christian devotional songs malayalam 2019\n"
     ]
    },
    {
     "name": "stdout",
     "output_type": "stream",
     "text": [
      "current query at zee tv ye teri galiyan serial news 2019\n",
      "IndexError('list index out of range',)\n",
      "current query at latest hindi entertainment news from bollywood\n",
      "IndexError('list index out of range',)\n",
      "current query at zee tv serials news 2019\n",
      "IndexError('list index out of range',)\n",
      "current query at new punjabi songs 2012\n",
      "current query at bhojpuri hit songs 2016 new\n",
      "current query at news dnn live stream\n",
      "current query at latest nollywood movies\n",
      "IndexError('list index out of range',)\n",
      "current query at today zee tv serial kaliren news 2018\n",
      "current query at starplus serial news\n",
      "IndexError('list index out of range',)\n",
      "current query at suvarna news pre-poll survey in mandya\n",
      "IndexError('list index out of range',)\n",
      "current query at finger family songs\n",
      "current query at christmas songs for kids\n",
      "IndexError('list index out of range',)\n",
      "current query at bollywood dance\n",
      "current query at ultimate movies tribute\n",
      "current query at dance short film..\n",
      "current query at ht_t live\n",
      "current query at gta online\n",
      "current query at full hindi movies 2018\n",
      "current query at bhojpuri video songs 2018\n",
      "current query at latest songs\n",
      "current query at new bhojpuri songs 2018\n",
      "current query at rx100 songs\n",
      "current query at first ride review\n",
      "current query at editors hour_reporter live\n",
      "current query at short news\n",
      "current query at speech\n",
      "current query at dance + 4\n",
      "current query at hindi full movies\n",
      "current query at news 24.\n",
      "current query at 2018 volga videos\n",
      "current query at cinema news\n",
      "current query at 2.0 movie review\n",
      "current query at प्रधानमंत्री नरेंद्र मोदी live\n",
      "current query at channel trailer\n",
      "current query at aajao pubg main online\n",
      "IndexError('list index out of range',)\n",
      "current query at friday poster channel\n",
      "IndexError('list index out of range',)\n",
      "current query at bhojpuri hit songs 2017\n",
      "current query at pure css tutorial\n",
      "IndexError('list index out of range',)\n",
      "current query at today  news\n",
      "current query at popular fantasy tv serial\n",
      "current query at speed news 3\n",
      "current query at aditya movies\n",
      "current query at review by sambhavna seth\n",
      "IndexError('list index out of range',)\n",
      "current query at kids animated movies\n",
      "current query at live jagran\n",
      "IndexError('list index out of range',)\n",
      "current query at tvnxtelugu live\n",
      "current query at hindi movies 2017 full movie\n",
      "current query at seeman speech\n",
      "current query at hindi sad songs\n",
      "current query at audio songs jukebox\n",
      "current query at video songs\n",
      "current query at rangasthalam songs\n",
      "current query at christmas songs\n",
      "IndexError('list index out of range',)\n",
      "current query at admd movies\n",
      "IndexError('list index out of range',)\n",
      "current query at latest haryanvi songs haryanavi 2017\n",
      "current query at latest tamil news\n",
      "current query at hit bhojpuri songs 2018\n",
      "current query at latest telugu movies\n",
      "IndexError('list index out of range',)\n",
      "current query at new haryanvi dance\n",
      "current query at online tamil\n",
      "current query at pubg live stream\n",
      "current query at sandesh news live tv\n",
      "current query at gujarati news 24x7\n",
      "current query at latest party songs 2018\n",
      "IndexError('list index out of range',)\n",
      "current query at yoyotv channel\n",
      "current query at baby ronnie songs\n",
      "current query at jinthatha dance\n",
      "IndexError('list index out of range',)\n",
      "current query at review by krk\n",
      "current query at exclusive... news tak\n",
      "current query at live pss\n",
      "current query at starplus today news yhm\n",
      "IndexError('list index out of range',)\n",
      "current query at explained in hindi\n",
      "current query at hornpipe songs\n",
      "IndexError('list index out of range',)\n",
      "current query at bhairava geetha telugu songs\n",
      "current query at 2.0 review\n",
      "current query at बीजेपी अध्यक्ष अमित शाह live\n",
      "current query at seetha serial\n",
      "current query at old hindi songs\n",
      "IndexError('list index out of range',)\n",
      "current query at modhi news\n",
      "current query at colors tv roop new serial\n",
      "IndexError('list index out of range',)\n",
      "current query at zee tv guddan serial news 2019\n",
      "current query at ap cm chandrababu live\n",
      "current query at zee tv tujhse hai raabta serial 2019\n",
      "current query at bhakthi songs\n",
      "current query at step by step tutorial\n",
      "current query at test drive review\n",
      "IndexError('list index out of range',)\n",
      "current query at new movies 2019\n",
      "current query at union budget 2019 live\n",
      "current query at suki sivam speech\n",
      "current query at zee tv serial ishq subhan allah\n",
      "current query at interview of\n",
      "IndexError('list index out of range',)\n",
      "current query at punjabi folk songs\n",
      "IndexError('list index out of range',)\n",
      "current query at munsif hyderabad news bulletin\n",
      "IndexError('list index out of range',)\n",
      "current query at hmtv news\n",
      "IndexError('list index out of range',)\n",
      "current query at ilaiyaraja songs\n",
      "current query at mutual fund review\n",
      "current query at sony tv ye un dinon ki baat hai\n",
      "current query at zee tv piya albela today news 2018\n",
      "current query at zee marathi serial\n",
      "current query at headlines tv\n",
      "IndexError('list index out of range',)\n",
      "current query at hindi tutorial\n",
      "IndexError('list index out of range',)\n",
      "current query at colors tv show latest upcoming news\n",
      "IndexError('list index out of range',)\n",
      "current query at nt1 live stream\n",
      "current query at tv सीरियल\n",
      "IndexError('list index out of range',)\n",
      "current query at maa shakti serial\n",
      "\n"
     ]
    }
   ],
   "source": [
    "from tqdm import tqdm_notebook\n",
    "searcher = GoogleSearch()\n",
    "with open(\"searchResult.txt\",\"w+\") as f:\n",
    "    for query in tqdm_notebook(tagList):\n",
    "        print(f\"current query at {query}\")\n",
    "        resultJSON = searcher.getResult_json(query,True)\n",
    "        f.writelines(resultJSON+\"\\n\")"
   ]
  },
  {
   "cell_type": "code",
   "execution_count": 49,
   "metadata": {
    "ExecuteTime": {
     "end_time": "2019-03-30T11:25:15.462171Z",
     "start_time": "2019-03-30T11:25:15.447785Z"
    }
   },
   "outputs": [],
   "source": [
    "import sqlite3"
   ]
  },
  {
   "cell_type": "code",
   "execution_count": null,
   "metadata": {},
   "outputs": [],
   "source": []
  }
 ],
 "metadata": {
  "celltoolbar": "Initialization Cell",
  "kernelspec": {
   "display_name": "Python 3",
   "language": "python",
   "name": "python3"
  },
  "language_info": {
   "codemirror_mode": {
    "name": "ipython",
    "version": 3
   },
   "file_extension": ".py",
   "mimetype": "text/x-python",
   "name": "python",
   "nbconvert_exporter": "python",
   "pygments_lexer": "ipython3",
   "version": "3.6.7"
  },
  "toc": {
   "base_numbering": 1,
   "nav_menu": {},
   "number_sections": true,
   "sideBar": true,
   "skip_h1_title": false,
   "title_cell": "Table of Contents",
   "title_sidebar": "Contents",
   "toc_cell": false,
   "toc_position": {
    "height": "calc(100% - 180px)",
    "left": "10px",
    "top": "150px",
    "width": "263px"
   },
   "toc_section_display": true,
   "toc_window_display": true
  }
 },
 "nbformat": 4,
 "nbformat_minor": 2
}
