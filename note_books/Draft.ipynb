{
 "cells": [
  {
   "cell_type": "code",
   "execution_count": 540,
   "metadata": {
    "ExecuteTime": {
     "end_time": "2019-03-21T12:54:40.793390Z",
     "start_time": "2019-03-21T12:54:40.763725Z"
    },
    "init_cell": true
   },
   "outputs": [],
   "source": [
    "from IPython.core.interactiveshell import InteractiveShell\n",
    "InteractiveShell.ast_node_interactivity = \"all\"\n",
    "%matplotlib inline\n",
    "from tqdm import tqdm_notebook\n",
    "import concurrent.futures"
   ]
  },
  {
   "cell_type": "code",
   "execution_count": 3,
   "metadata": {
    "ExecuteTime": {
     "end_time": "2019-03-05T14:56:24.778952Z",
     "start_time": "2019-03-05T14:56:24.738107Z"
    }
   },
   "outputs": [],
   "source": [
    "import pandas as pd\n",
    "import requests\n",
    "import time\n",
    "from collections import deque\n",
    "from lxml import etree\n",
    "import sys\n",
    "from tqdm import tqdm_notebook"
   ]
  },
  {
   "cell_type": "markdown",
   "metadata": {},
   "source": [
    "# 获取词条的WikiURL"
   ]
  },
  {
   "cell_type": "code",
   "execution_count": 559,
   "metadata": {
    "ExecuteTime": {
     "end_time": "2019-03-22T07:54:41.255277Z",
     "start_time": "2019-03-22T07:54:41.145603Z"
    }
   },
   "outputs": [
    {
     "name": "stdout",
     "output_type": "stream",
     "text": [
      "10857\n"
     ]
    }
   ],
   "source": [
    "import requests\n",
    "import json\n",
    "from bs4 import BeautifulSoup\n",
    "def get_url(word):\n",
    "    res = requests.get(\"https://en.wikipedia.org/wiki/%s\"%word)\n",
    "    content = BeautifulSoup(res.text)\n",
    "    wikiTitle = content.findAll(\"link\",rel=\"canonical\")[0].attrs['href'].split(\"/\")[-1]\n",
    "    return [str(res.status_code),wikiTitle]\n",
    "\n",
    "with open(\"/home/zhoutong/tags/tagMap_9k.txt\") as f:\n",
    "    content = [i.strip(\"\\n\").split(\"\\t\") for i in f.readlines()]\n",
    "    print(len(content))\n",
    "# content[:3]\n",
    "#     get_url(\"Pregnancy Photography\")"
   ]
  },
  {
   "cell_type": "code",
   "execution_count": 567,
   "metadata": {
    "ExecuteTime": {
     "end_time": "2019-03-22T08:38:01.436803Z",
     "start_time": "2019-03-22T08:38:01.419309Z"
    }
   },
   "outputs": [],
   "source": [
    "\n",
    "with open(\"/home/zhoutong/tags/tagMap_9k.json\"+par,\"w+\") as f:\n",
    "    for (tag, checkList) in tqdm_notebook(content):\n",
    "        tagInfo = \",\".join([tag] + get_url(tag))\n",
    "        checkInfo = \"|\".join([\",\".join([i] + get_url(i)) for i in checkList.split(\",\")])\n",
    "#         tagInfo+\"\\t\"+checkInfo\n",
    "        f.writelines(tagInfo+\"\\t\"+checkInfo+\"\\n\")"
   ]
  },
  {
   "cell_type": "markdown",
   "metadata": {},
   "source": [
    "## 后台文件切块后开多个pyhton进程处理"
   ]
  },
  {
   "cell_type": "code",
   "execution_count": 581,
   "metadata": {
    "ExecuteTime": {
     "end_time": "2019-03-22T10:57:05.672160Z",
     "start_time": "2019-03-22T10:57:05.596763Z"
    }
   },
   "outputs": [
    {
     "name": "stdout",
     "output_type": "stream",
     "text": [
      "processing _par03\n"
     ]
    },
    {
     "data": {
      "text/plain": [
       "[['Gopichand or Gopiyantra or Khamak', 'Gopichand or Gopiyantra or Khamak'],\n",
       " ['Gottuvadhyam or Chitravina', ' Gottuvadhyam or Chitravina'],\n",
       " ['Sarod', 'Sarod'],\n",
       " ['Sitar', 'Sitar'],\n",
       " ['Surbahar', 'Surbahar']]"
      ]
     },
     "execution_count": 581,
     "metadata": {},
     "output_type": "execute_result"
    }
   ],
   "source": [
    "par=\"_par0%s\" % 3\n",
    "print(\"processing %s\" % par)\n",
    "\n",
    "with open(\"/home/zhoutong/tags/tagMap_9k.txt\"+par,\"r+\") as f:\n",
    "    content = [i.strip().split(\"\\t\") for i in f.readlines()]\n",
    "    \n",
    "    content[85:90]"
   ]
  },
  {
   "cell_type": "code",
   "execution_count": 546,
   "metadata": {
    "ExecuteTime": {
     "end_time": "2019-03-21T13:05:03.857351Z",
     "start_time": "2019-03-21T13:04:59.421297Z"
    }
   },
   "outputs": [
    {
     "name": "stdout",
     "output_type": "stream",
     "text": [
      "3000\n"
     ]
    }
   ],
   "source": [
    "import requests\n",
    "import json\n",
    "import sys\n",
    "from bs4 import BeautifulSoup\n",
    "from tqdm import tqdm\n",
    "def get_url(word):\n",
    "    res = requests.get(\"https://en.wikipedia.org/wiki/%s\"%word)\n",
    "    content = BeautifulSoup(res.text,\"lxml\")\n",
    "    wikiTitle = content.findAll(\"link\",rel=\"canonical\")[0].attrs['href'].split(\"/\")[-1]\n",
    "    return [str(res.status_code),wikiTitle]\n",
    "\n",
    "par=\"_par0%s\" % sys.argv[1]\n",
    "print(\"processing %s\" % par)\n",
    "with open(\"/home/zhoutong/tags/tagMap_9k.txt\"+par,\"r+\") as f:\n",
    "    content = [i.strip().split(\"\\t\") for i in f.readlines()]\n",
    "    content = [list(filter(lambda x: x!=\"\",i)) for i in content]\n",
    "\n",
    "print(\"conetnt size is \" + str(len(content)))\n",
    "with open(\"/home/zhoutong/tags/tagMap_9k.json\"+par,\"w+\") as f:\n",
    "    for (tag, checkList) in tqdm(content):\n",
    "        tagInfo = \",\".join([tag] + get_url(tag))\n",
    "        checkInfo = \"|\".join([\",\".join([i] + get_url(i)) for i in checkList.split(\",\")])\n",
    "#         tagInfo+\"\\t\"+checkInfo\n",
    "        f.writelines(tagInfo+\"\\t\"+checkInfo+\"\\n\")"
   ]
  },
  {
   "cell_type": "markdown",
   "metadata": {},
   "source": [
    "## 尝试多线程"
   ]
  },
  {
   "cell_type": "code",
   "execution_count": 543,
   "metadata": {
    "ExecuteTime": {
     "end_time": "2019-03-21T12:59:27.001827Z",
     "start_time": "2019-03-21T12:59:18.341957Z"
    },
    "scrolled": false
   },
   "outputs": [
    {
     "data": {
      "application/vnd.jupyter.widget-view+json": {
       "model_id": "697dc4e880444bb684e612e0cdaae424",
       "version_major": 2,
       "version_minor": 0
      },
      "text/plain": [
       "HBox(children=(IntProgress(value=0, max=10939), HTML(value='')))"
      ]
     },
     "metadata": {},
     "output_type": "display_data"
    },
    {
     "name": "stderr",
     "output_type": "stream",
     "text": [
      "Traceback (most recent call last):\n",
      "  File \"/home/zhoutong/python3/lib/python3.6/multiprocessing/queues.py\", line 234, in _feed\n",
      "    obj = _ForkingPickler.dumps(obj)\n",
      "  File \"/home/zhoutong/python3/lib/python3.6/multiprocessing/reduction.py\", line 51, in dumps\n",
      "    cls(buf, protocol).dump(obj)\n",
      "_pickle.PicklingError: Can't pickle <function <lambda> at 0x7fe8b9300048>: attribute lookup <lambda> on __main__ failed\n",
      "Traceback (most recent call last):\n",
      "  File \"/home/zhoutong/python3/lib/python3.6/multiprocessing/queues.py\", line 234, in _feed\n",
      "    obj = _ForkingPickler.dumps(obj)\n",
      "  File \"/home/zhoutong/python3/lib/python3.6/multiprocessing/reduction.py\", line 51, in dumps\n",
      "    cls(buf, protocol).dump(obj)\n",
      "_pickle.PicklingError: Can't pickle <function <lambda> at 0x7fe8b9300048>: attribute lookup <lambda> on __main__ failed\n",
      "Traceback (most recent call last):\n",
      "  File \"/home/zhoutong/python3/lib/python3.6/multiprocessing/queues.py\", line 234, in _feed\n",
      "    obj = _ForkingPickler.dumps(obj)\n",
      "  File \"/home/zhoutong/python3/lib/python3.6/multiprocessing/reduction.py\", line 51, in dumps\n",
      "    cls(buf, protocol).dump(obj)\n",
      "_pickle.PicklingError: Can't pickle <function <lambda> at 0x7fe8b9300048>: attribute lookup <lambda> on __main__ failed\n",
      "Traceback (most recent call last):\n",
      "  File \"/home/zhoutong/python3/lib/python3.6/multiprocessing/queues.py\", line 234, in _feed\n",
      "    obj = _ForkingPickler.dumps(obj)\n",
      "  File \"/home/zhoutong/python3/lib/python3.6/multiprocessing/reduction.py\", line 51, in dumps\n",
      "    cls(buf, protocol).dump(obj)\n",
      "_pickle.PicklingError: Can't pickle <function <lambda> at 0x7fe8b9300048>: attribute lookup <lambda> on __main__ failed\n",
      "Traceback (most recent call last):\n",
      "  File \"/home/zhoutong/python3/lib/python3.6/multiprocessing/queues.py\", line 234, in _feed\n",
      "    obj = _ForkingPickler.dumps(obj)\n",
      "  File \"/home/zhoutong/python3/lib/python3.6/multiprocessing/reduction.py\", line 51, in dumps\n",
      "    cls(buf, protocol).dump(obj)\n",
      "_pickle.PicklingError: Can't pickle <function <lambda> at 0x7fe8b9300048>: attribute lookup <lambda> on __main__ failed\n"
     ]
    },
    {
     "data": {
      "text/plain": [
       "<generator object _chain_from_iterable_of_lists at 0x7fe8b8adf990>"
      ]
     },
     "execution_count": 543,
     "metadata": {},
     "output_type": "execute_result"
    },
    {
     "name": "stderr",
     "output_type": "stream",
     "text": [
      "Process Process-8:\n",
      "Process Process-6:\n",
      "Process Process-7:\n",
      "Process Process-5:\n",
      "Traceback (most recent call last):\n"
     ]
    },
    {
     "ename": "KeyboardInterrupt",
     "evalue": "",
     "output_type": "error",
     "traceback": [
      "\u001b[0;31m---------------------------------------------------------------------------\u001b[0m",
      "\u001b[0;31mKeyboardInterrupt\u001b[0m                         Traceback (most recent call last)",
      "\u001b[0;32m<ipython-input-543-dbc1f2e3ee86>\u001b[0m in \u001b[0;36m<module>\u001b[0;34m\u001b[0m\n\u001b[1;32m      7\u001b[0m             \u001b[0mtheFile\u001b[0m\u001b[0;34m.\u001b[0m\u001b[0mwritelines\u001b[0m\u001b[0;34m(\u001b[0m\u001b[0mjson\u001b[0m\u001b[0;34m.\u001b[0m\u001b[0mdumps\u001b[0m\u001b[0;34m(\u001b[0m\u001b[0mtmpDict\u001b[0m\u001b[0;34m)\u001b[0m\u001b[0;34m+\u001b[0m\u001b[0;34m\"\\n\"\u001b[0m\u001b[0;34m)\u001b[0m\u001b[0;34m\u001b[0m\u001b[0;34m\u001b[0m\u001b[0m\n\u001b[1;32m      8\u001b[0m             \u001b[0mbar\u001b[0m\u001b[0;34m.\u001b[0m\u001b[0mupdate\u001b[0m\u001b[0;34m(\u001b[0m\u001b[0;36m1\u001b[0m\u001b[0;34m)\u001b[0m\u001b[0;34m\u001b[0m\u001b[0;34m\u001b[0m\u001b[0m\n\u001b[0;32m----> 9\u001b[0;31m         \u001b[0mexecutor\u001b[0m\u001b[0;34m.\u001b[0m\u001b[0mmap\u001b[0m\u001b[0;34m(\u001b[0m\u001b[0;32mlambda\u001b[0m \u001b[0mx\u001b[0m\u001b[0;34m,\u001b[0m\u001b[0my\u001b[0m \u001b[0;34m:\u001b[0m \u001b[0mrun\u001b[0m\u001b[0;34m(\u001b[0m\u001b[0mx\u001b[0m\u001b[0;34m,\u001b[0m\u001b[0my\u001b[0m\u001b[0;34m,\u001b[0m\u001b[0mf\u001b[0m\u001b[0;34m,\u001b[0m\u001b[0mpbar\u001b[0m\u001b[0;34m)\u001b[0m\u001b[0;34m,\u001b[0m \u001b[0mcontent\u001b[0m\u001b[0;34m)\u001b[0m\u001b[0;34m\u001b[0m\u001b[0;34m\u001b[0m\u001b[0m\n\u001b[0m\u001b[1;32m     10\u001b[0m \u001b[0mpbar\u001b[0m\u001b[0;34m.\u001b[0m\u001b[0mclose\u001b[0m\u001b[0;34m(\u001b[0m\u001b[0;34m)\u001b[0m\u001b[0;34m\u001b[0m\u001b[0;34m\u001b[0m\u001b[0m\n",
      "\u001b[0;32m~/python3/lib/python3.6/concurrent/futures/_base.py\u001b[0m in \u001b[0;36m__exit__\u001b[0;34m(self, exc_type, exc_val, exc_tb)\u001b[0m\n\u001b[1;32m    609\u001b[0m \u001b[0;34m\u001b[0m\u001b[0m\n\u001b[1;32m    610\u001b[0m     \u001b[0;32mdef\u001b[0m \u001b[0m__exit__\u001b[0m\u001b[0;34m(\u001b[0m\u001b[0mself\u001b[0m\u001b[0;34m,\u001b[0m \u001b[0mexc_type\u001b[0m\u001b[0;34m,\u001b[0m \u001b[0mexc_val\u001b[0m\u001b[0;34m,\u001b[0m \u001b[0mexc_tb\u001b[0m\u001b[0;34m)\u001b[0m\u001b[0;34m:\u001b[0m\u001b[0;34m\u001b[0m\u001b[0;34m\u001b[0m\u001b[0m\n\u001b[0;32m--> 611\u001b[0;31m         \u001b[0mself\u001b[0m\u001b[0;34m.\u001b[0m\u001b[0mshutdown\u001b[0m\u001b[0;34m(\u001b[0m\u001b[0mwait\u001b[0m\u001b[0;34m=\u001b[0m\u001b[0;32mTrue\u001b[0m\u001b[0;34m)\u001b[0m\u001b[0;34m\u001b[0m\u001b[0;34m\u001b[0m\u001b[0m\n\u001b[0m\u001b[1;32m    612\u001b[0m         \u001b[0;32mreturn\u001b[0m \u001b[0;32mFalse\u001b[0m\u001b[0;34m\u001b[0m\u001b[0;34m\u001b[0m\u001b[0m\n",
      "\u001b[0;32m~/python3/lib/python3.6/concurrent/futures/process.py\u001b[0m in \u001b[0;36mshutdown\u001b[0;34m(self, wait)\u001b[0m\n\u001b[1;32m    504\u001b[0m             \u001b[0mself\u001b[0m\u001b[0;34m.\u001b[0m\u001b[0m_result_queue\u001b[0m\u001b[0;34m.\u001b[0m\u001b[0mput\u001b[0m\u001b[0;34m(\u001b[0m\u001b[0;32mNone\u001b[0m\u001b[0;34m)\u001b[0m\u001b[0;34m\u001b[0m\u001b[0;34m\u001b[0m\u001b[0m\n\u001b[1;32m    505\u001b[0m             \u001b[0;32mif\u001b[0m \u001b[0mwait\u001b[0m\u001b[0;34m:\u001b[0m\u001b[0;34m\u001b[0m\u001b[0;34m\u001b[0m\u001b[0m\n\u001b[0;32m--> 506\u001b[0;31m                 \u001b[0mself\u001b[0m\u001b[0;34m.\u001b[0m\u001b[0m_queue_management_thread\u001b[0m\u001b[0;34m.\u001b[0m\u001b[0mjoin\u001b[0m\u001b[0;34m(\u001b[0m\u001b[0;34m)\u001b[0m\u001b[0;34m\u001b[0m\u001b[0;34m\u001b[0m\u001b[0m\n\u001b[0m\u001b[1;32m    507\u001b[0m         \u001b[0;31m# To reduce the risk of opening too many files, remove references to\u001b[0m\u001b[0;34m\u001b[0m\u001b[0;34m\u001b[0m\u001b[0;34m\u001b[0m\u001b[0m\n\u001b[1;32m    508\u001b[0m         \u001b[0;31m# objects that use file descriptors.\u001b[0m\u001b[0;34m\u001b[0m\u001b[0;34m\u001b[0m\u001b[0;34m\u001b[0m\u001b[0m\n",
      "\u001b[0;32m~/python3/lib/python3.6/threading.py\u001b[0m in \u001b[0;36mjoin\u001b[0;34m(self, timeout)\u001b[0m\n\u001b[1;32m   1054\u001b[0m \u001b[0;34m\u001b[0m\u001b[0m\n\u001b[1;32m   1055\u001b[0m         \u001b[0;32mif\u001b[0m \u001b[0mtimeout\u001b[0m \u001b[0;32mis\u001b[0m \u001b[0;32mNone\u001b[0m\u001b[0;34m:\u001b[0m\u001b[0;34m\u001b[0m\u001b[0;34m\u001b[0m\u001b[0m\n\u001b[0;32m-> 1056\u001b[0;31m             \u001b[0mself\u001b[0m\u001b[0;34m.\u001b[0m\u001b[0m_wait_for_tstate_lock\u001b[0m\u001b[0;34m(\u001b[0m\u001b[0;34m)\u001b[0m\u001b[0;34m\u001b[0m\u001b[0;34m\u001b[0m\u001b[0m\n\u001b[0m\u001b[1;32m   1057\u001b[0m         \u001b[0;32melse\u001b[0m\u001b[0;34m:\u001b[0m\u001b[0;34m\u001b[0m\u001b[0;34m\u001b[0m\u001b[0m\n\u001b[1;32m   1058\u001b[0m             \u001b[0;31m# the behavior of a negative timeout isn't documented, but\u001b[0m\u001b[0;34m\u001b[0m\u001b[0;34m\u001b[0m\u001b[0;34m\u001b[0m\u001b[0m\n",
      "\u001b[0;32m~/python3/lib/python3.6/threading.py\u001b[0m in \u001b[0;36m_wait_for_tstate_lock\u001b[0;34m(self, block, timeout)\u001b[0m\n\u001b[1;32m   1070\u001b[0m         \u001b[0;32mif\u001b[0m \u001b[0mlock\u001b[0m \u001b[0;32mis\u001b[0m \u001b[0;32mNone\u001b[0m\u001b[0;34m:\u001b[0m  \u001b[0;31m# already determined that the C code is done\u001b[0m\u001b[0;34m\u001b[0m\u001b[0;34m\u001b[0m\u001b[0m\n\u001b[1;32m   1071\u001b[0m             \u001b[0;32massert\u001b[0m \u001b[0mself\u001b[0m\u001b[0;34m.\u001b[0m\u001b[0m_is_stopped\u001b[0m\u001b[0;34m\u001b[0m\u001b[0;34m\u001b[0m\u001b[0m\n\u001b[0;32m-> 1072\u001b[0;31m         \u001b[0;32melif\u001b[0m \u001b[0mlock\u001b[0m\u001b[0;34m.\u001b[0m\u001b[0macquire\u001b[0m\u001b[0;34m(\u001b[0m\u001b[0mblock\u001b[0m\u001b[0;34m,\u001b[0m \u001b[0mtimeout\u001b[0m\u001b[0;34m)\u001b[0m\u001b[0;34m:\u001b[0m\u001b[0;34m\u001b[0m\u001b[0;34m\u001b[0m\u001b[0m\n\u001b[0m\u001b[1;32m   1073\u001b[0m             \u001b[0mlock\u001b[0m\u001b[0;34m.\u001b[0m\u001b[0mrelease\u001b[0m\u001b[0;34m(\u001b[0m\u001b[0;34m)\u001b[0m\u001b[0;34m\u001b[0m\u001b[0;34m\u001b[0m\u001b[0m\n\u001b[1;32m   1074\u001b[0m             \u001b[0mself\u001b[0m\u001b[0;34m.\u001b[0m\u001b[0m_stop\u001b[0m\u001b[0;34m(\u001b[0m\u001b[0;34m)\u001b[0m\u001b[0;34m\u001b[0m\u001b[0;34m\u001b[0m\u001b[0m\n",
      "\u001b[0;31mKeyboardInterrupt\u001b[0m: "
     ]
    },
    {
     "name": "stderr",
     "output_type": "stream",
     "text": [
      "  File \"/home/zhoutong/python3/lib/python3.6/multiprocessing/process.py\", line 258, in _bootstrap\n",
      "    self.run()\n",
      "Traceback (most recent call last):\n",
      "Traceback (most recent call last):\n",
      "  File \"/home/zhoutong/python3/lib/python3.6/multiprocessing/process.py\", line 258, in _bootstrap\n",
      "    self.run()\n",
      "  File \"/home/zhoutong/python3/lib/python3.6/multiprocessing/process.py\", line 258, in _bootstrap\n",
      "    self.run()\n",
      "  File \"/home/zhoutong/python3/lib/python3.6/multiprocessing/process.py\", line 93, in run\n",
      "    self._target(*self._args, **self._kwargs)\n",
      "  File \"/home/zhoutong/python3/lib/python3.6/multiprocessing/process.py\", line 93, in run\n",
      "    self._target(*self._args, **self._kwargs)\n",
      "  File \"/home/zhoutong/python3/lib/python3.6/concurrent/futures/process.py\", line 169, in _process_worker\n",
      "    call_item = call_queue.get(block=True)\n",
      "  File \"/home/zhoutong/python3/lib/python3.6/concurrent/futures/process.py\", line 169, in _process_worker\n",
      "    call_item = call_queue.get(block=True)\n",
      "  File \"/home/zhoutong/python3/lib/python3.6/multiprocessing/process.py\", line 93, in run\n",
      "    self._target(*self._args, **self._kwargs)\n",
      "  File \"/home/zhoutong/python3/lib/python3.6/multiprocessing/queues.py\", line 93, in get\n",
      "    with self._rlock:\n",
      "Traceback (most recent call last):\n",
      "  File \"/home/zhoutong/python3/lib/python3.6/concurrent/futures/process.py\", line 169, in _process_worker\n",
      "    call_item = call_queue.get(block=True)\n",
      "  File \"/home/zhoutong/python3/lib/python3.6/multiprocessing/synchronize.py\", line 95, in __enter__\n",
      "    return self._semlock.__enter__()\n",
      "  File \"/home/zhoutong/python3/lib/python3.6/multiprocessing/queues.py\", line 93, in get\n",
      "    with self._rlock:\n",
      "  File \"/home/zhoutong/python3/lib/python3.6/multiprocessing/synchronize.py\", line 95, in __enter__\n",
      "    return self._semlock.__enter__()\n",
      "KeyboardInterrupt\n",
      "  File \"/home/zhoutong/python3/lib/python3.6/multiprocessing/process.py\", line 258, in _bootstrap\n",
      "    self.run()\n",
      "  File \"/home/zhoutong/python3/lib/python3.6/multiprocessing/queues.py\", line 93, in get\n",
      "    with self._rlock:\n",
      "KeyboardInterrupt\n",
      "  File \"/home/zhoutong/python3/lib/python3.6/multiprocessing/process.py\", line 93, in run\n",
      "    self._target(*self._args, **self._kwargs)\n",
      "  File \"/home/zhoutong/python3/lib/python3.6/multiprocessing/synchronize.py\", line 95, in __enter__\n",
      "    return self._semlock.__enter__()\n",
      "  File \"/home/zhoutong/python3/lib/python3.6/concurrent/futures/process.py\", line 169, in _process_worker\n",
      "    call_item = call_queue.get(block=True)\n",
      "KeyboardInterrupt\n",
      "  File \"/home/zhoutong/python3/lib/python3.6/multiprocessing/queues.py\", line 94, in get\n",
      "    res = self._recv_bytes()\n",
      "  File \"/home/zhoutong/python3/lib/python3.6/multiprocessing/connection.py\", line 216, in recv_bytes\n",
      "    buf = self._recv_bytes(maxlength)\n",
      "  File \"/home/zhoutong/python3/lib/python3.6/multiprocessing/connection.py\", line 407, in _recv_bytes\n",
      "    buf = self._recv(4)\n",
      "  File \"/home/zhoutong/python3/lib/python3.6/multiprocessing/connection.py\", line 379, in _recv\n",
      "    chunk = read(handle, remaining)\n",
      "KeyboardInterrupt\n"
     ]
    }
   ],
   "source": [
    "pbar = tqdm_notebook(total=len(content))\n",
    "with open(\"/home/zhoutong/tags/tagMap_9k.json\",\"w+\") as f:\n",
    "    with concurrent.futures.ProcessPoolExecutor(max_workers=4) as executor:\n",
    "        def run(tag,checkList,theFile,bar):\n",
    "            tmpDict = {\"tag\":tag,\"url\":get_url(tag)}\n",
    "            tmpDict.update({\"toCheck\":[{\"word\":i,\"url\":get_url(i)} for i in checkList.split(\",\")]})\n",
    "            theFile.writelines(json.dumps(tmpDict)+\"\\n\")\n",
    "            bar.update(1)\n",
    "        executor.map(lambda x,y : run(x,y,f,pbar), content)\n",
    "pbar.close()"
   ]
  },
  {
   "cell_type": "markdown",
   "metadata": {},
   "source": [
    "# wikipedia API使用"
   ]
  },
  {
   "cell_type": "code",
   "execution_count": 2,
   "metadata": {
    "ExecuteTime": {
     "end_time": "2019-03-06T03:57:57.109874Z",
     "start_time": "2019-03-06T03:57:56.746867Z"
    }
   },
   "outputs": [],
   "source": [
    "import wikipedia\n",
    "# from wikipedia import PageError,DisambiguationError"
   ]
  },
  {
   "cell_type": "markdown",
   "metadata": {},
   "source": [
    "## 提取词语的category\n",
    "- 目的是评价词条是不是印度词汇，如果是印度词汇则记录下来后续对idf加倍"
   ]
  },
  {
   "cell_type": "markdown",
   "metadata": {},
   "source": [
    "### 判断是否是印度相关词\n",
    "- 包含词有  india indian hindu"
   ]
  },
  {
   "cell_type": "code",
   "execution_count": 12,
   "metadata": {
    "ExecuteTime": {
     "end_time": "2019-03-06T04:07:57.535951Z",
     "start_time": "2019-03-06T04:07:57.523462Z"
    }
   },
   "outputs": [
    {
     "data": {
      "text/plain": [
       "True"
      ]
     },
     "execution_count": 12,
     "metadata": {},
     "output_type": "execute_result"
    }
   ],
   "source": [
    "def containsIndia(inp):\n",
    "    return any(i in inp.lower() for i in [\"india\",\"indian\",\"hindu\"])\n",
    "containsIndia(\"1980 establishments in India\")"
   ]
  },
  {
   "cell_type": "markdown",
   "metadata": {},
   "source": [
    "### 测试用例"
   ]
  },
  {
   "cell_type": "code",
   "execution_count": 32,
   "metadata": {
    "ExecuteTime": {
     "end_time": "2019-03-06T09:42:23.151592Z",
     "start_time": "2019-03-06T09:42:22.478585Z"
    }
   },
   "outputs": [
    {
     "name": "stdout",
     "output_type": "stream",
     "text": [
      "DisambiguationError on TMC\n"
     ]
    }
   ],
   "source": [
    "word = \"TMC\"\n",
    "try:\n",
    "    page = wikipedia.page(word)\n",
    "    page.original_title\n",
    "    any(containsIndia(i) for i in page.categories)\n",
    "    page.categories\n",
    "except wikipedia.PageError as e:\n",
    "    print(\"PageError on %s\" % word)\n",
    "except wikipedia.DisambiguationError as e:\n",
    "    print(\"DisambiguationError on %s\" % word)\n"
   ]
  },
  {
   "cell_type": "markdown",
   "metadata": {},
   "source": [
    "### 读取文件批量处理"
   ]
  },
  {
   "cell_type": "code",
   "execution_count": 31,
   "metadata": {
    "ExecuteTime": {
     "end_time": "2019-03-06T08:25:59.758528Z",
     "start_time": "2019-03-06T04:35:52.965207Z"
    },
    "scrolled": false
   },
   "outputs": [
    {
     "data": {
      "application/vnd.jupyter.widget-view+json": {
       "model_id": "83d991083855460981d8147d4a3372b0",
       "version_major": 2,
       "version_minor": 0
      },
      "text/plain": [
       "HBox(children=(IntProgress(value=0, max=14286), HTML(value='')))"
      ]
     },
     "metadata": {},
     "output_type": "display_data"
    },
    {
     "name": "stdout",
     "output_type": "stream",
     "text": [
      "contains india in word: Indian\n",
      "contains india in word: Hindu\n",
      "contains india in word: thehindu\n",
      "contains india in word: Indians\n",
      "contains india in word: timesofindia\n",
      "contains india in word: Indian_Express_App\n",
      "contains india in word: Reserve_Bank_of_India\n",
      "contains india in word: Indian_Express_App_Read\n",
      "contains india in word: Indian_Express\n",
      "contains india in word: Indian_Premier_League\n",
      "contains india in word: indiatimes\n",
      "contains india in word: India_News\n",
      "contains india in word: Hans_India_News_App\n",
      "contains india in word: Hindus\n",
      "contains india in word: Indian_Penal_Code\n",
      "contains india in word: Indian_Army\n",
      "contains india in word: Hindustan_Times\n",
      "contains india in word: State_Bank_of_India\n",
      "contains india in word: Mumbai_Indians\n",
      "contains india in word: Government_of_India\n",
      "contains india in word: Hindu_Business_Line\n",
      "contains india in word: Air_India\n",
      "contains india in word: Hindutva\n",
      "contains india in word: Team_India\n",
      "contains india in word: OneIndia_News\n",
      "contains india in word: india\n",
      "contains india in word: INDIA\n",
      "contains india in word: Indian_Air_Force\n",
      "contains india in word: Times_of_India\n",
      "contains india in word: New_Indian_Express_App\n",
      "contains india in word: Chief_Justice_of_India\n",
      "contains india in word: Indian_Express_App_First_Published\n",
      "contains india in word: Board_of_Control_for_Cricket_in_India\n",
      "contains india in word: The_Times_of_India\n",
      "contains india in word: hindustantimes\n",
      "contains india in word: Indian_Navy\n",
      "contains india in word: Oneindia\n",
      "contains india in word: Communist_Party_of_India\n",
      "contains india in word: Indian_Ocean\n",
      "contains india in word: Amazon_India\n",
      "contains india in word: South_Indian\n",
      "contains india in word: Indian_Super_League\n",
      "contains india in word: Indiana\n",
      "contains india in word: Election_Commission_of_India\n",
      "contains india in word: Hinduism\n",
      "contains india in word: Securities_and_Exchange_Board_of_India\n",
      "contains india in word: South_India\n"
     ]
    }
   ],
   "source": [
    "with open(\"/home/zhoutong/tags/toCheckIsIndiaAndUpgradeIDF.txt\",\"r+\") as f:\n",
    "    words = [i.strip(\"\\n\") for i in f.readlines()]\n",
    "result = []\n",
    "with open(\"/home/zhoutong/tags/toCheckIsIndiaAndUpgradeIDF_result.txt\",\"w+\") as f:\n",
    "    for w in tqdm_notebook(words):\n",
    "        if containsIndia(w):\n",
    "            print(\"contains india in word: \"+w)\n",
    "        else:\n",
    "            try:\n",
    "                page = wikipedia.page(w)\n",
    "                ori_title = page.original_title\n",
    "                categories = page.categories\n",
    "                if any(containsIndia(cat) for cat in categories):\n",
    "                    result.append(w)\n",
    "                f.writelines(w+\"\\n\")\n",
    "            except wikipedia.PageError as e:\n",
    "                pass\n",
    "    #             print(\"PageError on %s\" % w)\n",
    "            except wikipedia.DisambiguationError as e:\n",
    "                pass\n",
    "    #             print(\"DisambiguationError on %s\" % w)\n",
    "\n",
    "    "
   ]
  },
  {
   "cell_type": "markdown",
   "metadata": {},
   "source": [
    "# RNN"
   ]
  },
  {
   "cell_type": "markdown",
   "metadata": {},
   "source": [
    "## 用RNN实现一个八位的二进制加法运算\n",
    "- 参考： http://iamtrask.github.io/2015/11/15/anyone-can-code-lstm/ "
   ]
  },
  {
   "cell_type": "code",
   "execution_count": 5,
   "metadata": {
    "ExecuteTime": {
     "end_time": "2019-03-05T15:06:15.339936Z",
     "start_time": "2019-03-05T15:06:15.301768Z"
    }
   },
   "outputs": [],
   "source": [
    "import numpy as np\n",
    "np.random.seed(0)"
   ]
  },
  {
   "cell_type": "markdown",
   "metadata": {},
   "source": [
    "### 基本函数定义"
   ]
  },
  {
   "cell_type": "code",
   "execution_count": null,
   "metadata": {},
   "outputs": [],
   "source": [
    "# 激活函数用sigmoid\n",
    "def sigmoid(x):\n",
    "    output = 1/(1+np.exp(-x))\n",
    "    return output\n",
    "# sigmoid导数\n",
    "def sigmoid_derivation(output):\n",
    "    return output*(1-output)"
   ]
  },
  {
   "cell_type": "markdown",
   "metadata": {},
   "source": [
    "### 训练集生成"
   ]
  },
  {
   "cell_type": "code",
   "execution_count": 27,
   "metadata": {
    "ExecuteTime": {
     "end_time": "2019-03-05T15:29:54.188743Z",
     "start_time": "2019-03-05T15:29:54.163612Z"
    }
   },
   "outputs": [
    {
     "data": {
      "text/plain": [
       "array([0, 0, 0, 0, 0, 0, 1, 0], dtype=uint8)"
      ]
     },
     "execution_count": 27,
     "metadata": {},
     "output_type": "execute_result"
    },
    {
     "data": {
      "text/plain": [
       "array([1, 0, 0, 0, 0, 0, 0, 0], dtype=uint8)"
      ]
     },
     "execution_count": 27,
     "metadata": {},
     "output_type": "execute_result"
    }
   ],
   "source": [
    "# 训练集\n",
    "int2binary={}\n",
    "binary_dim=8 # 8位二进制\n",
    "largest_number = pow(2,binary_dim) # 8位二进制最大为2^8=256\n",
    "# 使用np的API直接将整型转换为8位二进制\n",
    "binary = np.unpackbits(np.array([range(largest_number)], dtype=np.uint8).T,axis=1)\n",
    "for i in range(largest_number):\n",
    "    int2binary.update({i:binary[i]})\n",
    "int2binary[2]\n",
    "int2binary[128]"
   ]
  },
  {
   "cell_type": "markdown",
   "metadata": {},
   "source": [
    "### 超参数"
   ]
  },
  {
   "cell_type": "code",
   "execution_count": 28,
   "metadata": {
    "ExecuteTime": {
     "end_time": "2019-03-05T15:30:53.843207Z",
     "start_time": "2019-03-05T15:30:53.828827Z"
    }
   },
   "outputs": [],
   "source": [
    "alpha=0.1\n",
    "input_dim=2\n",
    "hidden_dim=16\n",
    "output_dim=1"
   ]
  },
  {
   "cell_type": "markdown",
   "metadata": {},
   "source": [
    "### 初始化权重"
   ]
  },
  {
   "cell_type": "code",
   "execution_count": null,
   "metadata": {},
   "outputs": [],
   "source": []
  }
 ],
 "metadata": {
  "celltoolbar": "Initialization Cell",
  "kernelspec": {
   "display_name": "Python 3",
   "language": "python",
   "name": "python3"
  },
  "language_info": {
   "codemirror_mode": {
    "name": "ipython",
    "version": 3
   },
   "file_extension": ".py",
   "mimetype": "text/x-python",
   "name": "python",
   "nbconvert_exporter": "python",
   "pygments_lexer": "ipython3",
   "version": "3.6.7"
  },
  "toc": {
   "base_numbering": 1,
   "nav_menu": {},
   "number_sections": true,
   "sideBar": true,
   "skip_h1_title": false,
   "title_cell": "Table of Contents",
   "title_sidebar": "Contents",
   "toc_cell": false,
   "toc_position": {
    "height": "calc(100% - 180px)",
    "left": "10px",
    "top": "150px",
    "width": "227px"
   },
   "toc_section_display": true,
   "toc_window_display": true
  }
 },
 "nbformat": 4,
 "nbformat_minor": 2
}
